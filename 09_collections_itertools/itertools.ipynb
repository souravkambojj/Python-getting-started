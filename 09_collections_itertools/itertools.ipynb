{
  "nbformat": 4,
  "nbformat_minor": 0,
  "metadata": {
    "colab": {
      "name": "itertools.ipynb",
      "provenance": [],
      "collapsed_sections": []
    },
    "kernelspec": {
      "name": "python3",
      "display_name": "Python 3"
    }
  },
  "cells": [
    {
      "cell_type": "markdown",
      "metadata": {
        "id": "72gPGPFyxKzW"
      },
      "source": [
        "## **Permutations**"
      ]
    },
    {
      "cell_type": "code",
      "metadata": {
        "id": "Bb5ifSHuvfnQ"
      },
      "source": [
        "from itertools import permutations"
      ],
      "execution_count": 1,
      "outputs": []
    },
    {
      "cell_type": "code",
      "metadata": {
        "colab": {
          "base_uri": "https://localhost:8080/"
        },
        "id": "0jFg_2yXxUIN",
        "outputId": "c5b14ef8-9f0c-42d3-82f7-523b4d4df961"
      },
      "source": [
        "perm = permutations(['1','2','3'])\r\n",
        "print(list(perm))"
      ],
      "execution_count": 12,
      "outputs": [
        {
          "output_type": "stream",
          "text": [
            "[('1', '2', '3'), ('1', '3', '2'), ('2', '1', '3'), ('2', '3', '1'), ('3', '1', '2'), ('3', '2', '1')]\n"
          ],
          "name": "stdout"
        }
      ]
    },
    {
      "cell_type": "code",
      "metadata": {
        "colab": {
          "base_uri": "https://localhost:8080/"
        },
        "id": "bxMGmcDwyCvm",
        "outputId": "c55df93b-d138-4624-ff86-49a84fda4689"
      },
      "source": [
        "sorted(list(map(lambda x:''.join(x),perm)))"
      ],
      "execution_count": 11,
      "outputs": [
        {
          "output_type": "execute_result",
          "data": {
            "text/plain": [
              "['123', '132', '213', '231', '312', '321']"
            ]
          },
          "metadata": {
            "tags": []
          },
          "execution_count": 11
        }
      ]
    },
    {
      "cell_type": "markdown",
      "metadata": {
        "id": "hhtc06d0ydeC"
      },
      "source": [
        "## **Combinations**"
      ]
    },
    {
      "cell_type": "code",
      "metadata": {
        "id": "DdfI4R9tyLQH"
      },
      "source": [
        "from itertools import combinations"
      ],
      "execution_count": 13,
      "outputs": []
    },
    {
      "cell_type": "code",
      "metadata": {
        "colab": {
          "base_uri": "https://localhost:8080/"
        },
        "id": "QL5K6Df9ykeh",
        "outputId": "0887b444-e1ca-42ae-8717-d8ffc7883abd"
      },
      "source": [
        "combs = combinations('12345',2)\r\n",
        "print(list(combs))"
      ],
      "execution_count": 14,
      "outputs": [
        {
          "output_type": "stream",
          "text": [
            "[('1', '2'), ('1', '3'), ('1', '4'), ('1', '5'), ('2', '3'), ('2', '4'), ('2', '5'), ('3', '4'), ('3', '5'), ('4', '5')]\n"
          ],
          "name": "stdout"
        }
      ]
    },
    {
      "cell_type": "code",
      "metadata": {
        "colab": {
          "base_uri": "https://localhost:8080/"
        },
        "id": "HELhIDxCywtU",
        "outputId": "cc9fb144-6d59-4aec-9952-7caf5138fc12"
      },
      "source": [
        "combs = combinations([1,1,3,3,3],4)\r\n",
        "print(list(combs))"
      ],
      "execution_count": 15,
      "outputs": [
        {
          "output_type": "stream",
          "text": [
            "[(1, 1, 3, 3), (1, 1, 3, 3), (1, 1, 3, 3), (1, 3, 3, 3), (1, 3, 3, 3)]\n"
          ],
          "name": "stdout"
        }
      ]
    },
    {
      "cell_type": "code",
      "metadata": {
        "colab": {
          "base_uri": "https://localhost:8080/"
        },
        "id": "uNj9PTG9y3M5",
        "outputId": "1a8d790e-0d9e-4b59-b8fc-5608490d02cf"
      },
      "source": [
        "combs = combinations('HACK',2)\r\n",
        "combs = sorted(list(map(lambda x:''.join(sorted(x)),combs)) )\r\n",
        "print(combs)"
      ],
      "execution_count": 18,
      "outputs": [
        {
          "output_type": "stream",
          "text": [
            "['AC', 'AH', 'AK', 'CH', 'CK', 'HK']\n"
          ],
          "name": "stdout"
        }
      ]
    },
    {
      "cell_type": "markdown",
      "metadata": {
        "id": "prUfu0DCzsmo"
      },
      "source": [
        "## **Product**"
      ]
    },
    {
      "cell_type": "code",
      "metadata": {
        "id": "ejHcivzczWuX"
      },
      "source": [
        "from itertools import product"
      ],
      "execution_count": 19,
      "outputs": []
    },
    {
      "cell_type": "code",
      "metadata": {
        "colab": {
          "base_uri": "https://localhost:8080/"
        },
        "id": "ozpqixVZzzHm",
        "outputId": "335be7da-d3e4-4f52-eb87-981be9ac0228"
      },
      "source": [
        "a=[1,2]                              #for 2 lists\r\n",
        "b=[3,4]\r\n",
        "\r\n",
        "print(list(product(a,b)))"
      ],
      "execution_count": 20,
      "outputs": [
        {
          "output_type": "stream",
          "text": [
            "[(1, 3), (1, 4), (2, 3), (2, 4)]\n"
          ],
          "name": "stdout"
        }
      ]
    },
    {
      "cell_type": "code",
      "metadata": {
        "colab": {
          "base_uri": "https://localhost:8080/"
        },
        "id": "zkOwVnMT0MBz",
        "outputId": "49804145-d54b-470f-ddfe-a9ef09b93963"
      },
      "source": [
        "a = [[5,4],[7,8],[9,10]]         #return the maximum sum\r\n",
        "print(list(product(*a)))\r\n",
        "print(max(list(map(lambda x:sum(x),product(*a)))))"
      ],
      "execution_count": 25,
      "outputs": [
        {
          "output_type": "stream",
          "text": [
            "[(5, 7, 9), (5, 7, 10), (5, 8, 9), (5, 8, 10), (4, 7, 9), (4, 7, 10), (4, 8, 9), (4, 8, 10)]\n",
            "23\n"
          ],
          "name": "stdout"
        }
      ]
    },
    {
      "cell_type": "markdown",
      "metadata": {
        "id": "9MWLF-Pf1o9g"
      },
      "source": [
        "# **groupby**"
      ]
    },
    {
      "cell_type": "code",
      "metadata": {
        "id": "HOEhKJ-U1RuA"
      },
      "source": [
        "from itertools import groupby"
      ],
      "execution_count": 26,
      "outputs": []
    },
    {
      "cell_type": "code",
      "metadata": {
        "colab": {
          "base_uri": "https://localhost:8080/"
        },
        "id": "7qomIH8B1utd",
        "outputId": "a58423cb-4b87-468a-e74e-030d8c618265"
      },
      "source": [
        "[k for k,g in groupby('1222311')]"
      ],
      "execution_count": 33,
      "outputs": [
        {
          "output_type": "execute_result",
          "data": {
            "text/plain": [
              "['1', '2', '3', '1']"
            ]
          },
          "metadata": {
            "tags": []
          },
          "execution_count": 33
        }
      ]
    },
    {
      "cell_type": "code",
      "metadata": {
        "colab": {
          "base_uri": "https://localhost:8080/"
        },
        "id": "hpjLVwGd2Hca",
        "outputId": "2b69d7cc-c0b1-4657-f594-1a7266eef668"
      },
      "source": [
        "[list(g) for k,g in groupby('1222311')]"
      ],
      "execution_count": 34,
      "outputs": [
        {
          "output_type": "execute_result",
          "data": {
            "text/plain": [
              "[['1'], ['2', '2', '2'], ['3'], ['1', '1']]"
            ]
          },
          "metadata": {
            "tags": []
          },
          "execution_count": 34
        }
      ]
    },
    {
      "cell_type": "code",
      "metadata": {
        "colab": {
          "base_uri": "https://localhost:8080/"
        },
        "id": "rXVJpaZX2muc",
        "outputId": "df03de5e-dad5-4c95-b584-55a165c03ddc"
      },
      "source": [
        "[(int(k),len(list(g))) for k,g in groupby('1222311')]"
      ],
      "execution_count": 36,
      "outputs": [
        {
          "output_type": "execute_result",
          "data": {
            "text/plain": [
              "[(1, 1), (2, 3), (3, 1), (1, 2)]"
            ]
          },
          "metadata": {
            "tags": []
          },
          "execution_count": 36
        }
      ]
    },
    {
      "cell_type": "code",
      "metadata": {
        "id": "gOLq98qP20Y4"
      },
      "source": [
        ""
      ],
      "execution_count": null,
      "outputs": []
    }
  ]
}