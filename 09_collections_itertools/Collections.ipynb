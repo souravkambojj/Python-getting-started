{
  "nbformat": 4,
  "nbformat_minor": 0,
  "metadata": {
    "colab": {
      "name": "Collections.ipynb",
      "provenance": [],
      "collapsed_sections": []
    },
    "kernelspec": {
      "name": "python3",
      "display_name": "Python 3"
    }
  },
  "cells": [
    {
      "cell_type": "markdown",
      "metadata": {
        "id": "UJfguh51Szbr"
      },
      "source": [
        "## **Counter**"
      ]
    },
    {
      "cell_type": "code",
      "metadata": {
        "id": "puoAIX-rSmyq"
      },
      "source": [
        "from collections import Counter"
      ],
      "execution_count": 3,
      "outputs": []
    },
    {
      "cell_type": "code",
      "metadata": {
        "id": "2GoEi1g3S4qq"
      },
      "source": [
        "a = ['blue','red','red','green','red','blue']"
      ],
      "execution_count": 4,
      "outputs": []
    },
    {
      "cell_type": "code",
      "metadata": {
        "colab": {
          "base_uri": "https://localhost:8080/"
        },
        "id": "KJVRkzfWTGGR",
        "outputId": "3a6cad05-ae66-48ff-9307-1598cdf424d7"
      },
      "source": [
        "print(Counter(a))"
      ],
      "execution_count": 5,
      "outputs": [
        {
          "output_type": "stream",
          "text": [
            "Counter({'red': 3, 'blue': 2, 'green': 1})\n"
          ],
          "name": "stdout"
        }
      ]
    },
    {
      "cell_type": "markdown",
      "metadata": {
        "id": "GxLdd_auTYHB"
      },
      "source": [
        "## **Ordered Dict**"
      ]
    },
    {
      "cell_type": "code",
      "metadata": {
        "id": "zS77awuKTHt5"
      },
      "source": [
        "#The only difference b/w a dict() nd OrderedDict() is that:\r\n",
        "#OrderedDict() preserves the order in which keys were inserted.\r\n",
        "# where as A regular dict() doesn't track the insertion order and on iterating it this gives values in an arbitrary order."
      ],
      "execution_count": 7,
      "outputs": []
    },
    {
      "cell_type": "code",
      "metadata": {
        "id": "5LjQ7l09U7gi"
      },
      "source": [
        "from collections import OrderedDict\r\n",
        "od = OrderedDict()"
      ],
      "execution_count": 11,
      "outputs": []
    },
    {
      "cell_type": "code",
      "metadata": {
        "colab": {
          "base_uri": "https://localhost:8080/"
        },
        "id": "mTyU-GqWVM8V",
        "outputId": "0adb256e-23f8-4879-f8f9-9e9757cd49bc"
      },
      "source": [
        "od['a'] = 1\r\n",
        "od['b'] = 2\r\n",
        "od['c'] = 3\r\n",
        "od['d'] = 4\r\n",
        "\r\n",
        "for k,v in od.items():\r\n",
        "  print(k,v)"
      ],
      "execution_count": 12,
      "outputs": [
        {
          "output_type": "stream",
          "text": [
            "a 1\n",
            "b 2\n",
            "c 3\n",
            "d 4\n"
          ],
          "name": "stdout"
        }
      ]
    },
    {
      "cell_type": "code",
      "metadata": {
        "colab": {
          "base_uri": "https://localhost:8080/"
        },
        "id": "EbtLkocLVbAl",
        "outputId": "a11e1c96-8355-4ab8-c9e5-dfbfd67db392"
      },
      "source": [
        "#deleting\r\n",
        "del od['c']\r\n",
        "print('after deletion')\r\n",
        "for k,v in od.items():\r\n",
        "  print(k,v)"
      ],
      "execution_count": 13,
      "outputs": [
        {
          "output_type": "stream",
          "text": [
            "after deletion\n",
            "a 1\n",
            "b 2\n",
            "d 4\n"
          ],
          "name": "stdout"
        }
      ]
    },
    {
      "cell_type": "code",
      "metadata": {
        "colab": {
          "base_uri": "https://localhost:8080/"
        },
        "id": "gnxsCKbOVsa0",
        "outputId": "6c7df2cd-a1ff-4dfa-b421-f8d24459a9c4"
      },
      "source": [
        "#re-insertion\r\n",
        "od['c'] = 5\r\n",
        "for k,v in od.items():\r\n",
        "  print(k,v)"
      ],
      "execution_count": 14,
      "outputs": [
        {
          "output_type": "stream",
          "text": [
            "a 1\n",
            "b 2\n",
            "d 4\n",
            "c 5\n"
          ],
          "name": "stdout"
        }
      ]
    },
    {
      "cell_type": "markdown",
      "metadata": {
        "id": "cVVK0W9uV5Ko"
      },
      "source": [
        "### **ChainMap**"
      ]
    },
    {
      "cell_type": "code",
      "metadata": {
        "id": "At5dd2YHVytu"
      },
      "source": [
        "from collections import ChainMap"
      ],
      "execution_count": 57,
      "outputs": []
    },
    {
      "cell_type": "code",
      "metadata": {
        "id": "kPiGuZT_WCFk"
      },
      "source": [
        "# it encapsulates many dictionaries into one unit.\r\n",
        "\r\n",
        "#1. keys():This function is used to display all the keys in ChainMap.\r\n",
        "#2. values():This function is used to display all the values in ChainMap.\r\n",
        "#3. maps: This function is used to display all the keys:values pairs in ChainMap."
      ],
      "execution_count": 68,
      "outputs": []
    },
    {
      "cell_type": "code",
      "metadata": {
        "id": "OVQhEC-AW8sG"
      },
      "source": [
        "dict1 = {'a':1,'b':2}\r\n",
        "dict2 = {'b':3,'c':5}"
      ],
      "execution_count": 69,
      "outputs": []
    },
    {
      "cell_type": "code",
      "metadata": {
        "id": "yLSCZFcbXEoh"
      },
      "source": [
        "chain = ChainMap(dict1,dict2)"
      ],
      "execution_count": 70,
      "outputs": []
    },
    {
      "cell_type": "code",
      "metadata": {
        "colab": {
          "base_uri": "https://localhost:8080/"
        },
        "id": "Vmhn0eRpXIan",
        "outputId": "05cadc6d-0992-4873-9e4d-eab1de1f94c1"
      },
      "source": [
        "print(list(chain.keys()))\r\n",
        "print(list(chain.values()))\r\n",
        "print(list(chain.maps))"
      ],
      "execution_count": 71,
      "outputs": [
        {
          "output_type": "stream",
          "text": [
            "['b', 'c', 'a']\n",
            "[2, 5, 1]\n",
            "[{'a': 1, 'b': 2}, {'b': 3, 'c': 5}]\n"
          ],
          "name": "stdout"
        }
      ]
    },
    {
      "cell_type": "code",
      "metadata": {
        "id": "tjnF10kpXK35"
      },
      "source": [
        "#notice the key 'b' exists in both dictionaries, but only first dictionary key is staken as key value of 'b'."
      ],
      "execution_count": 72,
      "outputs": []
    },
    {
      "cell_type": "code",
      "metadata": {
        "colab": {
          "base_uri": "https://localhost:8080/"
        },
        "id": "7Cled2faZRym",
        "outputId": "5e47ab8d-c4f0-4f07-bbd1-16c514549511"
      },
      "source": [
        "print('Value associated with b before reversing is: ',end='')\r\n",
        "print(chain['b'])\r\n",
        "\r\n",
        "chain.maps = reversed(chain.maps)\r\n",
        "print('Value associated with b after reversing is: ',end='')\r\n",
        "print(chain['b'])"
      ],
      "execution_count": 73,
      "outputs": [
        {
          "output_type": "stream",
          "text": [
            "Value associated with b before reversing is: 2\n",
            "Value associated with b after reversing is: 3\n"
          ],
          "name": "stdout"
        }
      ]
    },
    {
      "cell_type": "code",
      "metadata": {
        "id": "V-R0fzsaZeLN"
      },
      "source": [
        "dict1 = {'a':1,'b':2}\r\n",
        "dict2 = {'b':3,'c':5}\r\n",
        "chain = ChainMap(dict1,dict2)"
      ],
      "execution_count": 76,
      "outputs": []
    },
    {
      "cell_type": "code",
      "metadata": {
        "colab": {
          "base_uri": "https://localhost:8080/"
        },
        "id": "5L0pSaSkbtfq",
        "outputId": "e5326e72-39fa-4b46-c15e-5d30f20f578e"
      },
      "source": [
        "#using new_child() to add a new dict\r\n",
        "dict3 = {'f':25,'g':19}\r\n",
        "chain2 = chain.new_child(dict3)\r\n",
        "print(chain.maps)\r\n",
        "print(chain2.maps)"
      ],
      "execution_count": 79,
      "outputs": [
        {
          "output_type": "stream",
          "text": [
            "[{'a': 1, 'b': 2}, {'b': 3, 'c': 5}]\n",
            "[{'f': 25, 'g': 19}, {'a': 1, 'b': 2}, {'b': 3, 'c': 5}]\n"
          ],
          "name": "stdout"
        }
      ]
    },
    {
      "cell_type": "markdown",
      "metadata": {
        "id": "PztEcHlDb7Jr"
      },
      "source": [
        "## **Deque(Double Ended Queue)**"
      ]
    },
    {
      "cell_type": "code",
      "metadata": {
        "id": "dC4VnBoLaTZO"
      },
      "source": [
        "#deque is prefered over list in the cases where we need quicker appen and pop operations\r\n",
        "#as deque provides an O(1) time complexity for append and pop operations as compared to list which provides O(n) time complexity."
      ],
      "execution_count": 80,
      "outputs": []
    },
    {
      "cell_type": "code",
      "metadata": {
        "id": "K4FAEiztoCsm"
      },
      "source": [
        "from collections import deque\r\n",
        "\r\n",
        "dq = deque([1,2,3])"
      ],
      "execution_count": 162,
      "outputs": []
    },
    {
      "cell_type": "code",
      "metadata": {
        "colab": {
          "base_uri": "https://localhost:8080/"
        },
        "id": "ziBp51NuoH7k",
        "outputId": "a6a6d9a3-b679-4140-8c8c-82911246edd2"
      },
      "source": [
        "dq.append(4)\r\n",
        "dq"
      ],
      "execution_count": 163,
      "outputs": [
        {
          "output_type": "execute_result",
          "data": {
            "text/plain": [
              "deque([1, 2, 3, 4])"
            ]
          },
          "metadata": {
            "tags": []
          },
          "execution_count": 163
        }
      ]
    },
    {
      "cell_type": "code",
      "metadata": {
        "colab": {
          "base_uri": "https://localhost:8080/"
        },
        "id": "vAqx84QyojN7",
        "outputId": "380e8768-71e5-4321-a497-ec6ad1c789d6"
      },
      "source": [
        "dq.appendleft(6)\r\n",
        "dq"
      ],
      "execution_count": 164,
      "outputs": [
        {
          "output_type": "execute_result",
          "data": {
            "text/plain": [
              "deque([6, 1, 2, 3, 4])"
            ]
          },
          "metadata": {
            "tags": []
          },
          "execution_count": 164
        }
      ]
    },
    {
      "cell_type": "code",
      "metadata": {
        "colab": {
          "base_uri": "https://localhost:8080/"
        },
        "id": "UUq5_5kkoqi8",
        "outputId": "7836ed49-1a5d-42ad-a3f7-fd9df82c962a"
      },
      "source": [
        "dq.extend([4,6,7])\r\n",
        "dq"
      ],
      "execution_count": 165,
      "outputs": [
        {
          "output_type": "execute_result",
          "data": {
            "text/plain": [
              "deque([6, 1, 2, 3, 4, 4, 6, 7])"
            ]
          },
          "metadata": {
            "tags": []
          },
          "execution_count": 165
        }
      ]
    },
    {
      "cell_type": "code",
      "metadata": {
        "colab": {
          "base_uri": "https://localhost:8080/"
        },
        "id": "6qTl1cD7oy8o",
        "outputId": "14a9cdb6-e276-4cae-a3c5-9acba187c307"
      },
      "source": [
        "dq.extendleft([9,8,7]) #order is reversed as a result of left append\r\n",
        "dq"
      ],
      "execution_count": 166,
      "outputs": [
        {
          "output_type": "execute_result",
          "data": {
            "text/plain": [
              "deque([7, 8, 9, 6, 1, 2, 3, 4, 4, 6, 7])"
            ]
          },
          "metadata": {
            "tags": []
          },
          "execution_count": 166
        }
      ]
    },
    {
      "cell_type": "code",
      "metadata": {
        "colab": {
          "base_uri": "https://localhost:8080/"
        },
        "id": "xYKDxMThpBlD",
        "outputId": "a608a792-b4a0-4d6c-ec64-0aa2baf3620f"
      },
      "source": [
        "dq.pop()\r\n",
        "dq"
      ],
      "execution_count": 167,
      "outputs": [
        {
          "output_type": "execute_result",
          "data": {
            "text/plain": [
              "deque([7, 8, 9, 6, 1, 2, 3, 4, 4, 6])"
            ]
          },
          "metadata": {
            "tags": []
          },
          "execution_count": 167
        }
      ]
    },
    {
      "cell_type": "code",
      "metadata": {
        "colab": {
          "base_uri": "https://localhost:8080/"
        },
        "id": "RmmWgdy-pJY5",
        "outputId": "add6b75f-1282-46e3-ccf0-f28ac9d139d0"
      },
      "source": [
        "dq.popleft()\r\n",
        "dq"
      ],
      "execution_count": 168,
      "outputs": [
        {
          "output_type": "execute_result",
          "data": {
            "text/plain": [
              "deque([8, 9, 6, 1, 2, 3, 4, 4, 6])"
            ]
          },
          "metadata": {
            "tags": []
          },
          "execution_count": 168
        }
      ]
    },
    {
      "cell_type": "code",
      "metadata": {
        "colab": {
          "base_uri": "https://localhost:8080/"
        },
        "id": "90p84pLLpLTz",
        "outputId": "07163c2b-5024-474c-8194-240a76420a63"
      },
      "source": [
        "dq.remove(6)   #removes the first occurance of value in deque\r\n",
        "dq"
      ],
      "execution_count": 169,
      "outputs": [
        {
          "output_type": "execute_result",
          "data": {
            "text/plain": [
              "deque([8, 9, 1, 2, 3, 4, 4, 6])"
            ]
          },
          "metadata": {
            "tags": []
          },
          "execution_count": 169
        }
      ]
    },
    {
      "cell_type": "code",
      "metadata": {
        "colab": {
          "base_uri": "https://localhost:8080/"
        },
        "id": "F3H_-HwZpgOZ",
        "outputId": "b55a629c-f625-495f-8f77-40fa134f20d5"
      },
      "source": [
        "dq.count(4)"
      ],
      "execution_count": 170,
      "outputs": [
        {
          "output_type": "execute_result",
          "data": {
            "text/plain": [
              "2"
            ]
          },
          "metadata": {
            "tags": []
          },
          "execution_count": 170
        }
      ]
    },
    {
      "cell_type": "code",
      "metadata": {
        "colab": {
          "base_uri": "https://localhost:8080/"
        },
        "id": "93T6oigPqEH5",
        "outputId": "2a5f3cd6-92ee-45f5-8a42-a57f2d88b354"
      },
      "source": [
        "dq.insert(3,99)\r\n",
        "dq"
      ],
      "execution_count": 171,
      "outputs": [
        {
          "output_type": "execute_result",
          "data": {
            "text/plain": [
              "deque([8, 9, 1, 99, 2, 3, 4, 4, 6])"
            ]
          },
          "metadata": {
            "tags": []
          },
          "execution_count": 171
        }
      ]
    },
    {
      "cell_type": "code",
      "metadata": {
        "colab": {
          "base_uri": "https://localhost:8080/"
        },
        "id": "oA7v6DkZqbYB",
        "outputId": "dabcc11c-ed31-4c17-9fa2-bf83b81f9fe7"
      },
      "source": [
        "dq.reverse()\r\n",
        "dq"
      ],
      "execution_count": 172,
      "outputs": [
        {
          "output_type": "execute_result",
          "data": {
            "text/plain": [
              "deque([6, 4, 4, 3, 2, 99, 1, 9, 8])"
            ]
          },
          "metadata": {
            "tags": []
          },
          "execution_count": 172
        }
      ]
    },
    {
      "cell_type": "code",
      "metadata": {
        "colab": {
          "base_uri": "https://localhost:8080/"
        },
        "id": "8SCychfKqepD",
        "outputId": "358f421f-e1d0-4653-98c9-fa76b1973d0d"
      },
      "source": [
        "dq.rotate(3)\r\n",
        "dq"
      ],
      "execution_count": 173,
      "outputs": [
        {
          "output_type": "execute_result",
          "data": {
            "text/plain": [
              "deque([1, 9, 8, 6, 4, 4, 3, 2, 99])"
            ]
          },
          "metadata": {
            "tags": []
          },
          "execution_count": 173
        }
      ]
    },
    {
      "cell_type": "code",
      "metadata": {
        "colab": {
          "base_uri": "https://localhost:8080/"
        },
        "id": "6YrrE_8dqg4I",
        "outputId": "dc4c365a-2151-4fd6-df44-10f3807fe32d"
      },
      "source": [
        "dq.rotate(-2)\r\n",
        "dq"
      ],
      "execution_count": 174,
      "outputs": [
        {
          "output_type": "execute_result",
          "data": {
            "text/plain": [
              "deque([8, 6, 4, 4, 3, 2, 99, 1, 9])"
            ]
          },
          "metadata": {
            "tags": []
          },
          "execution_count": 174
        }
      ]
    },
    {
      "cell_type": "markdown",
      "metadata": {
        "id": "ND2TM-2rqwV4"
      },
      "source": [
        "# **Heap Queue**"
      ]
    },
    {
      "cell_type": "code",
      "metadata": {
        "id": "1sEK6-3PqqLL"
      },
      "source": [
        "#Heap data str is mainly used to represent a priority queue.\r\n",
        "#The property of this data str is that each time the smallest heap element is popped."
      ],
      "execution_count": 191,
      "outputs": []
    },
    {
      "cell_type": "code",
      "metadata": {
        "id": "42cYvSkYreNs"
      },
      "source": [
        "from heapq import heapify,heappop,heappush,heappushpop,heapreplace,nlargest,nsmallest\r\n",
        "l1 = [7,3,6,5,4]"
      ],
      "execution_count": 192,
      "outputs": []
    },
    {
      "cell_type": "code",
      "metadata": {
        "colab": {
          "base_uri": "https://localhost:8080/"
        },
        "id": "qTAqxj6Mrxx-",
        "outputId": "8b687d0d-3f6e-45f0-d5ae-97466faecdbe"
      },
      "source": [
        "#heapify(iterable)\r\n",
        "heapify(l1) #used to convert iterable into heap\r\n",
        "list(l1)"
      ],
      "execution_count": 193,
      "outputs": [
        {
          "output_type": "execute_result",
          "data": {
            "text/plain": [
              "[3, 4, 6, 5, 7]"
            ]
          },
          "metadata": {
            "tags": []
          },
          "execution_count": 193
        }
      ]
    },
    {
      "cell_type": "code",
      "metadata": {
        "colab": {
          "base_uri": "https://localhost:8080/"
        },
        "id": "Enc6tdp5r-MV",
        "outputId": "c6de5ae4-938d-437d-9218-b5fffe05ed8e"
      },
      "source": [
        "#heappop(heap) :used to return and pop the smallest element from the heap\r\n",
        "heappop(l1)"
      ],
      "execution_count": 194,
      "outputs": [
        {
          "output_type": "execute_result",
          "data": {
            "text/plain": [
              "3"
            ]
          },
          "metadata": {
            "tags": []
          },
          "execution_count": 194
        }
      ]
    },
    {
      "cell_type": "code",
      "metadata": {
        "colab": {
          "base_uri": "https://localhost:8080/"
        },
        "id": "BIKSvRm8sRwR",
        "outputId": "97f10791-141b-487c-e552-dc086cda22d9"
      },
      "source": [
        "#heappush(heap,element): used to insert element to heap\r\n",
        "heappush(l1,2)\r\n",
        "list(l1)"
      ],
      "execution_count": 195,
      "outputs": [
        {
          "output_type": "execute_result",
          "data": {
            "text/plain": [
              "[2, 4, 6, 7, 5]"
            ]
          },
          "metadata": {
            "tags": []
          },
          "execution_count": 195
        }
      ]
    },
    {
      "cell_type": "code",
      "metadata": {
        "colab": {
          "base_uri": "https://localhost:8080/"
        },
        "id": "3Z0VeACQsniy",
        "outputId": "6a224174-ac08-4071-f0f1-8c83bb4b81de"
      },
      "source": [
        "#heappushpop(heap,element): used to firt push the element, then smallest element is popped.\r\n",
        "print(heappushpop(l1,0))\r\n",
        "print(list(l1))\r\n",
        "\r\n",
        "print(heappushpop(l1,3))\r\n",
        "print((list(l1)))"
      ],
      "execution_count": 196,
      "outputs": [
        {
          "output_type": "stream",
          "text": [
            "0\n",
            "[2, 4, 6, 7, 5]\n",
            "2\n",
            "[3, 4, 6, 7, 5]\n"
          ],
          "name": "stdout"
        }
      ]
    },
    {
      "cell_type": "code",
      "metadata": {
        "colab": {
          "base_uri": "https://localhost:8080/"
        },
        "id": "GCfEPKK-tJ2N",
        "outputId": "cbce45f9-9372-4093-8498-ee89373ce6fb"
      },
      "source": [
        "#heapreplace(heap,element): the smallest element is popped and new element is pushed\r\n",
        "print(heapreplace(l1,9))\r\n",
        "list(l1)"
      ],
      "execution_count": 197,
      "outputs": [
        {
          "output_type": "stream",
          "text": [
            "3\n"
          ],
          "name": "stdout"
        },
        {
          "output_type": "execute_result",
          "data": {
            "text/plain": [
              "[4, 5, 6, 7, 9]"
            ]
          },
          "metadata": {
            "tags": []
          },
          "execution_count": 197
        }
      ]
    },
    {
      "cell_type": "code",
      "metadata": {
        "colab": {
          "base_uri": "https://localhost:8080/"
        },
        "id": "fNsAICU7tsUt",
        "outputId": "dba82fc5-8dad-452d-ebeb-1ce1c533e98c"
      },
      "source": [
        "#nsmallest(n,heap) : it returns n-smallest element \r\n",
        "print(nsmallest(3,l1))"
      ],
      "execution_count": 199,
      "outputs": [
        {
          "output_type": "stream",
          "text": [
            "[4, 5, 6]\n"
          ],
          "name": "stdout"
        }
      ]
    },
    {
      "cell_type": "code",
      "metadata": {
        "colab": {
          "base_uri": "https://localhost:8080/"
        },
        "id": "av3C19Yot8lD",
        "outputId": "47016934-1dd4-4d7f-864b-571e4f25fc07"
      },
      "source": [
        "#nlargest(n,heap): it return n-largest elements\r\n",
        "print(nlargest(2,l1))"
      ],
      "execution_count": 200,
      "outputs": [
        {
          "output_type": "stream",
          "text": [
            "[9, 7]\n"
          ],
          "name": "stdout"
        }
      ]
    },
    {
      "cell_type": "code",
      "metadata": {
        "id": "8ddvKtJquIj-"
      },
      "source": [
        ""
      ],
      "execution_count": null,
      "outputs": []
    }
  ]
}