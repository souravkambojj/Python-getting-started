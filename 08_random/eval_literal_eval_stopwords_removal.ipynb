{
  "nbformat": 4,
  "nbformat_minor": 0,
  "metadata": {
    "colab": {
      "name": "eval/literal_eval/stopwords_removal.ipynb",
      "provenance": [],
      "collapsed_sections": []
    },
    "kernelspec": {
      "name": "python3",
      "display_name": "Python 3"
    }
  },
  "cells": [
    {
      "cell_type": "code",
      "metadata": {
        "id": "my0klEEFKGdm"
      },
      "source": [
        "import pandas as pd\r\n",
        "import ast"
      ],
      "execution_count": 21,
      "outputs": []
    },
    {
      "cell_type": "markdown",
      "metadata": {
        "id": "7rWVlieRMBSj"
      },
      "source": [
        "## **EVAL()**"
      ]
    },
    {
      "cell_type": "code",
      "metadata": {
        "colab": {
          "base_uri": "https://localhost:8080/",
          "height": 173
        },
        "id": "sbBcgx1-J9Lr",
        "outputId": "0bb03119-6c1f-4b19-9da7-eb0791f64f0c"
      },
      "source": [
        "df = pd.read_csv('my_csv.csv')\r\n",
        "df"
      ],
      "execution_count": 20,
      "outputs": [
        {
          "output_type": "execute_result",
          "data": {
            "text/html": [
              "<div>\n",
              "<style scoped>\n",
              "    .dataframe tbody tr th:only-of-type {\n",
              "        vertical-align: middle;\n",
              "    }\n",
              "\n",
              "    .dataframe tbody tr th {\n",
              "        vertical-align: top;\n",
              "    }\n",
              "\n",
              "    .dataframe thead th {\n",
              "        text-align: right;\n",
              "    }\n",
              "</style>\n",
              "<table border=\"1\" class=\"dataframe\">\n",
              "  <thead>\n",
              "    <tr style=\"text-align: right;\">\n",
              "      <th></th>\n",
              "      <th>a</th>\n",
              "      <th>b</th>\n",
              "      <th>c</th>\n",
              "      <th>d</th>\n",
              "      <th>e</th>\n",
              "      <th>city</th>\n",
              "    </tr>\n",
              "  </thead>\n",
              "  <tbody>\n",
              "    <tr>\n",
              "      <th>0</th>\n",
              "      <td>0.701999</td>\n",
              "      <td>0.148258</td>\n",
              "      <td>0.784204</td>\n",
              "      <td>0.193934</td>\n",
              "      <td>0.465299</td>\n",
              "      <td>['fazilka','abohar']</td>\n",
              "    </tr>\n",
              "    <tr>\n",
              "      <th>1</th>\n",
              "      <td>0.818968</td>\n",
              "      <td>0.605104</td>\n",
              "      <td>0.618403</td>\n",
              "      <td>0.699185</td>\n",
              "      <td>0.539192</td>\n",
              "      <td>['chandigarh','patiala']</td>\n",
              "    </tr>\n",
              "    <tr>\n",
              "      <th>2</th>\n",
              "      <td>0.532892</td>\n",
              "      <td>0.416446</td>\n",
              "      <td>0.250905</td>\n",
              "      <td>0.311670</td>\n",
              "      <td>0.041894</td>\n",
              "      <td>['jalandhar','ferozpur']</td>\n",
              "    </tr>\n",
              "    <tr>\n",
              "      <th>3</th>\n",
              "      <td>0.751950</td>\n",
              "      <td>0.504519</td>\n",
              "      <td>0.626094</td>\n",
              "      <td>0.309767</td>\n",
              "      <td>0.279534</td>\n",
              "      <td>['ludhiana']</td>\n",
              "    </tr>\n",
              "  </tbody>\n",
              "</table>\n",
              "</div>"
            ],
            "text/plain": [
              "          a         b         c         d         e                      city\n",
              "0  0.701999  0.148258  0.784204  0.193934  0.465299      ['fazilka','abohar']\n",
              "1  0.818968  0.605104  0.618403  0.699185  0.539192  ['chandigarh','patiala']\n",
              "2  0.532892  0.416446  0.250905  0.311670  0.041894  ['jalandhar','ferozpur']\n",
              "3  0.751950  0.504519  0.626094  0.309767  0.279534              ['ludhiana']"
            ]
          },
          "metadata": {
            "tags": []
          },
          "execution_count": 20
        }
      ]
    },
    {
      "cell_type": "code",
      "metadata": {
        "colab": {
          "base_uri": "https://localhost:8080/",
          "height": 35
        },
        "id": "M5tMnE88LeeE",
        "outputId": "200d8fd5-0a6d-406e-c4a5-58e7f113b547"
      },
      "source": [
        "df['city'].loc[0]"
      ],
      "execution_count": 22,
      "outputs": [
        {
          "output_type": "execute_result",
          "data": {
            "application/vnd.google.colaboratory.intrinsic+json": {
              "type": "string"
            },
            "text/plain": [
              "\"['fazilka','abohar']\""
            ]
          },
          "metadata": {
            "tags": []
          },
          "execution_count": 22
        }
      ]
    },
    {
      "cell_type": "code",
      "metadata": {
        "id": "fYVlPctALigQ"
      },
      "source": [
        "df['city'] = df['city'].apply(eval)"
      ],
      "execution_count": 23,
      "outputs": []
    },
    {
      "cell_type": "code",
      "metadata": {
        "colab": {
          "base_uri": "https://localhost:8080/"
        },
        "id": "Xx8I4epKL5TZ",
        "outputId": "d426a9ed-3a55-480c-bc5d-57f597e0f3c3"
      },
      "source": [
        "df['city'].loc[0]"
      ],
      "execution_count": 24,
      "outputs": [
        {
          "output_type": "execute_result",
          "data": {
            "text/plain": [
              "['fazilka', 'abohar']"
            ]
          },
          "metadata": {
            "tags": []
          },
          "execution_count": 24
        }
      ]
    },
    {
      "cell_type": "code",
      "metadata": {
        "id": "ayZpubkEL_AE"
      },
      "source": [
        ""
      ],
      "execution_count": null,
      "outputs": []
    },
    {
      "cell_type": "markdown",
      "metadata": {
        "id": "bwDSqT4GMFzS"
      },
      "source": [
        "## **Literal_Eval()**"
      ]
    },
    {
      "cell_type": "code",
      "metadata": {
        "id": "9WasaiwHUTwO"
      },
      "source": [
        "text = [\"b'This is very powerful, but is also very dangerous if you accept strings to evaluate from untrusted input. Suppose the string being evaluated is  It will really start deleting all the files on your computer'\",\r\n",
        "        \"b'Safely evaluate an expression node or a string containing a Python literal or container display. The string or node provided may only consist of the following Python literal structures: strings, bytes, numbers, tuples, lists, dicts, sets, booleans, None, bytes and sets.'\",\r\n",
        "        b'The string or node provided may only consist of the following Python literal structures: strings, bytes, numbers, tuples, lists, dicts, sets, booleans, and None',\r\n",
        "        b'means that you actually evaluate the code before you deem it to be unsafe or not. It evaluates the code as soon as the function is called.',\r\n",
        "        \"b'I read through the docs and I am still unclear if this would be safe or not. Does eval evaluate the data as soon as its entered or after the datamap variable is called?'\"]"
      ],
      "execution_count": 27,
      "outputs": []
    },
    {
      "cell_type": "code",
      "metadata": {
        "colab": {
          "base_uri": "https://localhost:8080/"
        },
        "id": "DishuF40NJyW",
        "outputId": "daa1357a-287c-4d62-ac97-29f8d9a99d80"
      },
      "source": [
        "text[3]"
      ],
      "execution_count": 28,
      "outputs": [
        {
          "output_type": "execute_result",
          "data": {
            "text/plain": [
              "b'means that you actually evaluate the code before you deem it to be unsafe or not. It evaluates the code as soon as the function is called.'"
            ]
          },
          "metadata": {
            "tags": []
          },
          "execution_count": 28
        }
      ]
    },
    {
      "cell_type": "code",
      "metadata": {
        "colab": {
          "base_uri": "https://localhost:8080/",
          "height": 52
        },
        "id": "VSZojTbxKBgh",
        "outputId": "869260cd-05a1-4528-8468-fd6b0a98b92f"
      },
      "source": [
        "text[4]"
      ],
      "execution_count": 26,
      "outputs": [
        {
          "output_type": "execute_result",
          "data": {
            "application/vnd.google.colaboratory.intrinsic+json": {
              "type": "string"
            },
            "text/plain": [
              "\"b'I read through the docs and I am still unclear if this would be safe or not. Does eval evaluate the data as soon as its entered or after the datamap variable is called?'\""
            ]
          },
          "metadata": {
            "tags": []
          },
          "execution_count": 26
        }
      ]
    },
    {
      "cell_type": "code",
      "metadata": {
        "id": "1Z-CTrlxMjAi"
      },
      "source": [
        "def format_str(str_):\r\n",
        "  try:\r\n",
        "    str_ = ast.literal_eval(str_)     # \"b'hii i am'\" -->>> b'hii i am'\r\n",
        "  except:\r\n",
        "    pass\r\n",
        "  finally:\r\n",
        "    str_ = str_.decode('utf-8')       #b'hii i am'  -->> 'hii i am'\r\n",
        "\r\n",
        "  return str_"
      ],
      "execution_count": 29,
      "outputs": []
    },
    {
      "cell_type": "code",
      "metadata": {
        "colab": {
          "base_uri": "https://localhost:8080/"
        },
        "id": "v79bM3o4NsuV",
        "outputId": "6a9007f9-51c2-4581-ea0a-3d4007f63205"
      },
      "source": [
        "proccessed_text = [format_str(str_) for str_ in text]\r\n",
        "proccessed_text"
      ],
      "execution_count": 30,
      "outputs": [
        {
          "output_type": "execute_result",
          "data": {
            "text/plain": [
              "['This is very powerful, but is also very dangerous if you accept strings to evaluate from untrusted input. Suppose the string being evaluated is  It will really start deleting all the files on your computer',\n",
              " 'Safely evaluate an expression node or a string containing a Python literal or container display. The string or node provided may only consist of the following Python literal structures: strings, bytes, numbers, tuples, lists, dicts, sets, booleans, None, bytes and sets.',\n",
              " 'The string or node provided may only consist of the following Python literal structures: strings, bytes, numbers, tuples, lists, dicts, sets, booleans, and None',\n",
              " 'means that you actually evaluate the code before you deem it to be unsafe or not. It evaluates the code as soon as the function is called.',\n",
              " 'I read through the docs and I am still unclear if this would be safe or not. Does eval evaluate the data as soon as its entered or after the datamap variable is called?']"
            ]
          },
          "metadata": {
            "tags": []
          },
          "execution_count": 30
        }
      ]
    },
    {
      "cell_type": "markdown",
      "metadata": {
        "id": "zIF8EkB0ODn5"
      },
      "source": [
        "## **Removing StopWords**"
      ]
    },
    {
      "cell_type": "code",
      "metadata": {
        "id": "imiZ3IyDN3Xh"
      },
      "source": [
        "import nltk\r\n",
        "import string\r\n",
        "import spacy\r\n",
        "nlp = spacy.load('en')\r\n",
        "stopwords = nlp.Defaults.stop_words"
      ],
      "execution_count": 33,
      "outputs": []
    },
    {
      "cell_type": "code",
      "metadata": {
        "id": "M5BLaFTzOOSp"
      },
      "source": [
        "def preprocess_text(text):\r\n",
        "  text = text.lower()\r\n",
        "  tokens = nltk.wordpunct_tokenize(text)\r\n",
        "  tokens = [x for x in tokens if x not in string.punctuation]  #removing punctuations\r\n",
        "  tokens = [x for x in tokens if x not in stopwords]           #removing stopwords\r\n",
        "\r\n",
        "  return ' '.join(tokens)\r\n"
      ],
      "execution_count": 34,
      "outputs": []
    },
    {
      "cell_type": "code",
      "metadata": {
        "colab": {
          "base_uri": "https://localhost:8080/"
        },
        "id": "5gaAiKH9Ptet",
        "outputId": "20fa1ed2-a380-45be-da63-7591e8b23021"
      },
      "source": [
        "final_text = [preprocess_text(text) for text in proccessed_text]\r\n",
        "final_text"
      ],
      "execution_count": 35,
      "outputs": [
        {
          "output_type": "execute_result",
          "data": {
            "text/plain": [
              "['powerful dangerous accept strings evaluate untrusted input suppose string evaluated start deleting files computer',\n",
              " 'safely evaluate expression node string containing python literal container display string node provided consist following python literal structures strings bytes numbers tuples lists dicts sets booleans bytes sets',\n",
              " 'string node provided consist following python literal structures strings bytes numbers tuples lists dicts sets booleans',\n",
              " 'means actually evaluate code deem unsafe evaluates code soon function called',\n",
              " 'read docs unclear safe eval evaluate data soon entered datamap variable called']"
            ]
          },
          "metadata": {
            "tags": []
          },
          "execution_count": 35
        }
      ]
    },
    {
      "cell_type": "code",
      "metadata": {
        "id": "Jn6eBgBdQCqb"
      },
      "source": [
        ""
      ],
      "execution_count": null,
      "outputs": []
    }
  ]
}