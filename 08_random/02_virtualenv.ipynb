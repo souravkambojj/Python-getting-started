{
  "nbformat": 4,
  "nbformat_minor": 0,
  "metadata": {
    "colab": {
      "provenance": [],
      "collapsed_sections": []
    },
    "kernelspec": {
      "name": "python3",
      "display_name": "Python 3"
    },
    "language_info": {
      "name": "python"
    }
  },
  "cells": [
    {
      "cell_type": "markdown",
      "source": [
        "https://tech.serhatteker.com/post/2018-12/virtualenv/"
      ],
      "metadata": {
        "id": "iIROh0b3hRH9"
      }
    },
    {
      "cell_type": "code",
      "execution_count": 1,
      "metadata": {
        "id": "hzPff1NpfxRC"
      },
      "outputs": [],
      "source": [
        "#sudo apt-get install python3-pip          --------------Install pip3 if you don’t have already"
      ]
    },
    {
      "cell_type": "code",
      "source": [
        "#sudo pip3 install virtualenv              --------------Install virtualenv package"
      ],
      "metadata": {
        "id": "NPWwCXYWhS5f"
      },
      "execution_count": 2,
      "outputs": []
    },
    {
      "cell_type": "code",
      "source": [
        "# virtualenv  --version\n",
        "# which virtualenv"
      ],
      "metadata": {
        "id": "x0s4UMzih7lm"
      },
      "execution_count": 3,
      "outputs": []
    },
    {
      "cell_type": "code",
      "source": [
        "#mkdir venvs                               ----------------make a new directory or open the existing directory \n",
        "#cd venvs                                  ----------------where u want to build a new environment"
      ],
      "metadata": {
        "id": "xoZN4Ge_ioNK"
      },
      "execution_count": 5,
      "outputs": []
    },
    {
      "cell_type": "code",
      "source": [
        "#Build a new virtualenv\n",
        "\n",
        "#virtualenv -p python3 env_name\n",
        "#sudo virtualenv -p python3 env_name\n",
        "#e.g. virtualenv -p python3 denv\n",
        "\n",
        "#            or\n",
        "\n",
        "#     virtualenv env_name --python=python3.6\n",
        "#e.g. virtualenv denv --python=python3.6\n",
        "#            or\n",
        "#python3 -m venv venv_name",
        "#e.g. python3 -m venv virenv"
        
        
      ],
      "metadata": {
        "id": "AqYUR5WXkdU3"
      },
      "execution_count": 7,
      "outputs": []
    },
    {
      "cell_type": "code",
      "source": [
        "#activating the new virtualenv\n",
        "\n",
        "#   .env_name/bin/activate\n",
        "\n",
        "#     or\n",
        "\n",
        "# source env_name/bin/activate\n"
      ],
      "metadata": {
        "id": "dxaItsP2lke_"
      },
      "execution_count": 8,
      "outputs": []
    },
    {
      "cell_type": "code",
      "source": [
        "#deactivating the virtualenv\n",
        "\n",
        "#deactivate"
      ],
      "metadata": {
        "id": "20Xnvq4Amg7y"
      },
      "execution_count": null,
      "outputs": []
    }
  ]
}
