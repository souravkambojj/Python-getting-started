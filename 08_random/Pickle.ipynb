{
  "nbformat": 4,
  "nbformat_minor": 0,
  "metadata": {
    "colab": {
      "name": "Pickle.ipynb",
      "provenance": [],
      "collapsed_sections": []
    },
    "kernelspec": {
      "name": "python3",
      "display_name": "Python 3"
    }
  },
  "cells": [
    {
      "cell_type": "code",
      "metadata": {
        "id": "xNA4MwZrUhvX"
      },
      "source": [
        "import pickle \r\n",
        "import pandas as pd"
      ],
      "execution_count": 6,
      "outputs": []
    },
    {
      "cell_type": "markdown",
      "metadata": {
        "id": "KWR4cxTpUqX7"
      },
      "source": [
        "### **Dumping a list as pickle**"
      ]
    },
    {
      "cell_type": "code",
      "metadata": {
        "id": "FdfavsPyUpPg"
      },
      "source": [
        "data_list = ['sourav','aman','vivek','opinder','niranjan']\r\n",
        "pickle.dump(data_list,open('/content/drive/MyDrive/jupyter_notebooks/data/name_list.pkl','wb'))"
      ],
      "execution_count": 10,
      "outputs": []
    },
    {
      "cell_type": "markdown",
      "metadata": {
        "id": "53fl3lnVXb9T"
      },
      "source": [
        "### **Reading a list saved as pickle**"
      ]
    },
    {
      "cell_type": "code",
      "metadata": {
        "id": "b7Omh9AMViU_"
      },
      "source": [
        "with open('/content/drive/MyDrive/jupyter_notebooks/data/name_list.pkl','rb') as f :\r\n",
        "  data = pickle.load(f)"
      ],
      "execution_count": 11,
      "outputs": []
    },
    {
      "cell_type": "code",
      "metadata": {
        "colab": {
          "base_uri": "https://localhost:8080/"
        },
        "id": "eHnBgvoEXurH",
        "outputId": "c6255408-762e-4a58-eaba-9b7bc7765f5e"
      },
      "source": [
        "print(data)"
      ],
      "execution_count": 12,
      "outputs": [
        {
          "output_type": "stream",
          "text": [
            "['sourav', 'aman', 'vivek', 'opinder', 'niranjan']\n"
          ],
          "name": "stdout"
        }
      ]
    },
    {
      "cell_type": "markdown",
      "metadata": {
        "id": "RNFf5n6_X2-O"
      },
      "source": [
        "### **Dumping a dataframe as pickle**"
      ]
    },
    {
      "cell_type": "code",
      "metadata": {
        "id": "DI_VUZRoXwor"
      },
      "source": [
        "dict_ = {'name':['souav','vivek','niranjan','opinder'],'age':[25,23,22,24],'salary':['50k','90k','40k','70k']}"
      ],
      "execution_count": 13,
      "outputs": []
    },
    {
      "cell_type": "code",
      "metadata": {
        "colab": {
          "base_uri": "https://localhost:8080/",
          "height": 173
        },
        "id": "vAQZsPcrZFDV",
        "outputId": "0308739c-a75e-49df-dc4a-686d445a5db7"
      },
      "source": [
        "df = pd.DataFrame(dict_)\r\n",
        "df.head()"
      ],
      "execution_count": 14,
      "outputs": [
        {
          "output_type": "execute_result",
          "data": {
            "text/html": [
              "<div>\n",
              "<style scoped>\n",
              "    .dataframe tbody tr th:only-of-type {\n",
              "        vertical-align: middle;\n",
              "    }\n",
              "\n",
              "    .dataframe tbody tr th {\n",
              "        vertical-align: top;\n",
              "    }\n",
              "\n",
              "    .dataframe thead th {\n",
              "        text-align: right;\n",
              "    }\n",
              "</style>\n",
              "<table border=\"1\" class=\"dataframe\">\n",
              "  <thead>\n",
              "    <tr style=\"text-align: right;\">\n",
              "      <th></th>\n",
              "      <th>name</th>\n",
              "      <th>age</th>\n",
              "      <th>salary</th>\n",
              "    </tr>\n",
              "  </thead>\n",
              "  <tbody>\n",
              "    <tr>\n",
              "      <th>0</th>\n",
              "      <td>souav</td>\n",
              "      <td>25</td>\n",
              "      <td>50k</td>\n",
              "    </tr>\n",
              "    <tr>\n",
              "      <th>1</th>\n",
              "      <td>vivek</td>\n",
              "      <td>23</td>\n",
              "      <td>90k</td>\n",
              "    </tr>\n",
              "    <tr>\n",
              "      <th>2</th>\n",
              "      <td>niranjan</td>\n",
              "      <td>22</td>\n",
              "      <td>40k</td>\n",
              "    </tr>\n",
              "    <tr>\n",
              "      <th>3</th>\n",
              "      <td>opinder</td>\n",
              "      <td>24</td>\n",
              "      <td>70k</td>\n",
              "    </tr>\n",
              "  </tbody>\n",
              "</table>\n",
              "</div>"
            ],
            "text/plain": [
              "       name  age salary\n",
              "0     souav   25    50k\n",
              "1     vivek   23    90k\n",
              "2  niranjan   22    40k\n",
              "3   opinder   24    70k"
            ]
          },
          "metadata": {
            "tags": []
          },
          "execution_count": 14
        }
      ]
    },
    {
      "cell_type": "code",
      "metadata": {
        "id": "emJP5VYpZJow"
      },
      "source": [
        "df.to_pickle('/content/drive/MyDrive/jupyter_notebooks/data/employee_data.pkl')"
      ],
      "execution_count": 15,
      "outputs": []
    },
    {
      "cell_type": "markdown",
      "metadata": {
        "id": "8cghP9CfZfaC"
      },
      "source": [
        "### **Reading a dataframe saved as pickle**"
      ]
    },
    {
      "cell_type": "code",
      "metadata": {
        "colab": {
          "base_uri": "https://localhost:8080/",
          "height": 173
        },
        "id": "r7h5NJObZZug",
        "outputId": "71c99628-06d8-4ae8-8e16-2487ee9ae0a9"
      },
      "source": [
        "emp_df = pd.read_pickle('/content/drive/MyDrive/jupyter_notebooks/data/employee_data.pkl')\r\n",
        "emp_df"
      ],
      "execution_count": 16,
      "outputs": [
        {
          "output_type": "execute_result",
          "data": {
            "text/html": [
              "<div>\n",
              "<style scoped>\n",
              "    .dataframe tbody tr th:only-of-type {\n",
              "        vertical-align: middle;\n",
              "    }\n",
              "\n",
              "    .dataframe tbody tr th {\n",
              "        vertical-align: top;\n",
              "    }\n",
              "\n",
              "    .dataframe thead th {\n",
              "        text-align: right;\n",
              "    }\n",
              "</style>\n",
              "<table border=\"1\" class=\"dataframe\">\n",
              "  <thead>\n",
              "    <tr style=\"text-align: right;\">\n",
              "      <th></th>\n",
              "      <th>name</th>\n",
              "      <th>age</th>\n",
              "      <th>salary</th>\n",
              "    </tr>\n",
              "  </thead>\n",
              "  <tbody>\n",
              "    <tr>\n",
              "      <th>0</th>\n",
              "      <td>souav</td>\n",
              "      <td>25</td>\n",
              "      <td>50k</td>\n",
              "    </tr>\n",
              "    <tr>\n",
              "      <th>1</th>\n",
              "      <td>vivek</td>\n",
              "      <td>23</td>\n",
              "      <td>90k</td>\n",
              "    </tr>\n",
              "    <tr>\n",
              "      <th>2</th>\n",
              "      <td>niranjan</td>\n",
              "      <td>22</td>\n",
              "      <td>40k</td>\n",
              "    </tr>\n",
              "    <tr>\n",
              "      <th>3</th>\n",
              "      <td>opinder</td>\n",
              "      <td>24</td>\n",
              "      <td>70k</td>\n",
              "    </tr>\n",
              "  </tbody>\n",
              "</table>\n",
              "</div>"
            ],
            "text/plain": [
              "       name  age salary\n",
              "0     souav   25    50k\n",
              "1     vivek   23    90k\n",
              "2  niranjan   22    40k\n",
              "3   opinder   24    70k"
            ]
          },
          "metadata": {
            "tags": []
          },
          "execution_count": 16
        }
      ]
    },
    {
      "cell_type": "code",
      "metadata": {
        "id": "DpyagaOwaGPi"
      },
      "source": [
        ""
      ],
      "execution_count": null,
      "outputs": []
    }
  ]
}