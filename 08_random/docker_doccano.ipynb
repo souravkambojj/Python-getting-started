{
  "nbformat": 4,
  "nbformat_minor": 0,
  "metadata": {
    "colab": {
      "provenance": [],
      "collapsed_sections": []
    },
    "kernelspec": {
      "name": "python3",
      "display_name": "Python 3"
    },
    "language_info": {
      "name": "python"
    }
  },
  "cells": [
    {
      "cell_type": "code",
      "execution_count": 1,
      "metadata": {
        "id": "ubLU1qP5V3tH"
      },
      "outputs": [],
      "source": [
        "#docker --version\n",
        "#sudo docker images                     ----it will display all docker images currently installed on the system\n",
        "#sudo docker ps                         ----command only shows running containers by default\n",
        "#sudo docker ps -a                      ----shows all containers running as well as stopped\n",
        "#sudo docker run hello-world            ----this command downloads a test image and runs it in a container"
      ]
    },
    {
      "cell_type": "code",
      "source": [
        "#In order to delete the image, we have to stop the container first\n",
        "\n",
        "#sudo docker images                                 -----list all the images\n",
        "#sudo docker ps -a                                  -----list all the containers\n",
        "#sudo docker kill container_id                      -----for stopping a single container\n",
        "\n",
        "#sudo docker kill container_id1 container_id2       -----for stopping multiple containers\n",
        "#sudo docker kill  ab512a1246c6  fc38881aec73"
      ],
      "metadata": {
        "id": "v-DpMnvSXPdg"
      },
      "execution_count": 2,
      "outputs": []
    },
    {
      "cell_type": "code",
      "source": [
        "#after stopping the containers now, we have to delete them first\n",
        "\n",
        "#sudo docker rm container_id1 container_id2\n",
        "#sudo docker rm ab512a1246c6  fc38881aec73"
      ],
      "metadata": {
        "id": "8ZUTsxzBYvOg"
      },
      "execution_count": 3,
      "outputs": []
    },
    {
      "cell_type": "code",
      "source": [
        "#now we can remove images\n",
        "\n",
        "#sudo docker image rm image_id1     image_id2\n",
        "#sudo docker image rm ab512a1246c6  fc38881aec73"
      ],
      "metadata": {
        "id": "TedDM_00Zvz4"
      },
      "execution_count": 4,
      "outputs": []
    },
    {
      "cell_type": "code",
      "source": [
        "#####################################################    Doccano   ###########################################################"
      ],
      "metadata": {
        "id": "tuQZeEaBaX1I"
      },
      "execution_count": 5,
      "outputs": []
    },
    {
      "cell_type": "code",
      "source": [
        "#google  ---->>>>>    doccano docker image\n",
        "\n",
        "#sudo docker pull doccano/doccano\n",
        "\n",
        "# docker pull doccano/doccano\n",
        "# docker container create --name doccano_new \\\n",
        "#   -e \"ADMIN_USERNAME=admin\" \\\n",
        "#   -e \"ADMIN_EMAIL=admin@ril.com\" \\\n",
        "#   -e \"ADMIN_PASSWORD=123@ril\" \\\n",
        "#   -p 8050:8000 doccano/doccano\n",
        "\n",
        "\n",
        "#-------------------------------------8050:we can change----------------------------\n",
        "#-------------------------------------8000:keep it fixed----------------------------"
      ],
      "metadata": {
        "id": "fFYpiVAqa5x8"
      },
      "execution_count": 6,
      "outputs": []
    },
    {
      "cell_type": "code",
      "source": [
        "#after running the command above, a container gets created.\n",
        "#lets start it using the following command.\n",
        "\n",
        "\n",
        "#sudo docker container start doccano_new\n",
        "#http://10.26.33.139:8050/           ----------------doccano ip\n",
        "#http://10.26.33.139:8050/admin/     ----------------admin page"
      ],
      "metadata": {
        "id": "3q_G-uuIb5hW"
      },
      "execution_count": 7,
      "outputs": []
    },
    {
      "cell_type": "code",
      "source": [],
      "metadata": {
        "id": "smaGsnJvcpG8"
      },
      "execution_count": null,
      "outputs": []
    }
  ]
}