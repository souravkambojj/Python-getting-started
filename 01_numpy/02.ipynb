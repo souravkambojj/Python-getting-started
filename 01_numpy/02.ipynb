{
 "cells": [
  {
   "cell_type": "markdown",
   "metadata": {},
   "source": [
    "# Data Types in Numpy"
   ]
  },
  {
   "cell_type": "code",
   "execution_count": 2,
   "metadata": {},
   "outputs": [
    {
     "name": "stdout",
     "output_type": "stream",
     "text": [
      "int64\n",
      "float64\n",
      "array created : [[1. 2. 3.]\n",
      " [4. 5. 6.]\n",
      " [7. 8. 9.]]\n",
      "data type : float64\n"
     ]
    }
   ],
   "source": [
    "#at the time of array creation, datatypes of array need not to be defined unless a specific datatype is required.\n",
    "#but function that construct array usually also include an optional arg to explicitly specify the datatype.\n",
    "import numpy as np\n",
    "\n",
    "a=np.array([[1,2],[3,4]])\n",
    "b=np.array([1,-2.3])\n",
    "print(a.dtype)\n",
    "print(b.dtype)\n",
    "c=np.array([[1,2,3],[4,5,6],[7,8,9]],dtype='float')\n",
    "print('array created :',c)\n",
    "print('data type :',c.dtype)"
   ]
  },
  {
   "cell_type": "markdown",
   "metadata": {},
   "source": [
    "# math operations"
   ]
  },
  {
   "cell_type": "code",
   "execution_count": 10,
   "metadata": {},
   "outputs": [],
   "source": [
    "a=np.array([[1,2,3],[4,5,6],[7,8,9]])\n",
    "b=np.array([[4,6,5],[7,8,9],[1,6,4]])\n",
    "c=np.matrix('9 7 3;2 3 6;1 5 9')"
   ]
  },
  {
   "cell_type": "markdown",
   "metadata": {},
   "source": [
    "# 1. urnary operations"
   ]
  },
  {
   "cell_type": "code",
   "execution_count": 11,
   "metadata": {},
   "outputs": [
    {
     "name": "stdout",
     "output_type": "stream",
     "text": [
      "transpose of matrix : [[1 4 7]\n",
      " [2 5 8]\n",
      " [3 6 9]]\n",
      "conjugate transpose of matrix : [[9 2 1]\n",
      " [7 3 5]\n",
      " [3 6 9]]\n"
     ]
    }
   ],
   "source": [
    "print('transpose of matrix :',a.T)\n",
    "print('conjugate transpose of matrix :',c.H)"
   ]
  },
  {
   "cell_type": "code",
   "execution_count": 4,
   "metadata": {},
   "outputs": [
    {
     "name": "stdout",
     "output_type": "stream",
     "text": [
      "adding 2 to every element : [[ 3  4  5]\n",
      " [ 6  7  8]\n",
      " [ 9 10 11]]\n",
      "sub 1 from evey element : [[3 5 4]\n",
      " [6 7 8]\n",
      " [0 5 3]]\n",
      "multiply every element by 2 : [[ 8 12 10]\n",
      " [14 16 18]\n",
      " [ 2 12  8]]\n",
      "square each element : [[16 36 25]\n",
      " [49 64 81]\n",
      " [ 1 36 16]]\n",
      "sum of all the elements : 45 , sum of elelments column wise : [12 15 18] , sum of elements row wise : [ 6 15 24]\n",
      "std deviation:  2.581988897471611\n",
      "exp of every element:  [[2.71828183e+00 7.38905610e+00 2.00855369e+01]\n",
      " [5.45981500e+01 1.48413159e+02 4.03428793e+02]\n",
      " [1.09663316e+03 2.98095799e+03 8.10308393e+03]]\n",
      "sqrt of every element:  [[1.         1.41421356 1.73205081]\n",
      " [2.         2.23606798 2.44948974]\n",
      " [2.64575131 2.82842712 3.        ]]\n",
      "sine of every element:  [[ 0.84147098  0.90929743  0.14112001]\n",
      " [-0.7568025  -0.95892427 -0.2794155 ]\n",
      " [ 0.6569866   0.98935825  0.41211849]]\n"
     ]
    }
   ],
   "source": [
    "print(\"adding 2 to every element :\",a+2)\n",
    "print('sub 1 from evey element :',b-1)\n",
    "print('multiply every element by 2 :',b*2)\n",
    "print('square each element :',b**2)\n",
    "s1=a.sum()\n",
    "s2=a.sum(axis=0)\n",
    "s3=a.sum(axis=1)\n",
    "print(\"sum of all the elements :\",s1,', sum of elelments column wise :',s2,', sum of elements row wise :',s3)\n",
    "print(\"std deviation: \",a.std())\n",
    "\n",
    "from numpy import exp,sqrt,sin\n",
    "print('exp of every element: ',exp(a))\n",
    "print('sqrt of every element: ',sqrt(a))\n",
    "print('sine of every element: ',sin(a))"
   ]
  },
  {
   "cell_type": "markdown",
   "metadata": {},
   "source": [
    "# 2. binary operations"
   ]
  },
  {
   "cell_type": "code",
   "execution_count": 5,
   "metadata": {},
   "outputs": [
    {
     "name": "stdout",
     "output_type": "stream",
     "text": [
      "addition:  [[ 5  8  8]\n",
      " [11 13 15]\n",
      " [ 8 14 13]]\n",
      "substraction:  [[-3 -4 -2]\n",
      " [-3 -3 -3]\n",
      " [ 6  2  5]]\n",
      "array multiplication: [[ 4 12 15]\n",
      " [28 40 54]\n",
      " [ 7 48 36]]\n",
      "matrix multiplication:  [[ 21  40  35]\n",
      " [ 57 100  89]\n",
      " [ 93 160 143]]\n"
     ]
    }
   ],
   "source": [
    "print('addition: ',a+b)\n",
    "print('substraction: ',a-b)\n",
    "print('array multiplication:',a*b)\n",
    "print('matrix multiplication: ',a.dot(b))"
   ]
  },
  {
   "cell_type": "code",
   "execution_count": null,
   "metadata": {},
   "outputs": [],
   "source": []
  },
  {
   "cell_type": "markdown",
   "metadata": {},
   "source": [
    "# some basic operations"
   ]
  },
  {
   "cell_type": "code",
   "execution_count": 16,
   "metadata": {},
   "outputs": [
    {
     "name": "stdout",
     "output_type": "stream",
     "text": [
      "[[19 36 20 26]\n",
      " [16 23 11 32]]\n"
     ]
    }
   ],
   "source": [
    "#reshape(n,m)\n",
    "#n*m must be same as total no of elements in the array\n",
    "print(np.random.randint(1,38,8).reshape(2,4))"
   ]
  },
  {
   "cell_type": "code",
   "execution_count": 17,
   "metadata": {},
   "outputs": [
    {
     "name": "stdout",
     "output_type": "stream",
     "text": [
      "[0.42919443 0.7507036  0.5927713  0.6481249  0.59233281 0.55195411\n",
      " 0.18041372 0.02346107 0.75962035 0.02073814 0.98190453 0.17729369]\n"
     ]
    }
   ],
   "source": [
    "#flatten\n",
    "print(np.random.rand(3,4).flatten())"
   ]
  },
  {
   "cell_type": "code",
   "execution_count": 20,
   "metadata": {},
   "outputs": [
    {
     "name": "stdout",
     "output_type": "stream",
     "text": [
      "largest element in the array:  9\n",
      "smallest element in the array:  1\n",
      "index loc of maxi element:  8\n",
      "index loc of mini element:  0\n"
     ]
    }
   ],
   "source": [
    "a=np.array([[1,2,3],[4,5,6],[7,8,9]])\n",
    "\n",
    "print(\"largest element in the array: \",a.max())\n",
    "print(\"smallest element in the array: \",a.min())\n",
    "print(\"index loc of maxi element: \",a.argmax())\n",
    "print(\"index loc of mini element: \",a.argmin())"
   ]
  },
  {
   "cell_type": "code",
   "execution_count": 24,
   "metadata": {},
   "outputs": [
    {
     "name": "stdout",
     "output_type": "stream",
     "text": [
      "array type:  <class 'numpy.ndarray'>\n",
      "no of dimensions of array:  2\n",
      "size of array:  12\n",
      "shape of array:  (4, 3)\n"
     ]
    }
   ],
   "source": [
    "arr=np.array([[1,2,3],[4,5,6],[7,8,9],[10,5,6]])\n",
    "\n",
    "print(\"array type: \",type(arr))\n",
    "print(\"no of dimensions of array: \",arr.ndim)#1D, 2D, 3D\n",
    "print('size of array: ',arr.size)\n",
    "print('shape of array: ',arr.shape)"
   ]
  },
  {
   "cell_type": "markdown",
   "metadata": {},
   "source": [
    "# map"
   ]
  },
  {
   "cell_type": "code",
   "execution_count": 27,
   "metadata": {},
   "outputs": [
    {
     "name": "stdout",
     "output_type": "stream",
     "text": [
      "1 2 3 4 5\n"
     ]
    },
    {
     "data": {
      "text/plain": [
       "[1, 2, 3, 4, 5]"
      ]
     },
     "execution_count": 27,
     "metadata": {},
     "output_type": "execute_result"
    }
   ],
   "source": [
    "arr=list(map(int,input().split()))\n",
    "arr"
   ]
  },
  {
   "cell_type": "markdown",
   "metadata": {},
   "source": []
  }
 ],
 "metadata": {
  "kernelspec": {
   "display_name": "Python 3",
   "language": "python",
   "name": "python3"
  },
  "language_info": {
   "codemirror_mode": {
    "name": "ipython",
    "version": 3
   },
   "file_extension": ".py",
   "mimetype": "text/x-python",
   "name": "python",
   "nbconvert_exporter": "python",
   "pygments_lexer": "ipython3",
   "version": "3.7.3"
  }
 },
 "nbformat": 4,
 "nbformat_minor": 2
}
