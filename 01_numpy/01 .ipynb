{
  "nbformat": 4,
  "nbformat_minor": 0,
  "metadata": {
    "colab": {
      "provenance": [],
      "collapsed_sections": []
    },
    "kernelspec": {
      "name": "python3",
      "display_name": "Python 3"
    },
    "language_info": {
      "name": "python"
    }
  },
  "cells": [
    {
      "cell_type": "code",
      "execution_count": null,
      "metadata": {
        "colab": {
          "base_uri": "https://localhost:8080/",
          "height": 217
        },
        "id": "Qbu6LrrL6EhV",
        "outputId": "49dfeae0-5a4f-4c3a-f4de-7d314ba9b7dc"
      },
      "outputs": [
        {
          "output_type": "error",
          "ename": "TypeError",
          "evalue": "ignored",
          "traceback": [
            "\u001b[0;31m---------------------------------------------------------------------------\u001b[0m",
            "\u001b[0;31mTypeError\u001b[0m                                 Traceback (most recent call last)",
            "\u001b[0;32m<ipython-input-1-0cdd82028749>\u001b[0m in \u001b[0;36m<module>\u001b[0;34m\u001b[0m\n\u001b[1;32m      1\u001b[0m \u001b[0ma\u001b[0m\u001b[0;34m=\u001b[0m\u001b[0;34m[\u001b[0m\u001b[0;36m1\u001b[0m\u001b[0;34m,\u001b[0m\u001b[0;36m2\u001b[0m\u001b[0;34m]\u001b[0m\u001b[0;34m\u001b[0m\u001b[0;34m\u001b[0m\u001b[0m\n\u001b[1;32m      2\u001b[0m \u001b[0mb\u001b[0m\u001b[0;34m=\u001b[0m\u001b[0;34m[\u001b[0m\u001b[0;36m3\u001b[0m\u001b[0;34m,\u001b[0m\u001b[0;36m4\u001b[0m\u001b[0;34m]\u001b[0m\u001b[0;34m\u001b[0m\u001b[0;34m\u001b[0m\u001b[0m\n\u001b[0;32m----> 3\u001b[0;31m \u001b[0mc\u001b[0m\u001b[0;34m=\u001b[0m\u001b[0ma\u001b[0m\u001b[0;34m*\u001b[0m\u001b[0mb\u001b[0m\u001b[0;34m\u001b[0m\u001b[0;34m\u001b[0m\u001b[0m\n\u001b[0m\u001b[1;32m      4\u001b[0m \u001b[0mc\u001b[0m\u001b[0;34m\u001b[0m\u001b[0;34m\u001b[0m\u001b[0m\n",
            "\u001b[0;31mTypeError\u001b[0m: can't multiply sequence by non-int of type 'list'"
          ]
        }
      ],
      "source": [
        "a=[1,2]\n",
        "b=[3,4]\n",
        "c=a*b\n",
        "c"
      ]
    },
    {
      "cell_type": "code",
      "source": [
        "# multiplication operation can't be applied on list elements\n",
        "# hence, we go for numpy array."
      ],
      "metadata": {
        "id": "79I9V3MJBGK7"
      },
      "execution_count": null,
      "outputs": []
    },
    {
      "cell_type": "code",
      "source": [
        "import numpy as np\n",
        "\n",
        "a=np.array([[1,2],[3,4]])\n",
        "b=np.array([[3,4],[5,6]])\n",
        "a*b"
      ],
      "metadata": {
        "colab": {
          "base_uri": "https://localhost:8080/"
        },
        "id": "4VC1b2FYBUR6",
        "outputId": "dfa6ad38-ccd9-4f09-d1e9-7daafca07173"
      },
      "execution_count": 2,
      "outputs": [
        {
          "output_type": "execute_result",
          "data": {
            "text/plain": [
              "array([[ 3,  8],\n",
              "       [15, 24]])"
            ]
          },
          "metadata": {},
          "execution_count": 2
        }
      ]
    },
    {
      "cell_type": "code",
      "source": [
        "# 1.Numpy is a general-purpose array processing pkg.\n",
        "# 2.Array in Numpy is a table containing elements, all of the same type(usually numbers), indexed by a touple of non-negative integers.\n",
        "#    a) Note:Type of array can be explicitly defined while creating the array.\n",
        "#    b) The type of resultant array is deduced from the type of the elements in the sequences.\n",
        "# 3. In Numpy, no of dimensions of the array is known as rank of array."
      ],
      "metadata": {
        "id": "P6_jn1QgBWZ5"
      },
      "execution_count": null,
      "outputs": []
    },
    {
      "cell_type": "markdown",
      "source": [
        "# **Array Creation**"
      ],
      "metadata": {
        "id": "8ve0FZ8YBdTt"
      }
    },
    {
      "cell_type": "code",
      "source": [
        "#from list\n",
        "#array with rank1 \n",
        "a=np.array([1,2,3,4])\n",
        "print(a,'\\n')\n",
        "\n",
        "#array with rank2 \n",
        "b=np.array([[1,2,3],[4,5,6],[7,8,9]])\n",
        "print(b)"
      ],
      "metadata": {
        "colab": {
          "base_uri": "https://localhost:8080/"
        },
        "id": "Df9oT-bOBYxY",
        "outputId": "f9e62e39-123b-4149-9e93-478274d0c8de"
      },
      "execution_count": null,
      "outputs": [
        {
          "output_type": "stream",
          "name": "stdout",
          "text": [
            "[1 2 3 4] \n",
            "\n",
            "[[1 2 3]\n",
            " [4 5 6]\n",
            " [7 8 9]]\n"
          ]
        }
      ]
    },
    {
      "cell_type": "code",
      "source": [
        "#matrix\n",
        "m=np.matrix('1 2 3;4 5 6;7 8 9')\n",
        "m"
      ],
      "metadata": {
        "colab": {
          "base_uri": "https://localhost:8080/"
        },
        "id": "duaSsvxjBgaS",
        "outputId": "61f26ec0-cf0e-4e26-fad7-beaccc54b001"
      },
      "execution_count": null,
      "outputs": [
        {
          "output_type": "execute_result",
          "data": {
            "text/plain": [
              "matrix([[1, 2, 3],\n",
              "        [4, 5, 6],\n",
              "        [7, 8, 9]])"
            ]
          },
          "metadata": {},
          "execution_count": 7
        }
      ]
    },
    {
      "cell_type": "code",
      "source": [
        "#zeros, ones, eye\n",
        "print(np.zeros((3,4)),'\\n\\n')\n",
        "print(np.ones((4,3)),'\\n\\n')\n",
        "print(np.eye((4)))"
      ],
      "metadata": {
        "colab": {
          "base_uri": "https://localhost:8080/"
        },
        "id": "tX0tjw-WBja1",
        "outputId": "b0563725-d446-4579-8dd8-0e50548686a1"
      },
      "execution_count": null,
      "outputs": [
        {
          "output_type": "stream",
          "name": "stdout",
          "text": [
            "[[0. 0. 0. 0.]\n",
            " [0. 0. 0. 0.]\n",
            " [0. 0. 0. 0.]] \n",
            "\n",
            "\n",
            "[[1. 1. 1.]\n",
            " [1. 1. 1.]\n",
            " [1. 1. 1.]\n",
            " [1. 1. 1.]] \n",
            "\n",
            "\n",
            "[[1. 0. 0. 0.]\n",
            " [0. 1. 0. 0.]\n",
            " [0. 0. 1. 0.]\n",
            " [0. 0. 0. 1.]]\n"
          ]
        }
      ]
    },
    {
      "cell_type": "code",
      "source": [
        "np.zeros_like(b)"
      ],
      "metadata": {
        "colab": {
          "base_uri": "https://localhost:8080/"
        },
        "id": "E4mOvm_UBlrC",
        "outputId": "27071dfd-9aac-4589-d900-d273a982b57e"
      },
      "execution_count": null,
      "outputs": [
        {
          "output_type": "execute_result",
          "data": {
            "text/plain": [
              "array([[0, 0, 0],\n",
              "       [0, 0, 0],\n",
              "       [0, 0, 0]])"
            ]
          },
          "metadata": {},
          "execution_count": 9
        }
      ]
    },
    {
      "cell_type": "code",
      "source": [
        "np.diag(b)"
      ],
      "metadata": {
        "colab": {
          "base_uri": "https://localhost:8080/"
        },
        "id": "oiYHPt9AB3u-",
        "outputId": "e286cfdd-392b-4bb3-d5ba-d187715ea7ac"
      },
      "execution_count": null,
      "outputs": [
        {
          "output_type": "execute_result",
          "data": {
            "text/plain": [
              "array([1, 5, 9])"
            ]
          },
          "metadata": {},
          "execution_count": 10
        }
      ]
    },
    {
      "cell_type": "code",
      "source": [
        "####################################################   1-d array\n",
        "#arange(start_value,end_value,step_size)\n",
        "#default s_value=0, step_size=1\n",
        "\n",
        "a=np.arange(7)\n",
        "b=np.arange(0,6,3)\n",
        "c=np.arange(1,7,0.5)\n",
        "d=np.arange(5,0,-0.5)\n",
        "print(\"with default step size: \",a)\n",
        "print(\"with step size 3: \",b)\n",
        "print(\"with step size 0.5: \",c)\n",
        "print('With step size of 0.5',d)"
      ],
      "metadata": {
        "colab": {
          "base_uri": "https://localhost:8080/"
        },
        "id": "ANDVuI2_FEi-",
        "outputId": "488000a9-54d0-4b0c-bcfa-227621cbd27e"
      },
      "execution_count": 3,
      "outputs": [
        {
          "output_type": "stream",
          "name": "stdout",
          "text": [
            "with default step size:  [0 1 2 3 4 5 6]\n",
            "with step size 3:  [0 3]\n",
            "with step size 0.5:  [1.  1.5 2.  2.5 3.  3.5 4.  4.5 5.  5.5 6.  6.5]\n",
            "With step size of 0.5 [5.  4.5 4.  3.5 3.  2.5 2.  1.5 1.  0.5]\n"
          ]
        }
      ]
    },
    {
      "cell_type": "code",
      "source": [
        "#arange is similar to range\n",
        "#range(start_value,end_value,step_size)\n",
        "#default s_value=0, step_size=1\n",
        "print(list(range(0,15,3)))\n",
        "print(list(range(5,1,-1)))\n",
        "\n",
        "#but with one exception, in range step-size can't be a float value\n",
        "#range(5,1,-0.5)  #its not gonna work"
      ],
      "metadata": {
        "colab": {
          "base_uri": "https://localhost:8080/"
        },
        "id": "YqBVHjtJINVj",
        "outputId": "5064aff0-8518-404a-9d21-1b9283ca3a6a"
      },
      "execution_count": 6,
      "outputs": [
        {
          "output_type": "stream",
          "name": "stdout",
          "text": [
            "[0, 3, 6, 9, 12]\n",
            "[5, 4, 3, 2]\n"
          ]
        }
      ]
    },
    {
      "cell_type": "code",
      "source": [
        "######################################################   1-d array\n",
        "#linspace(s_value,e_value,no of elements)   \n",
        "#it creates arrays with specific no of elements, which are equally spaced b/w begining and end value.\n",
        "e=np.linspace(2,8,5)\n",
        "e"
      ],
      "metadata": {
        "colab": {
          "base_uri": "https://localhost:8080/"
        },
        "id": "VhCNS_B-FJBB",
        "outputId": "f60bde55-9da2-41fb-ad60-f5ef0670ce2e"
      },
      "execution_count": 7,
      "outputs": [
        {
          "output_type": "execute_result",
          "data": {
            "text/plain": [
              "array([2. , 3.5, 5. , 6.5, 8. ])"
            ]
          },
          "metadata": {},
          "execution_count": 7
        }
      ]
    },
    {
      "cell_type": "code",
      "source": [
        "######################################################    1-d array\n",
        "#randint(s_value,e_value,no of elements)\n",
        "\n",
        "from numpy.random import randint \n",
        "\n",
        "#by default no of elements is 1\n",
        "\n",
        "g=randint(45,90)\n",
        "print(g)\n",
        "\n",
        "f=randint(2,8,5)\n",
        "print(f)\n",
        "\n",
        "h=randint(1,100,10)\n",
        "print(h)\n",
        "\n",
        "i=randint(1,100,(10,2))\n",
        "print(i)"
      ],
      "metadata": {
        "colab": {
          "base_uri": "https://localhost:8080/"
        },
        "id": "AFA_PlB6FMHa",
        "outputId": "f47fd4ad-8088-4dde-96ce-780b73d91489"
      },
      "execution_count": null,
      "outputs": [
        {
          "output_type": "stream",
          "name": "stdout",
          "text": [
            "58\n",
            "[7 4 2 7 5]\n",
            "[15  7 28 38 11 31 68 49 14 87]\n",
            "[[56 41]\n",
            " [18 28]\n",
            " [19 73]\n",
            " [ 2  2]\n",
            " [18 68]\n",
            " [58 39]\n",
            " [11 28]\n",
            " [32 93]\n",
            " [25 44]\n",
            " [11 66]]\n"
          ]
        }
      ]
    },
    {
      "cell_type": "code",
      "source": [
        "from numpy import random\n",
        "random.seed(34)\n",
        "\n",
        "x=random.rand(5)\n",
        "y=random.rand(2,3)\n",
        "z=random.rand(3,4,2)\n",
        "print(\"randomly constructing 1d array with 5 elements: \",x)\n",
        "print('randomly const 2d array with 2 rows nd 3 columns: ',y)\n",
        "print('randomly constructing 3d array: with dimensions(3,4,2): ',z)"
      ],
      "metadata": {
        "colab": {
          "base_uri": "https://localhost:8080/"
        },
        "id": "YsGUEno8FQaE",
        "outputId": "9d866718-3d85-44ba-a77d-d22ae2080d79"
      },
      "execution_count": null,
      "outputs": [
        {
          "output_type": "stream",
          "name": "stdout",
          "text": [
            "randomly constructing 1d array with 5 elements:  [0.03856168 0.78010046 0.09270376 0.63289269 0.01389085]\n",
            "randomly const 2d array with 2 rows nd 3 columns:  [[0.93615854 0.42657438 0.25308645]\n",
            " [0.18996531 0.41482463 0.01342061]]\n",
            "randomly constructing 3d array: with dimensions(3,4,2):  [[[0.64847278 0.86936875]\n",
            "  [0.6090357  0.80799282]\n",
            "  [0.82651133 0.27168333]\n",
            "  [0.83647644 0.28254136]]\n",
            "\n",
            " [[0.1383086  0.71472027]\n",
            "  [0.47253661 0.55658848]\n",
            "  [0.38557557 0.94114666]\n",
            "  [0.08119068 0.91726748]]\n",
            "\n",
            " [[0.15693443 0.44414749]\n",
            "  [0.21210604 0.17469316]\n",
            "  [0.51479805 0.89289754]\n",
            "  [0.92368107 0.83597855]]]\n"
          ]
        }
      ]
    },
    {
      "cell_type": "code",
      "source": [
        "print(random.randn(5,4))"
      ],
      "metadata": {
        "colab": {
          "base_uri": "https://localhost:8080/"
        },
        "id": "t5R3Gpe9FXFL",
        "outputId": "3b05fb9d-bc00-4314-f6c1-3664551429e3"
      },
      "execution_count": null,
      "outputs": [
        {
          "output_type": "stream",
          "name": "stdout",
          "text": [
            "[[ 1.33158302e+00 -1.42178953e-03 -2.11040542e+00 -5.50342147e-01]\n",
            " [-4.67710972e-01 -7.36519892e-01  9.97918611e-01  1.34537166e+00]\n",
            " [ 6.59756431e-01 -6.04271751e-01 -8.26122514e-01  2.37487752e-02]\n",
            " [ 6.93246142e-02 -4.88186798e-01 -4.41485591e-01 -5.97696337e-01]\n",
            " [ 8.11138348e-02 -2.42686539e-01 -3.50788166e-01  4.14090694e-01]]\n"
          ]
        }
      ]
    },
    {
      "cell_type": "code",
      "source": [
        "#random.normal(mean,std_dev,shape)\n",
        "print(random.normal(-1.5,1.5,(2,8)))"
      ],
      "metadata": {
        "colab": {
          "base_uri": "https://localhost:8080/"
        },
        "id": "dkLGOMbGFaFb",
        "outputId": "ea8ef42c-8ea8-4524-f3a8-7c1b4a83844a"
      },
      "execution_count": null,
      "outputs": [
        {
          "output_type": "stream",
          "name": "stdout",
          "text": [
            "[[ 0.10558987 -0.83982189 -1.82365849 -4.27622895 -0.60728823 -0.90194425\n",
            "  -1.23603108 -0.61459603]\n",
            " [-2.03145479 -4.56051094 -0.91916251 -3.14525797 -1.13028438 -0.19453042\n",
            "  -1.50951612 -3.8115425 ]]\n"
          ]
        }
      ]
    },
    {
      "cell_type": "code",
      "source": [
        "print(random.uniform(-1.5,1.5,10))\n",
        "print(random.uniform(-1.5,1.5,(5,5)))"
      ],
      "metadata": {
        "colab": {
          "base_uri": "https://localhost:8080/"
        },
        "id": "918fhB15Fc9R",
        "outputId": "37a1d7a6-5f51-405c-f37e-f613a6e2de4a"
      },
      "execution_count": null,
      "outputs": [
        {
          "output_type": "stream",
          "name": "stdout",
          "text": [
            "[ 1.41406458 -0.93718141  0.8482211   0.34080807  0.25849386 -0.12005322\n",
            " -0.66770528  0.96444608  1.28834479 -0.31586476]\n",
            "[[ 1.20924259e+00  4.21680040e-01 -1.29170257e+00 -9.48457224e-04\n",
            "   7.95254380e-01]\n",
            " [ 9.20300445e-01 -5.62868634e-02  1.15192241e+00  1.48658302e+00\n",
            "   1.30715619e+00]\n",
            " [-2.58648533e-01  1.34955687e+00 -5.12646575e-01  4.56651066e-01\n",
            "  -1.53507606e-01]\n",
            " [ 5.12927918e-01  2.01158687e-01 -1.41206539e+00  1.37422665e+00\n",
            "  -1.28727450e+00]\n",
            " [-5.33584901e-01 -1.48859847e+00 -9.93086723e-01 -1.16016607e+00\n",
            "  -1.27560560e+00]]\n"
          ]
        }
      ]
    }
  ]
}
