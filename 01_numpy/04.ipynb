{
  "nbformat": 4,
  "nbformat_minor": 0,
  "metadata": {
    "colab": {
      "provenance": []
    },
    "kernelspec": {
      "name": "python3",
      "display_name": "Python 3"
    },
    "language_info": {
      "name": "python"
    }
  },
  "cells": [
    {
      "cell_type": "code",
      "execution_count": 1,
      "metadata": {
        "id": "0BHD4csAHvIL"
      },
      "outputs": [],
      "source": [
        "import numpy as np"
      ]
    },
    {
      "cell_type": "code",
      "source": [
        "a = np.array([[1,0,3],[4,6,1],[3,7,2]])\n",
        "b = np.array([[2,9,5],[6,3,1],[7,9,2]])"
      ],
      "metadata": {
        "id": "lgEZ6eyGH5Vu"
      },
      "execution_count": 2,
      "outputs": []
    },
    {
      "cell_type": "markdown",
      "source": [
        "**np.multiply(a,b)**"
      ],
      "metadata": {
        "id": "Lz46BrIercP8"
      }
    },
    {
      "cell_type": "code",
      "source": [
        "#Element-wise multiplication, or Hadamard Product\n",
        "print(a*b)\n",
        "print(np.multiply(a,b))"
      ],
      "metadata": {
        "colab": {
          "base_uri": "https://localhost:8080/"
        },
        "id": "7tF4FTIZJa2X",
        "outputId": "cd187f04-c9bb-458b-e15e-efe3b261de9b"
      },
      "execution_count": 3,
      "outputs": [
        {
          "output_type": "stream",
          "name": "stdout",
          "text": [
            "[[ 2  0 15]\n",
            " [24 18  1]\n",
            " [21 63  4]]\n",
            "[[ 2  0 15]\n",
            " [24 18  1]\n",
            " [21 63  4]]\n"
          ]
        }
      ]
    },
    {
      "cell_type": "markdown",
      "source": [
        "**np.dot(a, b)**"
      ],
      "metadata": {
        "id": "bpHe5Y_bn6zA"
      }
    },
    {
      "cell_type": "code",
      "source": [
        "#Performs the dot product for 1-D arrays.\n",
        "#Performs the matrix multiplication for 2-D arrays.\n",
        "#For higher-dimensional arrays, it flattens the arrays to 1-D and\n",
        "#then computes the dot product (not recommended for tensors)."
      ],
      "metadata": {
        "id": "Hfx7T14coB0k"
      },
      "execution_count": 4,
      "outputs": []
    },
    {
      "cell_type": "code",
      "source": [
        "## Dot product for 1-D arrays\n",
        "np.dot([1,2,3],[4,5,6])  ## Output: 32 (1*4 + 2*5 + 3*6)"
      ],
      "metadata": {
        "colab": {
          "base_uri": "https://localhost:8080/"
        },
        "id": "31NFRXcoNKeP",
        "outputId": "ba5f21d1-bc57-47e7-d2bd-729a804f043e"
      },
      "execution_count": 5,
      "outputs": [
        {
          "output_type": "execute_result",
          "data": {
            "text/plain": [
              "32"
            ]
          },
          "metadata": {},
          "execution_count": 5
        }
      ]
    },
    {
      "cell_type": "code",
      "source": [
        "## Matrix multiplication for 2-D arrays\n",
        "np.dot(a,b)"
      ],
      "metadata": {
        "colab": {
          "base_uri": "https://localhost:8080/"
        },
        "id": "E2kCjUaiJvbG",
        "outputId": "0c29cae6-c2c4-4f04-ca8b-9fc3d517f338"
      },
      "execution_count": 6,
      "outputs": [
        {
          "output_type": "execute_result",
          "data": {
            "text/plain": [
              "array([[23, 36, 11],\n",
              "       [51, 63, 28],\n",
              "       [62, 66, 26]])"
            ]
          },
          "metadata": {},
          "execution_count": 6
        }
      ]
    },
    {
      "cell_type": "markdown",
      "source": [
        "**np.matmul(a, b)**"
      ],
      "metadata": {
        "id": "7w1OKVEFqhim"
      }
    },
    {
      "cell_type": "code",
      "source": [
        "#Always performs matrix multiplication for 2-D arrays.\n",
        "#For 1-D arrays, it treats them as row or column vectors (based on the context)\n",
        "#to ensure correct matrix multiplication behavior.\n",
        "#Supports broadcasting for higher-dimensional arrays, enabling batch matrix multiplication."
      ],
      "metadata": {
        "id": "YdarPtXDohS7"
      },
      "execution_count": 7,
      "outputs": []
    },
    {
      "cell_type": "code",
      "source": [
        "# Matrix multiplication for 2-D arrays (same as np.dot in this case)\n",
        "np.matmul(a,b)"
      ],
      "metadata": {
        "colab": {
          "base_uri": "https://localhost:8080/"
        },
        "id": "kL2hAjwBqww8",
        "outputId": "fc950d9d-a6ff-4c83-d172-9c700035aa3e"
      },
      "execution_count": 8,
      "outputs": [
        {
          "output_type": "execute_result",
          "data": {
            "text/plain": [
              "array([[23, 36, 11],\n",
              "       [51, 63, 28],\n",
              "       [62, 66, 26]])"
            ]
          },
          "metadata": {},
          "execution_count": 8
        }
      ]
    },
    {
      "cell_type": "code",
      "source": [
        "## Matrix multiplication for 1-D arrays\n",
        "np.matmul([1,2,3],[4,5,6])\n",
        "#[1,2,3] x [[4]      [1 x 3] X [3 x 1] = [1 x 1]\n",
        "#          [5]\n",
        "#          [6]]"
      ],
      "metadata": {
        "colab": {
          "base_uri": "https://localhost:8080/"
        },
        "id": "x7cKCyqSq7sx",
        "outputId": "c55a89d0-38d9-4797-a8ba-db7f49d9af86"
      },
      "execution_count": 9,
      "outputs": [
        {
          "output_type": "execute_result",
          "data": {
            "text/plain": [
              "32"
            ]
          },
          "metadata": {},
          "execution_count": 9
        }
      ]
    },
    {
      "cell_type": "markdown",
      "source": [
        "**np.cross(a,b)**"
      ],
      "metadata": {
        "id": "axt_pvTXtWuL"
      }
    },
    {
      "cell_type": "code",
      "source": [
        "#The cross product is an operation that is defined only for 3-dimensional vectors.\n",
        "#for matrices the cross product is computed row-wise."
      ],
      "metadata": {
        "id": "39OdtTnZwBlA"
      },
      "execution_count": 10,
      "outputs": []
    },
    {
      "cell_type": "code",
      "source": [
        "#cross product of 1-D array\n",
        "np.cross([1,2,3],[9,8,7])"
      ],
      "metadata": {
        "colab": {
          "base_uri": "https://localhost:8080/"
        },
        "id": "9WmlutpuszAo",
        "outputId": "cf423be2-4396-4db3-b1da-0946ad7b94b3"
      },
      "execution_count": 11,
      "outputs": [
        {
          "output_type": "execute_result",
          "data": {
            "text/plain": [
              "array([-10,  20, -10])"
            ]
          },
          "metadata": {},
          "execution_count": 11
        }
      ]
    },
    {
      "cell_type": "code",
      "source": [
        "#cross product of 2x3 matrix\n",
        "np.cross([[1,2,3],[3,2,5]],[[9,8,7],[9,5,2]])"
      ],
      "metadata": {
        "colab": {
          "base_uri": "https://localhost:8080/"
        },
        "id": "z4J9PTHhufXR",
        "outputId": "bacd2794-09bd-41fb-ebb5-7b423cfa20cb"
      },
      "execution_count": 12,
      "outputs": [
        {
          "output_type": "execute_result",
          "data": {
            "text/plain": [
              "array([[-10,  20, -10],\n",
              "       [-21,  39,  -3]])"
            ]
          },
          "metadata": {},
          "execution_count": 12
        }
      ]
    },
    {
      "cell_type": "code",
      "source": [
        "#cross product of 2x3 matrix\n",
        "mat_a = [[1, 2, 3], [3,2,5], [7, 9, 1]]\n",
        "mat_b = [[9, 8, 7], [9,5,2], [3, 1, 1]]\n",
        "np.cross(mat_a, mat_b)"
      ],
      "metadata": {
        "colab": {
          "base_uri": "https://localhost:8080/"
        },
        "id": "xRP8t_SQu9ZF",
        "outputId": "466e9094-5170-4d9f-eee6-bfbbb083bf93"
      },
      "execution_count": 13,
      "outputs": [
        {
          "output_type": "execute_result",
          "data": {
            "text/plain": [
              "array([[-10,  20, -10],\n",
              "       [-21,  39,  -3],\n",
              "       [  8,  -4, -20]])"
            ]
          },
          "metadata": {},
          "execution_count": 13
        }
      ]
    },
    {
      "cell_type": "code",
      "source": [],
      "metadata": {
        "id": "4W3kM3xXZ3Iw"
      },
      "execution_count": 13,
      "outputs": []
    }
  ]
}