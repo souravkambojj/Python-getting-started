{
  "nbformat": 4,
  "nbformat_minor": 0,
  "metadata": {
    "colab": {
      "name": "01.ipynb",
      "provenance": [],
      "collapsed_sections": []
    },
    "kernelspec": {
      "name": "python3",
      "display_name": "Python 3"
    }
  },
  "cells": [
    {
      "cell_type": "code",
      "metadata": {
        "colab": {
          "base_uri": "https://localhost:8080/",
          "height": 214
        },
        "id": "Z7YH2kNd5OiC",
        "outputId": "3694b955-c140-44d7-f09c-14a2d42cc2e0"
      },
      "source": [
        "a=[1,2]\r\n",
        "b=[3,4]\r\n",
        "c=a*b\r\n",
        "c"
      ],
      "execution_count": 1,
      "outputs": [
        {
          "output_type": "error",
          "ename": "TypeError",
          "evalue": "ignored",
          "traceback": [
            "\u001b[0;31m---------------------------------------------------------------------------\u001b[0m",
            "\u001b[0;31mTypeError\u001b[0m                                 Traceback (most recent call last)",
            "\u001b[0;32m<ipython-input-1-5983a38b56b5>\u001b[0m in \u001b[0;36m<module>\u001b[0;34m()\u001b[0m\n\u001b[1;32m      2\u001b[0m \u001b[0ma\u001b[0m\u001b[0;34m=\u001b[0m\u001b[0;34m[\u001b[0m\u001b[0;36m1\u001b[0m\u001b[0;34m,\u001b[0m\u001b[0;36m2\u001b[0m\u001b[0;34m]\u001b[0m\u001b[0;34m\u001b[0m\u001b[0;34m\u001b[0m\u001b[0m\n\u001b[1;32m      3\u001b[0m \u001b[0mb\u001b[0m\u001b[0;34m=\u001b[0m\u001b[0;34m[\u001b[0m\u001b[0;36m3\u001b[0m\u001b[0;34m,\u001b[0m\u001b[0;36m4\u001b[0m\u001b[0;34m]\u001b[0m\u001b[0;34m\u001b[0m\u001b[0;34m\u001b[0m\u001b[0m\n\u001b[0;32m----> 4\u001b[0;31m \u001b[0mc\u001b[0m\u001b[0;34m=\u001b[0m\u001b[0ma\u001b[0m\u001b[0;34m*\u001b[0m\u001b[0mb\u001b[0m\u001b[0;34m\u001b[0m\u001b[0;34m\u001b[0m\u001b[0m\n\u001b[0m\u001b[1;32m      5\u001b[0m \u001b[0mc\u001b[0m\u001b[0;34m\u001b[0m\u001b[0;34m\u001b[0m\u001b[0m\n",
            "\u001b[0;31mTypeError\u001b[0m: can't multiply sequence by non-int of type 'list'"
          ]
        }
      ]
    },
    {
      "cell_type": "code",
      "metadata": {
        "id": "zw-SIy5z5Tp3"
      },
      "source": [
        "# multiplication operation can't be applied on list elements\r\n",
        "# hence, we go for numpy array."
      ],
      "execution_count": 2,
      "outputs": []
    },
    {
      "cell_type": "code",
      "metadata": {
        "colab": {
          "base_uri": "https://localhost:8080/"
        },
        "id": "YYYrT6nr5Yww",
        "outputId": "065e2e6a-df6d-4fc2-94d2-31ac84c0f64c"
      },
      "source": [
        "import numpy as np\r\n",
        "\r\n",
        "a=np.array([[1,2],[3,4]])\r\n",
        "b=np.array([[3,4],[5,6]])\r\n",
        "a*b"
      ],
      "execution_count": 3,
      "outputs": [
        {
          "output_type": "execute_result",
          "data": {
            "text/plain": [
              "array([[ 3,  8],\n",
              "       [15, 24]])"
            ]
          },
          "metadata": {
            "tags": []
          },
          "execution_count": 3
        }
      ]
    },
    {
      "cell_type": "code",
      "metadata": {
        "id": "YU5paV5M5c77"
      },
      "source": [
        "1.Numpy is a general-purpose array processing pkg.\r\n",
        "2.Array in Numpy is a table containing elements, all of the same type(usually numbers), indexed by a touple of non-negative integers.\r\n",
        "   a) Note:Type of array can be explicitly defined while creating the array.\r\n",
        "   b) The type of resultant array is deduced from the type of the elements in the sequences.\r\n",
        "3. In Numpy, no of dimensions of the array is known as rank of array."
      ],
      "execution_count": null,
      "outputs": []
    },
    {
      "cell_type": "markdown",
      "metadata": {
        "id": "9Al9uKn_5lgy"
      },
      "source": [
        "# **Array creation**"
      ]
    },
    {
      "cell_type": "code",
      "metadata": {
        "colab": {
          "base_uri": "https://localhost:8080/"
        },
        "id": "NBAdve8J5iiJ",
        "outputId": "04ea0f7c-b131-4111-a22e-f17ce6d8a66e"
      },
      "source": [
        "#from list\r\n",
        "#array with rank1 \r\n",
        "a=np.array([1,2,3,4])\r\n",
        "print(a,'\\n')\r\n",
        "\r\n",
        "#array with rank2 \r\n",
        "b=np.array([[1,2,3],[4,5,6],[7,8,9]])\r\n",
        "print(b)"
      ],
      "execution_count": 4,
      "outputs": [
        {
          "output_type": "stream",
          "text": [
            "[1 2 3 4] \n",
            "\n",
            "[[1 2 3]\n",
            " [4 5 6]\n",
            " [7 8 9]]\n"
          ],
          "name": "stdout"
        }
      ]
    },
    {
      "cell_type": "code",
      "metadata": {
        "colab": {
          "base_uri": "https://localhost:8080/"
        },
        "id": "vJL6ikyE5qqA",
        "outputId": "b10c879e-6a59-427e-e515-e6ed74118813"
      },
      "source": [
        "#matrix\r\n",
        "m=np.matrix('1 2 3;4 5 6;7 8 9')\r\n",
        "m"
      ],
      "execution_count": 6,
      "outputs": [
        {
          "output_type": "execute_result",
          "data": {
            "text/plain": [
              "matrix([[1, 2, 3],\n",
              "        [4, 5, 6],\n",
              "        [7, 8, 9]])"
            ]
          },
          "metadata": {
            "tags": []
          },
          "execution_count": 6
        }
      ]
    },
    {
      "cell_type": "code",
      "metadata": {
        "colab": {
          "base_uri": "https://localhost:8080/"
        },
        "id": "W5owPfcL5tfV",
        "outputId": "36df86c0-f330-4241-b7c7-28e1685c7469"
      },
      "source": [
        "#zeros, ones, eye\r\n",
        "print(np.zeros((3,4)),'\\n\\n')\r\n",
        "print(np.ones((4,3)),'\\n\\n')\r\n",
        "print(np.eye((4)))"
      ],
      "execution_count": 7,
      "outputs": [
        {
          "output_type": "stream",
          "text": [
            "[[0. 0. 0. 0.]\n",
            " [0. 0. 0. 0.]\n",
            " [0. 0. 0. 0.]] \n",
            "\n",
            "\n",
            "[[1. 1. 1.]\n",
            " [1. 1. 1.]\n",
            " [1. 1. 1.]\n",
            " [1. 1. 1.]] \n",
            "\n",
            "\n",
            "[[1. 0. 0. 0.]\n",
            " [0. 1. 0. 0.]\n",
            " [0. 0. 1. 0.]\n",
            " [0. 0. 0. 1.]]\n"
          ],
          "name": "stdout"
        }
      ]
    },
    {
      "cell_type": "code",
      "metadata": {
        "colab": {
          "base_uri": "https://localhost:8080/"
        },
        "id": "kC-w3jEl5xZT",
        "outputId": "12f93fd9-d9e3-43a8-c223-3824134861cb"
      },
      "source": [
        "####################################################   1-d array\r\n",
        "#arange(start_value,end_value,step_size)\r\n",
        "#default s_value=0, step_size=1\r\n",
        "\r\n",
        "a=np.arange(7)\r\n",
        "b=np.arange(0,6,3)\r\n",
        "c=np.arange(1,7,0.5)\r\n",
        "print(\"with default step size: \",a)\r\n",
        "print(\"with step size 3: \",b)\r\n",
        "print(\"with step size 0.5: \",c)"
      ],
      "execution_count": 8,
      "outputs": [
        {
          "output_type": "stream",
          "text": [
            "with default step size:  [0 1 2 3 4 5 6]\n",
            "with step size 3:  [0 3]\n",
            "with step size 0.5:  [1.  1.5 2.  2.5 3.  3.5 4.  4.5 5.  5.5 6.  6.5]\n"
          ],
          "name": "stdout"
        }
      ]
    },
    {
      "cell_type": "code",
      "metadata": {
        "colab": {
          "base_uri": "https://localhost:8080/"
        },
        "id": "HLs8sCbj500c",
        "outputId": "3084d54f-f167-4515-ee21-075c0c9c47f2"
      },
      "source": [
        "######################################################   1-d array\r\n",
        "#linspace(s_value,e_value,no of elements)   \r\n",
        "#it creates arrays with specific no of elements, which are equally spaced b/w begining and end value.\r\n",
        "e=np.linspace(2,8,5)\r\n",
        "e"
      ],
      "execution_count": 9,
      "outputs": [
        {
          "output_type": "execute_result",
          "data": {
            "text/plain": [
              "array([2. , 3.5, 5. , 6.5, 8. ])"
            ]
          },
          "metadata": {
            "tags": []
          },
          "execution_count": 9
        }
      ]
    },
    {
      "cell_type": "code",
      "metadata": {
        "colab": {
          "base_uri": "https://localhost:8080/"
        },
        "id": "4Moiz2vT523t",
        "outputId": "d6ed1a1b-bf88-41d7-f116-10c644bb22d5"
      },
      "source": [
        "######################################################    1-d array\r\n",
        "#randint(s_value,e_value,no of elements)\r\n",
        "\r\n",
        "from numpy.random import randint \r\n",
        "\r\n",
        "#by default no of elements is 1\r\n",
        "\r\n",
        "g=randint(45,90)\r\n",
        "print(g)\r\n",
        "\r\n",
        "f=randint(2,8,5)\r\n",
        "print(f)\r\n",
        "\r\n",
        "h=randint(1,100,10)\r\n",
        "print(h)\r\n",
        "\r\n",
        "i=randint(1,100,(10,2))\r\n",
        "print(i)"
      ],
      "execution_count": 12,
      "outputs": [
        {
          "output_type": "stream",
          "text": [
            "69\n",
            "[3 7 5 5 2]\n",
            "[29  7 35 86 16 37 98 64 56 39]\n",
            "[[32 10]\n",
            " [68 21]\n",
            " [47 79]\n",
            " [80 82]\n",
            " [80 22]\n",
            " [18 77]\n",
            " [16 37]\n",
            " [72 28]\n",
            " [71 85]\n",
            " [10 87]]\n"
          ],
          "name": "stdout"
        }
      ]
    },
    {
      "cell_type": "code",
      "metadata": {
        "colab": {
          "base_uri": "https://localhost:8080/"
        },
        "id": "yWUGugXa56xI",
        "outputId": "a83e3f6d-e10b-43fc-faf9-e9bb32a2d391"
      },
      "source": [
        "from numpy import random\r\n",
        "random.seed(34)\r\n",
        "\r\n",
        "x=random.rand(5)\r\n",
        "y=random.rand(2,3)\r\n",
        "z=random.rand(3,4,2)\r\n",
        "print(\"randomly constructing 1d array with 5 elements: \",x)\r\n",
        "print('randomly const 2d array with 2 rows nd 3 columns: ',y)\r\n",
        "print('randomly constructing 3d array: with dimensions(3,4,2): ',z)"
      ],
      "execution_count": 13,
      "outputs": [
        {
          "output_type": "stream",
          "text": [
            "randomly constructing 1d array with 5 elements:  [0.03856168 0.78010046 0.09270376 0.63289269 0.01389085]\n",
            "randomly const 2d array with 2 rows nd 3 columns:  [[0.93615854 0.42657438 0.25308645]\n",
            " [0.18996531 0.41482463 0.01342061]]\n",
            "randomly constructing 3d array: with dimensions(3,4,2):  [[[0.64847278 0.86936875]\n",
            "  [0.6090357  0.80799282]\n",
            "  [0.82651133 0.27168333]\n",
            "  [0.83647644 0.28254136]]\n",
            "\n",
            " [[0.1383086  0.71472027]\n",
            "  [0.47253661 0.55658848]\n",
            "  [0.38557557 0.94114666]\n",
            "  [0.08119068 0.91726748]]\n",
            "\n",
            " [[0.15693443 0.44414749]\n",
            "  [0.21210604 0.17469316]\n",
            "  [0.51479805 0.89289754]\n",
            "  [0.92368107 0.83597855]]]\n"
          ],
          "name": "stdout"
        }
      ]
    },
    {
      "cell_type": "code",
      "metadata": {
        "colab": {
          "base_uri": "https://localhost:8080/"
        },
        "id": "7BOWAJks635q",
        "outputId": "c0bacab5-ab8b-4298-f08f-49e220da32c1"
      },
      "source": [
        "print(random.randn(5,4))"
      ],
      "execution_count": 14,
      "outputs": [
        {
          "output_type": "stream",
          "text": [
            "[[ 1.33158302e+00 -1.42178953e-03 -2.11040542e+00 -5.50342147e-01]\n",
            " [-4.67710972e-01 -7.36519892e-01  9.97918611e-01  1.34537166e+00]\n",
            " [ 6.59756431e-01 -6.04271751e-01 -8.26122514e-01  2.37487752e-02]\n",
            " [ 6.93246142e-02 -4.88186798e-01 -4.41485591e-01 -5.97696337e-01]\n",
            " [ 8.11138348e-02 -2.42686539e-01 -3.50788166e-01  4.14090694e-01]]\n"
          ],
          "name": "stdout"
        }
      ]
    },
    {
      "cell_type": "code",
      "metadata": {
        "colab": {
          "base_uri": "https://localhost:8080/"
        },
        "id": "1iZcy32j7JdP",
        "outputId": "3690bde3-0bef-4412-add6-99cf5adf71c4"
      },
      "source": [
        "print(random.normal(-1.5,1.5,(2,8)))"
      ],
      "execution_count": 15,
      "outputs": [
        {
          "output_type": "stream",
          "text": [
            "[[ 0.10558987 -0.83982189 -1.82365849 -4.27622895 -0.60728823 -0.90194425\n",
            "  -1.23603108 -0.61459603]\n",
            " [-2.03145479 -4.56051094 -0.91916251 -3.14525797 -1.13028438 -0.19453042\n",
            "  -1.50951612 -3.8115425 ]]\n"
          ],
          "name": "stdout"
        }
      ]
    },
    {
      "cell_type": "code",
      "metadata": {
        "colab": {
          "base_uri": "https://localhost:8080/"
        },
        "id": "_L6zcig67Poa",
        "outputId": "1887408c-0965-4c17-dbf7-5ae51e97c50c"
      },
      "source": [
        "print(random.uniform(-1.5,1.5,10))\r\n",
        "print(random.uniform(-1.5,1.5,(5,5)))"
      ],
      "execution_count": 17,
      "outputs": [
        {
          "output_type": "stream",
          "text": [
            "[ 1.20924259e+00  4.21680040e-01 -1.29170257e+00 -9.48457224e-04\n",
            "  7.95254380e-01  9.20300445e-01 -5.62868634e-02  1.15192241e+00\n",
            "  1.48658302e+00  1.30715619e+00]\n",
            "[[-0.25864853  1.34955687 -0.51264657  0.45665107 -0.15350761]\n",
            " [ 0.51292792  0.20115869 -1.41206539  1.37422665 -1.2872745 ]\n",
            " [-0.5335849  -1.48859847 -0.99308672 -1.16016607 -1.2756056 ]\n",
            " [-1.2766869  -0.09194826 -0.88204063 -0.71951576 -1.49038966]\n",
            " [-1.09880515 -0.96153138 -1.14646383  1.25140917  0.69650818]]\n"
          ],
          "name": "stdout"
        }
      ]
    },
    {
      "cell_type": "code",
      "metadata": {
        "id": "EX7D2_J47ZLw"
      },
      "source": [
        ""
      ],
      "execution_count": null,
      "outputs": []
    }
  ]
}