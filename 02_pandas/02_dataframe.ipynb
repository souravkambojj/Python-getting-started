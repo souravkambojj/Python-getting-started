{
  "nbformat": 4,
  "nbformat_minor": 0,
  "metadata": {
    "colab": {
      "name": "02_dataframe.ipynb",
      "provenance": [],
      "collapsed_sections": []
    },
    "kernelspec": {
      "name": "python3",
      "display_name": "Python 3"
    }
  },
  
  
  
    {
      "cell_type": "markdown",
      "metadata": {
        "id": "kuetaMZ4B_gX"
      },
      "source": [
        "### **Data Format1 (2d-array)**"
      ]
    },

 {
      "cell_type": "code",
      "metadata": {
        "id": "0HcHHuRNBVtJ"
      },
      "source": [
        "#pd.DataFrame(data=None, index=None, columns=None, dtype=None, copy=False)\r\n",
        "#pd.DataFrame(data,      row_index,  col_index,    dtype)"
      ],
      "execution_count": 98,
      "outputs": []
 },

    {
      "cell_type": "code",
      "metadata": {
        "colab": {
          "base_uri": "https://localhost:8080/",
          "height": 173
        },
        "id": "QT6JX6rABb0e",
        "outputId": "912f8d9d-e011-45c3-df10-54a631915bd8"
      },
      "source": [
        "from numpy.random import rand as rd\r\n",
        "df2=pd.DataFrame(rd(4,6),index=['a','b','c','d'],columns=['x','y','z','p','q','r'])\r\n",
        "df2"
      ],
      "execution_count": 99,
      "outputs": [
        {
          "output_type": "execute_result",
          "data": {
            "text/html": [
              "<div>\n",
              "<style scoped>\n",
              "    .dataframe tbody tr th:only-of-type {\n",
              "        vertical-align: middle;\n",
              "    }\n",
              "\n",
              "    .dataframe tbody tr th {\n",
              "        vertical-align: top;\n",
              "    }\n",
              "\n",
              "    .dataframe thead th {\n",
              "        text-align: right;\n",
              "    }\n",
              "</style>\n",
              "<table border=\"1\" class=\"dataframe\">\n",
              "  <thead>\n",
              "    <tr style=\"text-align: right;\">\n",
              "      <th></th>\n",
              "      <th>x</th>\n",
              "      <th>y</th>\n",
              "      <th>z</th>\n",
              "      <th>p</th>\n",
              "      <th>q</th>\n",
              "      <th>r</th>\n",
              "    </tr>\n",
              "  </thead>\n",
              "  <tbody>\n",
              "    <tr>\n",
              "      <th>a</th>\n",
              "      <td>0.550446</td>\n",
              "      <td>0.234806</td>\n",
              "      <td>0.142667</td>\n",
              "      <td>0.601602</td>\n",
              "      <td>0.578186</td>\n",
              "      <td>0.005272</td>\n",
              "    </tr>\n",
              "    <tr>\n",
              "      <th>b</th>\n",
              "      <td>0.387763</td>\n",
              "      <td>0.118439</td>\n",
              "      <td>0.706038</td>\n",
              "      <td>0.772970</td>\n",
              "      <td>0.418581</td>\n",
              "      <td>0.648881</td>\n",
              "    </tr>\n",
              "    <tr>\n",
              "      <th>c</th>\n",
              "      <td>0.900637</td>\n",
              "      <td>0.803957</td>\n",
              "      <td>0.827409</td>\n",
              "      <td>0.496663</td>\n",
              "      <td>0.411496</td>\n",
              "      <td>0.556670</td>\n",
              "    </tr>\n",
              "    <tr>\n",
              "      <th>d</th>\n",
              "      <td>0.617422</td>\n",
              "      <td>0.917753</td>\n",
              "      <td>0.623345</td>\n",
              "      <td>0.321008</td>\n",
              "      <td>0.062043</td>\n",
              "      <td>0.558233</td>\n",
              "    </tr>\n",
              "  </tbody>\n",
              "</table>\n",
              "</div>"
            ],
            "text/plain": [
              "          x         y         z         p         q         r\n",
              "a  0.550446  0.234806  0.142667  0.601602  0.578186  0.005272\n",
              "b  0.387763  0.118439  0.706038  0.772970  0.418581  0.648881\n",
              "c  0.900637  0.803957  0.827409  0.496663  0.411496  0.556670\n",
              "d  0.617422  0.917753  0.623345  0.321008  0.062043  0.558233"
            ]
          },
          "metadata": {
            "tags": []
          },
          "execution_count": 99
        }
      ]
    },
   




    
    
    {
      "cell_type": "code",
      "metadata": {
        "colab": {
          "base_uri": "https://localhost:8080/",
          "height": 173
        },
        "id": "e9tbJvsJBRvT",
        "outputId": "243c5b75-c2f6-453b-cde3-d98aae00ae30"
      },
      "source": [
        "import numpy as np\r\n",
        "import pandas as pd\r\n",
        "y={'a':[1,2,3,4],'b':[3,4,5,6],'c':[4,8,5,6],'d':[9,7,5,2]}\r\n",
        "df1 = pd.DataFrame(y,index=['one','two','three','four'])\r\n",
        "df1"
      ],
      "execution_count": 97,
      "outputs": [
        {
          "output_type": "execute_result",
          "data": {
            "text/html": [
              "<div>\n",
              "<style scoped>\n",
              "    .dataframe tbody tr th:only-of-type {\n",
              "        vertical-align: middle;\n",
              "    }\n",
              "\n",
              "    .dataframe tbody tr th {\n",
              "        vertical-align: top;\n",
              "    }\n",
              "\n",
              "    .dataframe thead th {\n",
              "        text-align: right;\n",
              "    }\n",
              "</style>\n",
              "<table border=\"1\" class=\"dataframe\">\n",
              "  <thead>\n",
              "    <tr style=\"text-align: right;\">\n",
              "      <th></th>\n",
              "      <th>a</th>\n",
              "      <th>b</th>\n",
              "      <th>c</th>\n",
              "      <th>d</th>\n",
              "    </tr>\n",
              "  </thead>\n",
              "  <tbody>\n",
              "    <tr>\n",
              "      <th>one</th>\n",
              "      <td>1</td>\n",
              "      <td>3</td>\n",
              "      <td>4</td>\n",
              "      <td>9</td>\n",
              "    </tr>\n",
              "    <tr>\n",
              "      <th>two</th>\n",
              "      <td>2</td>\n",
              "      <td>4</td>\n",
              "      <td>8</td>\n",
              "      <td>7</td>\n",
              "    </tr>\n",
              "    <tr>\n",
              "      <th>three</th>\n",
              "      <td>3</td>\n",
              "      <td>5</td>\n",
              "      <td>5</td>\n",
              "      <td>5</td>\n",
              "    </tr>\n",
              "    <tr>\n",
              "      <th>four</th>\n",
              "      <td>4</td>\n",
              "      <td>6</td>\n",
              "      <td>6</td>\n",
              "      <td>2</td>\n",
              "    </tr>\n",
              "  </tbody>\n",
              "</table>\n",
              "</div>"
            ],
            "text/plain": [
              "       a  b  c  d\n",
              "one    1  3  4  9\n",
              "two    2  4  8  7\n",
              "three  3  5  5  5\n",
              "four   4  6  6  2"
            ]
          },
          "metadata": {
            "tags": []
          },
          "execution_count": 97
        }
      ]
    },
    
    
    
    {
      "cell_type": "markdown",
      "metadata": {
        "id": "CyguPDEsCNcm"
      },
      "source": [
        "### **Data Format3 (List of Dictionaries)**"
      ]
    },
    {
      "cell_type": "code",
      "metadata": {
        "id": "aXQrJEKpBb9G"
      },
      "source": [
        "data = [\r\n",
        "        {'_index':'cv',\r\n",
        "         '_type':'resume',\r\n",
        "         '_id':'Gngsgh8hy45',\r\n",
        "         '_score':0.1234,\r\n",
        "         '_source':{'timestamp':12345,'duplicateflag':'1','email':['sourav@gmail.com']}\r\n",
        "        },\r\n",
        "\r\n",
        "        {'_index':'jd',\r\n",
        "         '_type':'jobdescription',\r\n",
        "         '_id':'Abchind8hy45',\r\n",
        "         '_score':0.23234,\r\n",
        "         '_source':{'timestamp':45234,'duplicateflag':'0','email':['ril.com']}\r\n",
        "        },\r\n",
        "\r\n",
        "        {'_index':'cv',\r\n",
        "         '_type':'resume',\r\n",
        "         '_id':'Ydffgsgh8hy45',\r\n",
        "         '_score':0.5234,\r\n",
        "         '_source':{'timestamp':34511,'duplicateflag':'1','email':['vivek@gmail.com']}\r\n",
        "        },\r\n",
        "\r\n",
        "]"
      ],
      "execution_count": 100,
      "outputs": []
    },
    {
      "cell_type": "code",
      "metadata": {
        "colab": {
          "base_uri": "https://localhost:8080/",
          "height": 142
        },
        "id": "kkjUe8QaBb_4",
        "outputId": "45f3e3a9-95e1-4ff2-952b-c4e3854e009e"
      },
      "source": [
        "df3 = pd.DataFrame(data)\r\n",
        "df3"
      ],
      "execution_count": 101,
      "outputs": [
        {
          "output_type": "execute_result",
          "data": {
            "text/html": [
              "<div>\n",
              "<style scoped>\n",
              "    .dataframe tbody tr th:only-of-type {\n",
              "        vertical-align: middle;\n",
              "    }\n",
              "\n",
              "    .dataframe tbody tr th {\n",
              "        vertical-align: top;\n",
              "    }\n",
              "\n",
              "    .dataframe thead th {\n",
              "        text-align: right;\n",
              "    }\n",
              "</style>\n",
              "<table border=\"1\" class=\"dataframe\">\n",
              "  <thead>\n",
              "    <tr style=\"text-align: right;\">\n",
              "      <th></th>\n",
              "      <th>_index</th>\n",
              "      <th>_type</th>\n",
              "      <th>_id</th>\n",
              "      <th>_score</th>\n",
              "      <th>_source</th>\n",
              "    </tr>\n",
              "  </thead>\n",
              "  <tbody>\n",
              "    <tr>\n",
              "      <th>0</th>\n",
              "      <td>cv</td>\n",
              "      <td>resume</td>\n",
              "      <td>Gngsgh8hy45</td>\n",
              "      <td>0.12340</td>\n",
              "      <td>{'timestamp': 12345, 'duplicateflag': '1', 'em...</td>\n",
              "    </tr>\n",
              "    <tr>\n",
              "      <th>1</th>\n",
              "      <td>jd</td>\n",
              "      <td>jobdescription</td>\n",
              "      <td>Abchind8hy45</td>\n",
              "      <td>0.23234</td>\n",
              "      <td>{'timestamp': 45234, 'duplicateflag': '0', 'em...</td>\n",
              "    </tr>\n",
              "    <tr>\n",
              "      <th>2</th>\n",
              "      <td>cv</td>\n",
              "      <td>resume</td>\n",
              "      <td>Ydffgsgh8hy45</td>\n",
              "      <td>0.52340</td>\n",
              "      <td>{'timestamp': 34511, 'duplicateflag': '1', 'em...</td>\n",
              "    </tr>\n",
              "  </tbody>\n",
              "</table>\n",
              "</div>"
            ],
            "text/plain": [
              "  _index  ...                                            _source\n",
              "0     cv  ...  {'timestamp': 12345, 'duplicateflag': '1', 'em...\n",
              "1     jd  ...  {'timestamp': 45234, 'duplicateflag': '0', 'em...\n",
              "2     cv  ...  {'timestamp': 34511, 'duplicateflag': '1', 'em...\n",
              "\n",
              "[3 rows x 5 columns]"
            ]
          },
          "metadata": {
            "tags": []
          },
          "execution_count": 101
        }
      ]
    },
    {
      "cell_type": "markdown",
      "metadata": {
        "id": "8WzzCO7OKFgc"
      },
      "source": [
        "### **Dealing with columns**"
      ]
    },
    {
      "cell_type": "code",
      "metadata": {
        "colab": {
          "base_uri": "https://localhost:8080/"
        },
        "id": "AaNXKXd-BcCl",
        "outputId": "d7eda644-77a4-47a7-8c9b-e9872ab7fc27"
      },
      "source": [
        "#single col\r\n",
        "df2['x']"
      ],
      "execution_count": 102,
      "outputs": [
        {
          "output_type": "execute_result",
          "data": {
            "text/plain": [
              "a    0.550446\n",
              "b    0.387763\n",
              "c    0.900637\n",
              "d    0.617422\n",
              "Name: x, dtype: float64"
            ]
          },
          "metadata": {
            "tags": []
          },
          "execution_count": 102
        }
      ]
    },
    {
      "cell_type": "code",
      "metadata": {
        "colab": {
          "base_uri": "https://localhost:8080/",
          "height": 173
        },
        "id": "A5yXZMWnBcFD",
        "outputId": "2434a663-7b09-4691-a3bb-f8ac50c5fb12"
      },
      "source": [
        "#multiple cols\r\n",
        "df2[['x','z','r']]"
      ],
      "execution_count": 103,
      "outputs": [
        {
          "output_type": "execute_result",
          "data": {
            "text/html": [
              "<div>\n",
              "<style scoped>\n",
              "    .dataframe tbody tr th:only-of-type {\n",
              "        vertical-align: middle;\n",
              "    }\n",
              "\n",
              "    .dataframe tbody tr th {\n",
              "        vertical-align: top;\n",
              "    }\n",
              "\n",
              "    .dataframe thead th {\n",
              "        text-align: right;\n",
              "    }\n",
              "</style>\n",
              "<table border=\"1\" class=\"dataframe\">\n",
              "  <thead>\n",
              "    <tr style=\"text-align: right;\">\n",
              "      <th></th>\n",
              "      <th>x</th>\n",
              "      <th>z</th>\n",
              "      <th>r</th>\n",
              "    </tr>\n",
              "  </thead>\n",
              "  <tbody>\n",
              "    <tr>\n",
              "      <th>a</th>\n",
              "      <td>0.550446</td>\n",
              "      <td>0.142667</td>\n",
              "      <td>0.005272</td>\n",
              "    </tr>\n",
              "    <tr>\n",
              "      <th>b</th>\n",
              "      <td>0.387763</td>\n",
              "      <td>0.706038</td>\n",
              "      <td>0.648881</td>\n",
              "    </tr>\n",
              "    <tr>\n",
              "      <th>c</th>\n",
              "      <td>0.900637</td>\n",
              "      <td>0.827409</td>\n",
              "      <td>0.556670</td>\n",
              "    </tr>\n",
              "    <tr>\n",
              "      <th>d</th>\n",
              "      <td>0.617422</td>\n",
              "      <td>0.623345</td>\n",
              "      <td>0.558233</td>\n",
              "    </tr>\n",
              "  </tbody>\n",
              "</table>\n",
              "</div>"
            ],
            "text/plain": [
              "          x         z         r\n",
              "a  0.550446  0.142667  0.005272\n",
              "b  0.387763  0.706038  0.648881\n",
              "c  0.900637  0.827409  0.556670\n",
              "d  0.617422  0.623345  0.558233"
            ]
          },
          "metadata": {
            "tags": []
          },
          "execution_count": 103
        }
      ]
    },
    {
      "cell_type": "markdown",
      "metadata": {
        "id": "dqeubhqtKXuH"
      },
      "source": [
        "### **Adding a new col**"
      ]
    },
    {
      "cell_type": "code",
      "metadata": {
        "colab": {
          "base_uri": "https://localhost:8080/",
          "height": 173
        },
        "id": "6BdfKEkxBcIl",
        "outputId": "8034041d-21d6-4782-9e9a-b3cee8c7eb73"
      },
      "source": [
        "df2['n']=df2['x'] + df2['z']\r\n",
        "df2"
      ],
      "execution_count": 104,
      "outputs": [
        {
          "output_type": "execute_result",
          "data": {
            "text/html": [
              "<div>\n",
              "<style scoped>\n",
              "    .dataframe tbody tr th:only-of-type {\n",
              "        vertical-align: middle;\n",
              "    }\n",
              "\n",
              "    .dataframe tbody tr th {\n",
              "        vertical-align: top;\n",
              "    }\n",
              "\n",
              "    .dataframe thead th {\n",
              "        text-align: right;\n",
              "    }\n",
              "</style>\n",
              "<table border=\"1\" class=\"dataframe\">\n",
              "  <thead>\n",
              "    <tr style=\"text-align: right;\">\n",
              "      <th></th>\n",
              "      <th>x</th>\n",
              "      <th>y</th>\n",
              "      <th>z</th>\n",
              "      <th>p</th>\n",
              "      <th>q</th>\n",
              "      <th>r</th>\n",
              "      <th>n</th>\n",
              "    </tr>\n",
              "  </thead>\n",
              "  <tbody>\n",
              "    <tr>\n",
              "      <th>a</th>\n",
              "      <td>0.550446</td>\n",
              "      <td>0.234806</td>\n",
              "      <td>0.142667</td>\n",
              "      <td>0.601602</td>\n",
              "      <td>0.578186</td>\n",
              "      <td>0.005272</td>\n",
              "      <td>0.693113</td>\n",
              "    </tr>\n",
              "    <tr>\n",
              "      <th>b</th>\n",
              "      <td>0.387763</td>\n",
              "      <td>0.118439</td>\n",
              "      <td>0.706038</td>\n",
              "      <td>0.772970</td>\n",
              "      <td>0.418581</td>\n",
              "      <td>0.648881</td>\n",
              "      <td>1.093800</td>\n",
              "    </tr>\n",
              "    <tr>\n",
              "      <th>c</th>\n",
              "      <td>0.900637</td>\n",
              "      <td>0.803957</td>\n",
              "      <td>0.827409</td>\n",
              "      <td>0.496663</td>\n",
              "      <td>0.411496</td>\n",
              "      <td>0.556670</td>\n",
              "      <td>1.728046</td>\n",
              "    </tr>\n",
              "    <tr>\n",
              "      <th>d</th>\n",
              "      <td>0.617422</td>\n",
              "      <td>0.917753</td>\n",
              "      <td>0.623345</td>\n",
              "      <td>0.321008</td>\n",
              "      <td>0.062043</td>\n",
              "      <td>0.558233</td>\n",
              "      <td>1.240767</td>\n",
              "    </tr>\n",
              "  </tbody>\n",
              "</table>\n",
              "</div>"
            ],
            "text/plain": [
              "          x         y         z         p         q         r         n\n",
              "a  0.550446  0.234806  0.142667  0.601602  0.578186  0.005272  0.693113\n",
              "b  0.387763  0.118439  0.706038  0.772970  0.418581  0.648881  1.093800\n",
              "c  0.900637  0.803957  0.827409  0.496663  0.411496  0.556670  1.728046\n",
              "d  0.617422  0.917753  0.623345  0.321008  0.062043  0.558233  1.240767"
            ]
          },
          "metadata": {
            "tags": []
          },
          "execution_count": 104
        }
      ]
    },
    {
      "cell_type": "markdown",
      "metadata": {
        "id": "kVwLQil4KhsE"
      },
      "source": [
        "### **Dropping a col**"
      ]
    },
    {
      "cell_type": "code",
      "metadata": {
        "colab": {
          "base_uri": "https://localhost:8080/",
          "height": 173
        },
        "id": "WtNevP1yKatd",
        "outputId": "6b0def47-6f77-4327-8d56-a2de2556cf64"
      },
      "source": [
        "#axis=0 represents row\r\n",
        "#axis=1 represents col\r\n",
        "\r\n",
        "df2.drop('q',axis=1)\r\n",
        "df2"
      ],
      "execution_count": 105,
      "outputs": [
        {
          "output_type": "execute_result",
          "data": {
            "text/html": [
              "<div>\n",
              "<style scoped>\n",
              "    .dataframe tbody tr th:only-of-type {\n",
              "        vertical-align: middle;\n",
              "    }\n",
              "\n",
              "    .dataframe tbody tr th {\n",
              "        vertical-align: top;\n",
              "    }\n",
              "\n",
              "    .dataframe thead th {\n",
              "        text-align: right;\n",
              "    }\n",
              "</style>\n",
              "<table border=\"1\" class=\"dataframe\">\n",
              "  <thead>\n",
              "    <tr style=\"text-align: right;\">\n",
              "      <th></th>\n",
              "      <th>x</th>\n",
              "      <th>y</th>\n",
              "      <th>z</th>\n",
              "      <th>p</th>\n",
              "      <th>q</th>\n",
              "      <th>r</th>\n",
              "      <th>n</th>\n",
              "    </tr>\n",
              "  </thead>\n",
              "  <tbody>\n",
              "    <tr>\n",
              "      <th>a</th>\n",
              "      <td>0.550446</td>\n",
              "      <td>0.234806</td>\n",
              "      <td>0.142667</td>\n",
              "      <td>0.601602</td>\n",
              "      <td>0.578186</td>\n",
              "      <td>0.005272</td>\n",
              "      <td>0.693113</td>\n",
              "    </tr>\n",
              "    <tr>\n",
              "      <th>b</th>\n",
              "      <td>0.387763</td>\n",
              "      <td>0.118439</td>\n",
              "      <td>0.706038</td>\n",
              "      <td>0.772970</td>\n",
              "      <td>0.418581</td>\n",
              "      <td>0.648881</td>\n",
              "      <td>1.093800</td>\n",
              "    </tr>\n",
              "    <tr>\n",
              "      <th>c</th>\n",
              "      <td>0.900637</td>\n",
              "      <td>0.803957</td>\n",
              "      <td>0.827409</td>\n",
              "      <td>0.496663</td>\n",
              "      <td>0.411496</td>\n",
              "      <td>0.556670</td>\n",
              "      <td>1.728046</td>\n",
              "    </tr>\n",
              "    <tr>\n",
              "      <th>d</th>\n",
              "      <td>0.617422</td>\n",
              "      <td>0.917753</td>\n",
              "      <td>0.623345</td>\n",
              "      <td>0.321008</td>\n",
              "      <td>0.062043</td>\n",
              "      <td>0.558233</td>\n",
              "      <td>1.240767</td>\n",
              "    </tr>\n",
              "  </tbody>\n",
              "</table>\n",
              "</div>"
            ],
            "text/plain": [
              "          x         y         z         p         q         r         n\n",
              "a  0.550446  0.234806  0.142667  0.601602  0.578186  0.005272  0.693113\n",
              "b  0.387763  0.118439  0.706038  0.772970  0.418581  0.648881  1.093800\n",
              "c  0.900637  0.803957  0.827409  0.496663  0.411496  0.556670  1.728046\n",
              "d  0.617422  0.917753  0.623345  0.321008  0.062043  0.558233  1.240767"
            ]
          },
          "metadata": {
            "tags": []
          },
          "execution_count": 105
        }
      ]
    },
    {
      "cell_type": "code",
      "metadata": {
        "colab": {
          "base_uri": "https://localhost:8080/",
          "height": 173
        },
        "id": "Xqesx40xKawG",
        "outputId": "ff2432d0-900b-420c-d254-5f297de6f9a7"
      },
      "source": [
        "#but its gonna remove the col temporarly\r\n",
        "#to delete it permanently put inplace =True\r\n",
        "\r\n",
        "df2.drop('q',axis=1,inplace=True)\r\n",
        "df2"
      ],
      "execution_count": 106,
      "outputs": [
        {
          "output_type": "execute_result",
          "data": {
            "text/html": [
              "<div>\n",
              "<style scoped>\n",
              "    .dataframe tbody tr th:only-of-type {\n",
              "        vertical-align: middle;\n",
              "    }\n",
              "\n",
              "    .dataframe tbody tr th {\n",
              "        vertical-align: top;\n",
              "    }\n",
              "\n",
              "    .dataframe thead th {\n",
              "        text-align: right;\n",
              "    }\n",
              "</style>\n",
              "<table border=\"1\" class=\"dataframe\">\n",
              "  <thead>\n",
              "    <tr style=\"text-align: right;\">\n",
              "      <th></th>\n",
              "      <th>x</th>\n",
              "      <th>y</th>\n",
              "      <th>z</th>\n",
              "      <th>p</th>\n",
              "      <th>r</th>\n",
              "      <th>n</th>\n",
              "    </tr>\n",
              "  </thead>\n",
              "  <tbody>\n",
              "    <tr>\n",
              "      <th>a</th>\n",
              "      <td>0.550446</td>\n",
              "      <td>0.234806</td>\n",
              "      <td>0.142667</td>\n",
              "      <td>0.601602</td>\n",
              "      <td>0.005272</td>\n",
              "      <td>0.693113</td>\n",
              "    </tr>\n",
              "    <tr>\n",
              "      <th>b</th>\n",
              "      <td>0.387763</td>\n",
              "      <td>0.118439</td>\n",
              "      <td>0.706038</td>\n",
              "      <td>0.772970</td>\n",
              "      <td>0.648881</td>\n",
              "      <td>1.093800</td>\n",
              "    </tr>\n",
              "    <tr>\n",
              "      <th>c</th>\n",
              "      <td>0.900637</td>\n",
              "      <td>0.803957</td>\n",
              "      <td>0.827409</td>\n",
              "      <td>0.496663</td>\n",
              "      <td>0.556670</td>\n",
              "      <td>1.728046</td>\n",
              "    </tr>\n",
              "    <tr>\n",
              "      <th>d</th>\n",
              "      <td>0.617422</td>\n",
              "      <td>0.917753</td>\n",
              "      <td>0.623345</td>\n",
              "      <td>0.321008</td>\n",
              "      <td>0.558233</td>\n",
              "      <td>1.240767</td>\n",
              "    </tr>\n",
              "  </tbody>\n",
              "</table>\n",
              "</div>"
            ],
            "text/plain": [
              "          x         y         z         p         r         n\n",
              "a  0.550446  0.234806  0.142667  0.601602  0.005272  0.693113\n",
              "b  0.387763  0.118439  0.706038  0.772970  0.648881  1.093800\n",
              "c  0.900637  0.803957  0.827409  0.496663  0.556670  1.728046\n",
              "d  0.617422  0.917753  0.623345  0.321008  0.558233  1.240767"
            ]
          },
          "metadata": {
            "tags": []
          },
          "execution_count": 106
        }
      ]
    },
    {
      "cell_type": "markdown",
      "metadata": {
        "id": "VH10sgJeKyo0"
      },
      "source": [
        "### **Dealing with rows**"
      ]
    },
    {
      "cell_type": "code",
      "metadata": {
        "colab": {
          "base_uri": "https://localhost:8080/"
        },
        "id": "tnrcYnHIKayy",
        "outputId": "24e7155b-6f82-444f-e379-0ac4a8caf199"
      },
      "source": [
        "df2.loc['c']"
      ],
      "execution_count": 107,
      "outputs": [
        {
          "output_type": "execute_result",
          "data": {
            "text/plain": [
              "x    0.900637\n",
              "y    0.803957\n",
              "z    0.827409\n",
              "p    0.496663\n",
              "r    0.556670\n",
              "n    1.728046\n",
              "Name: c, dtype: float64"
            ]
          },
          "metadata": {
            "tags": []
          },
          "execution_count": 107
        }
      ]
    },
    {
      "cell_type": "code",
      "metadata": {
        "colab": {
          "base_uri": "https://localhost:8080/"
        },
        "id": "H2SN5kN4Ka1D",
        "outputId": "38442a66-ccd7-460e-8f0e-a73e339c6753"
      },
      "source": [
        "df2.iloc[2]"
      ],
      "execution_count": 108,
      "outputs": [
        {
          "output_type": "execute_result",
          "data": {
            "text/plain": [
              "x    0.900637\n",
              "y    0.803957\n",
              "z    0.827409\n",
              "p    0.496663\n",
              "r    0.556670\n",
              "n    1.728046\n",
              "Name: c, dtype: float64"
            ]
          },
          "metadata": {
            "tags": []
          },
          "execution_count": 108
        }
      ]
    },
    {
      "cell_type": "markdown",
      "metadata": {
        "id": "a4YDZ_KIK77J"
      },
      "source": [
        "### **Adding a new row**"
      ]
    },
    {
      "cell_type": "code",
      "metadata": {
        "colab": {
          "base_uri": "https://localhost:8080/",
          "height": 204
        },
        "id": "0nBUwpRuKa5d",
        "outputId": "b54569e6-2eca-44ae-eb2f-94bfb83b7123"
      },
      "source": [
        "df2.loc['e'] = df2.loc['a'] + df2.loc['b']\r\n",
        "df2"
      ],
      "execution_count": 109,
      "outputs": [
        {
          "output_type": "execute_result",
          "data": {
            "text/html": [
              "<div>\n",
              "<style scoped>\n",
              "    .dataframe tbody tr th:only-of-type {\n",
              "        vertical-align: middle;\n",
              "    }\n",
              "\n",
              "    .dataframe tbody tr th {\n",
              "        vertical-align: top;\n",
              "    }\n",
              "\n",
              "    .dataframe thead th {\n",
              "        text-align: right;\n",
              "    }\n",
              "</style>\n",
              "<table border=\"1\" class=\"dataframe\">\n",
              "  <thead>\n",
              "    <tr style=\"text-align: right;\">\n",
              "      <th></th>\n",
              "      <th>x</th>\n",
              "      <th>y</th>\n",
              "      <th>z</th>\n",
              "      <th>p</th>\n",
              "      <th>r</th>\n",
              "      <th>n</th>\n",
              "    </tr>\n",
              "  </thead>\n",
              "  <tbody>\n",
              "    <tr>\n",
              "      <th>a</th>\n",
              "      <td>0.550446</td>\n",
              "      <td>0.234806</td>\n",
              "      <td>0.142667</td>\n",
              "      <td>0.601602</td>\n",
              "      <td>0.005272</td>\n",
              "      <td>0.693113</td>\n",
              "    </tr>\n",
              "    <tr>\n",
              "      <th>b</th>\n",
              "      <td>0.387763</td>\n",
              "      <td>0.118439</td>\n",
              "      <td>0.706038</td>\n",
              "      <td>0.772970</td>\n",
              "      <td>0.648881</td>\n",
              "      <td>1.093800</td>\n",
              "    </tr>\n",
              "    <tr>\n",
              "      <th>c</th>\n",
              "      <td>0.900637</td>\n",
              "      <td>0.803957</td>\n",
              "      <td>0.827409</td>\n",
              "      <td>0.496663</td>\n",
              "      <td>0.556670</td>\n",
              "      <td>1.728046</td>\n",
              "    </tr>\n",
              "    <tr>\n",
              "      <th>d</th>\n",
              "      <td>0.617422</td>\n",
              "      <td>0.917753</td>\n",
              "      <td>0.623345</td>\n",
              "      <td>0.321008</td>\n",
              "      <td>0.558233</td>\n",
              "      <td>1.240767</td>\n",
              "    </tr>\n",
              "    <tr>\n",
              "      <th>e</th>\n",
              "      <td>0.938209</td>\n",
              "      <td>0.353245</td>\n",
              "      <td>0.848705</td>\n",
              "      <td>1.374572</td>\n",
              "      <td>0.654153</td>\n",
              "      <td>1.786914</td>\n",
              "    </tr>\n",
              "  </tbody>\n",
              "</table>\n",
              "</div>"
            ],
            "text/plain": [
              "          x         y         z         p         r         n\n",
              "a  0.550446  0.234806  0.142667  0.601602  0.005272  0.693113\n",
              "b  0.387763  0.118439  0.706038  0.772970  0.648881  1.093800\n",
              "c  0.900637  0.803957  0.827409  0.496663  0.556670  1.728046\n",
              "d  0.617422  0.917753  0.623345  0.321008  0.558233  1.240767\n",
              "e  0.938209  0.353245  0.848705  1.374572  0.654153  1.786914"
            ]
          },
          "metadata": {
            "tags": []
          },
          "execution_count": 109
        }
      ]
    },
    {
      "cell_type": "markdown",
      "metadata": {
        "id": "VhOyBJUtLDsy"
      },
      "source": [
        "### **Dropping a row**"
      ]
    },
    {
      "cell_type": "code",
      "metadata": {
        "colab": {
          "base_uri": "https://localhost:8080/",
          "height": 173
        },
        "id": "M5G8BoeJBcPz",
        "outputId": "41559a09-c829-4f5c-ac63-42192eab76ea"
      },
      "source": [
        "df2.drop('b',axis=0,inplace=True)\r\n",
        "df2"
      ],
      "execution_count": 110,
      "outputs": [
        {
          "output_type": "execute_result",
          "data": {
            "text/html": [
              "<div>\n",
              "<style scoped>\n",
              "    .dataframe tbody tr th:only-of-type {\n",
              "        vertical-align: middle;\n",
              "    }\n",
              "\n",
              "    .dataframe tbody tr th {\n",
              "        vertical-align: top;\n",
              "    }\n",
              "\n",
              "    .dataframe thead th {\n",
              "        text-align: right;\n",
              "    }\n",
              "</style>\n",
              "<table border=\"1\" class=\"dataframe\">\n",
              "  <thead>\n",
              "    <tr style=\"text-align: right;\">\n",
              "      <th></th>\n",
              "      <th>x</th>\n",
              "      <th>y</th>\n",
              "      <th>z</th>\n",
              "      <th>p</th>\n",
              "      <th>r</th>\n",
              "      <th>n</th>\n",
              "    </tr>\n",
              "  </thead>\n",
              "  <tbody>\n",
              "    <tr>\n",
              "      <th>a</th>\n",
              "      <td>0.550446</td>\n",
              "      <td>0.234806</td>\n",
              "      <td>0.142667</td>\n",
              "      <td>0.601602</td>\n",
              "      <td>0.005272</td>\n",
              "      <td>0.693113</td>\n",
              "    </tr>\n",
              "    <tr>\n",
              "      <th>c</th>\n",
              "      <td>0.900637</td>\n",
              "      <td>0.803957</td>\n",
              "      <td>0.827409</td>\n",
              "      <td>0.496663</td>\n",
              "      <td>0.556670</td>\n",
              "      <td>1.728046</td>\n",
              "    </tr>\n",
              "    <tr>\n",
              "      <th>d</th>\n",
              "      <td>0.617422</td>\n",
              "      <td>0.917753</td>\n",
              "      <td>0.623345</td>\n",
              "      <td>0.321008</td>\n",
              "      <td>0.558233</td>\n",
              "      <td>1.240767</td>\n",
              "    </tr>\n",
              "    <tr>\n",
              "      <th>e</th>\n",
              "      <td>0.938209</td>\n",
              "      <td>0.353245</td>\n",
              "      <td>0.848705</td>\n",
              "      <td>1.374572</td>\n",
              "      <td>0.654153</td>\n",
              "      <td>1.786914</td>\n",
              "    </tr>\n",
              "  </tbody>\n",
              "</table>\n",
              "</div>"
            ],
            "text/plain": [
              "          x         y         z         p         r         n\n",
              "a  0.550446  0.234806  0.142667  0.601602  0.005272  0.693113\n",
              "c  0.900637  0.803957  0.827409  0.496663  0.556670  1.728046\n",
              "d  0.617422  0.917753  0.623345  0.321008  0.558233  1.240767\n",
              "e  0.938209  0.353245  0.848705  1.374572  0.654153  1.786914"
            ]
          },
          "metadata": {
            "tags": []
          },
          "execution_count": 110
        }
      ]
    },
    {
      "cell_type": "markdown",
      "metadata": {
        "id": "ZqhlIunOLLsf"
      },
      "source": [
        "### **Row nd Col simultaneously**"
      ]
    },
    {
      "cell_type": "code",
      "metadata": {
        "colab": {
          "base_uri": "https://localhost:8080/"
        },
        "id": "cfkWaPEMLK2d",
        "outputId": "9c8b2d53-ca0b-407a-bd44-6a2f1aa2748e"
      },
      "source": [
        "df2.loc['a','y'] #single element"
      ],
      "execution_count": 111,
      "outputs": [
        {
          "output_type": "execute_result",
          "data": {
            "text/plain": [
              "0.2348060086221586"
            ]
          },
          "metadata": {
            "tags": []
          },
          "execution_count": 111
        }
      ]
    },
    {
      "cell_type": "code",
      "metadata": {
        "colab": {
          "base_uri": "https://localhost:8080/",
          "height": 142
        },
        "id": "34HAPMGvLK57",
        "outputId": "03c5308b-f615-45f0-e908-fa0b186d6216"
      },
      "source": [
        "df2.loc[['a','d','e'],['z','r','n']] #multiple elements"
      ],
      "execution_count": 112,
      "outputs": [
        {
          "output_type": "execute_result",
          "data": {
            "text/html": [
              "<div>\n",
              "<style scoped>\n",
              "    .dataframe tbody tr th:only-of-type {\n",
              "        vertical-align: middle;\n",
              "    }\n",
              "\n",
              "    .dataframe tbody tr th {\n",
              "        vertical-align: top;\n",
              "    }\n",
              "\n",
              "    .dataframe thead th {\n",
              "        text-align: right;\n",
              "    }\n",
              "</style>\n",
              "<table border=\"1\" class=\"dataframe\">\n",
              "  <thead>\n",
              "    <tr style=\"text-align: right;\">\n",
              "      <th></th>\n",
              "      <th>z</th>\n",
              "      <th>r</th>\n",
              "      <th>n</th>\n",
              "    </tr>\n",
              "  </thead>\n",
              "  <tbody>\n",
              "    <tr>\n",
              "      <th>a</th>\n",
              "      <td>0.142667</td>\n",
              "      <td>0.005272</td>\n",
              "      <td>0.693113</td>\n",
              "    </tr>\n",
              "    <tr>\n",
              "      <th>d</th>\n",
              "      <td>0.623345</td>\n",
              "      <td>0.558233</td>\n",
              "      <td>1.240767</td>\n",
              "    </tr>\n",
              "    <tr>\n",
              "      <th>e</th>\n",
              "      <td>0.848705</td>\n",
              "      <td>0.654153</td>\n",
              "      <td>1.786914</td>\n",
              "    </tr>\n",
              "  </tbody>\n",
              "</table>\n",
              "</div>"
            ],
            "text/plain": [
              "          z         r         n\n",
              "a  0.142667  0.005272  0.693113\n",
              "d  0.623345  0.558233  1.240767\n",
              "e  0.848705  0.654153  1.786914"
            ]
          },
          "metadata": {
            "tags": []
          },
          "execution_count": 112
        }
      ]
    },
    {
      "cell_type": "markdown",
      "metadata": {
        "id": "HhbLPZ6wLehI"
      },
      "source": [
        "### **Boolean DataFrame**"
      ]
    },
    {
      "cell_type": "code",
      "metadata": {
        "colab": {
          "base_uri": "https://localhost:8080/",
          "height": 173
        },
        "id": "NrjYHGykLLCo",
        "outputId": "6da292d0-3c90-4bf5-b94a-531621999855"
      },
      "source": [
        "df2[df2>0.6]"
      ],
      "execution_count": 113,
      "outputs": [
        {
          "output_type": "execute_result",
          "data": {
            "text/html": [
              "<div>\n",
              "<style scoped>\n",
              "    .dataframe tbody tr th:only-of-type {\n",
              "        vertical-align: middle;\n",
              "    }\n",
              "\n",
              "    .dataframe tbody tr th {\n",
              "        vertical-align: top;\n",
              "    }\n",
              "\n",
              "    .dataframe thead th {\n",
              "        text-align: right;\n",
              "    }\n",
              "</style>\n",
              "<table border=\"1\" class=\"dataframe\">\n",
              "  <thead>\n",
              "    <tr style=\"text-align: right;\">\n",
              "      <th></th>\n",
              "      <th>x</th>\n",
              "      <th>y</th>\n",
              "      <th>z</th>\n",
              "      <th>p</th>\n",
              "      <th>r</th>\n",
              "      <th>n</th>\n",
              "    </tr>\n",
              "  </thead>\n",
              "  <tbody>\n",
              "    <tr>\n",
              "      <th>a</th>\n",
              "      <td>NaN</td>\n",
              "      <td>NaN</td>\n",
              "      <td>NaN</td>\n",
              "      <td>0.601602</td>\n",
              "      <td>NaN</td>\n",
              "      <td>0.693113</td>\n",
              "    </tr>\n",
              "    <tr>\n",
              "      <th>c</th>\n",
              "      <td>0.900637</td>\n",
              "      <td>0.803957</td>\n",
              "      <td>0.827409</td>\n",
              "      <td>NaN</td>\n",
              "      <td>NaN</td>\n",
              "      <td>1.728046</td>\n",
              "    </tr>\n",
              "    <tr>\n",
              "      <th>d</th>\n",
              "      <td>0.617422</td>\n",
              "      <td>0.917753</td>\n",
              "      <td>0.623345</td>\n",
              "      <td>NaN</td>\n",
              "      <td>NaN</td>\n",
              "      <td>1.240767</td>\n",
              "    </tr>\n",
              "    <tr>\n",
              "      <th>e</th>\n",
              "      <td>0.938209</td>\n",
              "      <td>NaN</td>\n",
              "      <td>0.848705</td>\n",
              "      <td>1.374572</td>\n",
              "      <td>0.654153</td>\n",
              "      <td>1.786914</td>\n",
              "    </tr>\n",
              "  </tbody>\n",
              "</table>\n",
              "</div>"
            ],
            "text/plain": [
              "          x         y         z         p         r         n\n",
              "a       NaN       NaN       NaN  0.601602       NaN  0.693113\n",
              "c  0.900637  0.803957  0.827409       NaN       NaN  1.728046\n",
              "d  0.617422  0.917753  0.623345       NaN       NaN  1.240767\n",
              "e  0.938209       NaN  0.848705  1.374572  0.654153  1.786914"
            ]
          },
          "metadata": {
            "tags": []
          },
          "execution_count": 113
        }
      ]
    },
    {
      "cell_type": "code",
      "metadata": {
        "colab": {
          "base_uri": "https://localhost:8080/",
          "height": 49
        },
        "id": "UKk4zf_tLLFT",
        "outputId": "be57e17e-910f-4880-c33e-1c84f8dbbd79"
      },
      "source": [
        "df2[(df2['y']>0.94) & (df2['z']>1)]"
      ],
      "execution_count": 114,
      "outputs": [
        {
          "output_type": "execute_result",
          "data": {
            "text/html": [
              "<div>\n",
              "<style scoped>\n",
              "    .dataframe tbody tr th:only-of-type {\n",
              "        vertical-align: middle;\n",
              "    }\n",
              "\n",
              "    .dataframe tbody tr th {\n",
              "        vertical-align: top;\n",
              "    }\n",
              "\n",
              "    .dataframe thead th {\n",
              "        text-align: right;\n",
              "    }\n",
              "</style>\n",
              "<table border=\"1\" class=\"dataframe\">\n",
              "  <thead>\n",
              "    <tr style=\"text-align: right;\">\n",
              "      <th></th>\n",
              "      <th>x</th>\n",
              "      <th>y</th>\n",
              "      <th>z</th>\n",
              "      <th>p</th>\n",
              "      <th>r</th>\n",
              "      <th>n</th>\n",
              "    </tr>\n",
              "  </thead>\n",
              "  <tbody>\n",
              "  </tbody>\n",
              "</table>\n",
              "</div>"
            ],
            "text/plain": [
              "Empty DataFrame\n",
              "Columns: [x, y, z, p, r, n]\n",
              "Index: []"
            ]
          },
          "metadata": {
            "tags": []
          },
          "execution_count": 114
        }
      ]
    },
    {
      "cell_type": "code",
      "metadata": {
        "colab": {
          "base_uri": "https://localhost:8080/",
          "height": 142
        },
        "id": "NUsy9nMPLLIk",
        "outputId": "8cc90edb-273c-4a2f-ed54-661f75a84c44"
      },
      "source": [
        "df2[(df2['n']>1) | (df2['z']>1)]"
      ],
      "execution_count": 115,
      "outputs": [
        {
          "output_type": "execute_result",
          "data": {
            "text/html": [
              "<div>\n",
              "<style scoped>\n",
              "    .dataframe tbody tr th:only-of-type {\n",
              "        vertical-align: middle;\n",
              "    }\n",
              "\n",
              "    .dataframe tbody tr th {\n",
              "        vertical-align: top;\n",
              "    }\n",
              "\n",
              "    .dataframe thead th {\n",
              "        text-align: right;\n",
              "    }\n",
              "</style>\n",
              "<table border=\"1\" class=\"dataframe\">\n",
              "  <thead>\n",
              "    <tr style=\"text-align: right;\">\n",
              "      <th></th>\n",
              "      <th>x</th>\n",
              "      <th>y</th>\n",
              "      <th>z</th>\n",
              "      <th>p</th>\n",
              "      <th>r</th>\n",
              "      <th>n</th>\n",
              "    </tr>\n",
              "  </thead>\n",
              "  <tbody>\n",
              "    <tr>\n",
              "      <th>c</th>\n",
              "      <td>0.900637</td>\n",
              "      <td>0.803957</td>\n",
              "      <td>0.827409</td>\n",
              "      <td>0.496663</td>\n",
              "      <td>0.556670</td>\n",
              "      <td>1.728046</td>\n",
              "    </tr>\n",
              "    <tr>\n",
              "      <th>d</th>\n",
              "      <td>0.617422</td>\n",
              "      <td>0.917753</td>\n",
              "      <td>0.623345</td>\n",
              "      <td>0.321008</td>\n",
              "      <td>0.558233</td>\n",
              "      <td>1.240767</td>\n",
              "    </tr>\n",
              "    <tr>\n",
              "      <th>e</th>\n",
              "      <td>0.938209</td>\n",
              "      <td>0.353245</td>\n",
              "      <td>0.848705</td>\n",
              "      <td>1.374572</td>\n",
              "      <td>0.654153</td>\n",
              "      <td>1.786914</td>\n",
              "    </tr>\n",
              "  </tbody>\n",
              "</table>\n",
              "</div>"
            ],
            "text/plain": [
              "          x         y         z         p         r         n\n",
              "c  0.900637  0.803957  0.827409  0.496663  0.556670  1.728046\n",
              "d  0.617422  0.917753  0.623345  0.321008  0.558233  1.240767\n",
              "e  0.938209  0.353245  0.848705  1.374572  0.654153  1.786914"
            ]
          },
          "metadata": {
            "tags": []
          },
          "execution_count": 115
        }
      ]
    },
    {
      "cell_type": "markdown",
      "metadata": {
        "id": "zLpe8jjy9lKy"
      },
      "source": [
        "## **Boolean Indexing**"
      ]
    },
    {
      "cell_type": "code",
      "metadata": {
        "id": "9v3mMoAa9pDC"
      },
      "source": [
        "dic={'name':['sourav','niranjan','opinder','vikram','vivek'],\r\n",
        "     'cmp':['ril','oracle','samsung','psu','nitie'],\r\n",
        "     'pkg':[6,5.5,9,12,24]\r\n",
        "    }"
      ],
      "execution_count": 116,
      "outputs": []
    },
    {
      "cell_type": "code",
      "metadata": {
        "colab": {
          "base_uri": "https://localhost:8080/",
          "height": 204
        },
        "id": "H0YP4B139tuh",
        "outputId": "9ceea03f-1059-4a10-dc3c-ab5ce692c5c5"
      },
      "source": [
        "df = pd.DataFrame(dic,index=[True,False,True,False,False])\r\n",
        "df"
      ],
      "execution_count": 117,
      "outputs": [
        {
          "output_type": "execute_result",
          "data": {
            "text/html": [
              "<div>\n",
              "<style scoped>\n",
              "    .dataframe tbody tr th:only-of-type {\n",
              "        vertical-align: middle;\n",
              "    }\n",
              "\n",
              "    .dataframe tbody tr th {\n",
              "        vertical-align: top;\n",
              "    }\n",
              "\n",
              "    .dataframe thead th {\n",
              "        text-align: right;\n",
              "    }\n",
              "</style>\n",
              "<table border=\"1\" class=\"dataframe\">\n",
              "  <thead>\n",
              "    <tr style=\"text-align: right;\">\n",
              "      <th></th>\n",
              "      <th>name</th>\n",
              "      <th>cmp</th>\n",
              "      <th>pkg</th>\n",
              "    </tr>\n",
              "  </thead>\n",
              "  <tbody>\n",
              "    <tr>\n",
              "      <th>True</th>\n",
              "      <td>sourav</td>\n",
              "      <td>ril</td>\n",
              "      <td>6.0</td>\n",
              "    </tr>\n",
              "    <tr>\n",
              "      <th>False</th>\n",
              "      <td>niranjan</td>\n",
              "      <td>oracle</td>\n",
              "      <td>5.5</td>\n",
              "    </tr>\n",
              "    <tr>\n",
              "      <th>True</th>\n",
              "      <td>opinder</td>\n",
              "      <td>samsung</td>\n",
              "      <td>9.0</td>\n",
              "    </tr>\n",
              "    <tr>\n",
              "      <th>False</th>\n",
              "      <td>vikram</td>\n",
              "      <td>psu</td>\n",
              "      <td>12.0</td>\n",
              "    </tr>\n",
              "    <tr>\n",
              "      <th>False</th>\n",
              "      <td>vivek</td>\n",
              "      <td>nitie</td>\n",
              "      <td>24.0</td>\n",
              "    </tr>\n",
              "  </tbody>\n",
              "</table>\n",
              "</div>"
            ],
            "text/plain": [
              "           name      cmp   pkg\n",
              "True     sourav      ril   6.0\n",
              "False  niranjan   oracle   5.5\n",
              "True    opinder  samsung   9.0\n",
              "False    vikram      psu  12.0\n",
              "False     vivek    nitie  24.0"
            ]
          },
          "metadata": {
            "tags": []
          },
          "execution_count": 117
        }
      ]
    },
    {
      "cell_type": "code",
      "metadata": {
        "colab": {
          "base_uri": "https://localhost:8080/",
          "height": 111
        },
        "id": "GZc2dH0k-GuR",
        "outputId": "02f05661-4f4b-48bf-8a36-4c8441998d02"
      },
      "source": [
        "df.loc[True]"
      ],
      "execution_count": 118,
      "outputs": [
        {
          "output_type": "execute_result",
          "data": {
            "text/html": [
              "<div>\n",
              "<style scoped>\n",
              "    .dataframe tbody tr th:only-of-type {\n",
              "        vertical-align: middle;\n",
              "    }\n",
              "\n",
              "    .dataframe tbody tr th {\n",
              "        vertical-align: top;\n",
              "    }\n",
              "\n",
              "    .dataframe thead th {\n",
              "        text-align: right;\n",
              "    }\n",
              "</style>\n",
              "<table border=\"1\" class=\"dataframe\">\n",
              "  <thead>\n",
              "    <tr style=\"text-align: right;\">\n",
              "      <th></th>\n",
              "      <th>name</th>\n",
              "      <th>cmp</th>\n",
              "      <th>pkg</th>\n",
              "    </tr>\n",
              "  </thead>\n",
              "  <tbody>\n",
              "    <tr>\n",
              "      <th>True</th>\n",
              "      <td>sourav</td>\n",
              "      <td>ril</td>\n",
              "      <td>6.0</td>\n",
              "    </tr>\n",
              "    <tr>\n",
              "      <th>True</th>\n",
              "      <td>opinder</td>\n",
              "      <td>samsung</td>\n",
              "      <td>9.0</td>\n",
              "    </tr>\n",
              "  </tbody>\n",
              "</table>\n",
              "</div>"
            ],
            "text/plain": [
              "         name      cmp  pkg\n",
              "True   sourav      ril  6.0\n",
              "True  opinder  samsung  9.0"
            ]
          },
          "metadata": {
            "tags": []
          },
          "execution_count": 118
        }
      ]
    },
    {
      "cell_type": "code",
      "metadata": {
        "colab": {
          "base_uri": "https://localhost:8080/",
          "height": 111
        },
        "id": "5Nd6g3R7-KPX",
        "outputId": "40c47185-759f-4d54-d6f6-8cca5a67b30a"
      },
      "source": [
        "df.loc[1]"
      ],
      "execution_count": 119,
      "outputs": [
        {
          "output_type": "execute_result",
          "data": {
            "text/html": [
              "<div>\n",
              "<style scoped>\n",
              "    .dataframe tbody tr th:only-of-type {\n",
              "        vertical-align: middle;\n",
              "    }\n",
              "\n",
              "    .dataframe tbody tr th {\n",
              "        vertical-align: top;\n",
              "    }\n",
              "\n",
              "    .dataframe thead th {\n",
              "        text-align: right;\n",
              "    }\n",
              "</style>\n",
              "<table border=\"1\" class=\"dataframe\">\n",
              "  <thead>\n",
              "    <tr style=\"text-align: right;\">\n",
              "      <th></th>\n",
              "      <th>name</th>\n",
              "      <th>cmp</th>\n",
              "      <th>pkg</th>\n",
              "    </tr>\n",
              "  </thead>\n",
              "  <tbody>\n",
              "    <tr>\n",
              "      <th>True</th>\n",
              "      <td>sourav</td>\n",
              "      <td>ril</td>\n",
              "      <td>6.0</td>\n",
              "    </tr>\n",
              "    <tr>\n",
              "      <th>True</th>\n",
              "      <td>opinder</td>\n",
              "      <td>samsung</td>\n",
              "      <td>9.0</td>\n",
              "    </tr>\n",
              "  </tbody>\n",
              "</table>\n",
              "</div>"
            ],
            "text/plain": [
              "         name      cmp  pkg\n",
              "True   sourav      ril  6.0\n",
              "True  opinder  samsung  9.0"
            ]
          },
          "metadata": {
            "tags": []
          },
          "execution_count": 119
        }
      ]
    },
    {
      "cell_type": "code",
      "metadata": {
        "colab": {
          "base_uri": "https://localhost:8080/"
        },
        "id": "57bvvjBO-LyQ",
        "outputId": "a170cd82-0485-4b7c-b3a1-c2e5ed7722d5"
      },
      "source": [
        "df.iloc[1]"
      ],
      "execution_count": 120,
      "outputs": [
        {
          "output_type": "execute_result",
          "data": {
            "text/plain": [
              "name    niranjan\n",
              "cmp       oracle\n",
              "pkg          5.5\n",
              "dtype: object"
            ]
          },
          "metadata": {
            "tags": []
          },
          "execution_count": 120
        }
      ]
    },
    {
      "cell_type": "markdown",
      "metadata": {
        "id": "7Pxi0HpTLy_N"
      },
      "source": [
        "### **Group By**"
      ]
    },
    {
      "cell_type": "code",
      "metadata": {
        "colab": {
          "base_uri": "https://localhost:8080/",
          "height": 235
        },
        "id": "Guq2PwsQ-QLR",
        "outputId": "d4b8cf0c-e25d-4f8d-f201-7b34481bfddd"
      },
      "source": [
        "data={'Company':['Goog','Goog','MSFT','MSFT','FB','FB'],\r\n",
        "     'Person':['Sam','Charlie','Amy','Vanessa','Carl','Sarah'],\r\n",
        "     'Sales':[200,120,340,124,243,350]}\r\n",
        "a=pd.DataFrame(data)\r\n",
        "a"
      ],
      "execution_count": 121,
      "outputs": [
        {
          "output_type": "execute_result",
          "data": {
            "text/html": [
              "<div>\n",
              "<style scoped>\n",
              "    .dataframe tbody tr th:only-of-type {\n",
              "        vertical-align: middle;\n",
              "    }\n",
              "\n",
              "    .dataframe tbody tr th {\n",
              "        vertical-align: top;\n",
              "    }\n",
              "\n",
              "    .dataframe thead th {\n",
              "        text-align: right;\n",
              "    }\n",
              "</style>\n",
              "<table border=\"1\" class=\"dataframe\">\n",
              "  <thead>\n",
              "    <tr style=\"text-align: right;\">\n",
              "      <th></th>\n",
              "      <th>Company</th>\n",
              "      <th>Person</th>\n",
              "      <th>Sales</th>\n",
              "    </tr>\n",
              "  </thead>\n",
              "  <tbody>\n",
              "    <tr>\n",
              "      <th>0</th>\n",
              "      <td>Goog</td>\n",
              "      <td>Sam</td>\n",
              "      <td>200</td>\n",
              "    </tr>\n",
              "    <tr>\n",
              "      <th>1</th>\n",
              "      <td>Goog</td>\n",
              "      <td>Charlie</td>\n",
              "      <td>120</td>\n",
              "    </tr>\n",
              "    <tr>\n",
              "      <th>2</th>\n",
              "      <td>MSFT</td>\n",
              "      <td>Amy</td>\n",
              "      <td>340</td>\n",
              "    </tr>\n",
              "    <tr>\n",
              "      <th>3</th>\n",
              "      <td>MSFT</td>\n",
              "      <td>Vanessa</td>\n",
              "      <td>124</td>\n",
              "    </tr>\n",
              "    <tr>\n",
              "      <th>4</th>\n",
              "      <td>FB</td>\n",
              "      <td>Carl</td>\n",
              "      <td>243</td>\n",
              "    </tr>\n",
              "    <tr>\n",
              "      <th>5</th>\n",
              "      <td>FB</td>\n",
              "      <td>Sarah</td>\n",
              "      <td>350</td>\n",
              "    </tr>\n",
              "  </tbody>\n",
              "</table>\n",
              "</div>"
            ],
            "text/plain": [
              "  Company   Person  Sales\n",
              "0    Goog      Sam    200\n",
              "1    Goog  Charlie    120\n",
              "2    MSFT      Amy    340\n",
              "3    MSFT  Vanessa    124\n",
              "4      FB     Carl    243\n",
              "5      FB    Sarah    350"
            ]
          },
          "metadata": {
            "tags": []
          },
          "execution_count": 121
        }
      ]
    },
    {
      "cell_type": "code",
      "metadata": {
        "colab": {
          "base_uri": "https://localhost:8080/",
          "height": 173
        },
        "id": "SBfyevQXL2la",
        "outputId": "cb4070ac-0da4-4dd0-8602-a400de8cfb28"
      },
      "source": [
        "g_obj=a.groupby('Company') #with this we will get a grp by obj\r\n",
        "g_obj.mean()               #next step is to apply aggregation func"
      ],
      "execution_count": 122,
      "outputs": [
        {
          "output_type": "execute_result",
          "data": {
            "text/html": [
              "<div>\n",
              "<style scoped>\n",
              "    .dataframe tbody tr th:only-of-type {\n",
              "        vertical-align: middle;\n",
              "    }\n",
              "\n",
              "    .dataframe tbody tr th {\n",
              "        vertical-align: top;\n",
              "    }\n",
              "\n",
              "    .dataframe thead th {\n",
              "        text-align: right;\n",
              "    }\n",
              "</style>\n",
              "<table border=\"1\" class=\"dataframe\">\n",
              "  <thead>\n",
              "    <tr style=\"text-align: right;\">\n",
              "      <th></th>\n",
              "      <th>Sales</th>\n",
              "    </tr>\n",
              "    <tr>\n",
              "      <th>Company</th>\n",
              "      <th></th>\n",
              "    </tr>\n",
              "  </thead>\n",
              "  <tbody>\n",
              "    <tr>\n",
              "      <th>FB</th>\n",
              "      <td>296.5</td>\n",
              "    </tr>\n",
              "    <tr>\n",
              "      <th>Goog</th>\n",
              "      <td>160.0</td>\n",
              "    </tr>\n",
              "    <tr>\n",
              "      <th>MSFT</th>\n",
              "      <td>232.0</td>\n",
              "    </tr>\n",
              "  </tbody>\n",
              "</table>\n",
              "</div>"
            ],
            "text/plain": [
              "         Sales\n",
              "Company       \n",
              "FB       296.5\n",
              "Goog     160.0\n",
              "MSFT     232.0"
            ]
          },
          "metadata": {
            "tags": []
          },
          "execution_count": 122
        }
      ]
    },
    {
      "cell_type": "code",
      "metadata": {
        "colab": {
          "base_uri": "https://localhost:8080/",
          "height": 173
        },
        "id": "Of1GvpfBL6ip",
        "outputId": "e85642e2-e93d-4469-9037-7ee16becffab"
      },
      "source": [
        "g_obj.std()"
      ],
      "execution_count": 123,
      "outputs": [
        {
          "output_type": "execute_result",
          "data": {
            "text/html": [
              "<div>\n",
              "<style scoped>\n",
              "    .dataframe tbody tr th:only-of-type {\n",
              "        vertical-align: middle;\n",
              "    }\n",
              "\n",
              "    .dataframe tbody tr th {\n",
              "        vertical-align: top;\n",
              "    }\n",
              "\n",
              "    .dataframe thead th {\n",
              "        text-align: right;\n",
              "    }\n",
              "</style>\n",
              "<table border=\"1\" class=\"dataframe\">\n",
              "  <thead>\n",
              "    <tr style=\"text-align: right;\">\n",
              "      <th></th>\n",
              "      <th>Sales</th>\n",
              "    </tr>\n",
              "    <tr>\n",
              "      <th>Company</th>\n",
              "      <th></th>\n",
              "    </tr>\n",
              "  </thead>\n",
              "  <tbody>\n",
              "    <tr>\n",
              "      <th>FB</th>\n",
              "      <td>75.660426</td>\n",
              "    </tr>\n",
              "    <tr>\n",
              "      <th>Goog</th>\n",
              "      <td>56.568542</td>\n",
              "    </tr>\n",
              "    <tr>\n",
              "      <th>MSFT</th>\n",
              "      <td>152.735065</td>\n",
              "    </tr>\n",
              "  </tbody>\n",
              "</table>\n",
              "</div>"
            ],
            "text/plain": [
              "              Sales\n",
              "Company            \n",
              "FB        75.660426\n",
              "Goog      56.568542\n",
              "MSFT     152.735065"
            ]
          },
          "metadata": {
            "tags": []
          },
          "execution_count": 123
        }
      ]
    },
    {
      "cell_type": "code",
      "metadata": {
        "colab": {
          "base_uri": "https://localhost:8080/",
          "height": 173
        },
        "id": "MzE6W3V8L8kf",
        "outputId": "d099c23f-de34-42e9-f1da-3aa83c0264d1"
      },
      "source": [
        "g_obj.sum()"
      ],
      "execution_count": 124,
      "outputs": [
        {
          "output_type": "execute_result",
          "data": {
            "text/html": [
              "<div>\n",
              "<style scoped>\n",
              "    .dataframe tbody tr th:only-of-type {\n",
              "        vertical-align: middle;\n",
              "    }\n",
              "\n",
              "    .dataframe tbody tr th {\n",
              "        vertical-align: top;\n",
              "    }\n",
              "\n",
              "    .dataframe thead th {\n",
              "        text-align: right;\n",
              "    }\n",
              "</style>\n",
              "<table border=\"1\" class=\"dataframe\">\n",
              "  <thead>\n",
              "    <tr style=\"text-align: right;\">\n",
              "      <th></th>\n",
              "      <th>Sales</th>\n",
              "    </tr>\n",
              "    <tr>\n",
              "      <th>Company</th>\n",
              "      <th></th>\n",
              "    </tr>\n",
              "  </thead>\n",
              "  <tbody>\n",
              "    <tr>\n",
              "      <th>FB</th>\n",
              "      <td>593</td>\n",
              "    </tr>\n",
              "    <tr>\n",
              "      <th>Goog</th>\n",
              "      <td>320</td>\n",
              "    </tr>\n",
              "    <tr>\n",
              "      <th>MSFT</th>\n",
              "      <td>464</td>\n",
              "    </tr>\n",
              "  </tbody>\n",
              "</table>\n",
              "</div>"
            ],
            "text/plain": [
              "         Sales\n",
              "Company       \n",
              "FB         593\n",
              "Goog       320\n",
              "MSFT       464"
            ]
          },
          "metadata": {
            "tags": []
          },
          "execution_count": 124
        }
      ]
    },
    {
      "cell_type": "code",
      "metadata": {
        "colab": {
          "base_uri": "https://localhost:8080/",
          "height": 173
        },
        "id": "C2Fg-C4IL9sJ",
        "outputId": "56347ce5-d123-4c44-cb44-626c713797d4"
      },
      "source": [
        "g_obj.max()"
      ],
      "execution_count": 125,
      "outputs": [
        {
          "output_type": "execute_result",
          "data": {
            "text/html": [
              "<div>\n",
              "<style scoped>\n",
              "    .dataframe tbody tr th:only-of-type {\n",
              "        vertical-align: middle;\n",
              "    }\n",
              "\n",
              "    .dataframe tbody tr th {\n",
              "        vertical-align: top;\n",
              "    }\n",
              "\n",
              "    .dataframe thead th {\n",
              "        text-align: right;\n",
              "    }\n",
              "</style>\n",
              "<table border=\"1\" class=\"dataframe\">\n",
              "  <thead>\n",
              "    <tr style=\"text-align: right;\">\n",
              "      <th></th>\n",
              "      <th>Person</th>\n",
              "      <th>Sales</th>\n",
              "    </tr>\n",
              "    <tr>\n",
              "      <th>Company</th>\n",
              "      <th></th>\n",
              "      <th></th>\n",
              "    </tr>\n",
              "  </thead>\n",
              "  <tbody>\n",
              "    <tr>\n",
              "      <th>FB</th>\n",
              "      <td>Sarah</td>\n",
              "      <td>350</td>\n",
              "    </tr>\n",
              "    <tr>\n",
              "      <th>Goog</th>\n",
              "      <td>Sam</td>\n",
              "      <td>200</td>\n",
              "    </tr>\n",
              "    <tr>\n",
              "      <th>MSFT</th>\n",
              "      <td>Vanessa</td>\n",
              "      <td>340</td>\n",
              "    </tr>\n",
              "  </tbody>\n",
              "</table>\n",
              "</div>"
            ],
            "text/plain": [
              "          Person  Sales\n",
              "Company                \n",
              "FB         Sarah    350\n",
              "Goog         Sam    200\n",
              "MSFT     Vanessa    340"
            ]
          },
          "metadata": {
            "tags": []
          },
          "execution_count": 125
        }
      ]
    },
    {
      "cell_type": "code",
      "metadata": {
        "colab": {
          "base_uri": "https://localhost:8080/",
          "height": 173
        },
        "id": "org8vYLrMAiA",
        "outputId": "68151c84-1db6-491c-f578-06a9a343e7f9"
      },
      "source": [
        "g_obj.min()"
      ],
      "execution_count": 126,
      "outputs": [
        {
          "output_type": "execute_result",
          "data": {
            "text/html": [
              "<div>\n",
              "<style scoped>\n",
              "    .dataframe tbody tr th:only-of-type {\n",
              "        vertical-align: middle;\n",
              "    }\n",
              "\n",
              "    .dataframe tbody tr th {\n",
              "        vertical-align: top;\n",
              "    }\n",
              "\n",
              "    .dataframe thead th {\n",
              "        text-align: right;\n",
              "    }\n",
              "</style>\n",
              "<table border=\"1\" class=\"dataframe\">\n",
              "  <thead>\n",
              "    <tr style=\"text-align: right;\">\n",
              "      <th></th>\n",
              "      <th>Person</th>\n",
              "      <th>Sales</th>\n",
              "    </tr>\n",
              "    <tr>\n",
              "      <th>Company</th>\n",
              "      <th></th>\n",
              "      <th></th>\n",
              "    </tr>\n",
              "  </thead>\n",
              "  <tbody>\n",
              "    <tr>\n",
              "      <th>FB</th>\n",
              "      <td>Carl</td>\n",
              "      <td>243</td>\n",
              "    </tr>\n",
              "    <tr>\n",
              "      <th>Goog</th>\n",
              "      <td>Charlie</td>\n",
              "      <td>120</td>\n",
              "    </tr>\n",
              "    <tr>\n",
              "      <th>MSFT</th>\n",
              "      <td>Amy</td>\n",
              "      <td>124</td>\n",
              "    </tr>\n",
              "  </tbody>\n",
              "</table>\n",
              "</div>"
            ],
            "text/plain": [
              "          Person  Sales\n",
              "Company                \n",
              "FB          Carl    243\n",
              "Goog     Charlie    120\n",
              "MSFT         Amy    124"
            ]
          },
          "metadata": {
            "tags": []
          },
          "execution_count": 126
        }
      ]
    },
    {
      "cell_type": "code",
      "metadata": {
        "colab": {
          "base_uri": "https://localhost:8080/",
          "height": 173
        },
        "id": "2zEmWS7pMBnM",
        "outputId": "a11e4031-cbf4-4cbc-f2d4-fc66412508b7"
      },
      "source": [
        "g_obj.count()"
      ],
      "execution_count": 127,
      "outputs": [
        {
          "output_type": "execute_result",
          "data": {
            "text/html": [
              "<div>\n",
              "<style scoped>\n",
              "    .dataframe tbody tr th:only-of-type {\n",
              "        vertical-align: middle;\n",
              "    }\n",
              "\n",
              "    .dataframe tbody tr th {\n",
              "        vertical-align: top;\n",
              "    }\n",
              "\n",
              "    .dataframe thead th {\n",
              "        text-align: right;\n",
              "    }\n",
              "</style>\n",
              "<table border=\"1\" class=\"dataframe\">\n",
              "  <thead>\n",
              "    <tr style=\"text-align: right;\">\n",
              "      <th></th>\n",
              "      <th>Person</th>\n",
              "      <th>Sales</th>\n",
              "    </tr>\n",
              "    <tr>\n",
              "      <th>Company</th>\n",
              "      <th></th>\n",
              "      <th></th>\n",
              "    </tr>\n",
              "  </thead>\n",
              "  <tbody>\n",
              "    <tr>\n",
              "      <th>FB</th>\n",
              "      <td>2</td>\n",
              "      <td>2</td>\n",
              "    </tr>\n",
              "    <tr>\n",
              "      <th>Goog</th>\n",
              "      <td>2</td>\n",
              "      <td>2</td>\n",
              "    </tr>\n",
              "    <tr>\n",
              "      <th>MSFT</th>\n",
              "      <td>2</td>\n",
              "      <td>2</td>\n",
              "    </tr>\n",
              "  </tbody>\n",
              "</table>\n",
              "</div>"
            ],
            "text/plain": [
              "         Person  Sales\n",
              "Company               \n",
              "FB            2      2\n",
              "Goog          2      2\n",
              "MSFT          2      2"
            ]
          },
          "metadata": {
            "tags": []
          },
          "execution_count": 127
        }
      ]
    },
    {
      "cell_type": "code",
      "metadata": {
        "colab": {
          "base_uri": "https://localhost:8080/"
        },
        "id": "KrF7qxzKMC6E",
        "outputId": "b579846a-6400-4e88-dc6d-47a3c0362dec"
      },
      "source": [
        "a.groupby('Company').sum().loc['Goog']"
      ],
      "execution_count": 128,
      "outputs": [
        {
          "output_type": "execute_result",
          "data": {
            "text/plain": [
              "Sales    320\n",
              "Name: Goog, dtype: int64"
            ]
          },
          "metadata": {
            "tags": []
          },
          "execution_count": 128
        }
      ]
    },
    {
      "cell_type": "markdown",
      "metadata": {
        "id": "BKO-udVh0FAt"
      },
      "source": [
        "## **Grouping similar together**"
      ]
    },
    {
      "cell_type": "code",
      "metadata": {
        "colab": {
          "base_uri": "https://localhost:8080/",
          "height": 235
        },
        "id": "xVREuz0o0Na2",
        "outputId": "82dd6b23-3913-467e-d051-eefcff1c65c7"
      },
      "source": [
        "x = {'stakeholders':['s1','s2','s1','s2','s1','s2'],'factor':['wd','wd','vb','vb','ds','ds'],'score':[1,2,3,4,5,6]}\r\n",
        "df_x = pd.DataFrame(x)\r\n",
        "df_x"
      ],
      "execution_count": 156,
      "outputs": [
        {
          "output_type": "execute_result",
          "data": {
            "text/html": [
              "<div>\n",
              "<style scoped>\n",
              "    .dataframe tbody tr th:only-of-type {\n",
              "        vertical-align: middle;\n",
              "    }\n",
              "\n",
              "    .dataframe tbody tr th {\n",
              "        vertical-align: top;\n",
              "    }\n",
              "\n",
              "    .dataframe thead th {\n",
              "        text-align: right;\n",
              "    }\n",
              "</style>\n",
              "<table border=\"1\" class=\"dataframe\">\n",
              "  <thead>\n",
              "    <tr style=\"text-align: right;\">\n",
              "      <th></th>\n",
              "      <th>stakeholders</th>\n",
              "      <th>factor</th>\n",
              "      <th>score</th>\n",
              "    </tr>\n",
              "  </thead>\n",
              "  <tbody>\n",
              "    <tr>\n",
              "      <th>0</th>\n",
              "      <td>s1</td>\n",
              "      <td>wd</td>\n",
              "      <td>1</td>\n",
              "    </tr>\n",
              "    <tr>\n",
              "      <th>1</th>\n",
              "      <td>s2</td>\n",
              "      <td>wd</td>\n",
              "      <td>2</td>\n",
              "    </tr>\n",
              "    <tr>\n",
              "      <th>2</th>\n",
              "      <td>s1</td>\n",
              "      <td>vb</td>\n",
              "      <td>3</td>\n",
              "    </tr>\n",
              "    <tr>\n",
              "      <th>3</th>\n",
              "      <td>s2</td>\n",
              "      <td>vb</td>\n",
              "      <td>4</td>\n",
              "    </tr>\n",
              "    <tr>\n",
              "      <th>4</th>\n",
              "      <td>s1</td>\n",
              "      <td>ds</td>\n",
              "      <td>5</td>\n",
              "    </tr>\n",
              "    <tr>\n",
              "      <th>5</th>\n",
              "      <td>s2</td>\n",
              "      <td>ds</td>\n",
              "      <td>6</td>\n",
              "    </tr>\n",
              "  </tbody>\n",
              "</table>\n",
              "</div>"
            ],
            "text/plain": [
              "  stakeholders factor  score\n",
              "0           s1     wd      1\n",
              "1           s2     wd      2\n",
              "2           s1     vb      3\n",
              "3           s2     vb      4\n",
              "4           s1     ds      5\n",
              "5           s2     ds      6"
            ]
          },
          "metadata": {
            "tags": []
          },
          "execution_count": 156
        }
      ]
    },
    {
      "cell_type": "code",
      "metadata": {
        "colab": {
          "base_uri": "https://localhost:8080/",
          "height": 235
        },
        "id": "1DS7pWhG0Q-k",
        "outputId": "7cb0bbe2-19bd-40e0-b5a8-2d660ff17648"
      },
      "source": [
        "df_n = df_x.groupby(['stakeholders','factor'])['score'].apply(int).reset_index(name='score')\r\n",
        "df_n"
      ],
      "execution_count": 161,
      "outputs": [
        {
          "output_type": "execute_result",
          "data": {
            "text/html": [
              "<div>\n",
              "<style scoped>\n",
              "    .dataframe tbody tr th:only-of-type {\n",
              "        vertical-align: middle;\n",
              "    }\n",
              "\n",
              "    .dataframe tbody tr th {\n",
              "        vertical-align: top;\n",
              "    }\n",
              "\n",
              "    .dataframe thead th {\n",
              "        text-align: right;\n",
              "    }\n",
              "</style>\n",
              "<table border=\"1\" class=\"dataframe\">\n",
              "  <thead>\n",
              "    <tr style=\"text-align: right;\">\n",
              "      <th></th>\n",
              "      <th>stakeholders</th>\n",
              "      <th>factor</th>\n",
              "      <th>score</th>\n",
              "    </tr>\n",
              "  </thead>\n",
              "  <tbody>\n",
              "    <tr>\n",
              "      <th>0</th>\n",
              "      <td>s1</td>\n",
              "      <td>ds</td>\n",
              "      <td>5</td>\n",
              "    </tr>\n",
              "    <tr>\n",
              "      <th>1</th>\n",
              "      <td>s1</td>\n",
              "      <td>vb</td>\n",
              "      <td>3</td>\n",
              "    </tr>\n",
              "    <tr>\n",
              "      <th>2</th>\n",
              "      <td>s1</td>\n",
              "      <td>wd</td>\n",
              "      <td>1</td>\n",
              "    </tr>\n",
              "    <tr>\n",
              "      <th>3</th>\n",
              "      <td>s2</td>\n",
              "      <td>ds</td>\n",
              "      <td>6</td>\n",
              "    </tr>\n",
              "    <tr>\n",
              "      <th>4</th>\n",
              "      <td>s2</td>\n",
              "      <td>vb</td>\n",
              "      <td>4</td>\n",
              "    </tr>\n",
              "    <tr>\n",
              "      <th>5</th>\n",
              "      <td>s2</td>\n",
              "      <td>wd</td>\n",
              "      <td>2</td>\n",
              "    </tr>\n",
              "  </tbody>\n",
              "</table>\n",
              "</div>"
            ],
            "text/plain": [
              "  stakeholders factor  score\n",
              "0           s1     ds      5\n",
              "1           s1     vb      3\n",
              "2           s1     wd      1\n",
              "3           s2     ds      6\n",
              "4           s2     vb      4\n",
              "5           s2     wd      2"
            ]
          },
          "metadata": {
            "tags": []
          },
          "execution_count": 161
        }
      ]
    },
    {
      "cell_type": "markdown",
      "metadata": {
        "id": "6VnJqgjWvKw0"
      },
      "source": [
        "### **Grouping Dataframe rows into list**"
      ]
    },
    {
      "cell_type": "code",
      "metadata": {
        "colab": {
          "base_uri": "https://localhost:8080/",
          "height": 235
        },
        "id": "p6odwfurtb2a",
        "outputId": "101bbe6b-318a-43eb-9251-166c2bd7a653"
      },
      "source": [
        "x = {'stakeholders':['s1','s2','s2','s2','s1','s1'],'score':[1,2,3,4,5,6]}\r\n",
        "df_x = pd.DataFrame(x)\r\n",
        "df_x"
      ],
      "execution_count": 131,
      "outputs": [
        {
          "output_type": "execute_result",
          "data": {
            "text/html": [
              "<div>\n",
              "<style scoped>\n",
              "    .dataframe tbody tr th:only-of-type {\n",
              "        vertical-align: middle;\n",
              "    }\n",
              "\n",
              "    .dataframe tbody tr th {\n",
              "        vertical-align: top;\n",
              "    }\n",
              "\n",
              "    .dataframe thead th {\n",
              "        text-align: right;\n",
              "    }\n",
              "</style>\n",
              "<table border=\"1\" class=\"dataframe\">\n",
              "  <thead>\n",
              "    <tr style=\"text-align: right;\">\n",
              "      <th></th>\n",
              "      <th>stakeholders</th>\n",
              "      <th>score</th>\n",
              "    </tr>\n",
              "  </thead>\n",
              "  <tbody>\n",
              "    <tr>\n",
              "      <th>0</th>\n",
              "      <td>s1</td>\n",
              "      <td>1</td>\n",
              "    </tr>\n",
              "    <tr>\n",
              "      <th>1</th>\n",
              "      <td>s2</td>\n",
              "      <td>2</td>\n",
              "    </tr>\n",
              "    <tr>\n",
              "      <th>2</th>\n",
              "      <td>s2</td>\n",
              "      <td>3</td>\n",
              "    </tr>\n",
              "    <tr>\n",
              "      <th>3</th>\n",
              "      <td>s2</td>\n",
              "      <td>4</td>\n",
              "    </tr>\n",
              "    <tr>\n",
              "      <th>4</th>\n",
              "      <td>s1</td>\n",
              "      <td>5</td>\n",
              "    </tr>\n",
              "    <tr>\n",
              "      <th>5</th>\n",
              "      <td>s1</td>\n",
              "      <td>6</td>\n",
              "    </tr>\n",
              "  </tbody>\n",
              "</table>\n",
              "</div>"
            ],
            "text/plain": [
              "  stakeholders  score\n",
              "0           s1      1\n",
              "1           s2      2\n",
              "2           s2      3\n",
              "3           s2      4\n",
              "4           s1      5\n",
              "5           s1      6"
            ]
          },
          "metadata": {
            "tags": []
          },
          "execution_count": 131
        }
      ]
    },
    {
      "cell_type": "code",
      "metadata": {
        "colab": {
          "base_uri": "https://localhost:8080/"
        },
        "id": "_-_Gw52Mx-gP",
        "outputId": "b8ccb45e-61f5-4c3a-fab9-b3115d5924bf"
      },
      "source": [
        "df_x.groupby('stakeholders')['score'].apply(list)"
      ],
      "execution_count": 132,
      "outputs": [
        {
          "output_type": "execute_result",
          "data": {
            "text/plain": [
              "stakeholders\n",
              "s1    [1, 5, 6]\n",
              "s2    [2, 3, 4]\n",
              "Name: score, dtype: object"
            ]
          },
          "metadata": {
            "tags": []
          },
          "execution_count": 132
        }
      ]
    },
    {
      "cell_type": "code",
      "metadata": {
        "colab": {
          "base_uri": "https://localhost:8080/",
          "height": 111
        },
        "id": "vcfn0b-oyDBJ",
        "outputId": "c0476130-49c2-445b-b172-733e49ca68c9"
      },
      "source": [
        "df_n = df_x.groupby('stakeholders')['score'].apply(list).reset_index(name='score_list')\r\n",
        "df_n"
      ],
      "execution_count": 133,
      "outputs": [
        {
          "output_type": "execute_result",
          "data": {
            "text/html": [
              "<div>\n",
              "<style scoped>\n",
              "    .dataframe tbody tr th:only-of-type {\n",
              "        vertical-align: middle;\n",
              "    }\n",
              "\n",
              "    .dataframe tbody tr th {\n",
              "        vertical-align: top;\n",
              "    }\n",
              "\n",
              "    .dataframe thead th {\n",
              "        text-align: right;\n",
              "    }\n",
              "</style>\n",
              "<table border=\"1\" class=\"dataframe\">\n",
              "  <thead>\n",
              "    <tr style=\"text-align: right;\">\n",
              "      <th></th>\n",
              "      <th>stakeholders</th>\n",
              "      <th>score_list</th>\n",
              "    </tr>\n",
              "  </thead>\n",
              "  <tbody>\n",
              "    <tr>\n",
              "      <th>0</th>\n",
              "      <td>s1</td>\n",
              "      <td>[1, 5, 6]</td>\n",
              "    </tr>\n",
              "    <tr>\n",
              "      <th>1</th>\n",
              "      <td>s2</td>\n",
              "      <td>[2, 3, 4]</td>\n",
              "    </tr>\n",
              "  </tbody>\n",
              "</table>\n",
              "</div>"
            ],
            "text/plain": [
              "  stakeholders score_list\n",
              "0           s1  [1, 5, 6]\n",
              "1           s2  [2, 3, 4]"
            ]
          },
          "metadata": {
            "tags": []
          },
          "execution_count": 133
        }
      ]
    },
    {
      "cell_type": "markdown",
      "metadata": {
        "id": "dJGZQ3eqylSY"
      },
      "source": [
        "### **List of values to columns**"
      ]
    },
    {
      "cell_type": "code",
      "metadata": {
        "colab": {
          "base_uri": "https://localhost:8080/",
          "height": 111
        },
        "id": "h5wpx1B0yOwU",
        "outputId": "d1212b17-fbcd-4b1c-c240-3752fcd1293a"
      },
      "source": [
        "pd.DataFrame(df_n['score_list'].values.tolist())"
      ],
      "execution_count": 134,
      "outputs": [
        {
          "output_type": "execute_result",
          "data": {
            "text/html": [
              "<div>\n",
              "<style scoped>\n",
              "    .dataframe tbody tr th:only-of-type {\n",
              "        vertical-align: middle;\n",
              "    }\n",
              "\n",
              "    .dataframe tbody tr th {\n",
              "        vertical-align: top;\n",
              "    }\n",
              "\n",
              "    .dataframe thead th {\n",
              "        text-align: right;\n",
              "    }\n",
              "</style>\n",
              "<table border=\"1\" class=\"dataframe\">\n",
              "  <thead>\n",
              "    <tr style=\"text-align: right;\">\n",
              "      <th></th>\n",
              "      <th>0</th>\n",
              "      <th>1</th>\n",
              "      <th>2</th>\n",
              "    </tr>\n",
              "  </thead>\n",
              "  <tbody>\n",
              "    <tr>\n",
              "      <th>0</th>\n",
              "      <td>1</td>\n",
              "      <td>5</td>\n",
              "      <td>6</td>\n",
              "    </tr>\n",
              "    <tr>\n",
              "      <th>1</th>\n",
              "      <td>2</td>\n",
              "      <td>3</td>\n",
              "      <td>4</td>\n",
              "    </tr>\n",
              "  </tbody>\n",
              "</table>\n",
              "</div>"
            ],
            "text/plain": [
              "   0  1  2\n",
              "0  1  5  6\n",
              "1  2  3  4"
            ]
          },
          "metadata": {
            "tags": []
          },
          "execution_count": 134
        }
      ]
    },
    {
      "cell_type": "code",
      "metadata": {
        "colab": {
          "base_uri": "https://localhost:8080/",
          "height": 111
        },
        "id": "e3uMRhU4y4vC",
        "outputId": "11da96d2-40da-47c7-e040-afbe477c8e10"
      },
      "source": [
        "pd.DataFrame(df_n['score_list'].values.tolist()).add_prefix('Factor_')"
      ],
      "execution_count": 135,
      "outputs": [
        {
          "output_type": "execute_result",
          "data": {
            "text/html": [
              "<div>\n",
              "<style scoped>\n",
              "    .dataframe tbody tr th:only-of-type {\n",
              "        vertical-align: middle;\n",
              "    }\n",
              "\n",
              "    .dataframe tbody tr th {\n",
              "        vertical-align: top;\n",
              "    }\n",
              "\n",
              "    .dataframe thead th {\n",
              "        text-align: right;\n",
              "    }\n",
              "</style>\n",
              "<table border=\"1\" class=\"dataframe\">\n",
              "  <thead>\n",
              "    <tr style=\"text-align: right;\">\n",
              "      <th></th>\n",
              "      <th>Factor_0</th>\n",
              "      <th>Factor_1</th>\n",
              "      <th>Factor_2</th>\n",
              "    </tr>\n",
              "  </thead>\n",
              "  <tbody>\n",
              "    <tr>\n",
              "      <th>0</th>\n",
              "      <td>1</td>\n",
              "      <td>5</td>\n",
              "      <td>6</td>\n",
              "    </tr>\n",
              "    <tr>\n",
              "      <th>1</th>\n",
              "      <td>2</td>\n",
              "      <td>3</td>\n",
              "      <td>4</td>\n",
              "    </tr>\n",
              "  </tbody>\n",
              "</table>\n",
              "</div>"
            ],
            "text/plain": [
              "   Factor_0  Factor_1  Factor_2\n",
              "0         1         5         6\n",
              "1         2         3         4"
            ]
          },
          "metadata": {
            "tags": []
          },
          "execution_count": 135
        }
      ]
    },
    {
      "cell_type": "code",
      "metadata": {
        "colab": {
          "base_uri": "https://localhost:8080/",
          "height": 111
        },
        "id": "kvMOkF8MzMin",
        "outputId": "958acbf2-954f-46aa-b3a2-e305ad4b0f69"
      },
      "source": [
        "pd.DataFrame(df_n['score_list'].values.tolist()).add_prefix('Factor_').join(df_n.stakeholders)"
      ],
      "execution_count": 136,
      "outputs": [
        {
          "output_type": "execute_result",
          "data": {
            "text/html": [
              "<div>\n",
              "<style scoped>\n",
              "    .dataframe tbody tr th:only-of-type {\n",
              "        vertical-align: middle;\n",
              "    }\n",
              "\n",
              "    .dataframe tbody tr th {\n",
              "        vertical-align: top;\n",
              "    }\n",
              "\n",
              "    .dataframe thead th {\n",
              "        text-align: right;\n",
              "    }\n",
              "</style>\n",
              "<table border=\"1\" class=\"dataframe\">\n",
              "  <thead>\n",
              "    <tr style=\"text-align: right;\">\n",
              "      <th></th>\n",
              "      <th>Factor_0</th>\n",
              "      <th>Factor_1</th>\n",
              "      <th>Factor_2</th>\n",
              "      <th>stakeholders</th>\n",
              "    </tr>\n",
              "  </thead>\n",
              "  <tbody>\n",
              "    <tr>\n",
              "      <th>0</th>\n",
              "      <td>1</td>\n",
              "      <td>5</td>\n",
              "      <td>6</td>\n",
              "      <td>s1</td>\n",
              "    </tr>\n",
              "    <tr>\n",
              "      <th>1</th>\n",
              "      <td>2</td>\n",
              "      <td>3</td>\n",
              "      <td>4</td>\n",
              "      <td>s2</td>\n",
              "    </tr>\n",
              "  </tbody>\n",
              "</table>\n",
              "</div>"
            ],
            "text/plain": [
              "   Factor_0  Factor_1  Factor_2 stakeholders\n",
              "0         1         5         6           s1\n",
              "1         2         3         4           s2"
            ]
          },
          "metadata": {
            "tags": []
          },
          "execution_count": 136
        }
      ]
    },
    {
      "cell_type": "code",
      "metadata": {
        "id": "a5zrPVsjzTrG"
      },
      "source": [
        ""
      ],
      "execution_count": null,
      "outputs": []
    }
  ]
}
