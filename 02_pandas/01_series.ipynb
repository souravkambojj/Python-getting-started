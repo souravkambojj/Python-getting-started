{
 "cells": [
  {
   "cell_type": "markdown",
   "metadata": {},
   "source": [
    "# Pandas series v/s Numpy array"
   ]
  },
  {
   "cell_type": "raw",
   "metadata": {},
   "source": [
    "numpy array is usually used for mathematical calculations.\n",
    "for merging multiple datasets, series objs are more effficient than ndarrays\n",
    "e.g. dealing with missing values. if there are no matching labels during merging,\n",
    "pandas return NaN so that operation doesn't fail."
   ]
  },
  {
   "cell_type": "raw",
   "metadata": {},
   "source": [
    "pandas comes with convenient import/export func's to import/export data from a specific file format like Excel."
   ]
  },
  {
   "cell_type": "raw",
   "metadata": {},
   "source": [
    "in ndarray the index are non-negative\n",
    "in series default indexes starts from 0 but we can explicitly define them as\n",
    "a=pd.Series([1,2,3,4,5],index=['a','b','c','d','e'])"
   ]
  },
  {
   "cell_type": "markdown",
   "metadata": {},
   "source": [
    "# Series"
   ]
  },
  {
   "cell_type": "raw",
   "metadata": {},
   "source": [
    "Series: Pandas series is a one-dimensional labeled array capable of holding data of any type(int,str,float,python objs,etc.)\n",
    "DataFrame:is two-dimensional size-mutable,potentially heterogeneous tabular data str with labeled axes(rows nd cols)"
   ]
  },
  {
   "cell_type": "code",
   "execution_count": 7,
   "metadata": {},
   "outputs": [
    {
     "name": "stdout",
     "output_type": "stream",
     "text": [
      "Series with default indices :\n",
      "0    1\n",
      "1    2\n",
      "2    3\n",
      "3    4\n",
      "dtype: int64\n"
     ]
    }
   ],
   "source": [
    "                                                  #series from list\n",
    "import pandas as pd\n",
    "import numpy as np\n",
    "a=pd.Series([1,2,3,4])\n",
    "print('Series with default indices :')\n",
    "print(a)\n"
   ]
  },
  {
   "cell_type": "code",
   "execution_count": 8,
   "metadata": {},
   "outputs": [
    {
     "name": "stdout",
     "output_type": "stream",
     "text": [
      "Series with explicitly defined indices: \n",
      "a    1\n",
      "b    2\n",
      "c    3\n",
      "d    4\n",
      "dtype: int64\n"
     ]
    }
   ],
   "source": [
    "a=pd.Series([1,2,3,4],index=['a','b','c','d'])\n",
    "print('Series with explicitly defined indices: ')\n",
    "print(a)"
   ]
  },
  {
   "cell_type": "code",
   "execution_count": 9,
   "metadata": {},
   "outputs": [
    {
     "data": {
      "text/plain": [
       "a    1\n",
       "b    2\n",
       "c    3\n",
       "d    4\n",
       "e    5\n",
       "dtype: int64"
      ]
     },
     "execution_count": 9,
     "metadata": {},
     "output_type": "execute_result"
    }
   ],
   "source": [
    "                                     #series from numpy array\n",
    "b=pd.Series(np.array([1,2,3,4,5]),index=['a','b','c','d','e'])\n",
    "b"
   ]
  },
  {
   "cell_type": "code",
   "execution_count": 10,
   "metadata": {},
   "outputs": [
    {
     "data": {
      "text/plain": [
       "a    1\n",
       "b    2\n",
       "c    3\n",
       "d    4\n",
       "dtype: int64"
      ]
     },
     "execution_count": 10,
     "metadata": {},
     "output_type": "execute_result"
    }
   ],
   "source": [
    "                                #series from dictionary\n",
    "d={'a':1,'b':2,'c':3,'d':4}\n",
    "pd.Series(d)"
   ]
  },
  {
   "cell_type": "code",
   "execution_count": 1,
   "metadata": {},
   "outputs": [],
   "source": [
    "import pandas as pd\n",
    "pd.Series"
   ]
  },
  {
   "cell_type": "code",
   "execution_count": 11,
   "metadata": {},
   "outputs": [],
   "source": [
    "se1=pd.Series([1,2,3,4],index=['a','b','c','d'])\n",
    "se2=pd.Series([1,5,3,4],index=['a','e','c','d'])"
   ]
  },
  {
   "cell_type": "code",
   "execution_count": 12,
   "metadata": {},
   "outputs": [
    {
     "name": "stdout",
     "output_type": "stream",
     "text": [
      "accessing a specific element:  2\n"
     ]
    }
   ],
   "source": [
    "print('accessing a specific element: ',se1['b'])"
   ]
  },
  {
   "cell_type": "code",
   "execution_count": 13,
   "metadata": {},
   "outputs": [
    {
     "name": "stdout",
     "output_type": "stream",
     "text": [
      "after merging: a    2.0\n",
      "b    NaN\n",
      "c    6.0\n",
      "d    8.0\n",
      "e    NaN\n",
      "dtype: float64\n"
     ]
    }
   ],
   "source": [
    "print('after merging:',se1+se2)"
   ]
  },
  {
   "cell_type": "code",
   "execution_count": null,
   "metadata": {},
   "outputs": [],
   "source": []
  }
 ],
 "metadata": {
  "kernelspec": {
   "display_name": "Python 3",
   "language": "python",
   "name": "python3"
  },
  "language_info": {
   "codemirror_mode": {
    "name": "ipython",
    "version": 3
   },
   "file_extension": ".py",
   "mimetype": "text/x-python",
   "name": "python",
   "nbconvert_exporter": "python",
   "pygments_lexer": "ipython3",
   "version": "3.7.3"
  }
 },
 "nbformat": 4,
 "nbformat_minor": 2
}
