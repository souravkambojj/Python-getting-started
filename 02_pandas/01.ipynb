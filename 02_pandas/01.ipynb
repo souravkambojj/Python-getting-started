{
 "cells": [
  {
   "cell_type": "code",
   "execution_count": 9,
   "metadata": {},
   "outputs": [
    {
     "ename": "TypeError",
     "evalue": "can't multiply sequence by non-int of type 'list'",
     "output_type": "error",
     "traceback": [
      "\u001b[0;31m---------------------------------------------------------------------------\u001b[0m",
      "\u001b[0;31mTypeError\u001b[0m                                 Traceback (most recent call last)",
      "\u001b[0;32m<ipython-input-9-0cdd82028749>\u001b[0m in \u001b[0;36m<module>\u001b[0;34m\u001b[0m\n\u001b[1;32m      1\u001b[0m \u001b[0ma\u001b[0m\u001b[0;34m=\u001b[0m\u001b[0;34m[\u001b[0m\u001b[0;36m1\u001b[0m\u001b[0;34m,\u001b[0m\u001b[0;36m2\u001b[0m\u001b[0;34m]\u001b[0m\u001b[0;34m\u001b[0m\u001b[0;34m\u001b[0m\u001b[0m\n\u001b[1;32m      2\u001b[0m \u001b[0mb\u001b[0m\u001b[0;34m=\u001b[0m\u001b[0;34m[\u001b[0m\u001b[0;36m3\u001b[0m\u001b[0;34m,\u001b[0m\u001b[0;36m4\u001b[0m\u001b[0;34m]\u001b[0m\u001b[0;34m\u001b[0m\u001b[0;34m\u001b[0m\u001b[0m\n\u001b[0;32m----> 3\u001b[0;31m \u001b[0mc\u001b[0m\u001b[0;34m=\u001b[0m\u001b[0ma\u001b[0m\u001b[0;34m*\u001b[0m\u001b[0mb\u001b[0m\u001b[0;34m\u001b[0m\u001b[0;34m\u001b[0m\u001b[0m\n\u001b[0m\u001b[1;32m      4\u001b[0m \u001b[0mc\u001b[0m\u001b[0;34m\u001b[0m\u001b[0;34m\u001b[0m\u001b[0m\n",
      "\u001b[0;31mTypeError\u001b[0m: can't multiply sequence by non-int of type 'list'"
     ]
    }
   ],
   "source": [
    "a=[1,2]\n",
    "b=[3,4]\n",
    "c=a*b\n",
    "c"
   ]
  },
  {
   "cell_type": "code",
   "execution_count": null,
   "metadata": {},
   "outputs": [],
   "source": [
    "multiplication operation can't be applied on list elements\n",
    "hence, we go for numpy array."
   ]
  },
  {
   "cell_type": "code",
   "execution_count": 3,
   "metadata": {},
   "outputs": [
    {
     "data": {
      "text/plain": [
       "array([[ 3,  8],\n",
       "       [15, 24]])"
      ]
     },
     "execution_count": 3,
     "metadata": {},
     "output_type": "execute_result"
    }
   ],
   "source": [
    "import numpy as np\n",
    "\n",
    "a=np.array([[1,2],[3,4]])\n",
    "b=np.array([[3,4],[5,6]])\n",
    "a*b"
   ]
  },
  {
   "cell_type": "code",
   "execution_count": null,
   "metadata": {},
   "outputs": [],
   "source": [
    "1.Numpy is a general-purpose array processing pkg.\n",
    "2.Array in Numpy is a table containing elements, all of the same type(usually numbers), indexed by a touple of non-negative integers.\n",
    "   a) Note:Type of array can be explicitly defined while creating the array.\n",
    "   b) The type of resultant array is deduced from the type of the elements in the sequences.\n",
    "3. In Numpy, no of dimensions of the array is known as rank of array."
   ]
  },
  {
   "cell_type": "markdown",
   "metadata": {},
   "source": [
    "# Array creation"
   ]
  },
  {
   "cell_type": "code",
   "execution_count": 35,
   "metadata": {},
   "outputs": [
    {
     "name": "stdout",
     "output_type": "stream",
     "text": [
      "[1 2 3 4] \n",
      "\n",
      "[[1 2 3]\n",
      " [4 5 6]\n",
      " [7 8 9]]\n"
     ]
    }
   ],
   "source": [
    "                                        #from list\n",
    "#array with rank1 \n",
    "a=np.array([1,2,3,4])\n",
    "print(a,'\\n')\n",
    "\n",
    "#array with rank2 \n",
    "b=np.array([[1,2,3],[4,5,6],[7,8,9]])\n",
    "print(b)"
   ]
  },
  {
   "cell_type": "code",
   "execution_count": 55,
   "metadata": {},
   "outputs": [
    {
     "data": {
      "text/plain": [
       "matrix([[1, 2, 3],\n",
       "        [4, 5, 6],\n",
       "        [7, 8, 9]])"
      ]
     },
     "execution_count": 55,
     "metadata": {},
     "output_type": "execute_result"
    }
   ],
   "source": [
    "                                    #matrix\n",
    "m=np.matrix('1 2 3;4 5 6;7 8 9')\n",
    "m"
   ]
  },
  {
   "cell_type": "code",
   "execution_count": 42,
   "metadata": {},
   "outputs": [
    {
     "name": "stdout",
     "output_type": "stream",
     "text": [
      "[[0. 0. 0. 0.]\n",
      " [0. 0. 0. 0.]\n",
      " [0. 0. 0. 0.]] \n",
      "\n",
      "\n",
      "[[1. 1. 1.]\n",
      " [1. 1. 1.]\n",
      " [1. 1. 1.]\n",
      " [1. 1. 1.]] \n",
      "\n",
      "\n",
      "[[1. 0. 0. 0.]\n",
      " [0. 1. 0. 0.]\n",
      " [0. 0. 1. 0.]\n",
      " [0. 0. 0. 1.]]\n"
     ]
    }
   ],
   "source": [
    "                                    #zeros, ones, eye\n",
    "print(np.zeros((3,4)),'\\n\\n')\n",
    "print(np.ones((4,3)),'\\n\\n')\n",
    "print(np.eye((4)))"
   ]
  },
  {
   "cell_type": "code",
   "execution_count": 45,
   "metadata": {},
   "outputs": [
    {
     "name": "stdout",
     "output_type": "stream",
     "text": [
      "with default step size:  [0 1 2 3 4 5 6]\n",
      "with step size 3:  [0 3]\n",
      "with step size 0.5:  [1.  1.5 2.  2.5 3.  3.5 4.  4.5 5.  5.5 6.  6.5]\n"
     ]
    }
   ],
   "source": [
    "####################################################   1-d array\n",
    "#arange(start_value,end_value,step_size)\n",
    "#default s_value=0, step_size=1\n",
    "\n",
    "a=np.arange(7)\n",
    "b=np.arange(0,6,3)\n",
    "c=np.arange(1,7,0.5)\n",
    "print(\"with default step size: \",a)\n",
    "print(\"with step size 3: \",b)\n",
    "print(\"with step size 0.5: \",c)\n",
    "    "
   ]
  },
  {
   "cell_type": "code",
   "execution_count": 47,
   "metadata": {},
   "outputs": [
    {
     "data": {
      "text/plain": [
       "array([2. , 3.5, 5. , 6.5, 8. ])"
      ]
     },
     "execution_count": 47,
     "metadata": {},
     "output_type": "execute_result"
    }
   ],
   "source": [
    "######################################################   1-d array\n",
    "#linspace(s_value,e_value,no of elements)   \n",
    "#it creates arrays with specific no of elements, which are equally spaced b/w begining and end value.\n",
    "e=np.linspace(2,8,5)\n",
    "e"
   ]
  },
  {
   "cell_type": "code",
   "execution_count": 53,
   "metadata": {},
   "outputs": [
    {
     "name": "stdout",
     "output_type": "stream",
     "text": [
      "[7 5 2 5 2]\n",
      "87\n",
      "[16 74 50 70 44 73 98 24 24 59]\n"
     ]
    }
   ],
   "source": [
    "######################################################    1-d array\n",
    "#randint(s_value,e_value,no of elements)\n",
    "\n",
    "from numpy.random import randint as rd\n",
    "\n",
    "f=rd(2,8,5)\n",
    "print(f)\n",
    "\n",
    "#by default no of elements is 1\n",
    "\n",
    "g=rd(45,90)\n",
    "print(g)\n",
    "\n",
    "h=rd(1,100,10)\n",
    "print(h)"
   ]
  },
  {
   "cell_type": "code",
   "execution_count": 49,
   "metadata": {},
   "outputs": [
    {
     "name": "stdout",
     "output_type": "stream",
     "text": [
      "randomly constructing 1d array with 5 elements:  [0.00393342 0.35124434 0.11398232 0.33598378 0.56786599]\n",
      "randomly const 2d array with 2 rows nd 3 columns:  [[0.30655928 0.6568331  0.87332613]\n",
      " [0.82947114 0.76904636 0.35050827]]\n",
      "randomly constructing 3d array: with dimensions(3,4,2):  [[[0.51882925 0.35505721]\n",
      "  [0.71322146 0.14411096]\n",
      "  [0.63605416 0.57562686]\n",
      "  [0.15514393 0.36627687]]\n",
      "\n",
      " [[0.95711312 0.93568677]\n",
      "  [0.60090266 0.61689717]\n",
      "  [0.97149823 0.20427201]\n",
      "  [0.84169337 0.55347525]]\n",
      "\n",
      " [[0.56256736 0.59327836]\n",
      "  [0.0228753  0.07894151]\n",
      "  [0.02988173 0.82982151]\n",
      "  [0.68212133 0.12145929]]]\n"
     ]
    }
   ],
   "source": [
    "#numpy.random.rand()\n",
    "from numpy.random import rand as rn\n",
    "\n",
    "x=rn(5)\n",
    "y=rn(2,3)\n",
    "z=rn(3,4,2)\n",
    "print(\"randomly constructing 1d array with 5 elements: \",x)\n",
    "print('randomly const 2d array with 2 rows nd 3 columns: ',y)\n",
    "print('randomly constructing 3d array: with dimensions(3,4,2): ',z)"
   ]
  },
  {
   "cell_type": "code",
   "execution_count": null,
   "metadata": {},
   "outputs": [],
   "source": []
  }
 ],
 "metadata": {
  "kernelspec": {
   "display_name": "Python 3",
   "language": "python",
   "name": "python3"
  },
  "language_info": {
   "codemirror_mode": {
    "name": "ipython",
    "version": 3
   },
   "file_extension": ".py",
   "mimetype": "text/x-python",
   "name": "python",
   "nbconvert_exporter": "python",
   "pygments_lexer": "ipython3",
   "version": "3.7.3"
  }
 },
 "nbformat": 4,
 "nbformat_minor": 2
}
