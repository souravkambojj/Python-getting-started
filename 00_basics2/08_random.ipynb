{
  "nbformat": 4,
  "nbformat_minor": 0,
  "metadata": {
    "colab": {
      "provenance": [],
      "collapsed_sections": []
    },
    "kernelspec": {
      "name": "python3",
      "display_name": "Python 3"
    },
    "language_info": {
      "name": "python"
    }
  },
  "cells": [
    {
      "cell_type": "markdown",
      "source": [
        "ex-1\n"
      ],
      "metadata": {
        "id": "lNVIgymIUAlj"
      }
    },
    {
      "cell_type": "code",
      "execution_count": 3,
      "metadata": {
        "colab": {
          "base_uri": "https://localhost:8080/"
        },
        "id": "Mkmnl8FjJsn2",
        "outputId": "ce5d1e90-0d5b-4c02-8428-07d94651290c"
      },
      "outputs": [
        {
          "output_type": "execute_result",
          "data": {
            "text/plain": [
              "{7: [0, 5], 1: [1, 4], 3: [2], 4: [3]}"
            ]
          },
          "metadata": {},
          "execution_count": 3
        }
      ],
      "source": [
        "dist_ = {}\n",
        "a = [7,1,3,4,1,7]\n",
        "\n",
        "for i,x in enumerate(a):\n",
        "  if dist_.get(x,0):\n",
        "    dist_[x].append(i)\n",
        "  else:\n",
        "    dist_[x] = [i]\n",
        "\n",
        "dist_"
      ]
    },
    {
      "cell_type": "markdown",
      "source": [
        "ex-2"
      ],
      "metadata": {
        "id": "1Yi-rPnPUFSC"
      }
    },
    {
      "cell_type": "code",
      "source": [
        "str = 'abcde'\n",
        "list(str)"
      ],
      "metadata": {
        "colab": {
          "base_uri": "https://localhost:8080/"
        },
        "id": "HFMr_ennNcHF",
        "outputId": "19fca65b-2f54-4d68-be6b-6c9eabb1030d"
      },
      "execution_count": 7,
      "outputs": [
        {
          "output_type": "execute_result",
          "data": {
            "text/plain": [
              "['a', 'b', 'c', 'd', 'e']"
            ]
          },
          "metadata": {},
          "execution_count": 7
        }
      ]
    },
    {
      "cell_type": "code",
      "source": [
        "list(str)[::-1]"
      ],
      "metadata": {
        "colab": {
          "base_uri": "https://localhost:8080/"
        },
        "id": "_JwmDQiCUGs4",
        "outputId": "66dc177e-f0c7-4d7c-90e0-09adaeb3de76"
      },
      "execution_count": 8,
      "outputs": [
        {
          "output_type": "execute_result",
          "data": {
            "text/plain": [
              "['e', 'd', 'c', 'b', 'a']"
            ]
          },
          "metadata": {},
          "execution_count": 8
        }
      ]
    },
    {
      "cell_type": "code",
      "source": [
        "''.join(list(str)[::-1])"
      ],
      "metadata": {
        "colab": {
          "base_uri": "https://localhost:8080/",
          "height": 35
        },
        "id": "OsWEEnbQU25X",
        "outputId": "197d6b11-b9df-4be2-9e80-e0fe7083ab41"
      },
      "execution_count": 9,
      "outputs": [
        {
          "output_type": "execute_result",
          "data": {
            "text/plain": [
              "'edcba'"
            ],
            "application/vnd.google.colaboratory.intrinsic+json": {
              "type": "string"
            }
          },
          "metadata": {},
          "execution_count": 9
        }
      ]
    },
    {
      "cell_type": "markdown",
      "source": [
        "ex-3"
      ],
      "metadata": {
        "id": "ei_U9HbNVA8O"
      }
    },
    {
      "cell_type": "code",
      "source": [],
      "metadata": {
        "id": "PvzP4f1uU-nu"
      },
      "execution_count": null,
      "outputs": []
    }
  ]
}