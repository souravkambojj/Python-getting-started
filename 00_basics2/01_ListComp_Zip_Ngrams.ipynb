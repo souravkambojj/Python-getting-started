{
  "nbformat": 4,
  "nbformat_minor": 0,
  "metadata": {
    "colab": {
      "name": "01_ListComp_Zip_Ngrams.ipynb",
      "provenance": [],
      "collapsed_sections": []
    },
    "kernelspec": {
      "name": "python3",
      "display_name": "Python 3"
    }
  },
  "cells": [
    {
      "cell_type": "markdown",
      "metadata": {
        "id": "V_10cXJPjEyR"
      },
      "source": [
        "## **List Comprehension**"
      ]
    },
    {
      "cell_type": "code",
      "metadata": {
        "id": "CMAXsyvUjIiO"
      },
      "source": [
        "#List comprehension is a complete substitute to \r\n",
        "#for loops,lambda,map and reduce functions"
      ],
      "execution_count": 1,
      "outputs": []
    },
    {
      "cell_type": "code",
      "metadata": {
        "colab": {
          "base_uri": "https://localhost:8080/"
        },
        "id": "ncFojP-fjJQc",
        "outputId": "a403dcda-2a4b-43eb-f3da-e060fde2c290"
      },
      "source": [
        "#square of each number\r\n",
        "[i**2 for i in range(1,5)]"
      ],
      "execution_count": 3,
      "outputs": [
        {
          "output_type": "execute_result",
          "data": {
            "text/plain": [
              "[1, 4, 9, 16]"
            ]
          },
          "metadata": {
            "tags": []
          },
          "execution_count": 3
        }
      ]
    },
    {
      "cell_type": "code",
      "metadata": {
        "colab": {
          "base_uri": "https://localhost:8080/"
        },
        "id": "6yS9HVb5jViU",
        "outputId": "9e0fec44-5217-4635-ef28-9a81479ecfb9"
      },
      "source": [
        "#square of odd numbers\r\n",
        "[i**2 for i in range(10) if (i%2!=0)]     #if condition"
      ],
      "execution_count": 4,
      "outputs": [
        {
          "output_type": "execute_result",
          "data": {
            "text/plain": [
              "[1, 9, 25, 49, 81]"
            ]
          },
          "metadata": {
            "tags": []
          },
          "execution_count": 4
        }
      ]
    },
    {
      "cell_type": "code",
      "metadata": {
        "colab": {
          "base_uri": "https://localhost:8080/"
        },
        "id": "J7i6Ajjmjlrw",
        "outputId": "7fe21713-29f3-4a2e-9290-03e34a311986"
      },
      "source": [
        "#take square if numbers divisible by 2 and 3\r\n",
        "[i**2 for i in range(1,15) if(i%2==0) if(i%3==0)]     #nested if"
      ],
      "execution_count": 6,
      "outputs": [
        {
          "output_type": "execute_result",
          "data": {
            "text/plain": [
              "[36, 144]"
            ]
          },
          "metadata": {
            "tags": []
          },
          "execution_count": 6
        }
      ]
    },
    {
      "cell_type": "code",
      "metadata": {
        "colab": {
          "base_uri": "https://localhost:8080/"
        },
        "id": "6sV9vxtmj4lx",
        "outputId": "c90f8ceb-007d-40c4-8ec9-b1a102d86cca"
      },
      "source": [
        "#add 2 if even sub 1 if odd\r\n",
        "[i+2 if(i%2==0) else i-1  for i in range(1,8)]       #if-else"
      ],
      "execution_count": 7,
      "outputs": [
        {
          "output_type": "execute_result",
          "data": {
            "text/plain": [
              "[0, 4, 2, 6, 4, 8, 6]"
            ]
          },
          "metadata": {
            "tags": []
          },
          "execution_count": 7
        }
      ]
    },
    {
      "cell_type": "code",
      "metadata": {
        "colab": {
          "base_uri": "https://localhost:8080/"
        },
        "id": "mO4xVJQvkNVd",
        "outputId": "8740a6b4-42bc-4bdf-c2e4-e7ff862c8717"
      },
      "source": [
        "#nested list comprehension\r\n",
        "arr = [[1,2],[3,4],[5,6]]\r\n",
        "[i for list_ in arr for i in list_]"
      ],
      "execution_count": 8,
      "outputs": [
        {
          "output_type": "execute_result",
          "data": {
            "text/plain": [
              "[1, 2, 3, 4, 5, 6]"
            ]
          },
          "metadata": {
            "tags": []
          },
          "execution_count": 8
        }
      ]
    },
    {
      "cell_type": "code",
      "metadata": {
        "colab": {
          "base_uri": "https://localhost:8080/"
        },
        "id": "cE8LfejNlR1l",
        "outputId": "0ff53937-0af9-4189-ac84-8d1d1dfec15b"
      },
      "source": [
        "import timeit\r\n",
        "\r\n",
        "print(timeit.timeit('[i**2 for i in range(10)]',number=1000000)) #number is number of executions we want to consider"
      ],
      "execution_count": 9,
      "outputs": [
        {
          "output_type": "stream",
          "text": [
            "2.8145805899999914\n"
          ],
          "name": "stdout"
        }
      ]
    },
    {
      "cell_type": "code",
      "metadata": {
        "id": "ifqGRRQtlai0"
      },
      "source": [
        "a=10\r\n",
        "l2=[]\r\n",
        "def func(n):\r\n",
        "    for i in range(n):\r\n",
        "        l2.append(i**2)\r\n",
        "        \r\n",
        "    return l2"
      ],
      "execution_count": 11,
      "outputs": []
    },
    {
      "cell_type": "code",
      "metadata": {
        "colab": {
          "base_uri": "https://localhost:8080/"
        },
        "id": "745G326ElcbT",
        "outputId": "9dbbfe15-e7d7-4502-d798-d4373bb072fa"
      },
      "source": [
        "print(timeit.timeit('func(a)', globals=globals(),number=1000000))"
      ],
      "execution_count": 12,
      "outputs": [
        {
          "output_type": "stream",
          "text": [
            "3.4784114340000087\n"
          ],
          "name": "stdout"
        }
      ]
    },
    {
      "cell_type": "markdown",
      "metadata": {
        "id": "Fu3-fbHxlqOp"
      },
      "source": [
        "## **Zip**"
      ]
    },
    {
      "cell_type": "code",
      "metadata": {
        "id": "M2iMuMaolf_1"
      },
      "source": [
        "name = ['vivek','opinder','niranjan','vikram','yogesh']\r\n",
        "comp = ['MNC','samsung','oracle','ongc','subros']\r\n",
        "age = [23,24,22,26,25]"
      ],
      "execution_count": 13,
      "outputs": []
    },
    {
      "cell_type": "code",
      "metadata": {
        "colab": {
          "base_uri": "https://localhost:8080/"
        },
        "id": "JoQY2hEGmCUL",
        "outputId": "2d107029-066d-42b8-d8fe-c25eb8d5afa3"
      },
      "source": [
        "res1 = list(zip(name,comp,age))\r\n",
        "res1"
      ],
      "execution_count": 15,
      "outputs": [
        {
          "output_type": "execute_result",
          "data": {
            "text/plain": [
              "[('vivek', 'MNC', 23),\n",
              " ('opinder', 'samsung', 24),\n",
              " ('niranjan', 'oracle', 22),\n",
              " ('vikram', 'ongc', 26),\n",
              " ('yogesh', 'subros', 25)]"
            ]
          },
          "metadata": {
            "tags": []
          },
          "execution_count": 15
        }
      ]
    },
    {
      "cell_type": "code",
      "metadata": {
        "colab": {
          "base_uri": "https://localhost:8080/"
        },
        "id": "5j3A8EQfmQCw",
        "outputId": "faea44dd-d7d3-4d6f-feb3-254905cd15d5"
      },
      "source": [
        "res2 = set(zip(name,comp,age))\r\n",
        "res2"
      ],
      "execution_count": 17,
      "outputs": [
        {
          "output_type": "execute_result",
          "data": {
            "text/plain": [
              "{('niranjan', 'oracle', 22),\n",
              " ('opinder', 'samsung', 24),\n",
              " ('vikram', 'ongc', 26),\n",
              " ('vivek', 'MNC', 23),\n",
              " ('yogesh', 'subros', 25)}"
            ]
          },
          "metadata": {
            "tags": []
          },
          "execution_count": 17
        }
      ]
    },
    {
      "cell_type": "code",
      "metadata": {
        "colab": {
          "base_uri": "https://localhost:8080/"
        },
        "id": "OY8K7S6BmVVo",
        "outputId": "c58e210c-6451-4130-ba62-d0bf49b09645"
      },
      "source": [
        "for i,j in list(zip(name,age)):\r\n",
        "  print('Player: %s  Age: %d'%(i,j))"
      ],
      "execution_count": 19,
      "outputs": [
        {
          "output_type": "stream",
          "text": [
            "Player: vivek  Age: 23\n",
            "Player: opinder  Age: 24\n",
            "Player: niranjan  Age: 22\n",
            "Player: vikram  Age: 26\n",
            "Player: yogesh  Age: 25\n"
          ],
          "name": "stdout"
        }
      ]
    },
    {
      "cell_type": "markdown",
      "metadata": {
        "id": "a_icpWjAm1Mh"
      },
      "source": [
        "## **Unzipping**"
      ]
    },
    {
      "cell_type": "code",
      "metadata": {
        "id": "zPm4N0TYmqil"
      },
      "source": [
        "n,c,a = zip(*res1)"
      ],
      "execution_count": 20,
      "outputs": []
    },
    {
      "cell_type": "code",
      "metadata": {
        "colab": {
          "base_uri": "https://localhost:8080/"
        },
        "id": "KKl2pWX-m_BF",
        "outputId": "bc4f571b-1713-448d-e8ef-878223d6ff93"
      },
      "source": [
        "print(n)\r\n",
        "print(c)\r\n",
        "print(a)"
      ],
      "execution_count": 21,
      "outputs": [
        {
          "output_type": "stream",
          "text": [
            "('vivek', 'opinder', 'niranjan', 'vikram', 'yogesh')\n",
            "('MNC', 'samsung', 'oracle', 'ongc', 'subros')\n",
            "(23, 24, 22, 26, 25)\n"
          ],
          "name": "stdout"
        }
      ]
    },
    {
      "cell_type": "code",
      "metadata": {
        "id": "D6VOdb7dnCPQ"
      },
      "source": [
        "#imp\r\n",
        "import numpy as np\r\n",
        "a = np.array(['a','a','b','d','c','d','c','c','d','d'])\r\n",
        "b = np.array(['a','b','c','d'])\r\n",
        "c = np.array([5,4,9,6])"
      ],
      "execution_count": 24,
      "outputs": []
    },
    {
      "cell_type": "code",
      "metadata": {
        "colab": {
          "base_uri": "https://localhost:8080/"
        },
        "id": "I3aPGzHdnTcn",
        "outputId": "e0d8fe51-227e-4031-a819-25ca979c49a1"
      },
      "source": [
        "print(np.unique(a,return_counts=True))"
      ],
      "execution_count": 25,
      "outputs": [
        {
          "output_type": "stream",
          "text": [
            "(array(['a', 'b', 'c', 'd'], dtype='<U1'), array([2, 1, 3, 4]))\n"
          ],
          "name": "stdout"
        }
      ]
    },
    {
      "cell_type": "code",
      "metadata": {
        "colab": {
          "base_uri": "https://localhost:8080/"
        },
        "id": "ilxtnsAxn1to",
        "outputId": "2c0bcf79-be4e-4100-ea8b-413399cdc6cf"
      },
      "source": [
        "list(zip(*np.unique(a,return_counts=True)))"
      ],
      "execution_count": 28,
      "outputs": [
        {
          "output_type": "stream",
          "text": [
            "[('a', 2), ('b', 1), ('c', 3), ('d', 4)]\n"
          ],
          "name": "stdout"
        }
      ]
    },
    {
      "cell_type": "code",
      "metadata": {
        "colab": {
          "base_uri": "https://localhost:8080/"
        },
        "id": "qZ8FU8bsoBal",
        "outputId": "75149d41-1db4-4425-c182-8c76d3935757"
      },
      "source": [
        "list(zip(*(b,c)))"
      ],
      "execution_count": 29,
      "outputs": [
        {
          "output_type": "execute_result",
          "data": {
            "text/plain": [
              "[('a', 5), ('b', 4), ('c', 9), ('d', 6)]"
            ]
          },
          "metadata": {
            "tags": []
          },
          "execution_count": 29
        }
      ]
    },
    {
      "cell_type": "markdown",
      "metadata": {
        "id": "1UuJwMK9oe_v"
      },
      "source": [
        "## **N-grams**"
      ]
    },
    {
      "cell_type": "markdown",
      "metadata": {
        "id": "QPG-TRDUoniX"
      },
      "source": [
        "## **Bi-Grams**"
      ]
    },
    {
      "cell_type": "code",
      "metadata": {
        "id": "eqw6KvI3oMrV"
      },
      "source": [
        "list1=['good evening sir how r u','what would you like to order','one banana shake please']"
      ],
      "execution_count": 30,
      "outputs": []
    },
    {
      "cell_type": "code",
      "metadata": {
        "colab": {
          "base_uri": "https://localhost:8080/"
        },
        "id": "SgQI3l1lo2Vw",
        "outputId": "84208244-6e3c-4d90-d712-d5cba8994255"
      },
      "source": [
        "[j for i in list1  for j in zip(i.split()[:-1],i.split()[1:])]"
      ],
      "execution_count": 36,
      "outputs": [
        {
          "output_type": "execute_result",
          "data": {
            "text/plain": [
              "[('good', 'evening'),\n",
              " ('evening', 'sir'),\n",
              " ('sir', 'how'),\n",
              " ('how', 'r'),\n",
              " ('r', 'u'),\n",
              " ('what', 'would'),\n",
              " ('would', 'you'),\n",
              " ('you', 'like'),\n",
              " ('like', 'to'),\n",
              " ('to', 'order'),\n",
              " ('one', 'banana'),\n",
              " ('banana', 'shake'),\n",
              " ('shake', 'please')]"
            ]
          },
          "metadata": {
            "tags": []
          },
          "execution_count": 36
        }
      ]
    },
    {
      "cell_type": "markdown",
      "metadata": {
        "id": "9ElqM37vp5c9"
      },
      "source": [
        "## **Tri-gram**"
      ]
    },
    {
      "cell_type": "code",
      "metadata": {
        "colab": {
          "base_uri": "https://localhost:8080/"
        },
        "id": "yDWCfdlNpcvi",
        "outputId": "6f3959d8-5cc5-4bf5-8a9e-3719e9f89c4b"
      },
      "source": [
        "[j for i in list1  for j in zip(i.split()[:-2],i.split()[1:-1],i.split()[2:])]"
      ],
      "execution_count": 37,
      "outputs": [
        {
          "output_type": "execute_result",
          "data": {
            "text/plain": [
              "[('good', 'evening', 'sir'),\n",
              " ('evening', 'sir', 'how'),\n",
              " ('sir', 'how', 'r'),\n",
              " ('how', 'r', 'u'),\n",
              " ('what', 'would', 'you'),\n",
              " ('would', 'you', 'like'),\n",
              " ('you', 'like', 'to'),\n",
              " ('like', 'to', 'order'),\n",
              " ('one', 'banana', 'shake'),\n",
              " ('banana', 'shake', 'please')]"
            ]
          },
          "metadata": {
            "tags": []
          },
          "execution_count": 37
        }
      ]
    },
    {
      "cell_type": "markdown",
      "metadata": {
        "id": "b6yNWmhJqN0N"
      },
      "source": [
        "## **N-gram**"
      ]
    },
    {
      "cell_type": "code",
      "metadata": {
        "id": "5b0sZPMIqKW3"
      },
      "source": [
        "from nltk import ngrams\r\n",
        "sent='hii sir this is to inform you that tommorow i will be on leave'"
      ],
      "execution_count": 39,
      "outputs": []
    },
    {
      "cell_type": "code",
      "metadata": {
        "colab": {
          "base_uri": "https://localhost:8080/"
        },
        "id": "OPP_Y6lJq8Q3",
        "outputId": "dd1c652a-1b61-4337-e666-96e68d88fce8"
      },
      "source": [
        "n = 6\r\n",
        "six_grams = ngrams(sent.split(),n)\r\n",
        "for x in six_grams:\r\n",
        "  print(x)"
      ],
      "execution_count": 40,
      "outputs": [
        {
          "output_type": "stream",
          "text": [
            "('hii', 'sir', 'this', 'is', 'to', 'inform')\n",
            "('sir', 'this', 'is', 'to', 'inform', 'you')\n",
            "('this', 'is', 'to', 'inform', 'you', 'that')\n",
            "('is', 'to', 'inform', 'you', 'that', 'tommorow')\n",
            "('to', 'inform', 'you', 'that', 'tommorow', 'i')\n",
            "('inform', 'you', 'that', 'tommorow', 'i', 'will')\n",
            "('you', 'that', 'tommorow', 'i', 'will', 'be')\n",
            "('that', 'tommorow', 'i', 'will', 'be', 'on')\n",
            "('tommorow', 'i', 'will', 'be', 'on', 'leave')\n"
          ],
          "name": "stdout"
        }
      ]
    },
    {
      "cell_type": "code",
      "metadata": {
        "id": "2MDsRnFNrMbN"
      },
      "source": [
        ""
      ],
      "execution_count": null,
      "outputs": []
    }
  ]
}