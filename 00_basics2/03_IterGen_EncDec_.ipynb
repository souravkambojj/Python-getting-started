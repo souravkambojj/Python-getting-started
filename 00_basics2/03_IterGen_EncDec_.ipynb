{
  "nbformat": 4,
  "nbformat_minor": 0,
  "metadata": {
    "colab": {
      "name": "03_IterGen_EncDec_.ipynb",
      "provenance": [],
      "collapsed_sections": []
    },
    "kernelspec": {
      "name": "python3",
      "display_name": "Python 3"
    }
  },
  "cells": [
    {
      "cell_type": "markdown",
      "metadata": {
        "id": "3rGezzn4s64e"
      },
      "source": [
        "## **Iterator**"
      ]
    },
    {
      "cell_type": "code",
      "metadata": {
        "id": "fJXxXCnXs-or"
      },
      "source": [
        "class count():\r\n",
        "  def __init__(self,low,high):\r\n",
        "    self.lower = low\r\n",
        "    self.higher = high\r\n",
        "\r\n",
        "  def __iter__(self):\r\n",
        "    return self\r\n",
        "\r\n",
        "  def __next__(self):\r\n",
        "    if self.lower > self.higher:\r\n",
        "      raise StopIteration\r\n",
        "\r\n",
        "    else:\r\n",
        "      x = self.lower\r\n",
        "      self.lower +=1\r\n",
        "      return x"
      ],
      "execution_count": 6,
      "outputs": []
    },
    {
      "cell_type": "code",
      "metadata": {
        "colab": {
          "base_uri": "https://localhost:8080/"
        },
        "id": "woy-Enhdt-fp",
        "outputId": "20832480-a64e-42da-e563-502141299327"
      },
      "source": [
        "for i in count(1,5):\r\n",
        "  print(i,end=' ')"
      ],
      "execution_count": 7,
      "outputs": [
        {
          "output_type": "stream",
          "text": [
            "1 2 3 4 5 "
          ],
          "name": "stdout"
        }
      ]
    },
    {
      "cell_type": "code",
      "metadata": {
        "id": "aphcxOelukIM"
      },
      "source": [
        "class square:\r\n",
        "  def __init__(self,l,h):\r\n",
        "    self.lower = l\r\n",
        "    self.higher = h\r\n",
        "  \r\n",
        "  def __iter__(self):\r\n",
        "    return self\r\n",
        "\r\n",
        "  def __next__(self):\r\n",
        "    if self.lower>self.higher:\r\n",
        "      raise StopIteration\r\n",
        "    else:\r\n",
        "      x = self.lower * self.lower\r\n",
        "      self.lower +=1\r\n",
        "      return x"
      ],
      "execution_count": 11,
      "outputs": []
    },
    {
      "cell_type": "code",
      "metadata": {
        "colab": {
          "base_uri": "https://localhost:8080/"
        },
        "id": "vQKKNInzvG5p",
        "outputId": "0cc66fb9-7307-4024-89ca-a1bf1f6031d8"
      },
      "source": [
        "for i in square(1,5):\r\n",
        "  print(i, end = ' ')"
      ],
      "execution_count": 12,
      "outputs": [
        {
          "output_type": "stream",
          "text": [
            "1 4 9 16 25 "
          ],
          "name": "stdout"
        }
      ]
    },
    {
      "cell_type": "code",
      "metadata": {
        "colab": {
          "base_uri": "https://localhost:8080/"
        },
        "id": "J3qT0pKOvYp9",
        "outputId": "8f1a29a1-ec9c-4029-9c57-6ae33f4e6f54"
      },
      "source": [
        "animals = ['cat','dog','horse','pig','goat','cow']\r\n",
        "iter_animal_list = animals.__iter__()\r\n",
        "\r\n",
        "print(iter_animal_list.__next__())\r\n",
        "print(iter_animal_list.__next__())\r\n",
        "print(iter_animal_list.__next__())\r\n",
        "print(iter_animal_list.__next__())\r\n",
        "print(iter_animal_list.__next__())\r\n",
        "print(iter_animal_list.__next__())"
      ],
      "execution_count": 14,
      "outputs": [
        {
          "output_type": "stream",
          "text": [
            "cat\n",
            "dog\n",
            "horse\n",
            "pig\n",
            "goat\n",
            "cow\n"
          ],
          "name": "stdout"
        }
      ]
    },
    {
      "cell_type": "markdown",
      "metadata": {
        "id": "bWXdc7pts_89"
      },
      "source": [
        "## **Generator**"
      ]
    },
    {
      "cell_type": "code",
      "metadata": {
        "id": "IYWMLWYztDeg"
      },
      "source": [
        "def square(l,h):\r\n",
        "  while(l<=h):\r\n",
        "    yield l**2\r\n",
        "    l+=1"
      ],
      "execution_count": 15,
      "outputs": []
    },
    {
      "cell_type": "code",
      "metadata": {
        "colab": {
          "base_uri": "https://localhost:8080/"
        },
        "id": "ILNg7v04yxO4",
        "outputId": "1a5438d4-6c31-4070-ae35-39dd4ca06371"
      },
      "source": [
        "for x in square(1,5):\r\n",
        "  print(x,end=' ')"
      ],
      "execution_count": 16,
      "outputs": [
        {
          "output_type": "stream",
          "text": [
            "1 4 9 16 25 "
          ],
          "name": "stdout"
        }
      ]
    },
    {
      "cell_type": "code",
      "metadata": {
        "id": "jmYz7R8ly5ZR"
      },
      "source": [
        "def vowel():\r\n",
        "  yield 'a'\r\n",
        "  yield 'e'\r\n",
        "  yield 'i'\r\n",
        "  yield 'o'\r\n",
        "  yield 'u'"
      ],
      "execution_count": 17,
      "outputs": []
    },
    {
      "cell_type": "code",
      "metadata": {
        "colab": {
          "base_uri": "https://localhost:8080/"
        },
        "id": "OrDtFq1QzDhY",
        "outputId": "56d6109a-0d3e-4ea7-d55d-34cd11baa9be"
      },
      "source": [
        "for x in vowel():\r\n",
        "  print(x,end=' ')"
      ],
      "execution_count": 18,
      "outputs": [
        {
          "output_type": "stream",
          "text": [
            "a e i o u "
          ],
          "name": "stdout"
        }
      ]
    },
    {
      "cell_type": "markdown",
      "metadata": {
        "id": "k5eotHCnzRQW"
      },
      "source": [
        "## **Encoding**"
      ]
    },
    {
      "cell_type": "code",
      "metadata": {
        "id": "az7sjVppzIVp"
      },
      "source": [
        "#PNG JPEG MP3 WAv ASCII UTF-8  are different form of encodings\r\n",
        "\r\n",
        "#Converting a string to a byte object is termed as encoding and it is implemented as encode().\r\n",
        "#For text ASCII and UTF-8 encoding techniques are used."
      ],
      "execution_count": 19,
      "outputs": []
    },
    {
      "cell_type": "code",
      "metadata": {
        "colab": {
          "base_uri": "https://localhost:8080/"
        },
        "id": "KcZueoBP3vO_",
        "outputId": "cadf55a0-4b4a-422f-f0e7-0e13ec3298ca"
      },
      "source": [
        "#initialising a string\r\n",
        "a = 'welcome to datascience'\r\n",
        "\r\n",
        "#initialising a byte object\r\n",
        "b = b'welcome to datascience'\r\n",
        "\r\n",
        "#using ASCII maping the encoded version of a is stored in d\r\n",
        "d = a.encode('ASCII')\r\n",
        "\r\n",
        "# checking if a is converted to bytes or not\r\n",
        "\r\n",
        "if (d==b):\r\n",
        "  print('Encoding Successful')\r\n",
        "\r\n",
        "else:\r\n",
        "  print('Encoding Unsucessful')"
      ],
      "execution_count": 20,
      "outputs": [
        {
          "output_type": "stream",
          "text": [
            "Encoding Successful\n"
          ],
          "name": "stdout"
        }
      ]
    },
    {
      "cell_type": "markdown",
      "metadata": {
        "id": "IxLuVUQ045QF"
      },
      "source": [
        "## Decoding"
      ]
    },
    {
      "cell_type": "code",
      "metadata": {
        "id": "ioVUwJoC4zip"
      },
      "source": [
        "# Process of converting a byte object to string is termed as Decoding.\r\n",
        "#it is implemented as decode()."
      ],
      "execution_count": 21,
      "outputs": []
    },
    {
      "cell_type": "code",
      "metadata": {
        "colab": {
          "base_uri": "https://localhost:8080/"
        },
        "id": "YGaVZzZa5VzK",
        "outputId": "dd6141ae-bf32-48cb-d204-74c13a462be4"
      },
      "source": [
        "#initialising a string\r\n",
        "a = 'welcome to datascience'\r\n",
        "\r\n",
        "#initilaising a byte object\r\n",
        "b = b'welcome to datascience'\r\n",
        "\r\n",
        "#using ASCII mapping the decoded version of b is stored in d.\r\n",
        "d = b.decode('ASCII')\r\n",
        "\r\n",
        "#checking if b is converted into string or not\r\n",
        "\r\n",
        "if d==a:\r\n",
        "  print('Decoding Successful')\r\n",
        "else:\r\n",
        "  print('Decoding Unsuccessful')"
      ],
      "execution_count": 22,
      "outputs": [
        {
          "output_type": "stream",
          "text": [
            "Decoding Successful\n"
          ],
          "name": "stdout"
        }
      ]
    },
    {
      "cell_type": "code",
      "metadata": {
        "id": "ClBS_UC36HAS"
      },
      "source": [
        ""
      ],
      "execution_count": null,
      "outputs": []
    }
  ]
}