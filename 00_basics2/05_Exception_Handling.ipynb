{
  "nbformat": 4,
  "nbformat_minor": 0,
  "metadata": {
    "colab": {
      "name": "03_Exception_Handling.ipynb",
      "provenance": [],
      "collapsed_sections": []
    },
    "kernelspec": {
      "name": "python3",
      "display_name": "Python 3"
    }
  },
  "cells": [
    {
      "cell_type": "code",
      "metadata": {
        "id": "dh-KLSiSJzSB"
      },
      "source": [
        "#Syntex Error: As the name suggests this error is caused by wrong syntex in the code"
      ],
      "execution_count": 1,
      "outputs": []
    },
    {
      "cell_type": "code",
      "metadata": {
        "colab": {
          "base_uri": "https://localhost:8080/",
          "height": 129
        },
        "id": "Pd3urdWwLwUi",
        "outputId": "7f2c95a3-fa4b-4256-8f22-392ead8582c5"
      },
      "source": [
        "a = 10\r\n",
        "if a>9\r\n",
        "  print('hii')"
      ],
      "execution_count": 2,
      "outputs": [
        {
          "output_type": "error",
          "ename": "SyntaxError",
          "evalue": "ignored",
          "traceback": [
            "\u001b[0;36m  File \u001b[0;32m\"<ipython-input-2-aa36c104ef7f>\"\u001b[0;36m, line \u001b[0;32m2\u001b[0m\n\u001b[0;31m    if a>9\u001b[0m\n\u001b[0m          ^\u001b[0m\n\u001b[0;31mSyntaxError\u001b[0m\u001b[0;31m:\u001b[0m invalid syntax\n"
          ]
        }
      ]
    },
    {
      "cell_type": "code",
      "metadata": {
        "id": "7k2ewinHL0pO"
      },
      "source": [
        "# Exceptions: Exceptions are raised when the program is syntatically correct but the code results in an error.\r\n",
        "\r\n",
        "#Some of the std exceptions are:\r\n",
        "#IndexError, ImportError, IOError, ZeroDivisionError, TypeError, FileNOtFoundError"
      ],
      "execution_count": 3,
      "outputs": []
    },
    {
      "cell_type": "code",
      "metadata": {
        "colab": {
          "base_uri": "https://localhost:8080/",
          "height": 180
        },
        "id": "UFO79vO7MfOV",
        "outputId": "381ab08c-0537-488a-91b1-80e942c482a9"
      },
      "source": [
        "a = 10\r\n",
        "print(a/0)"
      ],
      "execution_count": 4,
      "outputs": [
        {
          "output_type": "error",
          "ename": "ZeroDivisionError",
          "evalue": "ignored",
          "traceback": [
            "\u001b[0;31m---------------------------------------------------------------------------\u001b[0m",
            "\u001b[0;31mZeroDivisionError\u001b[0m                         Traceback (most recent call last)",
            "\u001b[0;32m<ipython-input-4-b971e527d1af>\u001b[0m in \u001b[0;36m<module>\u001b[0;34m()\u001b[0m\n\u001b[1;32m      1\u001b[0m \u001b[0ma\u001b[0m \u001b[0;34m=\u001b[0m \u001b[0;36m10\u001b[0m\u001b[0;34m\u001b[0m\u001b[0;34m\u001b[0m\u001b[0m\n\u001b[0;32m----> 2\u001b[0;31m \u001b[0mprint\u001b[0m\u001b[0;34m(\u001b[0m\u001b[0ma\u001b[0m\u001b[0;34m/\u001b[0m\u001b[0;36m0\u001b[0m\u001b[0;34m)\u001b[0m\u001b[0;34m\u001b[0m\u001b[0;34m\u001b[0m\u001b[0m\n\u001b[0m",
            "\u001b[0;31mZeroDivisionError\u001b[0m: division by zero"
          ]
        }
      ]
    },
    {
      "cell_type": "markdown",
      "metadata": {
        "id": "mIijIvAvMoyJ"
      },
      "source": [
        "## **Exception Handling using Try and Except**"
      ]
    },
    {
      "cell_type": "code",
      "metadata": {
        "colab": {
          "base_uri": "https://localhost:8080/"
        },
        "id": "TMYxEsO8Mjzg",
        "outputId": "1800fd9a-8b69-411e-a22e-a14586f6d9c8"
      },
      "source": [
        "a= [1,2,3]\r\n",
        "\r\n",
        "try:\r\n",
        "  print('Second element',a[1])\r\n",
        "  print('Fourth elemnt',a[3])\r\n",
        "except IndexError as e:\r\n",
        "  print('Error Code: ',e)\r\n"
      ],
      "execution_count": 8,
      "outputs": [
        {
          "output_type": "stream",
          "text": [
            "Second element 2\n",
            "Error Code:  list index out of range\n"
          ],
          "name": "stdout"
        }
      ]
    },
    {
      "cell_type": "code",
      "metadata": {
        "colab": {
          "base_uri": "https://localhost:8080/"
        },
        "id": "wKSCM5I7NAFv",
        "outputId": "d4fa1275-f62b-42ab-f4f9-916fb515f9a9"
      },
      "source": [
        "a = 10\r\n",
        "try:\r\n",
        "  print(a/(a-10))\r\n",
        "except ZeroDivisionError as e:\r\n",
        "  print('Error Code: ',e)"
      ],
      "execution_count": 9,
      "outputs": [
        {
          "output_type": "stream",
          "text": [
            "Error Code:  division by zero\n"
          ],
          "name": "stdout"
        }
      ]
    },
    {
      "cell_type": "code",
      "metadata": {
        "colab": {
          "base_uri": "https://localhost:8080/"
        },
        "id": "jOG29HC3NPWO",
        "outputId": "f67f2b4a-6463-42a8-f1bd-413e7ee0b214"
      },
      "source": [
        "a = 5\r\n",
        "\r\n",
        "try:\r\n",
        "  if a<4:\r\n",
        "    b = a*2\r\n",
        "  print(b)\r\n",
        "except NameError as e:\r\n",
        "  print('Error Code: ',e)"
      ],
      "execution_count": 10,
      "outputs": [
        {
          "output_type": "stream",
          "text": [
            "Error Code:  name 'b' is not defined\n"
          ],
          "name": "stdout"
        }
      ]
    },
    {
      "cell_type": "code",
      "metadata": {
        "colab": {
          "base_uri": "https://localhost:8080/"
        },
        "id": "g27TRx5INqE0",
        "outputId": "3706181d-279f-4508-b6a5-71b4401797c6"
      },
      "source": [
        "#Handling Multiple Exceptions\r\n",
        "# b = int(0)   #ZeroDivision Error\r\n",
        "# b = int('a') #Value Error\r\n",
        "\r\n",
        "\r\n",
        "try:\r\n",
        "  b = int('a')\r\n",
        "  print(a/b)\r\n",
        "except (ZeroDivisionError,ValueError) as e:\r\n",
        "  print('Error Code: ',e)"
      ],
      "execution_count": 12,
      "outputs": [
        {
          "output_type": "stream",
          "text": [
            "Error Code:  invalid literal for int() with base 10: 'a'\n"
          ],
          "name": "stdout"
        }
      ]
    },
    {
      "cell_type": "markdown",
      "metadata": {
        "id": "2iutgxLWO57a"
      },
      "source": [
        "### **Try Except Else**"
      ]
    },
    {
      "cell_type": "code",
      "metadata": {
        "id": "FLW2SNjlOxOE"
      },
      "source": [
        "#The code enters the else block only if the try clause doesn't raise an exception\r\n",
        "\r\n",
        "def compute(a,b):\r\n",
        "  try:\r\n",
        "    res = (a+b)/(a-b)\r\n",
        "  except ZeroDivisionError as e:\r\n",
        "    print('Error Code: ',e)\r\n",
        "  else:\r\n",
        "    print('Calculated Value: ',res)"
      ],
      "execution_count": 13,
      "outputs": []
    },
    {
      "cell_type": "code",
      "metadata": {
        "colab": {
          "base_uri": "https://localhost:8080/"
        },
        "id": "5UGdYjlaPhsJ",
        "outputId": "39d3726c-bc92-41dc-96e1-e8e582cd9776"
      },
      "source": [
        "compute(4,3)"
      ],
      "execution_count": 14,
      "outputs": [
        {
          "output_type": "stream",
          "text": [
            "Calculated Value:  7.0\n"
          ],
          "name": "stdout"
        }
      ]
    },
    {
      "cell_type": "code",
      "metadata": {
        "colab": {
          "base_uri": "https://localhost:8080/"
        },
        "id": "Ab3I10M7PmYd",
        "outputId": "85460447-e218-4048-ef74-a6c765b45795"
      },
      "source": [
        "compute(3,3)"
      ],
      "execution_count": 15,
      "outputs": [
        {
          "output_type": "stream",
          "text": [
            "Error Code:  division by zero\n"
          ],
          "name": "stdout"
        }
      ]
    },
    {
      "cell_type": "markdown",
      "metadata": {
        "id": "5eG4i6_vPqG4"
      },
      "source": [
        "## **Try Except Else Finally**"
      ]
    },
    {
      "cell_type": "code",
      "metadata": {
        "id": "JmIs3VQOPn9Y"
      },
      "source": [
        "#Finally is always executed\r\n",
        "\r\n",
        "def compute(a,b):\r\n",
        "  try:\r\n",
        "    res = (a+b)/(a-b)\r\n",
        "  except ZeroDivisionError as e:\r\n",
        "    print('Error Code: ',e)\r\n",
        "  else:\r\n",
        "    print('Calculated Value: ',res)\r\n",
        "  finally:\r\n",
        "    print('i will execute always')"
      ],
      "execution_count": 16,
      "outputs": []
    },
    {
      "cell_type": "code",
      "metadata": {
        "colab": {
          "base_uri": "https://localhost:8080/"
        },
        "id": "oKsVWUfQP_Tm",
        "outputId": "98a4e371-99a3-4e7d-c481-d4723ca1fda2"
      },
      "source": [
        "compute(4,4)"
      ],
      "execution_count": 17,
      "outputs": [
        {
          "output_type": "stream",
          "text": [
            "Error Code:  division by zero\n",
            "i will execute always\n"
          ],
          "name": "stdout"
        }
      ]
    },
    {
      "cell_type": "code",
      "metadata": {
        "colab": {
          "base_uri": "https://localhost:8080/"
        },
        "id": "GUQNeKnsQBba",
        "outputId": "21d9af72-7cd4-43fc-b14c-469479bdc057"
      },
      "source": [
        "compute(4,3)"
      ],
      "execution_count": 18,
      "outputs": [
        {
          "output_type": "stream",
          "text": [
            "Calculated Value:  7.0\n",
            "i will execute always\n"
          ],
          "name": "stdout"
        }
      ]
    },
    {
      "cell_type": "markdown",
      "metadata": {
        "id": "pv5oQU_EUB2n"
      },
      "source": [
        "## **Raising Exception**"
      ]
    },
    {
      "cell_type": "code",
      "metadata": {
        "colab": {
          "base_uri": "https://localhost:8080/",
          "height": 197
        },
        "id": "rVkiCK7AQC91",
        "outputId": "ec382fac-0180-432a-c0eb-f0bf51278c2c"
      },
      "source": [
        "x,y = 10,5\r\n",
        "\r\n",
        "if x>y:\r\n",
        "  raise Exception('x should not exceed {}. The number is {}'.format(y,x))"
      ],
      "execution_count": 19,
      "outputs": [
        {
          "output_type": "error",
          "ename": "Exception",
          "evalue": "ignored",
          "traceback": [
            "\u001b[0;31m---------------------------------------------------------------------------\u001b[0m",
            "\u001b[0;31mException\u001b[0m                                 Traceback (most recent call last)",
            "\u001b[0;32m<ipython-input-19-8629975b1b11>\u001b[0m in \u001b[0;36m<module>\u001b[0;34m()\u001b[0m\n\u001b[1;32m      2\u001b[0m \u001b[0;34m\u001b[0m\u001b[0m\n\u001b[1;32m      3\u001b[0m \u001b[0;32mif\u001b[0m \u001b[0mx\u001b[0m\u001b[0;34m>\u001b[0m\u001b[0my\u001b[0m\u001b[0;34m:\u001b[0m\u001b[0;34m\u001b[0m\u001b[0;34m\u001b[0m\u001b[0m\n\u001b[0;32m----> 4\u001b[0;31m   \u001b[0;32mraise\u001b[0m \u001b[0mException\u001b[0m\u001b[0;34m(\u001b[0m\u001b[0;34m'x should not exceed {}. The number is {}'\u001b[0m\u001b[0;34m.\u001b[0m\u001b[0mformat\u001b[0m\u001b[0;34m(\u001b[0m\u001b[0my\u001b[0m\u001b[0;34m,\u001b[0m\u001b[0mx\u001b[0m\u001b[0;34m)\u001b[0m\u001b[0;34m)\u001b[0m\u001b[0;34m\u001b[0m\u001b[0;34m\u001b[0m\u001b[0m\n\u001b[0m",
            "\u001b[0;31mException\u001b[0m: x should not exceed 5. The number is 10"
          ]
        }
      ]
    },
    {
      "cell_type": "code",
      "metadata": {
        "colab": {
          "base_uri": "https://localhost:8080/",
          "height": 197
        },
        "id": "_8zWNaiIUeON",
        "outputId": "ade01764-2487-4918-f09f-a458c5a13d7e"
      },
      "source": [
        "x =1.5\r\n",
        "\r\n",
        "if isinstance(x,int):\r\n",
        "  pass\r\n",
        "else:\r\n",
        "  raise TypeError('Only integer values are allowed')"
      ],
      "execution_count": 20,
      "outputs": [
        {
          "output_type": "error",
          "ename": "TypeError",
          "evalue": "ignored",
          "traceback": [
            "\u001b[0;31m---------------------------------------------------------------------------\u001b[0m",
            "\u001b[0;31mTypeError\u001b[0m                                 Traceback (most recent call last)",
            "\u001b[0;32m<ipython-input-20-fc09907cef1b>\u001b[0m in \u001b[0;36m<module>\u001b[0;34m()\u001b[0m\n\u001b[1;32m      4\u001b[0m   \u001b[0;32mpass\u001b[0m\u001b[0;34m\u001b[0m\u001b[0;34m\u001b[0m\u001b[0m\n\u001b[1;32m      5\u001b[0m \u001b[0;32melse\u001b[0m\u001b[0;34m:\u001b[0m\u001b[0;34m\u001b[0m\u001b[0;34m\u001b[0m\u001b[0m\n\u001b[0;32m----> 6\u001b[0;31m   \u001b[0;32mraise\u001b[0m \u001b[0mTypeError\u001b[0m\u001b[0;34m(\u001b[0m\u001b[0;34m'Only integer values are allowed'\u001b[0m\u001b[0;34m)\u001b[0m\u001b[0;34m\u001b[0m\u001b[0;34m\u001b[0m\u001b[0m\n\u001b[0m",
            "\u001b[0;31mTypeError\u001b[0m: Only integer values are allowed"
          ]
        }
      ]
    },
    {
      "cell_type": "code",
      "metadata": {
        "id": "3XlmDjHjWBQt"
      },
      "source": [
        ""
      ],
      "execution_count": null,
      "outputs": []
    }
  ]
}
