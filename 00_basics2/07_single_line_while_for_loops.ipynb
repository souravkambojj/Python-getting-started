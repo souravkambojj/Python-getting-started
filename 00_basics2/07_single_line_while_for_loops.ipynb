{
  "nbformat": 4,
  "nbformat_minor": 0,
  "metadata": {
    "colab": {
      "name": "single_line_while_for_loops.ipynb",
      "provenance": [],
      "collapsed_sections": []
    },
    "kernelspec": {
      "name": "python3",
      "display_name": "Python 3"
    },
    "language_info": {
      "name": "python"
    }
  },
  "cells": [
    {
      "cell_type": "code",
      "execution_count": 1,
      "metadata": {
        "colab": {
          "base_uri": "https://localhost:8080/"
        },
        "id": "krb19sdp2x85",
        "outputId": "939a94aa-f4c9-4be1-85db-9834100c4a74"
      },
      "outputs": [
        {
          "output_type": "stream",
          "name": "stdout",
          "text": [
            "5\n",
            "4\n",
            "3\n",
            "2\n",
            "1\n"
          ]
        }
      ],
      "source": [
        "a = 5\n",
        "while a>0: print(a);a-=1"
      ]
    },
    {
      "cell_type": "code",
      "source": [
        "m_list = ['a','b','c','d']\n",
        "for x in m_list:print(x,end=' ')"
      ],
      "metadata": {
        "colab": {
          "base_uri": "https://localhost:8080/"
        },
        "id": "Nuv0WKfd3FPU",
        "outputId": "6b21b660-7a76-45ef-b558-2775300ddd84"
      },
      "execution_count": 3,
      "outputs": [
        {
          "output_type": "stream",
          "name": "stdout",
          "text": [
            "a b c d "
          ]
        }
      ]
    },
    {
      "cell_type": "code",
      "source": [
        "#separate even nd odd no's\n",
        "for n in range(20): print('even: ',n) if n%2==0 else print('odd: ',n)"
      ],
      "metadata": {
        "colab": {
          "base_uri": "https://localhost:8080/"
        },
        "id": "fhherMVG3X_E",
        "outputId": "235e1f8d-7ee2-46a8-d564-2b401fb6ea0e"
      },
      "execution_count": 4,
      "outputs": [
        {
          "output_type": "stream",
          "name": "stdout",
          "text": [
            "even:  0\n",
            "odd:  1\n",
            "even:  2\n",
            "odd:  3\n",
            "even:  4\n",
            "odd:  5\n",
            "even:  6\n",
            "odd:  7\n",
            "even:  8\n",
            "odd:  9\n",
            "even:  10\n",
            "odd:  11\n",
            "even:  12\n",
            "odd:  13\n",
            "even:  14\n",
            "odd:  15\n",
            "even:  16\n",
            "odd:  17\n",
            "even:  18\n",
            "odd:  19\n"
          ]
        }
      ]
    },
    {
      "cell_type": "code",
      "source": [
        "odd =[]\n",
        "even =[]\n",
        "\n",
        "for n in range(20):even.append(n) if n%2==0 else odd.append(n)\n",
        "print('Even: ',even)\n",
        "print('Odd: ', odd)"
      ],
      "metadata": {
        "colab": {
          "base_uri": "https://localhost:8080/"
        },
        "id": "-gbc848L388_",
        "outputId": "d6f1471f-1a6a-455c-b8a0-63b576581681"
      },
      "execution_count": 5,
      "outputs": [
        {
          "output_type": "stream",
          "name": "stdout",
          "text": [
            "Even:  [0, 2, 4, 6, 8, 10, 12, 14, 16, 18]\n",
            "Odd:  [1, 3, 5, 7, 9, 11, 13, 15, 17, 19]\n"
          ]
        }
      ]
    },
    {
      "cell_type": "code",
      "source": [
        "for i,n in enumerate(range(20,30)):print(i,'th iteration'); print('even: ',n) if n%2==0 else print('odd: ',n)"
      ],
      "metadata": {
        "colab": {
          "base_uri": "https://localhost:8080/"
        },
        "id": "h_gkJyLP4U8T",
        "outputId": "2f6e21c1-3a35-46b7-c580-cd324c9be42f"
      },
      "execution_count": 7,
      "outputs": [
        {
          "output_type": "stream",
          "name": "stdout",
          "text": [
            "0 th iteration\n",
            "even:  20\n",
            "1 th iteration\n",
            "odd:  21\n",
            "2 th iteration\n",
            "even:  22\n",
            "3 th iteration\n",
            "odd:  23\n",
            "4 th iteration\n",
            "even:  24\n",
            "5 th iteration\n",
            "odd:  25\n",
            "6 th iteration\n",
            "even:  26\n",
            "7 th iteration\n",
            "odd:  27\n",
            "8 th iteration\n",
            "even:  28\n",
            "9 th iteration\n",
            "odd:  29\n"
          ]
        }
      ]
    },
    {
      "cell_type": "code",
      "source": [
        "#passing the odd no's\n",
        "#printing only even no's\n",
        "####################  it is like pass statement, but its compulsary to write something here, otherwise it will throw error\n",
        "for n in range(7,16): n if n%2!=0 else print(n)"
      ],
      "metadata": {
        "colab": {
          "base_uri": "https://localhost:8080/"
        },
        "id": "4dS4JB424vc-",
        "outputId": "018ee3e1-91aa-4a7f-f3a5-4856cc098465"
      },
      "execution_count": 8,
      "outputs": [
        {
          "output_type": "stream",
          "name": "stdout",
          "text": [
            "8\n",
            "10\n",
            "12\n",
            "14\n"
          ]
        }
      ]
    },
    {
      "cell_type": "code",
      "source": [
        "for n in range(7,16): if n%2!=0 else print(n)"
      ],
      "metadata": {
        "colab": {
          "base_uri": "https://localhost:8080/",
          "height": 130
        },
        "id": "mbJOxLqZ5UM3",
        "outputId": "b00a106c-6e4e-4534-8433-8c03e0c94dd5"
      },
      "execution_count": 11,
      "outputs": [
        {
          "output_type": "error",
          "ename": "SyntaxError",
          "evalue": "ignored",
          "traceback": [
            "\u001b[0;36m  File \u001b[0;32m\"<ipython-input-11-e785730c7dad>\"\u001b[0;36m, line \u001b[0;32m1\u001b[0m\n\u001b[0;31m    for n in range(7,16): if n%2!=0 else print(n)\u001b[0m\n\u001b[0m                           ^\u001b[0m\n\u001b[0;31mSyntaxError\u001b[0m\u001b[0;31m:\u001b[0m invalid syntax\n"
          ]
        }
      ]
    },
    {
      "cell_type": "code",
      "source": [
        "for n in range(7,16): 1 if n%2!=0 else print(n)"
      ],
      "metadata": {
        "colab": {
          "base_uri": "https://localhost:8080/"
        },
        "id": "i7KLO-sp5YVu",
        "outputId": "4ad7c836-3ed3-43f7-b84d-e034ca360c10"
      },
      "execution_count": 12,
      "outputs": [
        {
          "output_type": "stream",
          "name": "stdout",
          "text": [
            "8\n",
            "10\n",
            "12\n",
            "14\n"
          ]
        }
      ]
    },
    {
      "cell_type": "code",
      "source": [
        "for n in range(7,16): 'a' if n%2!=0 else print(n)"
      ],
      "metadata": {
        "colab": {
          "base_uri": "https://localhost:8080/"
        },
        "id": "8rRopcp35eFl",
        "outputId": "ff8431b7-a3dc-4b63-bc9b-74e8facfdd59"
      },
      "execution_count": 13,
      "outputs": [
        {
          "output_type": "stream",
          "name": "stdout",
          "text": [
            "8\n",
            "10\n",
            "12\n",
            "14\n"
          ]
        }
      ]
    },
    {
      "cell_type": "code",
      "source": [
        ""
      ],
      "metadata": {
        "id": "vwG4BdZC5gpH"
      },
      "execution_count": null,
      "outputs": []
    }
  ]
}
