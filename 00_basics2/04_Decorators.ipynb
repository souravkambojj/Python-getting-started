{
  "nbformat": 4,
  "nbformat_minor": 0,
  "metadata": {
    "colab": {
      "name": "04_Decorators.ipynb",
      "provenance": [],
      "collapsed_sections": []
    },
    "kernelspec": {
      "name": "python3",
      "display_name": "Python 3"
    }
  },
  "cells": [
    {
      "cell_type": "code",
      "metadata": {
        "colab": {
          "base_uri": "https://localhost:8080/",
          "height": 197
        },
        "id": "WJdaSl7PWmfw",
        "outputId": "47e028d3-7ee8-4751-a850-04bbb73df798"
      },
      "source": [
        "def xyz(arg):\r\n",
        "  print(arg)\r\n",
        "\r\n",
        "xyz(1,2,3)"
      ],
      "execution_count": 1,
      "outputs": [
        {
          "output_type": "error",
          "ename": "TypeError",
          "evalue": "ignored",
          "traceback": [
            "\u001b[0;31m---------------------------------------------------------------------------\u001b[0m",
            "\u001b[0;31mTypeError\u001b[0m                                 Traceback (most recent call last)",
            "\u001b[0;32m<ipython-input-1-b8f02c0fae8d>\u001b[0m in \u001b[0;36m<module>\u001b[0;34m()\u001b[0m\n\u001b[1;32m      2\u001b[0m   \u001b[0mprint\u001b[0m\u001b[0;34m(\u001b[0m\u001b[0marg\u001b[0m\u001b[0;34m)\u001b[0m\u001b[0;34m\u001b[0m\u001b[0;34m\u001b[0m\u001b[0m\n\u001b[1;32m      3\u001b[0m \u001b[0;34m\u001b[0m\u001b[0m\n\u001b[0;32m----> 4\u001b[0;31m \u001b[0mxyz\u001b[0m\u001b[0;34m(\u001b[0m\u001b[0;36m1\u001b[0m\u001b[0;34m,\u001b[0m\u001b[0;36m2\u001b[0m\u001b[0;34m,\u001b[0m\u001b[0;36m3\u001b[0m\u001b[0;34m)\u001b[0m\u001b[0;34m\u001b[0m\u001b[0;34m\u001b[0m\u001b[0m\n\u001b[0m",
            "\u001b[0;31mTypeError\u001b[0m: xyz() takes 1 positional argument but 3 were given"
          ]
        }
      ]
    },
    {
      "cell_type": "code",
      "metadata": {
        "colab": {
          "base_uri": "https://localhost:8080/"
        },
        "id": "TQLnAEfkaNsC",
        "outputId": "46254526-b153-4625-e659-c64b927c1071"
      },
      "source": [
        "def xyz1(*arg):\r\n",
        "  print(arg)\r\n",
        "  print(*arg)\r\n",
        "\r\n",
        "xyz1(1,2,3)"
      ],
      "execution_count": 2,
      "outputs": [
        {
          "output_type": "stream",
          "text": [
            "(1, 2, 3)\n",
            "1 2 3\n"
          ],
          "name": "stdout"
        }
      ]
    },
    {
      "cell_type": "code",
      "metadata": {
        "colab": {
          "base_uri": "https://localhost:8080/"
        },
        "id": "l92Rr43haZ3r",
        "outputId": "3dfedc05-8e0e-4745-8790-05a249a20313"
      },
      "source": [
        "def xyz2(arg):\r\n",
        "  print(arg)\r\n",
        "  print(*arg)\r\n",
        "\r\n",
        "xyz2( (1,2,3) )"
      ],
      "execution_count": 3,
      "outputs": [
        {
          "output_type": "stream",
          "text": [
            "(1, 2, 3)\n",
            "1 2 3\n"
          ],
          "name": "stdout"
        }
      ]
    },
    {
      "cell_type": "code",
      "metadata": {
        "id": "FnEXyQDMailR"
      },
      "source": [
        "#Python functions are the first class objects, whichmeans that:\r\n",
        "#1 functions can be defined inside other function\r\n",
        "#2 function can be passed as an argument to another function and returned from the other function as well....\r\n",
        "#2 functions are objects: they can be referenced or passed to a variable"
      ],
      "execution_count": 4,
      "outputs": []
    },
    {
      "cell_type": "code",
      "metadata": {
        "id": "RineEEuYbWS2"
      },
      "source": [
        "# A decorator is function that takes a function as its only parameter and returns a function."
      ],
      "execution_count": 5,
      "outputs": []
    },
    {
      "cell_type": "code",
      "metadata": {
        "colab": {
          "base_uri": "https://localhost:8080/"
        },
        "id": "qfl5omMhbhnB",
        "outputId": "7f1d6784-7cb3-46ec-d6fc-0efc64cf53c7"
      },
      "source": [
        "def msgWithWelcome(str):\r\n",
        "  def addwelcome():\r\n",
        "    return 'welcome to '\r\n",
        "\r\n",
        "  return addwelcome() + str\r\n",
        "\r\n",
        "\r\n",
        "def show(show_name):\r\n",
        "  return show_name\r\n",
        "\r\n",
        "print(msgWithWelcome(show('my show')))\r\n",
        "\r\n",
        "#1 since there is Parentheses with show fun --->>> it is a call to show fun\r\n",
        "#2 show fun will return a str = 'my show'\r\n",
        "#3 msgWithWelcome() fun will be called with 'my show' as an argument\r\n",
        "#4 since there r Parentheses in the addwelcome in the return statement of  msgWithWelcome()\r\n",
        "#5 it is a call to addwelcome() fun, which will return a str = 'welcome to '\r\n",
        "#6 return statement of  msgWithWelcome() will concat both strings nd return a final str 'welcome to my show'\r\n"
      ],
      "execution_count": 7,
      "outputs": [
        {
          "output_type": "stream",
          "text": [
            "welcome to my show\n"
          ],
          "name": "stdout"
        }
      ]
    },
    {
      "cell_type": "code",
      "metadata": {
        "colab": {
          "base_uri": "https://localhost:8080/"
        },
        "id": "x9-tyZJveGIO",
        "outputId": "6152a313-ebbe-4f7e-a158-3dc6a74e8eeb"
      },
      "source": [
        "#Ex-2 \r\n",
        "\r\n",
        "def wrapper_func(func):\r\n",
        "\r\n",
        "  def inner():\r\n",
        "    print('Before function Execution')\r\n",
        "    func()\r\n",
        "    print('After function Execution')\r\n",
        "\r\n",
        "  return inner\r\n",
        "\r\n",
        "def func_to_be_used():\r\n",
        "  print('inside Function')\r\n",
        "\r\n",
        "ret_fun = wrapper_func(func_to_be_used)\r\n",
        "ret_fun()\r\n",
        "\r\n",
        "##1 since fun is passed without Parentheses  --->> fun is passed as arg to wrapper_func  -------(pt. no 1)\r\n",
        "#2 since return statement of wrapper_func contains inner fun without Parentheses --->> inner func will be returned as arg -------(pt. no 2)\r\n",
        "#3 this means inner fun is assigned to variable ret_fun   --->>> (pt. no 3)\r\n",
        "#4 ret_fun() is nothing but a call to inner() function "
      ],
      "execution_count": 10,
      "outputs": [
        {
          "output_type": "stream",
          "text": [
            "Before function Execution\n",
            "inside Function\n",
            "After function Execution\n"
          ],
          "name": "stdout"
        }
      ]
    },
    {
      "cell_type": "code",
      "metadata": {
        "colab": {
          "base_uri": "https://localhost:8080/"
        },
        "id": "qkiy-41-iapY",
        "outputId": "bfe709a3-b815-494d-cd5f-bb5e18e64ddb"
      },
      "source": [
        "#above code can be re-written as:\r\n",
        "\r\n",
        "def wrapper_func(func):\r\n",
        "  def inner():\r\n",
        "    print('Before func Execution')\r\n",
        "    func()\r\n",
        "    print('After func Execution')\r\n",
        "\r\n",
        "  return inner\r\n",
        "\r\n",
        "@wrapper_func                               #passing func_to_be_used as an argumet to wrapper_func\r\n",
        "def func_to_be_used():\r\n",
        "  print('Inside the function')\r\n",
        "\r\n",
        "func_to_be_used()"
      ],
      "execution_count": 12,
      "outputs": [
        {
          "output_type": "stream",
          "text": [
            "Before func Execution\n",
            "Inside the function\n",
            "After func Execution\n"
          ],
          "name": "stdout"
        }
      ]
    },
    {
      "cell_type": "code",
      "metadata": {
        "colab": {
          "base_uri": "https://localhost:8080/"
        },
        "id": "vWfmW1LulCNq",
        "outputId": "a1c5ee12-eb3d-4399-b2c6-06696e355a7c"
      },
      "source": [
        "#ex-3 calculate sum of two no's\r\n",
        "\r\n",
        "def wrapper_func(func):\r\n",
        "  def inner(*arg):\r\n",
        "    print('Before func Execution')\r\n",
        "    sum = func(*arg)\r\n",
        "    print('After func Execution')\r\n",
        "    return sum\r\n",
        "\r\n",
        "  return inner\r\n",
        "\r\n",
        "@wrapper_func\r\n",
        "def cal_sum(a,b):\r\n",
        "  return a+b\r\n",
        "\r\n",
        "print('Sum: ',cal_sum(4,5))\r\n"
      ],
      "execution_count": 13,
      "outputs": [
        {
          "output_type": "stream",
          "text": [
            "Before func Execution\n",
            "After func Execution\n",
            "Sum:  9\n"
          ],
          "name": "stdout"
        }
      ]
    },
    {
      "cell_type": "code",
      "metadata": {
        "colab": {
          "base_uri": "https://localhost:8080/"
        },
        "id": "Ku4wXCB6mbl_",
        "outputId": "8822f52c-c276-473c-d183-c7886d78158b"
      },
      "source": [
        "#ex-4 decorators with parameters\r\n",
        "\r\n",
        "def wrapper_func(*arg,**kwarg):\r\n",
        "  def inner(func):\r\n",
        "    func(arg,kwarg)\r\n",
        "\r\n",
        "  return inner\r\n",
        "\r\n",
        "@wrapper_func(10,20,30,name='sourav',age=25)\r\n",
        "def cal_gross_salary(arg,dict_):\r\n",
        "  print('Name: ',dict_['name'])\r\n",
        "  print('Age: ',dict_['age'])\r\n",
        "  print('Salary: ',sum([i for i in arg]))"
      ],
      "execution_count": 19,
      "outputs": [
        {
          "output_type": "stream",
          "text": [
            "Name:  sourav\n",
            "Age:  25\n",
            "Salary:  60\n"
          ],
          "name": "stdout"
        }
      ]
    },
    {
      "cell_type": "code",
      "metadata": {
        "id": "WDdibOX_oW6h"
      },
      "source": [
        ""
      ],
      "execution_count": null,
      "outputs": []
    }
  ]
}