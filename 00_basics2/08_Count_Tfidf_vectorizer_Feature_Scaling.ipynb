{
  "nbformat": 4,
  "nbformat_minor": 0,
  "metadata": {
    "colab": {
      "provenance": [],
      "collapsed_sections": []
    },
    "kernelspec": {
      "name": "python3",
      "display_name": "Python 3"
    },
    "language_info": {
      "name": "python"
    }
  },
  "cells": [
    {
      "cell_type": "code",
      "execution_count": 6,
      "metadata": {
        "id": "vFjHPZ2CiqZr"
      },
      "outputs": [],
      "source": [
        "text =  ['This is very powerful, but is also very dangerous if you accept strings to evaluate from untrusted input. Suppose the string being evaluated is  It will really start deleting all the files on your computer',\n",
        "        'Safely evaluate an expression node or a string containing a Python literal or container display. The string or node provided may only consist of the following Python literal structures: strings, bytes, numbers, tuples, lists, dicts, sets, booleans, None, bytes and sets.',\n",
        "        'The string or node provided may only consist of the following Python literal structures: strings, bytes, numbers, tuples, lists, dicts, sets, booleans, and None',\n",
        "        'means that you actually evaluate the code before you deem it to be unsafe or not. It evaluates the code as soon as the function is called.',\n",
        "        'I read through the docs and I am still unclear if this would be safe or not. Does eval evaluate the data as soon as its entered or after the datamap variable is called?']"
      ]
    },
    {
      "cell_type": "markdown",
      "source": [
        "# **CountVectorizer**"
      ],
      "metadata": {
        "id": "afuJFb12kJHl"
      }
    },
    {
      "cell_type": "code",
      "source": [
        "from sklearn.feature_extraction.text import CountVectorizer"
      ],
      "metadata": {
        "id": "I99PV3QSjZZz"
      },
      "execution_count": 7,
      "outputs": []
    },
    {
      "cell_type": "code",
      "source": [
        "# it creates a 'document-term matrix'\n",
        "#columns represents the unique tokens and each row represents a document.\n",
        "#Each cell represents frequency of each word corresponding to that document.\n",
        "#like, w1 occured thrice, twice and once in doc d1,d2,d3 resp."
      ],
      "metadata": {
        "id": "4Z_y3XookNfa"
      },
      "execution_count": 8,
      "outputs": []
    },
    {
      "cell_type": "code",
      "source": [
        "#      w1  w2 w3 ...             #w1,w2,w3 unique tokens throughout the documents\n",
        "#   d1  2  0  1  ...             #d1,d2,d3 documents\n",
        "#   d2  1  1  3  ...\n",
        "#   d3  3  2  1  ...\n",
        "#   .   .  .  .\n",
        "#   .   .  .  .\n",
        "#   .   .  .  ."
      ],
      "metadata": {
        "id": "3X5_wHoSkQNF"
      },
      "execution_count": 9,
      "outputs": []
    },
    {
      "cell_type": "code",
      "source": [
        "cv = CountVectorizer()\n",
        "x = cv.fit(text)"
      ],
      "metadata": {
        "id": "ek1M81gIkSig"
      },
      "execution_count": 10,
      "outputs": []
    },
    {
      "cell_type": "code",
      "source": [
        "#x.vocabulary_     #vocab of unique words nd their corresponding indices"
      ],
      "metadata": {
        "id": "XH8-pC6nkYE9"
      },
      "execution_count": 11,
      "outputs": []
    },
    {
      "cell_type": "code",
      "source": [
        "y = cv.transform(text)\n",
        "#it transform the text documents to document-term- matrix"
      ],
      "metadata": {
        "id": "oV0SXi-WkazE"
      },
      "execution_count": 12,
      "outputs": []
    },
    {
      "cell_type": "code",
      "source": [
        "y.shape   #5 documents and 87 unique tokens"
      ],
      "metadata": {
        "colab": {
          "base_uri": "https://localhost:8080/"
        },
        "id": "Sl3aMoyAkdQM",
        "outputId": "adfe271f-dafb-4ade-abbe-afb5ff7f1093"
      },
      "execution_count": 13,
      "outputs": [
        {
          "output_type": "execute_result",
          "data": {
            "text/plain": [
              "(5, 87)"
            ]
          },
          "metadata": {},
          "execution_count": 13
        }
      ]
    },
    {
      "cell_type": "code",
      "source": [
        "y.toarray()"
      ],
      "metadata": {
        "colab": {
          "base_uri": "https://localhost:8080/"
        },
        "id": "wb63p_h7kfh7",
        "outputId": "5d47fa65-4273-4eb8-f705-fc640744c94b"
      },
      "execution_count": 14,
      "outputs": [
        {
          "output_type": "execute_result",
          "data": {
            "text/plain": [
              "array([[1, 0, 0, 1, 1, 0, 0, 0, 0, 0, 0, 1, 0, 1, 0, 0, 0, 1, 0, 0, 0, 1,\n",
              "        0, 0, 0, 1, 0, 0, 0, 0, 0, 0, 1, 1, 0, 0, 1, 0, 1, 0, 1, 1, 3, 1,\n",
              "        0, 0, 0, 0, 0, 0, 0, 0, 0, 0, 1, 0, 0, 1, 0, 0, 0, 1, 0, 0, 0, 0,\n",
              "        1, 0, 1, 1, 0, 1, 0, 2, 1, 0, 1, 0, 0, 0, 1, 0, 2, 1, 0, 1, 1],\n",
              "       [0, 0, 0, 0, 0, 0, 1, 1, 0, 0, 0, 0, 1, 0, 2, 0, 0, 0, 1, 1, 1, 0,\n",
              "        0, 0, 0, 0, 1, 1, 0, 0, 0, 0, 1, 0, 0, 1, 0, 1, 0, 0, 0, 0, 0, 0,\n",
              "        0, 1, 2, 1, 0, 2, 1, 0, 1, 1, 0, 1, 3, 0, 1, 2, 0, 0, 0, 1, 2, 0,\n",
              "        0, 0, 2, 1, 1, 0, 0, 2, 0, 0, 0, 1, 0, 0, 0, 0, 0, 0, 0, 0, 0],\n",
              "       [0, 0, 0, 0, 0, 0, 0, 1, 0, 0, 0, 0, 1, 0, 1, 0, 0, 0, 1, 0, 0, 0,\n",
              "        0, 0, 0, 0, 1, 0, 0, 0, 0, 0, 0, 0, 0, 0, 0, 1, 0, 0, 0, 0, 0, 0,\n",
              "        0, 1, 1, 1, 0, 1, 1, 0, 1, 1, 0, 1, 1, 0, 1, 1, 0, 0, 0, 0, 1, 0,\n",
              "        0, 0, 1, 1, 1, 0, 0, 2, 0, 0, 0, 1, 0, 0, 0, 0, 0, 0, 0, 0, 0],\n",
              "       [0, 1, 0, 0, 0, 0, 0, 0, 2, 1, 1, 0, 0, 0, 0, 1, 2, 0, 0, 0, 0, 0,\n",
              "        0, 0, 1, 0, 0, 0, 0, 0, 0, 0, 1, 0, 1, 0, 0, 0, 0, 1, 0, 0, 1, 2,\n",
              "        0, 0, 0, 0, 1, 0, 0, 1, 0, 0, 0, 0, 1, 0, 0, 0, 0, 0, 0, 0, 0, 1,\n",
              "        0, 0, 0, 0, 0, 0, 1, 3, 0, 0, 1, 0, 0, 1, 0, 0, 0, 0, 0, 2, 0],\n",
              "       [0, 0, 1, 0, 0, 1, 0, 1, 2, 1, 0, 0, 0, 0, 0, 1, 0, 0, 0, 0, 0, 0,\n",
              "        1, 1, 0, 0, 0, 0, 1, 1, 1, 1, 1, 0, 0, 0, 0, 0, 0, 0, 1, 0, 1, 0,\n",
              "        1, 0, 0, 0, 0, 0, 0, 1, 0, 0, 0, 0, 2, 0, 0, 0, 1, 0, 1, 0, 0, 1,\n",
              "        0, 1, 0, 0, 0, 0, 0, 3, 1, 1, 0, 0, 1, 0, 0, 1, 0, 0, 1, 0, 0]])"
            ]
          },
          "metadata": {},
          "execution_count": 14
        }
      ]
    },
    {
      "cell_type": "markdown",
      "source": [
        "# **TDIDF Vectorizer**"
      ],
      "metadata": {
        "id": "Gj_ImYlCklBD"
      }
    },
    {
      "cell_type": "code",
      "source": [
        "# it creates a 'document-term matrix'\n",
        "# columns represents the unique tokens and each row represents a document.\n",
        "# each cell contains a tf-idf weight which signifies how imp a word is for an individual document.\n",
        "\n",
        "# TF-IDF = TF*IDF\n",
        "\n",
        "#Term-Frequency: which measures how frequently a term occurs in a document. Since every document is different in length,\n",
        "#it is possible that a term would appear much more times in long documents than shorter ones. thus term-freq is often\n",
        "#divided by the document length as a way of normalization:\n",
        "\n",
        "#TF(t,d) = (No of times term 't' appears in document(d))/(Total no terms in document(j)).\n",
        "\n",
        "#Inverse Document Frequency: it measures how imp the term is. while computing TF, all terms are considered equally imp. However it is known \n",
        "#that certain terms, such as 'is','of','that', amy appear a lot of times but have very little importance. thus we need to weight down the \n",
        "#frequent terms while scale up the rare ones, by computing the following:\n",
        "\n",
        "#IDF(t) = Log_e(Total no of documents/No of documents in which term 't' appeared).\n",
        "\n",
        "\n",
        "#consider a document containing 100 words wherein the word cat appeared 3 times\n",
        "#we have total 10M documents the word cat appears in 1000 of times.\n",
        "\n",
        "# tf = 3/100 = 0.3\n",
        "#idf = log(10**7/10**3) = log(10**4) = 4\n",
        "#TF-IDF = 0.3*4 = 0.12"
      ],
      "metadata": {
        "id": "_Fx4ACOQkh_A"
      },
      "execution_count": 15,
      "outputs": []
    },
    {
      "cell_type": "code",
      "source": [
        "# if in a given doument a term is occuring very frequently-----TF will be high.\n",
        "# if a term is rarely occuring in a document then numerator will be low but idf will be high.\n",
        "\n",
        "#conclusion: if a term ocuurs frequently in a given document but its a rarely occuring in other documents.\n",
        "#TF-IDF weight of that term for given document will be large"
      ],
      "metadata": {
        "id": "TmElzIYLksDD"
      },
      "execution_count": 16,
      "outputs": []
    },
    {
      "cell_type": "code",
      "source": [
        "from sklearn.feature_extraction.text import TfidfVectorizer"
      ],
      "metadata": {
        "id": "fm91csa8kub8"
      },
      "execution_count": 17,
      "outputs": []
    },
    {
      "cell_type": "code",
      "source": [
        "tf = TfidfVectorizer()"
      ],
      "metadata": {
        "id": "DzPgIoqnkwke"
      },
      "execution_count": 18,
      "outputs": []
    },
    {
      "cell_type": "code",
      "source": [
        "tx = tf.fit(text)"
      ],
      "metadata": {
        "id": "FR-itsg6ky48"
      },
      "execution_count": 19,
      "outputs": []
    },
    {
      "cell_type": "code",
      "source": [
        "#tx.vocabulary_"
      ],
      "metadata": {
        "id": "zJwUOEixk0wf"
      },
      "execution_count": 20,
      "outputs": []
    },
    {
      "cell_type": "code",
      "source": [
        "ty = tf.transform(text)"
      ],
      "metadata": {
        "id": "cKGBA_L6k2bm"
      },
      "execution_count": 21,
      "outputs": []
    },
    {
      "cell_type": "code",
      "source": [
        "ty.shape   #5 documents and 87 unique tokens"
      ],
      "metadata": {
        "colab": {
          "base_uri": "https://localhost:8080/"
        },
        "id": "emEEAGBtk4X0",
        "outputId": "cdc064f7-4856-4d1b-a527-9e813ae8efdf"
      },
      "execution_count": 22,
      "outputs": [
        {
          "output_type": "execute_result",
          "data": {
            "text/plain": [
              "(5, 87)"
            ]
          },
          "metadata": {},
          "execution_count": 22
        }
      ]
    },
    {
      "cell_type": "code",
      "source": [
        "ty.toarray()[0]"
      ],
      "metadata": {
        "colab": {
          "base_uri": "https://localhost:8080/"
        },
        "id": "0Mg3B_CZk6Nw",
        "outputId": "1e4b5f06-223d-4353-f527-ebebbf2aed34"
      },
      "execution_count": 23,
      "outputs": [
        {
          "output_type": "execute_result",
          "data": {
            "text/plain": [
              "array([0.17299624, 0.        , 0.        , 0.17299624, 0.17299624,\n",
              "       0.        , 0.        , 0.        , 0.        , 0.        ,\n",
              "       0.        , 0.17299624, 0.        , 0.17299624, 0.        ,\n",
              "       0.        , 0.        , 0.17299624, 0.        , 0.        ,\n",
              "       0.        , 0.17299624, 0.        , 0.        , 0.        ,\n",
              "       0.17299624, 0.        , 0.        , 0.        , 0.        ,\n",
              "       0.        , 0.        , 0.09746307, 0.17299624, 0.        ,\n",
              "       0.        , 0.17299624, 0.        , 0.17299624, 0.        ,\n",
              "       0.13957228, 0.17299624, 0.3475728 , 0.13957228, 0.        ,\n",
              "       0.        , 0.        , 0.        , 0.        , 0.        ,\n",
              "       0.        , 0.        , 0.        , 0.        , 0.17299624,\n",
              "       0.        , 0.        , 0.17299624, 0.        , 0.        ,\n",
              "       0.        , 0.17299624, 0.        , 0.        , 0.        ,\n",
              "       0.        , 0.17299624, 0.        , 0.1158576 , 0.1158576 ,\n",
              "       0.        , 0.17299624, 0.        , 0.16486727, 0.13957228,\n",
              "       0.        , 0.13957228, 0.        , 0.        , 0.        ,\n",
              "       0.17299624, 0.        , 0.34599249, 0.17299624, 0.        ,\n",
              "       0.13957228, 0.17299624])"
            ]
          },
          "metadata": {},
          "execution_count": 23
        }
      ]
    },
    {
      "cell_type": "markdown",
      "source": [
        "# **Feature Scaling**"
      ],
      "metadata": {
        "id": "NliN9PR3k_CT"
      }
    },
    {
      "cell_type": "code",
      "source": [
        "import numpy as np\n",
        "import pandas as pd\n",
        "from sklearn.preprocessing import RobustScaler, MinMaxScaler, StandardScaler"
      ],
      "metadata": {
        "id": "O-u5BzZjk8IL"
      },
      "execution_count": 24,
      "outputs": []
    },
    {
      "cell_type": "code",
      "source": [
        "#StandardScaler follows Standard Normal/Gaussian Distribution. Therefore, it makes mean = 0 and scales the data to unit variance."
      ],
      "metadata": {
        "id": "piwVkbr0lDoO"
      },
      "execution_count": 25,
      "outputs": []
    },
    {
      "cell_type": "code",
      "source": [
        "#Since, it doesn't restict the data to a particular range.\n",
        "#therefore it cannot guarantee balanced feature scales in the presence of outliers."
      ],
      "metadata": {
        "id": "SssXDLJtlGGo"
      },
      "execution_count": 26,
      "outputs": []
    },
    {
      "cell_type": "code",
      "source": [
        "#MinMaxScaler scales all the data features in the range [0, 1] or else in the range [-1, 1]\n",
        "#Unlike, StandardScaler it handles outliers."
      ],
      "metadata": {
        "id": "wvSujlR-lIWz"
      },
      "execution_count": 27,
      "outputs": []
    },
    {
      "cell_type": "code",
      "source": [
        "#By using RobustScaler, we can remove the outliers and then use either StandardScaler or MinMaxScaler for preprocessing the dataset."
      ],
      "metadata": {
        "id": "m-OYVdoBlKfW"
      },
      "execution_count": 28,
      "outputs": []
    },
    {
      "cell_type": "markdown",
      "source": [
        "# **RobustScaler**"
      ],
      "metadata": {
        "id": "z8s0gRlylPww"
      }
    },
    {
      "cell_type": "code",
      "source": [
        "df = pd.DataFrame({'x1': np.concatenate([np.random.normal(20, 2, 1000), np.random.normal(1, 2, 25)]), \n",
        "    'x2':np.concatenate([np.random.normal(30, 2, 1000), np.random.normal(50, 2, 25)])})\n",
        "df.head()"
      ],
      "metadata": {
        "colab": {
          "base_uri": "https://localhost:8080/",
          "height": 206
        },
        "id": "j4jDxKSmlNIZ",
        "outputId": "923b2b8d-0ae5-40bd-c286-1ad5c5b96735"
      },
      "execution_count": 29,
      "outputs": [
        {
          "output_type": "execute_result",
          "data": {
            "text/plain": [
              "          x1         x2\n",
              "0  15.177038  31.431401\n",
              "1  19.830563  29.177474\n",
              "2  20.379101  31.144580\n",
              "3  17.002280  29.985288\n",
              "4  19.477615  32.672440"
            ],
            "text/html": [
              "\n",
              "  <div id=\"df-d75547b2-2de6-47c1-81f8-62b52bd3b50d\">\n",
              "    <div class=\"colab-df-container\">\n",
              "      <div>\n",
              "<style scoped>\n",
              "    .dataframe tbody tr th:only-of-type {\n",
              "        vertical-align: middle;\n",
              "    }\n",
              "\n",
              "    .dataframe tbody tr th {\n",
              "        vertical-align: top;\n",
              "    }\n",
              "\n",
              "    .dataframe thead th {\n",
              "        text-align: right;\n",
              "    }\n",
              "</style>\n",
              "<table border=\"1\" class=\"dataframe\">\n",
              "  <thead>\n",
              "    <tr style=\"text-align: right;\">\n",
              "      <th></th>\n",
              "      <th>x1</th>\n",
              "      <th>x2</th>\n",
              "    </tr>\n",
              "  </thead>\n",
              "  <tbody>\n",
              "    <tr>\n",
              "      <th>0</th>\n",
              "      <td>15.177038</td>\n",
              "      <td>31.431401</td>\n",
              "    </tr>\n",
              "    <tr>\n",
              "      <th>1</th>\n",
              "      <td>19.830563</td>\n",
              "      <td>29.177474</td>\n",
              "    </tr>\n",
              "    <tr>\n",
              "      <th>2</th>\n",
              "      <td>20.379101</td>\n",
              "      <td>31.144580</td>\n",
              "    </tr>\n",
              "    <tr>\n",
              "      <th>3</th>\n",
              "      <td>17.002280</td>\n",
              "      <td>29.985288</td>\n",
              "    </tr>\n",
              "    <tr>\n",
              "      <th>4</th>\n",
              "      <td>19.477615</td>\n",
              "      <td>32.672440</td>\n",
              "    </tr>\n",
              "  </tbody>\n",
              "</table>\n",
              "</div>\n",
              "      <button class=\"colab-df-convert\" onclick=\"convertToInteractive('df-d75547b2-2de6-47c1-81f8-62b52bd3b50d')\"\n",
              "              title=\"Convert this dataframe to an interactive table.\"\n",
              "              style=\"display:none;\">\n",
              "        \n",
              "  <svg xmlns=\"http://www.w3.org/2000/svg\" height=\"24px\"viewBox=\"0 0 24 24\"\n",
              "       width=\"24px\">\n",
              "    <path d=\"M0 0h24v24H0V0z\" fill=\"none\"/>\n",
              "    <path d=\"M18.56 5.44l.94 2.06.94-2.06 2.06-.94-2.06-.94-.94-2.06-.94 2.06-2.06.94zm-11 1L8.5 8.5l.94-2.06 2.06-.94-2.06-.94L8.5 2.5l-.94 2.06-2.06.94zm10 10l.94 2.06.94-2.06 2.06-.94-2.06-.94-.94-2.06-.94 2.06-2.06.94z\"/><path d=\"M17.41 7.96l-1.37-1.37c-.4-.4-.92-.59-1.43-.59-.52 0-1.04.2-1.43.59L10.3 9.45l-7.72 7.72c-.78.78-.78 2.05 0 2.83L4 21.41c.39.39.9.59 1.41.59.51 0 1.02-.2 1.41-.59l7.78-7.78 2.81-2.81c.8-.78.8-2.07 0-2.86zM5.41 20L4 18.59l7.72-7.72 1.47 1.35L5.41 20z\"/>\n",
              "  </svg>\n",
              "      </button>\n",
              "      \n",
              "  <style>\n",
              "    .colab-df-container {\n",
              "      display:flex;\n",
              "      flex-wrap:wrap;\n",
              "      gap: 12px;\n",
              "    }\n",
              "\n",
              "    .colab-df-convert {\n",
              "      background-color: #E8F0FE;\n",
              "      border: none;\n",
              "      border-radius: 50%;\n",
              "      cursor: pointer;\n",
              "      display: none;\n",
              "      fill: #1967D2;\n",
              "      height: 32px;\n",
              "      padding: 0 0 0 0;\n",
              "      width: 32px;\n",
              "    }\n",
              "\n",
              "    .colab-df-convert:hover {\n",
              "      background-color: #E2EBFA;\n",
              "      box-shadow: 0px 1px 2px rgba(60, 64, 67, 0.3), 0px 1px 3px 1px rgba(60, 64, 67, 0.15);\n",
              "      fill: #174EA6;\n",
              "    }\n",
              "\n",
              "    [theme=dark] .colab-df-convert {\n",
              "      background-color: #3B4455;\n",
              "      fill: #D2E3FC;\n",
              "    }\n",
              "\n",
              "    [theme=dark] .colab-df-convert:hover {\n",
              "      background-color: #434B5C;\n",
              "      box-shadow: 0px 1px 3px 1px rgba(0, 0, 0, 0.15);\n",
              "      filter: drop-shadow(0px 1px 2px rgba(0, 0, 0, 0.3));\n",
              "      fill: #FFFFFF;\n",
              "    }\n",
              "  </style>\n",
              "\n",
              "      <script>\n",
              "        const buttonEl =\n",
              "          document.querySelector('#df-d75547b2-2de6-47c1-81f8-62b52bd3b50d button.colab-df-convert');\n",
              "        buttonEl.style.display =\n",
              "          google.colab.kernel.accessAllowed ? 'block' : 'none';\n",
              "\n",
              "        async function convertToInteractive(key) {\n",
              "          const element = document.querySelector('#df-d75547b2-2de6-47c1-81f8-62b52bd3b50d');\n",
              "          const dataTable =\n",
              "            await google.colab.kernel.invokeFunction('convertToInteractive',\n",
              "                                                     [key], {});\n",
              "          if (!dataTable) return;\n",
              "\n",
              "          const docLinkHtml = 'Like what you see? Visit the ' +\n",
              "            '<a target=\"_blank\" href=https://colab.research.google.com/notebooks/data_table.ipynb>data table notebook</a>'\n",
              "            + ' to learn more about interactive tables.';\n",
              "          element.innerHTML = '';\n",
              "          dataTable['output_type'] = 'display_data';\n",
              "          await google.colab.output.renderOutput(dataTable, element);\n",
              "          const docLink = document.createElement('div');\n",
              "          docLink.innerHTML = docLinkHtml;\n",
              "          element.appendChild(docLink);\n",
              "        }\n",
              "      </script>\n",
              "    </div>\n",
              "  </div>\n",
              "  "
            ]
          },
          "metadata": {},
          "execution_count": 29
        }
      ]
    },
    {
      "cell_type": "code",
      "source": [
        "Rs = RobustScaler()\n",
        "Rs.fit_transform(df)"
      ],
      "metadata": {
        "colab": {
          "base_uri": "https://localhost:8080/"
        },
        "id": "4M4I4j8ElTAl",
        "outputId": "588eafc4-836f-452a-fd50-70275e71665f"
      },
      "execution_count": 30,
      "outputs": [
        {
          "output_type": "execute_result",
          "data": {
            "text/plain": [
              "array([[-1.72590728,  0.48747635],\n",
              "       [-0.07020237, -0.31927383],\n",
              "       [ 0.12496515,  0.38481427],\n",
              "       ...,\n",
              "       [-6.54596762,  5.56920867],\n",
              "       [-7.27537831,  7.36956941],\n",
              "       [-7.41544129,  6.79168559]])"
            ]
          },
          "metadata": {},
          "execution_count": 30
        }
      ]
    },
    {
      "cell_type": "markdown",
      "source": [
        "# **StandardScaler**"
      ],
      "metadata": {
        "id": "bIMd45AwlYDG"
      }
    },
    {
      "cell_type": "code",
      "source": [
        "Ss = StandardScaler()\n",
        "Ss.fit_transform(df)"
      ],
      "metadata": {
        "colab": {
          "base_uri": "https://localhost:8080/"
        },
        "id": "PoZ4B4_BlV2H",
        "outputId": "427c8397-b48d-4e1a-b45a-de3ae80db7fe"
      },
      "execution_count": 31,
      "outputs": [
        {
          "output_type": "execute_result",
          "data": {
            "text/plain": [
              "array([[-1.26171036,  0.2483523 ],\n",
              "       [ 0.07747622, -0.35381245],\n",
              "       [ 0.23533389,  0.17172451],\n",
              "       ...,\n",
              "       [-5.16032786,  4.04139775],\n",
              "       [-5.75029832,  5.38520133],\n",
              "       [-5.8635857 ,  4.95386425]])"
            ]
          },
          "metadata": {},
          "execution_count": 31
        }
      ]
    },
    {
      "cell_type": "markdown",
      "source": [
        "# **MinMaxScaler**"
      ],
      "metadata": {
        "id": "VKtz_H4NliRg"
      }
    },
    {
      "cell_type": "code",
      "source": [
        "mm = MinMaxScaler()\n",
        "mm.fit_transform(df)"
      ],
      "metadata": {
        "colab": {
          "base_uri": "https://localhost:8080/"
        },
        "id": "_3KuOqc7lbim",
        "outputId": "189bcf67-f73c-4b4d-e35d-847919cb3806"
      },
      "execution_count": 32,
      "outputs": [
        {
          "output_type": "execute_result",
          "data": {
            "text/plain": [
              "array([[0.59048105, 0.23255756],\n",
              "       [0.76158897, 0.1607114 ],\n",
              "       [0.78175846, 0.22341486],\n",
              "       ...,\n",
              "       [0.09235451, 0.68511772],\n",
              "       [0.01697396, 0.84545114],\n",
              "       [0.00249923, 0.79398696]])"
            ]
          },
          "metadata": {},
          "execution_count": 32
        }
      ]
    },
    {
      "cell_type": "code",
      "source": [],
      "metadata": {
        "id": "oYIxVbvOllo9"
      },
      "execution_count": null,
      "outputs": []
    }
  ]
}