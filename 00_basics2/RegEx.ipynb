{
  "nbformat": 4,
  "nbformat_minor": 0,
  "metadata": {
    "colab": {
      "provenance": []
    },
    "kernelspec": {
      "name": "python3",
      "display_name": "Python 3"
    },
    "language_info": {
      "name": "python"
    }
  },
  "cells": [
    {
      "cell_type": "code",
      "execution_count": null,
      "metadata": {
        "id": "X11LmUKHb2LH"
      },
      "outputs": [],
      "source": [
        "#https://youtu.be/AEE9ecgLgdQ?si=rTqazFOfCe8_YGOY\n",
        "import re"
      ]
    },
    {
      "cell_type": "code",
      "source": [
        "text = \"123abc456pqrABCD\"\n",
        "\n",
        "#mtd-1\n",
        "\n",
        "pattern = r\"abc\"\n",
        "result1 = re.findall(pattern,text)\n",
        "print(result1)\n",
        "\n",
        "#mtd-2\n",
        "\n",
        "pattern = re.compile(r\"abc\")\n",
        "result2 = pattern.findall(text)\n",
        "print(result2)"
      ],
      "metadata": {
        "colab": {
          "base_uri": "https://localhost:8080/"
        },
        "id": "dgx0t3eSjpIe",
        "outputId": "cd1f0cfa-eb84-4505-d290-b4b417c069cb"
      },
      "execution_count": null,
      "outputs": [
        {
          "output_type": "stream",
          "name": "stdout",
          "text": [
            "['abc']\n",
            "['abc']\n"
          ]
        }
      ]
    },
    {
      "cell_type": "markdown",
      "source": [
        "# **Methods to search for matches**"
      ],
      "metadata": {
        "id": "ghBgUJg6kmF6"
      }
    },
    {
      "cell_type": "code",
      "source": [
        "# findall - Returns a list containing all matches\n",
        "# finditer - It is similar to findall but it return a iterator of match objects instead of a list of matches\n",
        "#          - It also provide detailed information about match objects like start/end positions.\n",
        "\n",
        "# search - It simply return the \"first match object\" if there is a match anywhere in the string\n"
      ],
      "metadata": {
        "id": "5Pu5nEVNkewf"
      },
      "execution_count": null,
      "outputs": []
    },
    {
      "cell_type": "markdown",
      "source": [
        "# **Methods to modify a match object**"
      ],
      "metadata": {
        "id": "UzmxJA2oxy8u"
      }
    },
    {
      "cell_type": "code",
      "source": [
        "# sub    - Replaces the matches with a string\n",
        "# split  - Returns a list where the string has been split at each match"
      ],
      "metadata": {
        "id": "svHZIJOOyHUN"
      },
      "execution_count": null,
      "outputs": []
    },
    {
      "cell_type": "markdown",
      "source": [
        "# **finditer**"
      ],
      "metadata": {
        "id": "XZuVIvJ9y7yx"
      }
    },
    {
      "cell_type": "markdown",
      "source": [
        "**group, start, end, span**"
      ],
      "metadata": {
        "id": "sbZbH-KPzbB8"
      }
    },
    {
      "cell_type": "code",
      "source": [
        "text = \"123abc456789abc123ABC\"\n",
        "\n",
        "pattern = re.compile(r\"abc\")\n",
        "matches = pattern.finditer(text)\n",
        "\n",
        "for match in matches:\n",
        "    print(match)"
      ],
      "metadata": {
        "colab": {
          "base_uri": "https://localhost:8080/"
        },
        "id": "FHHHqUe7yM6G",
        "outputId": "ffcd0e0f-33c1-4722-92de-cc8746bb5ffb"
      },
      "execution_count": null,
      "outputs": [
        {
          "output_type": "stream",
          "name": "stdout",
          "text": [
            "<re.Match object; span=(3, 6), match='abc'>\n",
            "<re.Match object; span=(12, 15), match='abc'>\n"
          ]
        }
      ]
    },
    {
      "cell_type": "code",
      "source": [
        "text = \"123abc456789abc123ABC\"\n",
        "\n",
        "pattern = re.compile(r\"abc\")\n",
        "matches = pattern.finditer(text)\n",
        "\n",
        "for match in matches:\n",
        "  print(match.group(), match.start(), match.end(), match.span())"
      ],
      "metadata": {
        "colab": {
          "base_uri": "https://localhost:8080/"
        },
        "id": "tM-YQbKQzhyz",
        "outputId": "14572c51-68b6-4ee0-fbdf-7cd58ddd2d85"
      },
      "execution_count": null,
      "outputs": [
        {
          "output_type": "stream",
          "name": "stdout",
          "text": [
            "abc 3 6 (3, 6)\n",
            "abc 12 15 (12, 15)\n"
          ]
        }
      ]
    },
    {
      "cell_type": "markdown",
      "source": [
        "# **findall**"
      ],
      "metadata": {
        "id": "NBxaQfU_0i1a"
      }
    },
    {
      "cell_type": "code",
      "source": [
        "text = \"123abc456789abc123ABC\"\n",
        "\n",
        "pattern = re.compile(r\"abc\")\n",
        "matches = pattern.findall(text)\n",
        "print(matches)"
      ],
      "metadata": {
        "colab": {
          "base_uri": "https://localhost:8080/"
        },
        "id": "cApX7KVZ0OOC",
        "outputId": "293c2537-4c7c-4a72-9ee7-44f79a05a991"
      },
      "execution_count": null,
      "outputs": [
        {
          "output_type": "stream",
          "name": "stdout",
          "text": [
            "['abc', 'abc']\n"
          ]
        }
      ]
    },
    {
      "cell_type": "markdown",
      "source": [
        "# **search**"
      ],
      "metadata": {
        "id": "Mt60iYD90tVj"
      }
    },
    {
      "cell_type": "markdown",
      "source": [
        "**unlike finditer it will simply return the first match object**"
      ],
      "metadata": {
        "id": "5mVrfApS18Au"
      }
    },
    {
      "cell_type": "code",
      "source": [
        "text = \"123abc456789abc123ABC\"\n",
        "\n",
        "pattern = re.compile(r\"abc\")\n",
        "match = pattern.search(text)\n",
        "\n",
        "print(match)\n",
        "\n"
      ],
      "metadata": {
        "colab": {
          "base_uri": "https://localhost:8080/"
        },
        "id": "bpnsZLe-0owH",
        "outputId": "47d3f3de-9f08-4309-cc9f-c956a5fe3d4a"
      },
      "execution_count": null,
      "outputs": [
        {
          "output_type": "stream",
          "name": "stdout",
          "text": [
            "<re.Match object; span=(3, 6), match='abc'>\n"
          ]
        }
      ]
    },
    {
      "cell_type": "code",
      "source": [
        "text = \"123abc456789abc123ABC\"\n",
        "\n",
        "pattern = re.compile(r\"abc\")\n",
        "match = pattern.search(text)\n",
        "\n",
        "print(match.group(), match.start(), match.end(), match.span())"
      ],
      "metadata": {
        "colab": {
          "base_uri": "https://localhost:8080/"
        },
        "id": "Tq_XIROK1R8n",
        "outputId": "3385c61a-2be2-4314-84b8-570a2d2ae9fe"
      },
      "execution_count": null,
      "outputs": [
        {
          "output_type": "stream",
          "name": "stdout",
          "text": [
            "abc 3 6 (3, 6)\n"
          ]
        }
      ]
    },
    {
      "cell_type": "markdown",
      "source": [
        "# **sub**"
      ],
      "metadata": {
        "id": "FpZNogfN5myR"
      }
    },
    {
      "cell_type": "code",
      "source": [
        "txt = \"The rain in Spain\"\n",
        "\n",
        "re.sub(r'ai','**',txt)"
      ],
      "metadata": {
        "colab": {
          "base_uri": "https://localhost:8080/",
          "height": 35
        },
        "id": "5lQx8Ov82uH1",
        "outputId": "5f8b60b7-1cd7-4f0a-ecaf-7c6fee0a3ffc"
      },
      "execution_count": null,
      "outputs": [
        {
          "output_type": "execute_result",
          "data": {
            "text/plain": [
              "'The r**n in Sp**n'"
            ],
            "application/vnd.google.colaboratory.intrinsic+json": {
              "type": "string"
            }
          },
          "metadata": {},
          "execution_count": 13
        }
      ]
    },
    {
      "cell_type": "markdown",
      "source": [
        "# **split**"
      ],
      "metadata": {
        "id": "9qql3NGl_pao"
      }
    },
    {
      "cell_type": "code",
      "source": [
        "txt = \"The rain in Spain\"\n",
        "\n",
        "re.split(r'\\s',txt)"
      ],
      "metadata": {
        "colab": {
          "base_uri": "https://localhost:8080/"
        },
        "id": "ZUtbwBSJ_W4w",
        "outputId": "9074cee5-07ed-4756-8b4b-722a034dbbe4"
      },
      "execution_count": null,
      "outputs": [
        {
          "output_type": "execute_result",
          "data": {
            "text/plain": [
              "['The', 'rain', 'in', 'Spain']"
            ]
          },
          "metadata": {},
          "execution_count": 14
        }
      ]
    },
    {
      "cell_type": "code",
      "source": [
        "txt = \"123abc456abc123ABC\"\n",
        "\n",
        "re.split(r'abc',txt)"
      ],
      "metadata": {
        "colab": {
          "base_uri": "https://localhost:8080/"
        },
        "id": "ZDVCwpgObMok",
        "outputId": "962b800b-0969-4bcf-e67b-efe52b2e1aef"
      },
      "execution_count": null,
      "outputs": [
        {
          "output_type": "execute_result",
          "data": {
            "text/plain": [
              "['123', '456', '123ABC']"
            ]
          },
          "metadata": {},
          "execution_count": 48
        }
      ]
    },
    {
      "cell_type": "markdown",
      "source": [
        "## **MetaCharacters**"
      ],
      "metadata": {
        "id": "kPCi5zTDABG3"
      }
    },
    {
      "cell_type": "markdown",
      "source": [
        " .  ?  +  *  {}  ^  $  |  \\   []  ()"
      ],
      "metadata": {
        "id": "7A1qObdzAWIZ"
      }
    },
    {
      "cell_type": "code",
      "source": [
        ".   any character except new line character\n",
        "\n",
        "\n",
        "?   zero or one occurrences\n",
        "+   one or more occurrances\n",
        "*   zero or more occurrances\n",
        "{m} exactly \"m\" no of occurrances\n",
        "{m,} minimum \"m\" no of occurrances\n",
        "{m,n} minimum \"m\" and maximum \"n\" no of occurrances\n",
        "\n",
        "\n",
        "^   string strats with\n",
        "$   string ends with\n",
        "\n",
        "|   either or\n",
        "\\   Special sequence  or    can also be used to escape meaning of the following special character\n",
        "    ( \"\\d\"  \"\\w\"  \"\\s\" )   (\\. matches the . character in the string) (\\$ matches the $ character in the string)\n",
        "\n",
        "[]  A set of characters\n",
        "()  capture and group"
      ],
      "metadata": {
        "id": "1jN6Tv3q_wU8"
      },
      "execution_count": null,
      "outputs": []
    },
    {
      "cell_type": "markdown",
      "source": [
        "# **Quantifiers**"
      ],
      "metadata": {
        "id": "Pab1AsLmEKE9"
      }
    },
    {
      "cell_type": "code",
      "source": [
        "?  +   *   {m}   {m,}   {m,n}"
      ],
      "metadata": {
        "id": "6zUfxJwSEPML"
      },
      "execution_count": null,
      "outputs": []
    },
    {
      "cell_type": "code",
      "source": [
        "text = \"snkv  kamboj sourav k supriyav\"\n",
        "print(re.findall(r's.*v',text))"
      ],
      "metadata": {
        "id": "ps0EphVSa9L8",
        "colab": {
          "base_uri": "https://localhost:8080/"
        },
        "outputId": "741f530a-22b2-4b90-dfbb-cb3d0396be78"
      },
      "execution_count": null,
      "outputs": [
        {
          "output_type": "stream",
          "name": "stdout",
          "text": [
            "['snkv  kamboj sourav k supriyav']\n"
          ]
        }
      ]
    },
    {
      "cell_type": "code",
      "source": [
        "#* is greedy, meaning it tries to match as much as possible.\n",
        "#Adding ? tells the regex engine to match the smallest possible sequence that satisfies the pattern.\n",
        "#.*? matches any number of characters (non-greedy)\n",
        "print(re.findall(r's.*?v',text))"
      ],
      "metadata": {
        "colab": {
          "base_uri": "https://localhost:8080/"
        },
        "id": "iKTkH5YzxvWa",
        "outputId": "d78764f3-0157-46ca-d3a8-8165bf0924d2"
      },
      "execution_count": null,
      "outputs": [
        {
          "output_type": "stream",
          "name": "stdout",
          "text": [
            "['snkv', 'sourav', 'supriyav']\n"
          ]
        }
      ]
    },
    {
      "cell_type": "code",
      "source": [
        "text = \"kamsourav boj\"\n",
        "\n",
        "print(re.findall(r's.+v',text))"
      ],
      "metadata": {
        "colab": {
          "base_uri": "https://localhost:8080/"
        },
        "id": "4_t4pV4XlJZN",
        "outputId": "266496ab-af06-4da5-d979-9212e2dd50a6"
      },
      "execution_count": null,
      "outputs": [
        {
          "output_type": "stream",
          "name": "stdout",
          "text": [
            "['sourav']\n"
          ]
        }
      ]
    },
    {
      "cell_type": "code",
      "source": [
        "text = \"kamsv boj\"\n",
        "\n",
        "print(re.findall(r's.?v',text))"
      ],
      "metadata": {
        "colab": {
          "base_uri": "https://localhost:8080/"
        },
        "id": "8n8PEee8sUVe",
        "outputId": "705dc5d2-2cb9-426f-c8aa-234718c545b4"
      },
      "execution_count": null,
      "outputs": [
        {
          "output_type": "stream",
          "name": "stdout",
          "text": [
            "['sv']\n"
          ]
        }
      ]
    },
    {
      "cell_type": "code",
      "source": [
        "text = \"sv skv skkv skkkv\"\n",
        "print(re.findall(r's.{1}v',text)) #extactly 1 occurrance\n",
        "print(re.findall(r's.{2}v',text)) #extactly 2 occurrances\n",
        "print(re.findall(r's.{1,}v',text)) #one or more but it would not work this way\n",
        "print(re.findall(r's\\w{1,}v',text)) #one or more this will work"
      ],
      "metadata": {
        "colab": {
          "base_uri": "https://localhost:8080/"
        },
        "id": "5zxprp8Zs__k",
        "outputId": "901f812b-7c00-4fed-88af-18a10c4560cc"
      },
      "execution_count": null,
      "outputs": [
        {
          "output_type": "stream",
          "name": "stdout",
          "text": [
            "['skv']\n",
            "['skkv']\n",
            "['sv skv skkv skkkv']\n",
            "['skv', 'skkv', 'skkkv']\n"
          ]
        }
      ]
    },
    {
      "cell_type": "code",
      "source": [
        "#lets find . in the given string\n",
        "#for that we need to escape it with back-slash\n",
        "text = \"123.45.acd\"\n",
        "print(re.findall(r'\\.',text))"
      ],
      "metadata": {
        "id": "vGyZr_Ue0ja3",
        "colab": {
          "base_uri": "https://localhost:8080/"
        },
        "outputId": "fa659397-ca2e-47db-8a9d-e0c0347331de"
      },
      "execution_count": null,
      "outputs": [
        {
          "output_type": "stream",
          "name": "stdout",
          "text": [
            "['.', '.']\n"
          ]
        }
      ]
    },
    {
      "cell_type": "code",
      "source": [
        "text = \"123abc456ABC\"\n",
        "print(re.findall(r'^123',text))  #string strats with 123"
      ],
      "metadata": {
        "colab": {
          "base_uri": "https://localhost:8080/"
        },
        "id": "xhj_Hurhkeqy",
        "outputId": "86f4ef71-abd3-46ee-a489-3c126b6942e4"
      },
      "execution_count": null,
      "outputs": [
        {
          "output_type": "stream",
          "name": "stdout",
          "text": [
            "['123']\n"
          ]
        }
      ]
    },
    {
      "cell_type": "code",
      "source": [
        "print(re.findall(r'ABC$',text)) #string ends with ABC"
      ],
      "metadata": {
        "colab": {
          "base_uri": "https://localhost:8080/"
        },
        "id": "83-klul_uIs9",
        "outputId": "59b6b690-dfae-4dbb-a9ad-8ce9be9e9424"
      },
      "execution_count": null,
      "outputs": [
        {
          "output_type": "stream",
          "name": "stdout",
          "text": [
            "['ABC']\n"
          ]
        }
      ]
    },
    {
      "cell_type": "code",
      "source": [
        "print(re.findall(r'^123|ABC$',text)) #string  starts with 123 or ends with ABC"
      ],
      "metadata": {
        "colab": {
          "base_uri": "https://localhost:8080/"
        },
        "id": "BFcfmRSzumFT",
        "outputId": "f1558099-51d4-43f7-f7db-a41ea543febd"
      },
      "execution_count": null,
      "outputs": [
        {
          "output_type": "stream",
          "name": "stdout",
          "text": [
            "['123', 'ABC']\n"
          ]
        }
      ]
    },
    {
      "cell_type": "code",
      "source": [
        "print(re.findall(r'^123.*ABC$',text)) #string starting with 123 and ending with ABC"
      ],
      "metadata": {
        "colab": {
          "base_uri": "https://localhost:8080/"
        },
        "id": "t5Itrvm-ur66",
        "outputId": "9fd5c0d0-86d7-4219-d479-56742d72c758"
      },
      "execution_count": null,
      "outputs": [
        {
          "output_type": "stream",
          "name": "stdout",
          "text": [
            "['123abc456ABC']\n"
          ]
        }
      ]
    },
    {
      "cell_type": "markdown",
      "source": [
        "# **Sets**"
      ],
      "metadata": {
        "id": "Ph8lnQ_9COKp"
      }
    },
    {
      "cell_type": "code",
      "source": [
        "text = \"the rain in the spain\"\n",
        "print(re.findall(r'[asn]',text))  #a ,s or n"
      ],
      "metadata": {
        "colab": {
          "base_uri": "https://localhost:8080/"
        },
        "id": "40lUjpHfu0pO",
        "outputId": "d88f5ba5-fda6-4f9c-904e-c05c2c6c85a3"
      },
      "execution_count": null,
      "outputs": [
        {
          "output_type": "stream",
          "name": "stdout",
          "text": [
            "['a', 'n', 'n', 's', 'a', 'n']\n"
          ]
        }
      ]
    },
    {
      "cell_type": "code",
      "source": [
        "print(re.findall(r'[^asn]',text)) #any character except a,s and n"
      ],
      "metadata": {
        "colab": {
          "base_uri": "https://localhost:8080/"
        },
        "id": "Ug0sk9ijvlfb",
        "outputId": "64853231-2277-4e43-bdc5-500c00a0406e"
      },
      "execution_count": null,
      "outputs": [
        {
          "output_type": "stream",
          "name": "stdout",
          "text": [
            "['t', 'h', 'e', ' ', 'r', 'i', ' ', 'i', ' ', 't', 'h', 'e', ' ', 'p', 'i']\n"
          ]
        }
      ]
    },
    {
      "cell_type": "code",
      "source": [
        "print(re.findall(r'[a-m]',text)) #lowercase alphabets b/w a to m"
      ],
      "metadata": {
        "colab": {
          "base_uri": "https://localhost:8080/"
        },
        "id": "1WmYFLTpv2lh",
        "outputId": "c0e8b962-2e5d-46ea-b919-7cc856831813"
      },
      "execution_count": null,
      "outputs": [
        {
          "output_type": "stream",
          "name": "stdout",
          "text": [
            "['h', 'e', 'a', 'i', 'i', 'h', 'e', 'a', 'i']\n"
          ]
        }
      ]
    },
    {
      "cell_type": "code",
      "source": [
        "#note: if we put - between two digits/alphabets, it will be considered as range\n",
        "#if it is put outside, it will considered as -\n",
        "text = \"8 times before 11-45 AM\"\n",
        "print(re.findall(r'[0-9-]',text))   #any single-digit no between 0 to 9"
      ],
      "metadata": {
        "colab": {
          "base_uri": "https://localhost:8080/"
        },
        "id": "0dYrBYmjv_gs",
        "outputId": "5e706324-f2f9-483e-f386-06de0684b99d"
      },
      "execution_count": null,
      "outputs": [
        {
          "output_type": "stream",
          "name": "stdout",
          "text": [
            "['8', '1', '1', '-', '4', '5']\n"
          ]
        }
      ]
    },
    {
      "cell_type": "code",
      "source": [
        "print(re.findall(r'[0-5][0-7]',text)) #any two-digit no betweeen [00-57]"
      ],
      "metadata": {
        "colab": {
          "base_uri": "https://localhost:8080/"
        },
        "id": "phzMf9hVw3HN",
        "outputId": "86505c37-e4c0-4be3-9809-fe38c96996a5"
      },
      "execution_count": null,
      "outputs": [
        {
          "output_type": "stream",
          "name": "stdout",
          "text": [
            "['11', '45']\n"
          ]
        }
      ]
    },
    {
      "cell_type": "code",
      "source": [
        "text = \"SPAIN before$ 11:45 AM\"\n",
        "print(re.findall(r'[0-9a-zA-Z]',text)) #any character b/w 0-9 a-z or A-Z\n"
      ],
      "metadata": {
        "colab": {
          "base_uri": "https://localhost:8080/"
        },
        "id": "vQLsq-5GxKIr",
        "outputId": "9222ecb7-bcbb-4f43-eaf6-627f3005098f"
      },
      "execution_count": null,
      "outputs": [
        {
          "output_type": "stream",
          "name": "stdout",
          "text": [
            "['S', 'P', 'A', 'I', 'N', 'b', 'e', 'f', 'o', 'r', 'e', '1', '1', '4', '5', 'A', 'M']\n"
          ]
        }
      ]
    },
    {
      "cell_type": "markdown",
      "source": [
        "# **Special Sequences**"
      ],
      "metadata": {
        "id": "IeffMZpux99f"
      }
    },
    {
      "cell_type": "code",
      "source": [
        "\\d : matches any (single digit) (whole numbers) [0-9]\n",
        "\\D : matches any (non-digit character )\n",
        "\n",
        "\\w : matches any (alphanumeric charaters) [a-zA-Z0-9_]\n",
        "\\W : matches any (non-alphanumeric character)\n",
        "\n",
        "\\s : matches any (whitespace character) (space: \" \", tab: \"\\t\", newline: \"\\n\")\n",
        "\\S : matches any (non-whitespace character)\n",
        "\n",
        "\\b : matches any (word boundary) : matches where specified characters are at the begining or end of a word\n",
        "\\B : matches any (non-word boundary) : matches where specified characters are present, but NOT at the begining or end of a word\n",
        "\n",
        "\\A : matches if specified characters are present at the very beginning of a entire string regardless of line breaks\n",
        "\\Z : matches if specified characters are present at the very end of a entire string regardless of line breaks\n"
      ],
      "metadata": {
        "id": "MAe_LZOlxtq6"
      },
      "execution_count": null,
      "outputs": []
    },
    {
      "cell_type": "code",
      "source": [
        "#Difference b/w ^ and \\A\n",
        "\n",
        "# \\A works at the start of the entire string (ignores line breaks)\n",
        "# ^ works at the start of each line (respects line breaks)\n",
        "\n",
        "print(re.findall(r\"\\AThe\",\"Some text\\nThe quick brown fox\"))\n",
        "print(re.findall(r\"\\AThe\",\"The text\\nThe quick brown fox\"))"
      ],
      "metadata": {
        "colab": {
          "base_uri": "https://localhost:8080/"
        },
        "id": "ClD7pKbem6ub",
        "outputId": "3a933523-2e69-468d-b4b0-79acc43e2988"
      },
      "execution_count": null,
      "outputs": [
        {
          "output_type": "stream",
          "name": "stdout",
          "text": [
            "[]\n",
            "['The']\n"
          ]
        }
      ]
    },
    {
      "cell_type": "code",
      "source": [
        "#But without  re.MULTILINE   \" ^ \" will only check the very start of the entire string just like \" \\A \"\n",
        "print(re.findall(r\"^The\",\"Some text\\nThe quick brown fox\"))\n",
        "print(re.findall(r\"^The\",\"The text\\nThe quick brown fox\"))"
      ],
      "metadata": {
        "colab": {
          "base_uri": "https://localhost:8080/"
        },
        "id": "6fBgLbLhjs4a",
        "outputId": "34715a00-bed2-44f9-993c-1b0e813712be"
      },
      "execution_count": null,
      "outputs": [
        {
          "output_type": "stream",
          "name": "stdout",
          "text": [
            "[]\n",
            "['The']\n"
          ]
        }
      ]
    },
    {
      "cell_type": "code",
      "source": [
        "#re.MULTILINE Allows, ^ and $ to match the start and end of each line, rather than the entire string.\n",
        "print(re.findall(r\"^The\",\"Some text\\nThe quick brown fox\",re.MULTILINE))\n",
        "print(re.findall(r\"^The\",\"The text\\nThe quick brown fox\",re.MULTILINE))"
      ],
      "metadata": {
        "colab": {
          "base_uri": "https://localhost:8080/"
        },
        "id": "wjCKpAzYjzlK",
        "outputId": "d2272013-84c1-4883-9457-dfaa5aacf6a1"
      },
      "execution_count": null,
      "outputs": [
        {
          "output_type": "stream",
          "name": "stdout",
          "text": [
            "['The']\n",
            "['The', 'The']\n"
          ]
        }
      ]
    },
    {
      "cell_type": "code",
      "source": [
        "text = \"hello_123_hey honey\"\n",
        "print(re.findall(r'\\d',text))\n",
        "print(re.findall(r'\\d\\d',text))\n",
        "print(re.findall(r'\\d+',text))\n",
        "print(re.findall(r'_\\d+_',text))"
      ],
      "metadata": {
        "id": "KJQlRayApIAQ",
        "colab": {
          "base_uri": "https://localhost:8080/"
        },
        "outputId": "9f3f2c30-5250-4303-966f-5749efd580f8"
      },
      "execution_count": null,
      "outputs": [
        {
          "output_type": "stream",
          "name": "stdout",
          "text": [
            "['1', '2', '3']\n",
            "['12']\n",
            "['123']\n",
            "['_123_']\n"
          ]
        }
      ]
    },
    {
      "cell_type": "code",
      "source": [
        "text = \"hello-hi-im 01.04.2020 2023.04.01 2024/02/01 2025-01-07\"\n",
        "print(re.findall(r'\\d\\d\\d\\d-\\d\\d-\\d\\d',text))\n",
        "print(re.findall(r'\\d\\d\\d\\d/\\d\\d/\\d\\d',text))\n",
        "print(re.findall(r'\\d\\d\\d\\d\\.\\d\\d\\.\\d\\d',text)) # \\. will look for . only\n",
        "print(re.findall(r'\\d\\d\\d\\d[-/]\\d\\d[-/]\\d\\d',text))\n",
        "print(re.findall(r'\\d\\d\\d\\d.\\d\\d.\\d\\d',text))  # . will look for any charcter\n",
        "\n",
        "#let's say we want dates only with month 01/02\n",
        "print(re.findall(r'\\d\\d\\d\\d.0[12].\\d\\d',text))\n",
        "#simi if we are looking only for 2023 & 2024\n",
        "print(re.findall(r'202[34].\\d\\d.\\d\\d',text))"
      ],
      "metadata": {
        "colab": {
          "base_uri": "https://localhost:8080/"
        },
        "id": "SsYaMpeSGdbs",
        "outputId": "3498036b-ae32-4245-cc2e-f2b4e1bfdefa"
      },
      "execution_count": null,
      "outputs": [
        {
          "output_type": "stream",
          "name": "stdout",
          "text": [
            "['2025-01-07']\n",
            "['2024/02/01']\n",
            "['2023.04.01']\n",
            "['2024/02/01', '2025-01-07']\n",
            "['2023.04.01', '2024/02/01', '2025-01-07']\n",
            "['2024/02/01', '2025-01-07']\n",
            "['2023.04.01', '2024/02/01']\n"
          ]
        }
      ]
    },
    {
      "cell_type": "code",
      "source": [
        "#lets replace all the above examples with quantifiers\n",
        "print(re.findall(r'\\d{4}-\\d{2}-\\d{2}',text))\n",
        "print(re.findall(r'\\d{4}/\\d{2}/\\d{2}',text))\n",
        "print(re.findall(r'\\d{4}\\.\\d{2}\\.\\d{2}',text))\n",
        "print(re.findall(r'\\d{4}[-/]\\d{2}[-/]\\d{2}',text))\n",
        "print(re.findall(r'\\d{4}.\\d{2}.\\d{2}',text))\n",
        "print(re.findall(r'\\d{4}.0[12].\\d{2}',text))\n",
        "print(re.findall(r'202[34].\\d{2}.\\d{2}',text))"
      ],
      "metadata": {
        "colab": {
          "base_uri": "https://localhost:8080/"
        },
        "id": "F1TY4sdlI_Bj",
        "outputId": "7c1546ed-611d-4936-f007-a2333f6a9c71"
      },
      "execution_count": null,
      "outputs": [
        {
          "output_type": "stream",
          "name": "stdout",
          "text": [
            "['2025-01-07']\n",
            "['2024/02/01']\n",
            "['2023.04.01']\n",
            "['2024/02/01', '2025-01-07']\n",
            "['2023.04.01', '2024/02/01', '2025-01-07']\n",
            "['2024/02/01', '2025-01-07']\n",
            "['2023.04.01', '2024/02/01']\n"
          ]
        }
      ]
    },
    {
      "cell_type": "code",
      "source": [
        "print(re.findall(r'\\D',text))"
      ],
      "metadata": {
        "colab": {
          "base_uri": "https://localhost:8080/"
        },
        "id": "zfW_tAyD0L52",
        "outputId": "f3f1990c-31a3-4e20-870f-7f7cb40e78db"
      },
      "execution_count": null,
      "outputs": [
        {
          "output_type": "stream",
          "name": "stdout",
          "text": [
            "['h', 'e', 'l', 'l', 'o', '_', '_', 'h', 'e', 'y', ' ', 'h', 'o', 'n', 'e', 'y']\n"
          ]
        }
      ]
    },
    {
      "cell_type": "code",
      "source": [
        "text = \"hello_123_hey$honey \"\n",
        "print(re.findall(r'\\w',text))\n",
        "print(re.findall(r'\\w\\w',text))\n",
        "print(re.findall(r'\\w+',text))\n",
        "print(re.findall(r'\\W',text))"
      ],
      "metadata": {
        "colab": {
          "base_uri": "https://localhost:8080/"
        },
        "id": "UyD6UUYy16DC",
        "outputId": "e9aab155-ef30-4184-e957-0f31d9d05bbe"
      },
      "execution_count": null,
      "outputs": [
        {
          "output_type": "stream",
          "name": "stdout",
          "text": [
            "['h', 'e', 'l', 'l', 'o', '_', '1', '2', '3', '_', 'h', 'e', 'y', 'h', 'o', 'n', 'e', 'y']\n",
            "['he', 'll', 'o_', '12', '3_', 'he', 'ho', 'ne']\n",
            "['hello_123_hey', 'honey']\n",
            "['$', ' ']\n"
          ]
        }
      ]
    },
    {
      "cell_type": "code",
      "source": [
        "text = \"hello\\t123_\\nhey honey\"\n",
        "print(re.findall(r'\\s',text))\n",
        "print(re.findall(r'\\S',text))"
      ],
      "metadata": {
        "colab": {
          "base_uri": "https://localhost:8080/"
        },
        "id": "iqx_pGXP1nYg",
        "outputId": "d2eb889c-1567-4ff2-de20-b7e79e24102c"
      },
      "execution_count": null,
      "outputs": [
        {
          "output_type": "stream",
          "name": "stdout",
          "text": [
            "['\\t', '\\n', ' ']\n",
            "['h', 'e', 'l', 'l', 'o', '1', '2', '3', '_', 'h', 'e', 'y', 'h', 'o', 'n', 'e', 'y']\n"
          ]
        }
      ]
    },
    {
      "cell_type": "code",
      "source": [
        "text = \"inthe rain in spain\"\n",
        "for x in re.finditer(r'\\bin',text):\n",
        "  print(x.group(),x.span())"
      ],
      "metadata": {
        "id": "atogZGbf2Nru",
        "colab": {
          "base_uri": "https://localhost:8080/"
        },
        "outputId": "ae7a5452-81c4-4b0d-bccb-3e394b33afdb"
      },
      "execution_count": null,
      "outputs": [
        {
          "output_type": "stream",
          "name": "stdout",
          "text": [
            "in (0, 2)\n",
            "in (11, 13)\n",
            "['in', 'in', 'in']\n"
          ]
        }
      ]
    },
    {
      "cell_type": "code",
      "source": [
        "text = \"inthe rain in spain\"\n",
        "for x in re.finditer(r'in\\b',text):\n",
        "  print(x.group(),x.span())"
      ],
      "metadata": {
        "colab": {
          "base_uri": "https://localhost:8080/"
        },
        "id": "sLNYvrU64hEe",
        "outputId": "5dee5fce-58a5-4f7e-9d0e-acdf7eefed6e"
      },
      "execution_count": null,
      "outputs": [
        {
          "output_type": "stream",
          "name": "stdout",
          "text": [
            "in (8, 10)\n",
            "in (11, 13)\n",
            "in (17, 19)\n"
          ]
        }
      ]
    },
    {
      "cell_type": "code",
      "source": [
        "text = \"inthein rain the in spain\"\n",
        "for x in re.finditer(r'\\bthe\\b',text):\n",
        "  print(x.group(),x.span())"
      ],
      "metadata": {
        "colab": {
          "base_uri": "https://localhost:8080/"
        },
        "id": "5zKP8pKE5IvK",
        "outputId": "ac335e97-c120-467a-b841-898cc8a9d04a"
      },
      "execution_count": null,
      "outputs": [
        {
          "output_type": "stream",
          "name": "stdout",
          "text": [
            "the (13, 16)\n"
          ]
        }
      ]
    },
    {
      "cell_type": "code",
      "source": [
        "text = \"the rain in spain\"\n",
        "for x in re.finditer(r'\\Bin',text):\n",
        "  print(x.group(),x.span())"
      ],
      "metadata": {
        "colab": {
          "base_uri": "https://localhost:8080/"
        },
        "id": "849kGegU5W_v",
        "outputId": "68dc25fb-3319-4b51-c76e-1977c243c178"
      },
      "execution_count": null,
      "outputs": [
        {
          "output_type": "stream",
          "name": "stdout",
          "text": [
            "in (6, 8)\n",
            "in (15, 17)\n"
          ]
        }
      ]
    },
    {
      "cell_type": "code",
      "source": [
        "text = \"the rain in spain\"\n",
        "for x in re.finditer(r'ai\\B',text):\n",
        "  print(x.group(),x.span())"
      ],
      "metadata": {
        "colab": {
          "base_uri": "https://localhost:8080/"
        },
        "id": "gL_1sqzQ5c4C",
        "outputId": "6a786fb4-fce3-4288-cae6-b4d29b316c83"
      },
      "execution_count": null,
      "outputs": [
        {
          "output_type": "stream",
          "name": "stdout",
          "text": [
            "ai (5, 7)\n",
            "ai (14, 16)\n"
          ]
        }
      ]
    },
    {
      "cell_type": "code",
      "source": [
        "text = \"the rain in spain\"\n",
        "for x in re.finditer(r'\\Bai\\B',text):\n",
        "  print(x.group(),x.span())"
      ],
      "metadata": {
        "colab": {
          "base_uri": "https://localhost:8080/"
        },
        "id": "Ek1VJnz55qKL",
        "outputId": "e68e4009-fbcb-459e-ba71-5b688fa82ca7"
      },
      "execution_count": null,
      "outputs": [
        {
          "output_type": "stream",
          "name": "stdout",
          "text": [
            "ai (5, 7)\n",
            "ai (14, 16)\n"
          ]
        }
      ]
    },
    {
      "cell_type": "code",
      "source": [
        "#  r\"abc\" vs r\"\\babc\\b\"\n",
        "\n",
        "#r\"abc\" Matches the substring \"abc\" anywhere within the text, regardless of its position\n",
        "for x in [\"abc\",\"abc123\",\"123abc\",\"123abc456\"]:\n",
        "  print(re.findall(r\"abc\",x))\n",
        "\n",
        "print()\n",
        "#Matches \"abc\" only when it's  an isolated word i.e. it's not a part of any other word\n",
        "# i.e., surrounded by non-word characters (such as spaces, punctuation, or the start/end of the string)\n",
        "for x in [\"abc123\",\"123 abc\",\"abc. hii\",\"abc# hii\"]:\n",
        "  print(re.findall(r\"\\babc\\b\",x))"
      ],
      "metadata": {
        "colab": {
          "base_uri": "https://localhost:8080/"
        },
        "id": "isccBpZ97RZN",
        "outputId": "224c2ac7-17d0-41a2-c8ef-f0ee00a6cad0"
      },
      "execution_count": null,
      "outputs": [
        {
          "output_type": "stream",
          "name": "stdout",
          "text": [
            "['abc']\n",
            "['abc']\n",
            "['abc']\n",
            "['abc']\n",
            "\n",
            "[]\n",
            "['abc']\n",
            "['abc']\n",
            "['abc']\n"
          ]
        }
      ]
    },
    {
      "cell_type": "code",
      "source": [
        "print(re.findall(r\"\\AThe\",\"The text\\n quick brown fox\"))\n",
        "print(re.findall(r\"fox\\Z\",\"The text\\nThe quick brown fox\"))"
      ],
      "metadata": {
        "colab": {
          "base_uri": "https://localhost:8080/"
        },
        "id": "lLsogQjE9htu",
        "outputId": "92a77848-ab1d-4f9b-93fe-ab5ece18d8f1"
      },
      "execution_count": null,
      "outputs": [
        {
          "output_type": "stream",
          "name": "stdout",
          "text": [
            "['The']\n",
            "['fox']\n"
          ]
        }
      ]
    },
    {
      "cell_type": "markdown",
      "source": [
        "# **Capture and Group**"
      ],
      "metadata": {
        "id": "GPS8zF0mDOFt"
      }
    },
    {
      "cell_type": "markdown",
      "source": [
        "**Ex-1**"
      ],
      "metadata": {
        "id": "FmSe6J1TSDOy"
      }
    },
    {
      "cell_type": "code",
      "source": [
        "#If no groups exist, findall() returns the entire match.\n",
        "#findall() returns only what’s inside the capture groups.\n",
        "text = \"hello_123_hey $pqr$honey  _456_hello $abcd$yoo\"\n",
        "print(re.findall(r'_\\d+_',text))\n",
        "print(re.findall(r'_(\\d+)_',text))"
      ],
      "metadata": {
        "colab": {
          "base_uri": "https://localhost:8080/"
        },
        "id": "e3Js-zJfG6yJ",
        "outputId": "24f7f759-dd2d-466d-88d0-77a2070e1f21"
      },
      "execution_count": null,
      "outputs": [
        {
          "output_type": "stream",
          "name": "stdout",
          "text": [
            "['_123_', '_456_']\n",
            "['123', '456']\n"
          ]
        }
      ]
    },
    {
      "cell_type": "code",
      "source": [
        "#If there are multiple groups, it returns tuples of those groups.\n",
        "print(re.findall(r'_(\\d+)_\\w+\\s\\$(\\w+)\\$',text))"
      ],
      "metadata": {
        "colab": {
          "base_uri": "https://localhost:8080/"
        },
        "id": "CRn0e0SvNmaZ",
        "outputId": "5b58199d-8d43-4c80-ab72-d3243edb5130"
      },
      "execution_count": null,
      "outputs": [
        {
          "output_type": "stream",
          "name": "stdout",
          "text": [
            "[('123', 'pqr'), ('456', 'abcd')]\n"
          ]
        }
      ]
    },
    {
      "cell_type": "markdown",
      "source": [
        "**Ex-2**"
      ],
      "metadata": {
        "id": "UKSLN47UMKp2"
      }
    },
    {
      "cell_type": "code",
      "source": [
        "txt = \"\"\"Pythonengg@gmail.com   Python-engg@gmx.de  Pythonengg123@bajaj-fin.in\"\"\"\n",
        "pattern = re.compile(r\"[a-zA-Z0-9-]+@[a-z-]+\\.[a-z]+\")\n",
        "matches = pattern.findall(txt)\n",
        "print(matches)\n"
      ],
      "metadata": {
        "colab": {
          "base_uri": "https://localhost:8080/"
        },
        "id": "X7k8HQlCHYPJ",
        "outputId": "b3c84d98-1a33-4117-ab13-fb0f392e3205"
      },
      "execution_count": null,
      "outputs": [
        {
          "output_type": "stream",
          "name": "stdout",
          "text": [
            "['Pythonengg@gmail.com', 'Python-engg@gmx.de', 'Pythonengg123@bajaj-fin.in']\n"
          ]
        }
      ]
    },
    {
      "cell_type": "code",
      "source": [
        "#we can also explicitly group our match objects into different substrings\n",
        "pattern = re.compile(r\"([a-zA-Z0-9-]+)@([a-z-]+)\\.([a-z]+)\")\n",
        "matches = pattern.findall(txt)\n",
        "print(matches)"
      ],
      "metadata": {
        "colab": {
          "base_uri": "https://localhost:8080/"
        },
        "id": "perNsNwrQwsF",
        "outputId": "5e8d3d2f-ab88-4368-bd12-a73fe0306eb0"
      },
      "execution_count": null,
      "outputs": [
        {
          "output_type": "stream",
          "name": "stdout",
          "text": [
            "[('Pythonengg', 'gmail', 'com'), ('Python-engg', 'gmx', 'de'), ('Pythonengg123', 'bajaj-fin', 'in')]\n"
          ]
        }
      ]
    },
    {
      "cell_type": "code",
      "source": [
        "#Use finditer() if you need both the full match and the groups.\n",
        "pattern = re.compile(r\"([a-zA-Z0-9-]+)@([a-z-]+)\\.([a-z]+)\")\n",
        "matches = pattern.finditer(txt)\n",
        "for match in matches:\n",
        "  print(match.group(0))\n",
        "  print(match.group(1))\n",
        "  print(match.group(2))\n",
        "  print(match.group(3))"
      ],
      "metadata": {
        "colab": {
          "base_uri": "https://localhost:8080/"
        },
        "id": "S0LVqwIAR81-",
        "outputId": "34b1059c-2315-408f-92bb-f22bb47db7a8"
      },
      "execution_count": null,
      "outputs": [
        {
          "output_type": "stream",
          "name": "stdout",
          "text": [
            "Pythonengg@gmail.com\n",
            "Pythonengg\n",
            "gmail\n",
            "com\n",
            "Python-engg@gmx.de\n",
            "Python-engg\n",
            "gmx\n",
            "de\n",
            "Pythonengg123@bajaj-fin.in\n",
            "Pythonengg123\n",
            "bajaj-fin\n",
            "in\n"
          ]
        }
      ]
    },
    {
      "cell_type": "markdown",
      "source": [
        "# **Conditions**"
      ],
      "metadata": {
        "id": "XAhuhjnLUhbq"
      }
    },
    {
      "cell_type": "code",
      "source": [
        "txt = \"\"\" hello worls 1223 2025-01-26 Mr Simpson Mrs Simpson Mr. Brown Ms Smith Mr. T\"\"\"\n",
        "pattern = re.compile(r\"Mr\\.?\\s\\w+|Mrs\\.?\\s\\w+|Ms\\.?\\s\\w+\")\n",
        "\n",
        "matches = pattern.findall(txt)\n",
        "print(matches)"
      ],
      "metadata": {
        "colab": {
          "base_uri": "https://localhost:8080/"
        },
        "id": "IZO7ZrykUoG0",
        "outputId": "d6eb55b0-49eb-474e-a84e-47f641dc2854"
      },
      "execution_count": null,
      "outputs": [
        {
          "output_type": "stream",
          "name": "stdout",
          "text": [
            "['Mr Simpson', 'Mrs Simpson', 'Mr. Brown', 'Ms Smith', 'Mr. T']\n"
          ]
        }
      ]
    },
    {
      "cell_type": "code",
      "source": [
        "#above regex can also be re-written as\n",
        "pattern = re.compile(r\"(Mr|Mrs|Ms)\\.?\\s\\w+\")\n",
        "\n",
        "matches = pattern.findall(txt)\n",
        "print(matches)"
      ],
      "metadata": {
        "colab": {
          "base_uri": "https://localhost:8080/"
        },
        "id": "5Iltd8UrKcOe",
        "outputId": "2d518189-54c8-482f-b962-12d685799f46"
      },
      "execution_count": null,
      "outputs": [
        {
          "output_type": "stream",
          "name": "stdout",
          "text": [
            "['Mr', 'Mrs', 'Mr', 'Ms', 'Mr']\n"
          ]
        }
      ]
    },
    {
      "cell_type": "code",
      "source": [
        "#Use finditer() if you need both the full match and the groups.\n",
        "pattern = re.compile(r\"(Mr|Mrs|Ms)\\.?\\s\\w+\")\n",
        "\n",
        "matches = pattern.finditer(txt)\n",
        "for match in matches:\n",
        "  print(match.group(0))\n",
        "  print(match.group(1))"
      ],
      "metadata": {
        "colab": {
          "base_uri": "https://localhost:8080/"
        },
        "id": "8dxzloRfStEW",
        "outputId": "6720fdef-a9dc-40f4-cfac-6189af2d75f8"
      },
      "execution_count": null,
      "outputs": [
        {
          "output_type": "stream",
          "name": "stdout",
          "text": [
            "Mr Simpson\n",
            "Mr\n",
            "Mrs Simpson\n",
            "Mrs\n",
            "Mr. Brown\n",
            "Mr\n",
            "Ms Smith\n",
            "Ms\n",
            "Mr. T\n",
            "Mr\n"
          ]
        }
      ]
    },
    {
      "cell_type": "markdown",
      "source": [
        "# **Compilation Flags**"
      ],
      "metadata": {
        "id": "cf4ns_b7sszK"
      }
    },
    {
      "cell_type": "code",
      "source": [
        "#re.IGNORECASE\n",
        "#Makes the regex case-insensitive\n",
        "\n",
        "txt = \"HELLO WORLD\"\n",
        "print(re.findall(r\"world\",txt,re.IGNORECASE))\n",
        "\n",
        "#anotherway\n",
        "pattern = re.compile(r\"world\",re.IGNORECASE)\n",
        "print(pattern.findall(txt))"
      ],
      "metadata": {
        "id": "w0lqYA-TXeV4",
        "colab": {
          "base_uri": "https://localhost:8080/"
        },
        "outputId": "77d9c0a9-4df8-430f-8170-1b85c2d034fc"
      },
      "execution_count": null,
      "outputs": [
        {
          "output_type": "stream",
          "name": "stdout",
          "text": [
            "['WORLD']\n",
            "['WORLD']\n"
          ]
        }
      ]
    },
    {
      "cell_type": "code",
      "source": [
        "#re.MULTILINE\n",
        "#Allows ^ and $ to match the start and end of each line, rather than the entire string.\n",
        "print(re.findall(r\"^The\",\"The text\\nThe quick brown fox\",re.MULTILINE))"
      ],
      "metadata": {
        "id": "dqLltXlLmFqe",
        "colab": {
          "base_uri": "https://localhost:8080/"
        },
        "outputId": "599e9b6f-2120-48ff-b429-f78aaeb6d553"
      },
      "execution_count": null,
      "outputs": [
        {
          "output_type": "stream",
          "name": "stdout",
          "text": [
            "['The', 'The']\n"
          ]
        }
      ]
    },
    {
      "cell_type": "code",
      "source": [
        "#re.DOTALL\n",
        "#Makes the . (dot) match newline characters (\\n) as well.\n",
        "\n",
        "txt = \"sourav\\nkamboj\"\n",
        "print(re.findall(r\"\\w+.*\\w+\",txt))\n",
        "print(re.findall(r\"\\w+.*\\w+\",txt,re.DOTALL))"
      ],
      "metadata": {
        "colab": {
          "base_uri": "https://localhost:8080/"
        },
        "id": "sceF-6Wku_pS",
        "outputId": "5a9f3968-af00-4766-cd8a-23b78190b20d"
      },
      "execution_count": null,
      "outputs": [
        {
          "output_type": "stream",
          "name": "stdout",
          "text": [
            "['sourav', 'kamboj']\n",
            "['sourav\\nkamboj']\n"
          ]
        }
      ]
    },
    {
      "cell_type": "code",
      "source": [
        "#re.VERBOSE\n",
        "#Allows whitespace and comments in the regex for better readability.\n",
        "\n",
        "pattern = re.compile(\"\"\"\n",
        "            \\d{4} #matches year\n",
        "            -     #matches hyphen\n",
        "            \\d{2} #matches month\n",
        "            -     #matches hyphen\n",
        "            \\d{2} #matches day\n",
        "         \"\"\",re.VERBOSE)\n",
        "print(pattern.findall(\"2025-01-26 01-12-2023 20204-12-19\"))"
      ],
      "metadata": {
        "colab": {
          "base_uri": "https://localhost:8080/"
        },
        "id": "KTUFWYoHvtUB",
        "outputId": "4cc8383f-fd22-42fc-e7fa-f111141ad1e1"
      },
      "execution_count": null,
      "outputs": [
        {
          "output_type": "stream",
          "name": "stdout",
          "text": [
            "['2025-01-26', '0204-12-19']\n"
          ]
        }
      ]
    },
    {
      "cell_type": "code",
      "source": [
        "#re.ASCII\n",
        "#by defalut  \\w \\W matches unicode also\n",
        "\n",
        "txt = \"café\"\n",
        "pattern = re.compile(r\"\\w+\")\n",
        "print(pattern.findall(txt))\n",
        "\n",
        "#re.ASCII makes the regex, matches only ASCII characters for word boundaries (\\w, \\W, etc.), ignoring Unicode.\n",
        "pattern = re.compile(r\"\\w+\",re.ASCII)\n",
        "print(pattern.findall(txt)) #because 'é' is non-ASCII"
      ],
      "metadata": {
        "colab": {
          "base_uri": "https://localhost:8080/"
        },
        "id": "RAPO5uYn1m01",
        "outputId": "ccf457be-abb8-42d8-e29c-58337422b98b"
      },
      "execution_count": null,
      "outputs": [
        {
          "output_type": "stream",
          "name": "stdout",
          "text": [
            "['café']\n",
            "['caf']\n"
          ]
        }
      ]
    },
    {
      "cell_type": "markdown",
      "source": [
        "# **Combining Flags**"
      ],
      "metadata": {
        "id": "XNtqUW653l58"
      }
    },
    {
      "cell_type": "code",
      "source": [
        "txt = \"SOURAV\\nKAMBOJ\"\n",
        "print(re.findall(r\"sourav.*kamboj\", txt ,  re.DOTALL|re.IGNORECASE  ))"
      ],
      "metadata": {
        "colab": {
          "base_uri": "https://localhost:8080/"
        },
        "id": "b6ajMB_11ZOg",
        "outputId": "be28a6e5-3d1c-4787-e790-1c8a3520a127"
      },
      "execution_count": null,
      "outputs": [
        {
          "output_type": "stream",
          "name": "stdout",
          "text": [
            "['SOURAV\\nKAMBOJ']\n"
          ]
        }
      ]
    },
    {
      "cell_type": "code",
      "source": [],
      "metadata": {
        "id": "vo8Tq2kA33nj"
      },
      "execution_count": null,
      "outputs": []
    }
  ]
}