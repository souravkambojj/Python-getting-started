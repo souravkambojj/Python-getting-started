{
  "nbformat": 4,
  "nbformat_minor": 0,
  "metadata": {
    "colab": {
      "name": "03_IterGen_EncDec_.ipynb",
      "provenance": [],
      "collapsed_sections": []
    },
    "kernelspec": {
      "name": "python3",
      "display_name": "Python 3"
    },
    "language_info": {
      "name": "python"
    }
  },
  "cells": [
    {
      "cell_type": "markdown",
      "source": [
        "# **Iterator**"
      ],
      "metadata": {
        "id": "_zOofJoegcY5"
      }
    },
    {
      "cell_type": "markdown",
      "source": [
        "**Ex-1**"
      ],
      "metadata": {
        "id": "cA-eAuoog33y"
      }
    },
    {
      "cell_type": "code",
      "execution_count": 1,
      "metadata": {
        "id": "DdStQ-l6gTnE"
      },
      "outputs": [],
      "source": [
        "class count():\n",
        "  def __init__(self,low,high):\n",
        "    self.lower = low\n",
        "    self.higher = high\n",
        "\n",
        "  def __iter__(self):\n",
        "    return self\n",
        "\n",
        "  def __next__(self):\n",
        "    if self.lower > self.higher:\n",
        "      raise StopIteration\n",
        "\n",
        "    else:\n",
        "      x = self.lower\n",
        "      self.lower +=1\n",
        "      return x"
      ]
    },
    {
      "cell_type": "code",
      "source": [
        "itr = count(1,5)"
      ],
      "metadata": {
        "colab": {
          "base_uri": "https://localhost:8080/"
        },
        "id": "FekkwvSMgf6F",
        "outputId": "309b4c89-d796-427c-9714-00b3a1257064"
      },
      "execution_count": 2,
      "outputs": [
        {
          "output_type": "stream",
          "name": "stdout",
          "text": [
            ""
          ]
        }
      ]
    },

    {
      "cell_type": "code",
      "source": [
        "for i in count(1,5):\n",
        "  print(i,end=' ')"
      ],
      "metadata": {
        "colab": {
          "base_uri": "https://localhost:8080/"
        },
        "id": "FekkwvSMgf6F",
        "outputId": "309b4c89-d796-427c-9714-00b3a1257064"
      },
      "execution_count": 2,
      "outputs": [
        {
          "output_type": "stream",
          "name": "stdout",
          "text": [
            "1 2 3 4 5 "
          ]
        }
      ]
    },
    {
      "cell_type": "markdown",
      "source": [
        "**Ex-2**"
      ],
      "metadata": {
        "id": "NgWiAK48g68I"
      }
    },
    {
      "cell_type": "code",
      "source": [
        "class square:\n",
        "  def __init__(self,l,h):\n",
        "    self.lower = l\n",
        "    self.higher = h\n",
        "  \n",
        "  def __iter__(self):\n",
        "    return self\n",
        "\n",
        "  def __next__(self):\n",
        "    if self.lower>self.higher:\n",
        "      raise StopIteration\n",
        "    else:\n",
        "      x = self.lower * self.lower\n",
        "      self.lower +=1\n",
        "      return x"
      ],
      "metadata": {
        "id": "yiHJSIp9gueJ"
      },
      "execution_count": 3,
      "outputs": []
    },
    {
      "cell_type": "code",
      "source": [
        "for i in square(1,5):\n",
        "  print(i, end = ' ')"
      ],
      "metadata": {
        "colab": {
          "base_uri": "https://localhost:8080/"
        },
        "id": "9xZlQDHjgx64",
        "outputId": "97521fe3-d102-437c-9a62-34392d5f549c"
      },
      "execution_count": 4,
      "outputs": [
        {
          "output_type": "stream",
          "name": "stdout",
          "text": [
            "1 4 9 16 25 "
          ]
        }
      ]
    },

    {
      "cell_type": "markdown",
      "source": [
        "**Ex-3**"
      ],
      "metadata": {
        "id": "NdqCcUFPg98D"
      }
    },
    {
      "cell_type": "code",
      "source": [
        "animals = ['cat','dog','horse','pig','goat','cow']\n",
        "iter_animal_list = animals.__iter__()\n",
        "\n",
        "print(iter_animal_list.__next__())\n",
        "print(iter_animal_list.__next__())\n",
        "print(iter_animal_list.__next__())\n",
        "print(iter_animal_list.__next__())\n",
        "print(iter_animal_list.__next__())\n",
        "print(iter_animal_list.__next__())"
      ],
      "metadata": {
        "colab": {
          "base_uri": "https://localhost:8080/"
        },
        "id": "izTddNzig0K4",
        "outputId": "1989423d-f5e4-4e13-934f-2422c96923cc"
      },
      "execution_count": 5,
      "outputs": [
        {
          "output_type": "stream",
          "name": "stdout",
          "text": [
            "cat\n",
            "dog\n",
            "horse\n",
            "pig\n",
            "goat\n",
            "cow\n"
          ]
        }
      ]
    },

    {
      "cell_type": "markdown",
      "source": [
        "**Ex-3**"
      ],
      "metadata": {
        "id": "NdqCcUFPg98D"
      }
    },
    {
      "cell_type": "code",
      "source": [
        "#above code can also be rewritten as \n",
        "animals = ['cat','dog','horse','pig','goat','cow']\n",
        "iter_animal_list = iter(animals)\n",
        "\n",
        "print(next(iter_animal_list))\n",
        "print(next(iter_animal_list))\n",
        "print(next(iter_animal_list))\n",
        "print(next(iter_animal_list))\n",
        "print(next(iter_animal_list))\n",
        "print(next(iter_animal_list))"
      ],
      "metadata": {
        "colab": {
          "base_uri": "https://localhost:8080/"
        },
        "id": "izTddNzig0K4",
        "outputId": "1989423d-f5e4-4e13-934f-2422c96923cc"
      },
      "execution_count": 5,
      "outputs": [
        {
          "output_type": "stream",
          "name": "stdout",
          "text": [
            "cat\n",
            "dog\n",
            "horse\n",
            "pig\n",
            "goat\n",
            "cow\n"
          ]
        }
      ]
    },

    {
      "cell_type": "markdown",
      "source": [
        "# **Generator**"
      ],
      "metadata": {
        "id": "K5arrXXUhDH2"
      }
    },
    {
      "cell_type": "markdown",
      "source": [
        "**Ex-1**"
      ],
      "metadata": {
        "id": "hdWJLz79hH0E"
      }
    },
    {
      "cell_type": "code",
      "source": [
        "def square(l,h):\n",
        "  while(l<=h):\n",
        "    yield l**2\n",
        "    l+=1"
      ],
      "metadata": {
        "id": "mqpjIJXmg21Y"
      },
      "execution_count": 6,
      "outputs": []
    },
    {
      "cell_type": "code",
      "source": [
        "for x in square(1,5):           #printing all the outputs at one go\n",
        "  print(x,end=' ')"
      ],
      "metadata": {
        "colab": {
          "base_uri": "https://localhost:8080/"
        },
        "id": "AaG6j6SvhHZI",
        "outputId": "b1cdcee4-0268-42b7-897a-26e006d51027"
      },
      "execution_count": 7,
      "outputs": [
        {
          "output_type": "stream",
          "name": "stdout",
          "text": [
            "1 4 9 16 25 "
          ]
        }
      ]
    },
    {
      "cell_type": "code",
      "source": [
        "gen = square(1,5)              #printing outputs one by one"
      ],
      "metadata": {
        "id": "3-jZP-aPhbKN"
      },
      "execution_count": 8,
      "outputs": []
    },
    {
      "cell_type": "code",
      "source": [
        "next(gen)"
      ],
      "metadata": {
        "colab": {
          "base_uri": "https://localhost:8080/"
        },
        "id": "f3KHg7pmhmaW",
        "outputId": "c333123e-9a00-4201-c35b-e1117a5b11ac"
      },
      "execution_count": 9,
      "outputs": [
        {
          "output_type": "execute_result",
          "data": {
            "text/plain": [
              "1"
            ]
          },
          "metadata": {},
          "execution_count": 9
        }
      ]
    },
    {
      "cell_type": "code",
      "source": [
        "next(gen)"
      ],
      "metadata": {
        "colab": {
          "base_uri": "https://localhost:8080/"
        },
        "id": "uQPlZXk5hogG",
        "outputId": "5b75f13c-44f2-42a9-e91c-c7f5486b25ee"
      },
      "execution_count": 10,
      "outputs": [
        {
          "output_type": "execute_result",
          "data": {
            "text/plain": [
              "4"
            ]
          },
          "metadata": {},
          "execution_count": 10
        }
      ]
    },
    {
      "cell_type": "markdown",
      "source": [
        "**Ex-2**"
      ],
      "metadata": {
        "id": "MIvCnEu3htT1"
      }
    },
    {
      "cell_type": "code",
      "source": [
        "def vowel():\n",
        "  yield 'a'\n",
        "  yield 'e'\n",
        "  yield 'i'\n",
        "  yield 'o'\n",
        "  yield 'u'"
      ],
      "metadata": {
        "id": "ba_ADmx4hqFm"
      },
      "execution_count": 11,
      "outputs": []
    },
    {
      "cell_type": "code",
      "source": [
        "for x in vowel():\n",
        "  print(x,end=' ')"
      ],
      "metadata": {
        "colab": {
          "base_uri": "https://localhost:8080/"
        },
        "id": "0thHkZV_hwFl",
        "outputId": "2f668639-ba84-4eaa-8de9-9ba1826d5377"
      },
      "execution_count": 12,
      "outputs": [
        {
          "output_type": "stream",
          "name": "stdout",
          "text": [
            "a e i o u "
          ]
        }
      ]
    },
    {
      "cell_type": "code",
      "source": [
        "gen = vowel()"
      ],
      "metadata": {
        "id": "vGrYTBNDhzCl"
      },
      "execution_count": 13,
      "outputs": []
    },
    {
      "cell_type": "code",
      "source": [
        "next(gen)"
      ],
      "metadata": {
        "colab": {
          "base_uri": "https://localhost:8080/",
          "height": 35
        },
        "id": "dZeLDCuxh3ck",
        "outputId": "5006c965-347c-4d8e-de03-491ff8cf3cf1"
      },
      "execution_count": 14,
      "outputs": [
        {
          "output_type": "execute_result",
          "data": {
            "application/vnd.google.colaboratory.intrinsic+json": {
              "type": "string"
            },
            "text/plain": [
              "'a'"
            ]
          },
          "metadata": {},
          "execution_count": 14
        }
      ]
    },
    {
      "cell_type": "code",
      "source": [
        "next(gen)"
      ],
      "metadata": {
        "colab": {
          "base_uri": "https://localhost:8080/",
          "height": 35
        },
        "id": "daY8euyqh5DU",
        "outputId": "8983259c-34ba-4c52-9df8-0857a086f537"
      },
      "execution_count": 15,
      "outputs": [
        {
          "output_type": "execute_result",
          "data": {
            "application/vnd.google.colaboratory.intrinsic+json": {
              "type": "string"
            },
            "text/plain": [
              "'e'"
            ]
          },
          "metadata": {},
          "execution_count": 15
        }
      ]
    },
    {
      "cell_type": "markdown",
      "source": [
        "# **Encoding**"
      ],
      "metadata": {
        "id": "MswiKKz6h9Ka"
      }
    },
    {
      "cell_type": "code",
      "source": [
        "#PNG JPEG MP3 WAv ASCII UTF-8  are different form of encodings\n",
        "\n",
        "#Converting a string to a byte object is termed as encoding and it is implemented as encode().\n",
        "#For text ASCII and UTF-8 encoding techniques are used."
      ],
      "metadata": {
        "id": "aOHDzQ2jh6OE"
      },
      "execution_count": 16,
      "outputs": []
    },
    {
      "cell_type": "code",
      "source": [
        "#initialising a string\n",
        "a = 'welcome to datascience'\n",
        "\n",
        "#initialising a byte object\n",
        "b = b'welcome to datascience'\n",
        "\n",
        "#using ASCII maping the encoded version of a is stored in d\n",
        "d = a.encode('ASCII')\n",
        "\n",
        "# checking if a is converted to bytes or not\n",
        "\n",
        "if (d==b):\n",
        "  print('Encoding Successful')\n",
        "\n",
        "else:\n",
        "  print('Encoding Unsucessful')"
      ],
      "metadata": {
        "colab": {
          "base_uri": "https://localhost:8080/"
        },
        "id": "rKjW6FjeiB0U",
        "outputId": "e78533a0-a946-48f1-91fc-da6b2c0b0c7b"
      },
      "execution_count": 17,
      "outputs": [
        {
          "output_type": "stream",
          "name": "stdout",
          "text": [
            "Encoding Successful\n"
          ]
        }
      ]
    },
    {
      "cell_type": "markdown",
      "source": [
        "# **Decoding**"
      ],
      "metadata": {
        "id": "8gKdNSiriGAj"
      }
    },
    {
      "cell_type": "code",
      "source": [
        "# Process of converting a byte object to string is termed as Decoding.\n",
        "#it is implemented as decode()."
      ],
      "metadata": {
        "id": "T35hyUCaiEAE"
      },
      "execution_count": 18,
      "outputs": []
    },
    {
      "cell_type": "code",
      "source": [
        "#initialising a string\n",
        "a = 'welcome to datascience'\n",
        "\n",
        "#initilaising a byte object\n",
        "b = b'welcome to datascience'\n",
        "\n",
        "#using ASCII mapping the decoded version of b is stored in d.\n",
        "d = b.decode('ASCII')\n",
        "\n",
        "#checking if b is converted into string or not\n",
        "\n",
        "if d==a:\n",
        "  print('Decoding Successful')\n",
        "else:\n",
        "  print('Decoding Unsuccessful')"
      ],
      "metadata": {
        "colab": {
          "base_uri": "https://localhost:8080/"
        },
        "id": "YZoGym6eiJST",
        "outputId": "e3a129e9-6bc6-4f01-a9ab-f4d13203a8fc"
      },
      "execution_count": 19,
      "outputs": [
        {
          "output_type": "stream",
          "name": "stdout",
          "text": [
            "Decoding Successful\n"
          ]
        }
      ]
    },
    {
      "cell_type": "code",
      "source": [
        ""
      ],
      "metadata": {
        "id": "P2cHd_NGiLOj"
      },
      "execution_count": null,
      "outputs": []
    }
  ]
}
