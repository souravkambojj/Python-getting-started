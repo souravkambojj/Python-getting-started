{
  "nbformat": 4,
  "nbformat_minor": 0,
  "metadata": {
    "colab": {
      "name": "shallow/deep_copy.ipynb",
      "provenance": [],
      "collapsed_sections": []
    },
    "kernelspec": {
      "name": "python3",
      "display_name": "Python 3"
    },
    "language_info": {
      "name": "python"
    }
  },
  "cells": [
    {
      "cell_type": "code",
      "execution_count": null,
      "metadata": {
        "id": "8wUcCbYdxJ-2",
        "colab": {
          "base_uri": "https://localhost:8080/"
        },
        "outputId": "947bbe71-d036-4798-91b2-ecc688e31f8b"
      },
      "outputs": [
        {
          "output_type": "stream",
          "name": "stdout",
          "text": [
            "[1, 2, 3, 4, 5, 'a'] 140711687147600\n",
            "[1, 2, 3, 4, 5, 'a'] 140711687147600\n"
          ]
        }
      ],
      "source": [
        "l1 = [1,2,3,4,5,6]\n",
        "l2=l1\n",
        "l2[-1] ='a'\n",
        "\n",
        "print(l2,id(l2))\n",
        "print(l1,id(l1))"
      ]
    },
    {
      "cell_type": "code",
      "source": [
        "#as we can see l1 nd l2 shares the same id\n",
        "#so if we make changes in l1 or l2, the change is visible in both"
      ],
      "metadata": {
        "id": "eftrO95gvVzZ"
      },
      "execution_count": null,
      "outputs": []
    },
    {
      "cell_type": "code",
      "source": [
        "#there are two ways to create copy\n",
        "#shallow copy\n",
        "#deep copy"
      ],
      "metadata": {
        "id": "d_9O1XuFv3G2"
      },
      "execution_count": null,
      "outputs": []
    },
    {
      "cell_type": "markdown",
      "source": [
        "## **Lists**"
      ],
      "metadata": {
        "id": "WAOxASfxxNNz"
      }
    },
    {
      "cell_type": "markdown",
      "source": [
        "**Shallow Copy**"
      ],
      "metadata": {
        "id": "SoSsTaJdwRhP"
      }
    },
    {
      "cell_type": "code",
      "source": [
        "import copy"
      ],
      "metadata": {
        "id": "-rkDFksxwAoy"
      },
      "execution_count": null,
      "outputs": []
    },
    {
      "cell_type": "code",
      "source": [
        "l1 = [1,2,3,4]\n",
        "l2 = l1.copy() # or   l2= copy.copy(l1)"
      ],
      "metadata": {
        "id": "QOBlsefwwPjQ"
      },
      "execution_count": null,
      "outputs": []
    },
    {
      "cell_type": "code",
      "source": [
        "l2.append('e')"
      ],
      "metadata": {
        "id": "gPNSGpExwgrN"
      },
      "execution_count": null,
      "outputs": []
    },
    {
      "cell_type": "code",
      "source": [
        "print(l2,id(l2))\n",
        "print(l1,id(l1))"
      ],
      "metadata": {
        "colab": {
          "base_uri": "https://localhost:8080/"
        },
        "id": "IPdUbyNhwj-s",
        "outputId": "ec07328b-93a6-4786-80b6-d5bc66f21c85"
      },
      "execution_count": null,
      "outputs": [
        {
          "output_type": "stream",
          "name": "stdout",
          "text": [
            "[1, 2, 3, 4, 'e'] 140711687150800\n",
            "[1, 2, 3, 4] 140711687151120\n"
          ]
        }
      ]
    },
    {
      "cell_type": "markdown",
      "source": [
        "**Deep Copy**"
      ],
      "metadata": {
        "id": "xFj3c9fYwtiK"
      }
    },
    {
      "cell_type": "code",
      "source": [
        "l1 = [1,2,3,4,5]\n",
        "l2 = copy.deepcopy(l1)\n",
        "l2.append('x')\n",
        "\n",
        "print(l2,id(l2))\n",
        "print(l1,id(l1))"
      ],
      "metadata": {
        "colab": {
          "base_uri": "https://localhost:8080/"
        },
        "id": "ro7qD-V1wo2H",
        "outputId": "add75cab-78c7-434f-a258-dc89478ae7fc"
      },
      "execution_count": null,
      "outputs": [
        {
          "output_type": "stream",
          "name": "stdout",
          "text": [
            "[1, 2, 3, 4, 5, 'x'] 140711687046560\n",
            "[1, 2, 3, 4, 5] 140711687047280\n"
          ]
        }
      ]
    },
    {
      "cell_type": "markdown",
      "source": [
        "## **Dict**"
      ],
      "metadata": {
        "id": "FIvbSLvdxUTr"
      }
    },
    {
      "cell_type": "code",
      "source": [
        "d1 = {'a':[1,2,3],'b':[4,5,6]}\n",
        "d2  = d1\n",
        "d2['c'] = [5,6]\n",
        "\n",
        "print(d1)\n",
        "print(d2)"
      ],
      "metadata": {
        "colab": {
          "base_uri": "https://localhost:8080/"
        },
        "id": "Li4WzXppxGil",
        "outputId": "6c4ac8ea-021e-4cd8-d9cf-2b9f1b9712c7"
      },
      "execution_count": null,
      "outputs": [
        {
          "output_type": "stream",
          "name": "stdout",
          "text": [
            "{'a': [1, 2, 3], 'b': [4, 5, 6], 'c': [5, 6]}\n",
            "{'a': [1, 2, 3], 'b': [4, 5, 6], 'c': [5, 6]}\n"
          ]
        }
      ]
    },
    {
      "cell_type": "code",
      "source": [
        "#shallow copy\n",
        "d1 = {'a':[1,2,3],'b':[4,5,6]}\n",
        "d2  = copy.copy(d1)\n",
        "d2['c'] = [5,6]\n",
        "\n",
        "print(d1)\n",
        "print(d2)\n"
      ],
      "metadata": {
        "colab": {
          "base_uri": "https://localhost:8080/"
        },
        "id": "ZXCxTBt3xrgP",
        "outputId": "a3304d55-8428-4d5b-802f-044d43058b83"
      },
      "execution_count": null,
      "outputs": [
        {
          "output_type": "stream",
          "name": "stdout",
          "text": [
            "{'a': [1, 2, 3], 'b': [4, 5, 6]}\n",
            "{'a': [1, 2, 3], 'b': [4, 5, 6], 'c': [5, 6]}\n"
          ]
        }
      ]
    },
    {
      "cell_type": "code",
      "source": [
        "#deep copy\n",
        "d1 = {'a':[1,2,3],'b':[4,5,6]}\n",
        "d2  = copy.deepcopy(d1)\n",
        "d2['c'] = [5,6]\n",
        "\n",
        "print(d1)\n",
        "print(d2)\n"
      ],
      "metadata": {
        "colab": {
          "base_uri": "https://localhost:8080/"
        },
        "id": "q1CuIGuNx5aG",
        "outputId": "11fa2536-f372-4cbc-86f3-fa46c7a655c4"
      },
      "execution_count": null,
      "outputs": [
        {
          "output_type": "stream",
          "name": "stdout",
          "text": [
            "{'a': [1, 2, 3], 'b': [4, 5, 6]}\n",
            "{'a': [1, 2, 3], 'b': [4, 5, 6], 'c': [5, 6]}\n"
          ]
        }
      ]
    },
    {
      "cell_type": "markdown",
      "source": [
        "## **Sets**"
      ],
      "metadata": {
        "id": "CH1iCtFeyJub"
      }
    },
    {
      "cell_type": "code",
      "source": [
        "s1 = {'a',1,4,'b'}\n",
        "s2 = s1\n",
        "s2.add('xyz')\n",
        "\n",
        "print(s2)\n",
        "print(s1)"
      ],
      "metadata": {
        "colab": {
          "base_uri": "https://localhost:8080/"
        },
        "id": "RSXQcognyHFm",
        "outputId": "6d518622-9c02-4862-c4f8-a51b9e96a4cc"
      },
      "execution_count": null,
      "outputs": [
        {
          "output_type": "stream",
          "name": "stdout",
          "text": [
            "{1, 4, 'xyz', 'a', 'b'}\n",
            "{1, 4, 'xyz', 'a', 'b'}\n"
          ]
        }
      ]
    },
    {
      "cell_type": "code",
      "source": [
        "#shallow copy\n",
        "s1 = {'a',1,4,'b'}\n",
        "s2 = s1.copy()\n",
        "s2.add('xyz')\n",
        "\n",
        "print(s2)\n",
        "print(s1)\n"
      ],
      "metadata": {
        "colab": {
          "base_uri": "https://localhost:8080/"
        },
        "id": "C1NwJDdjya6t",
        "outputId": "7c42b646-9837-4918-9de1-a713982b11fe"
      },
      "execution_count": null,
      "outputs": [
        {
          "output_type": "stream",
          "name": "stdout",
          "text": [
            "{1, 4, 'xyz', 'a', 'b'}\n",
            "{1, 'a', 4, 'b'}\n"
          ]
        }
      ]
    },
    {
      "cell_type": "code",
      "source": [
        "#deep copy\n",
        "s1 = {'a',1,4,'b'}\n",
        "s2 = copy.deepcopy(s1)\n",
        "s2.add('xyz')\n",
        "\n",
        "print(s2)\n",
        "print(s1)"
      ],
      "metadata": {
        "colab": {
          "base_uri": "https://localhost:8080/"
        },
        "id": "SfpdA8YuyjuA",
        "outputId": "4f642b06-a921-4e1f-edbe-06ed7ae0cfde"
      },
      "execution_count": null,
      "outputs": [
        {
          "output_type": "stream",
          "name": "stdout",
          "text": [
            "{1, 4, 'xyz', 'a', 'b'}\n",
            "{1, 'a', 4, 'b'}\n"
          ]
        }
      ]
    },
    {
      "cell_type": "markdown",
      "source": [
        "## **Tuple**"
      ],
      "metadata": {
        "id": "FKXJC4sby3c1"
      }
    },
    {
      "cell_type": "code",
      "source": [
        "x = tuple([1,2,3,4])\n",
        "y = x\n",
        "print(x)\n",
        "print(y)"
      ],
      "metadata": {
        "id": "kkG57y7yyv6w",
        "colab": {
          "base_uri": "https://localhost:8080/"
        },
        "outputId": "8445d425-db15-4447-8833-6d93611912e2"
      },
      "execution_count": null,
      "outputs": [
        {
          "output_type": "stream",
          "name": "stdout",
          "text": [
            "(1, 2, 3, 4)\n",
            "(1, 2, 3, 4)\n"
          ]
        }
      ]
    },
    {
      "cell_type": "code",
      "source": [
        "#tuples are immutable\n",
        "#that is once they are created we can't vhange its values"
      ],
      "metadata": {
        "id": "sqxClA9pzJaa"
      },
      "execution_count": null,
      "outputs": []
    },
    {
      "cell_type": "code",
      "source": [
        "x[1] = 9 "
      ],
      "metadata": {
        "colab": {
          "base_uri": "https://localhost:8080/",
          "height": 165
        },
        "id": "laM0uxU60ygY",
        "outputId": "57d1e911-fc06-4545-b9c2-6ded84dfa32e"
      },
      "execution_count": null,
      "outputs": [
        {
          "output_type": "error",
          "ename": "TypeError",
          "evalue": "ignored",
          "traceback": [
            "\u001b[0;31m---------------------------------------------------------------------------\u001b[0m",
            "\u001b[0;31mTypeError\u001b[0m                                 Traceback (most recent call last)",
            "\u001b[0;32m<ipython-input-41-09901f93ef42>\u001b[0m in \u001b[0;36m<module>\u001b[0;34m()\u001b[0m\n\u001b[0;32m----> 1\u001b[0;31m \u001b[0mx\u001b[0m\u001b[0;34m[\u001b[0m\u001b[0;36m1\u001b[0m\u001b[0;34m]\u001b[0m \u001b[0;34m=\u001b[0m \u001b[0;36m9\u001b[0m\u001b[0;34m\u001b[0m\u001b[0;34m\u001b[0m\u001b[0m\n\u001b[0m",
            "\u001b[0;31mTypeError\u001b[0m: 'tuple' object does not support item assignment"
          ]
        }
      ]
    },
    {
      "cell_type": "code",
      "source": [
        "#lets change y\n",
        "\n",
        "y = y + tuple([5,6])"
      ],
      "metadata": {
        "id": "DifaTvaX1OT4"
      },
      "execution_count": null,
      "outputs": []
    },
    {
      "cell_type": "code",
      "source": [
        "print(x)\n",
        "print(y)"
      ],
      "metadata": {
        "colab": {
          "base_uri": "https://localhost:8080/"
        },
        "id": "MfOBXIy51bkF",
        "outputId": "2f9511e8-8bde-47ed-b891-5987759e9ba4"
      },
      "execution_count": null,
      "outputs": [
        {
          "output_type": "stream",
          "name": "stdout",
          "text": [
            "(1, 2, 3, 4)\n",
            "(1, 2, 3, 4, 5, 6)\n"
          ]
        }
      ]
    },
    {
      "cell_type": "code",
      "source": [
        ""
      ],
      "metadata": {
        "id": "VxBEiYHJ1iLt"
      },
      "execution_count": null,
      "outputs": []
    }
  ]
}
