{
 "cells": [
  {
   "cell_type": "code",
   "execution_count": 1,
   "metadata": {},
   "outputs": [],
   "source": [
    "import cv2\n",
    "import numpy as np\n",
    "import matplotlib.pyplot as plt\n",
    "import os"
   ]
  },
  {
   "cell_type": "code",
   "execution_count": 3,
   "metadata": {},
   "outputs": [
    {
     "name": "stdout",
     "output_type": "stream",
     "text": [
      "Frames Rate: 23.976024 frames/sec\n",
      "FRames count: 2925 frames\n",
      "Video duration: 121 seconds\n",
      "width, height: 1280 x 720\n"
     ]
    }
   ],
   "source": [
    "def analize_video(video):\n",
    "    vidcap=cv2.VideoCapture(video)\n",
    "    print('Frames Rate: %f frames/sec'%vidcap.get(cv2.CAP_PROP_FPS))\n",
    "    print('FRames count: %d frames'%int(vidcap.get(cv2.CAP_PROP_FRAME_COUNT)))\n",
    "    vidcap.set(cv2.CAP_PROP_POS_AVI_RATIO,1)\n",
    "    duration=int(vidcap.get(cv2.CAP_PROP_POS_MSEC)/1000)\n",
    "    print('Video duration: %d seconds'%duration)\n",
    "    width=vidcap.get(cv2.CAP_PROP_FRAME_WIDTH)\n",
    "    height=vidcap.get(cv2.CAP_PROP_FRAME_HEIGHT)\n",
    "    print('width, height: %d x %d'%(int(width),int(height)))    \n",
    "    vidcap.release()\n",
    "    \n",
    "analize_video('./sample_videos/sundar_pichai.mp4')"
   ]
  },
  {
   "cell_type": "code",
   "execution_count": 8,
   "metadata": {},
   "outputs": [],
   "source": [
    "def video_to_frames(video,path_output_dir):\n",
    "    vidcap = cv2.VideoCapture(video)\n",
    "    c=0\n",
    "    while vidcap.isOpened():\n",
    "        success,img=vidcap.read()\n",
    "        if success:\n",
    "            cv2.imwrite(os.path.join(path_output_dir,'%d.jpg'%c),img)\n",
    "            c+=1\n",
    "        else:\n",
    "            break\n",
    "    vidcap.release()\n",
    "video_to_frames('./sample_videos/sundar_pichai.mp4','./video_frames') "
   ]
  },
  {
   "cell_type": "code",
   "execution_count": null,
   "metadata": {},
   "outputs": [],
   "source": []
  },
  {
   "cell_type": "code",
   "execution_count": null,
   "metadata": {},
   "outputs": [],
   "source": []
  },
  {
   "cell_type": "code",
   "execution_count": null,
   "metadata": {},
   "outputs": [],
   "source": []
  }
 ],
 "metadata": {
  "kernelspec": {
   "display_name": "Python 3",
   "language": "python",
   "name": "python3"
  },
  "language_info": {
   "codemirror_mode": {
    "name": "ipython",
    "version": 3
   },
   "file_extension": ".py",
   "mimetype": "text/x-python",
   "name": "python",
   "nbconvert_exporter": "python",
   "pygments_lexer": "ipython3",
   "version": "3.7.3"
  }
 },
 "nbformat": 4,
 "nbformat_minor": 2
}
