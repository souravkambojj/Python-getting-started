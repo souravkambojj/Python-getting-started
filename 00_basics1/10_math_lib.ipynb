{
 "cells": [
  {
   "cell_type": "code",
   "execution_count": 1,
   "metadata": {},
   "outputs": [
    {
     "name": "stdout",
     "output_type": "stream",
     "text": [
      "(2+3j)\n",
      "real:  2.0\n",
      "imaginary:  3.0\n"
     ]
    }
   ],
   "source": [
    "import cmath\n",
    "\n",
    "a=2\n",
    "b=3\n",
    "\n",
    "z=complex(a,b)\n",
    "print(z)\n",
    "\n",
    "print('real: ',z.real)\n",
    "print('imaginary: ',z.imag)"
   ]
  },
  {
   "cell_type": "code",
   "execution_count": 7,
   "metadata": {},
   "outputs": [
    {
     "name": "stdout",
     "output_type": "stream",
     "text": [
      "4.898979485566356\n",
      "3.141592653589793\n",
      "57.29577951308232\n",
      "0.9948376736367679\n",
      "0.49999999999999994\n",
      "0.49999999999999994\n"
     ]
    }
   ],
   "source": [
    "from math import sqrt,pi,degrees,radians,sin,cos,tan\n",
    "print(sqrt(24))\n",
    "print(pi)\n",
    "\n",
    "#radians to degrees\n",
    "print(degrees(1))\n",
    "#degrees to radians\n",
    "print(radians(57))\n",
    "\n",
    "# sin 30 \n",
    "print(sin(radians(30))) #this degrees to  radian conversion is because sin fun accept input in terms of radians\n",
    "print(sin((30*pi)/180))\n"
   ]
  },
  {
   "cell_type": "code",
   "execution_count": 5,
   "metadata": {},
   "outputs": [
    {
     "data": {
      "text/plain": [
       "0.5235987755982988"
      ]
     },
     "execution_count": 5,
     "metadata": {},
     "output_type": "execute_result"
    }
   ],
   "source": [
    "pi/6"
   ]
  },
  {
   "cell_type": "code",
   "execution_count": 12,
   "metadata": {},
   "outputs": [
    {
     "name": "stdout",
     "output_type": "stream",
     "text": [
      "7\n",
      "6\n"
     ]
    }
   ],
   "source": [
    "from math import factorial,ceil,floor\n",
    "\n",
    "a=6.7\n",
    "print(ceil(a))\n",
    "print(floor(a))\n"
   ]
  },
  {
   "cell_type": "code",
   "execution_count": 15,
   "metadata": {},
   "outputs": [
    {
     "name": "stdout",
     "output_type": "stream",
     "text": [
      "GCD:  5\n",
      "LCM:  15.0\n"
     ]
    }
   ],
   "source": [
    "from math import gcd\n",
    "\n",
    "#gcd or hcf\n",
    "print('GCD: ',gcd(5,15))\n",
    "\n",
    "#(GCD(n,m)*LCM(n,m))=n*m\n",
    "print('LCM: ',(5*15)/gcd(5,15))"
   ]
  },
  {
   "cell_type": "code",
   "execution_count": 21,
   "metadata": {},
   "outputs": [
    {
     "name": "stdout",
     "output_type": "stream",
     "text": [
      "32\n",
      "32\n",
      "e**5:  148.4131591025766\n",
      "log(a,b)   log a with base b:  3.3219280948873626\n"
     ]
    }
   ],
   "source": [
    "from math import exp,log\n",
    "print(2**5)\n",
    "print(pow(2,5))\n",
    "\n",
    "print('e**5: ',exp(5))\n",
    "print('log(a,b)   log a with base b: ',log(10,2))"
   ]
  },
  {
   "cell_type": "code",
   "execution_count": null,
   "metadata": {},
   "outputs": [],
   "source": []
  }
 ],
 "metadata": {
  "kernelspec": {
   "display_name": "Python 3",
   "language": "python",
   "name": "python3"
  },
  "language_info": {
   "codemirror_mode": {
    "name": "ipython",
    "version": 3
   },
   "file_extension": ".py",
   "mimetype": "text/x-python",
   "name": "python",
   "nbconvert_exporter": "python",
   "pygments_lexer": "ipython3",
   "version": "3.7.3"
  }
 },
 "nbformat": 4,
 "nbformat_minor": 2
}
