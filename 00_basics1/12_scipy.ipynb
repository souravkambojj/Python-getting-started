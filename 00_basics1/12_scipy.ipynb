{
 "cells": [
  {
   "cell_type": "markdown",
   "metadata": {},
   "source": [
    "# mathematical constants"
   ]
  },
  {
   "cell_type": "code",
   "execution_count": 3,
   "metadata": {},
   "outputs": [
    {
     "name": "stdout",
     "output_type": "stream",
     "text": [
      "pi:  3.141592653589793\n",
      "golden ratio:  1.618033988749895\n"
     ]
    }
   ],
   "source": [
    "import scipy.constants as const\n",
    "\n",
    "print('pi: ',const.pi)\n",
    "print('golden ratio: ',const.golden)"
   ]
  },
  {
   "cell_type": "markdown",
   "metadata": {},
   "source": [
    "# physical constants"
   ]
  },
  {
   "cell_type": "code",
   "execution_count": 4,
   "metadata": {},
   "outputs": [
    {
     "name": "stdout",
     "output_type": "stream",
     "text": [
      "speed of light  299792458.0\n",
      "plank constant  6.62607004e-34\n",
      "boltzman constant  1.38064852e-23\n",
      "avogardos number  6.022140857e+23\n",
      "elementart charge 1.6021766208e-19\n",
      "mass of electron 9.10938356e-31\n",
      "mass of proton 1.672621898e-27\n",
      "mass of neutron 1.674927471e-27\n"
     ]
    }
   ],
   "source": [
    "import scipy.constants as const\n",
    "\n",
    "print('speed of light ',const.c)\n",
    "print('plank constant ',const.h)\n",
    "print('boltzman constant ',const.k)\n",
    "print('avogardos number ',const.Avogadro)\n",
    "print('elementart charge',const.e)\n",
    "print('mass of electron',const.m_e)\n",
    "print('mass of proton',const.m_p)\n",
    "print('mass of neutron',const.m_n)"
   ]
  },
  {
   "cell_type": "markdown",
   "metadata": {},
   "source": [
    "# fourier transform"
   ]
  },
  {
   "cell_type": "code",
   "execution_count": 17,
   "metadata": {},
   "outputs": [
    {
     "name": "stdout",
     "output_type": "stream",
     "text": [
      "discrete fast fourier transform:  [18.6 +0.j         -2.15+3.55070416j -3.15+1.29903811j -2.  +0.j\n",
      " -3.15-1.29903811j -2.15-3.55070416j]\n"
     ]
    }
   ],
   "source": [
    "# import scipy.fftpack as fp\n",
    "x=[1,2.2,3,3.1,4.3,5]\n",
    "y=fp.fft(np.array(x))\n",
    "print('discrete fast fourier transform: ',y)"
   ]
  },
  {
   "cell_type": "code",
   "execution_count": 19,
   "metadata": {},
   "outputs": [
    {
     "name": "stdout",
     "output_type": "stream",
     "text": [
      "inverse discrete fast fourier transform:  [1. +0.00000000e+00j 2.2+2.22044605e-16j 3. +0.00000000e+00j\n",
      " 3.1+8.12739662e-17j 4.3+0.00000000e+00j 5. -3.03318571e-16j]\n"
     ]
    }
   ],
   "source": [
    "print('inverse discrete fast fourier transform: ',fp.ifft(y))"
   ]
  },
  {
   "cell_type": "markdown",
   "metadata": {},
   "source": [
    "# lambda function"
   ]
  },
  {
   "cell_type": "code",
   "execution_count": 14,
   "metadata": {},
   "outputs": [
    {
     "name": "stdout",
     "output_type": "stream",
     "text": [
      "7\n"
     ]
    }
   ],
   "source": [
    "f1=lambda a,b:a+b\n",
    "print(f1(3,4))"
   ]
  },
  {
   "cell_type": "code",
   "execution_count": 15,
   "metadata": {},
   "outputs": [
    {
     "name": "stdout",
     "output_type": "stream",
     "text": [
      "1096.6331584284585\n"
     ]
    }
   ],
   "source": [
    "from math import exp\n",
    "\n",
    "f=lambda a,b:exp(a+b)\n",
    "print(f(3,4))"
   ]
  },
  {
   "cell_type": "markdown",
   "metadata": {},
   "source": [
    "# linear algebra"
   ]
  },
  {
   "cell_type": "code",
   "execution_count": 21,
   "metadata": {},
   "outputs": [
    {
     "name": "stdout",
     "output_type": "stream",
     "text": [
      "[-9.28  5.16  0.76]\n"
     ]
    }
   ],
   "source": [
    "from scipy import linalg as la\n",
    "import numpy as np\n",
    "\n",
    "#X=(A inverse).B\n",
    "# the solve function takes two args 'a':represents the coefficients, 'b':const on right side\n",
    "#x+3y+5z=10   2x+5y+z=8   2x+ 3y +8z=3\n",
    "\n",
    "x=[[1,3,5],[2,5,1],[2,3,8]]\n",
    "y=[10,8,3]\n",
    "\n",
    "print(la.solve(np.array(x),np.array(y)))"
   ]
  },
  {
   "cell_type": "code",
   "execution_count": 22,
   "metadata": {},
   "outputs": [
    {
     "name": "stdout",
     "output_type": "stream",
     "text": [
      "72.0\n"
     ]
    }
   ],
   "source": [
    "#determinant\n",
    "x=[[1,2,5],[4,2,6],[7,8,9]]\n",
    "\n",
    "print(la.det(np.array(x)))"
   ]
  },
  {
   "cell_type": "markdown",
   "metadata": {},
   "source": [
    "# integration"
   ]
  },
  {
   "cell_type": "raw",
   "metadata": {},
   "source": [
    "integration is sometimes known as 'quadrature'\n",
    "\n",
    "quad       single integration\n",
    "dblquad    double integration\n",
    "tplquad    trippple integration"
   ]
  },
  {
   "cell_type": "markdown",
   "metadata": {},
   "source": [
    "# single integration"
   ]
  },
  {
   "cell_type": "raw",
   "metadata": {},
   "source": [
    "general form of quad is    quad(f,a,b)\n",
    "where f is the function to be integrated   and   a,b are lower nd upper limits resp."
   ]
  },
  {
   "cell_type": "code",
   "execution_count": 25,
   "metadata": {},
   "outputs": [
    {
     "name": "stdout",
     "output_type": "stream",
     "text": [
      "integration is:  (0.7468241328124271, 8.291413475940725e-15)\n"
     ]
    }
   ],
   "source": [
    "from scipy import integrate as integ\n",
    "from math import exp\n",
    "\n",
    "f=lambda x:exp(-x**2)\n",
    "i=integ.quad(f,0,1)\n",
    "\n",
    "print('integration is: ',i)"
   ]
  },
  {
   "cell_type": "code",
   "execution_count": null,
   "metadata": {},
   "outputs": [],
   "source": []
  }
 ],
 "metadata": {
  "kernelspec": {
   "display_name": "Python 3",
   "language": "python",
   "name": "python3"
  },
  "language_info": {
   "codemirror_mode": {
    "name": "ipython",
    "version": 3
   },
   "file_extension": ".py",
   "mimetype": "text/x-python",
   "name": "python",
   "nbconvert_exporter": "python",
   "pygments_lexer": "ipython3",
   "version": "3.7.3"
  }
 },
 "nbformat": 4,
 "nbformat_minor": 2
}
