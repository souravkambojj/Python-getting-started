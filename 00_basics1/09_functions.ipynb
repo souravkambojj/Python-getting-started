{
 "cells": [
  {
   "cell_type": "code",
   "execution_count": 1,
   "metadata": {},
   "outputs": [
    {
     "name": "stdout",
     "output_type": "stream",
     "text": [
      "hii i m sourav\n"
     ]
    }
   ],
   "source": [
    "def func1(arg):\n",
    "    print('hii i m '+arg)\n",
    "func1('sourav')"
   ]
  },
  {
   "cell_type": "code",
   "execution_count": 2,
   "metadata": {},
   "outputs": [
    {
     "data": {
      "text/plain": [
       "3"
      ]
     },
     "execution_count": 2,
     "metadata": {},
     "output_type": "execute_result"
    }
   ],
   "source": [
    "def absl(x):\n",
    "    if(x>0):\n",
    "        return(x)\n",
    "    else:\n",
    "        return(-x)\n",
    "absl(-3)"
   ]
  },
  {
   "cell_type": "code",
   "execution_count": 9,
   "metadata": {},
   "outputs": [
    {
     "name": "stdout",
     "output_type": "stream",
     "text": [
      "number is not prime\n"
     ]
    }
   ],
   "source": [
    "def check_prime(x):\n",
    "    \n",
    "    for j in range(2,x):\n",
    "        if(x%j==0):\n",
    "            print('number is not prime')\n",
    "            break\n",
    "    else:\n",
    "        print('number is prime')\n",
    "check_prime(9)"
   ]
  },
  {
   "cell_type": "code",
   "execution_count": 3,
   "metadata": {},
   "outputs": [
    {
     "name": "stdout",
     "output_type": "stream",
     "text": [
      "2 2 3\n"
     ]
    }
   ],
   "source": [
    "#default arguments\n",
    "#all the default arguments w=should be on right side\n",
    "\n",
    "def default(a,b=1,c=3):\n",
    "    print(a,b,c)\n",
    "default(2,2)"
   ]
  },
  {
   "cell_type": "markdown",
   "metadata": {},
   "source": [
    "# *arg"
   ]
  },
  {
   "cell_type": "code",
   "execution_count": 4,
   "metadata": {},
   "outputs": [
    {
     "name": "stdout",
     "output_type": "stream",
     "text": [
      "['hii', 'i', 'm', 'sourav', 'kamboj'] "
     ]
    }
   ],
   "source": [
    "#*arg is a function which is used to pass a variable number of arguments to a function\n",
    "#it is used to pass non-keyworded, variable-length argument list\n",
    "def fun(*arg):\n",
    "    for x in arg:\n",
    "        print(x, end=' ')\n",
    "fun(['hii','i','m','sourav','kamboj'])"
   ]
  },
  {
   "cell_type": "markdown",
   "metadata": {},
   "source": [
    "# **kwarg"
   ]
  },
  {
   "cell_type": "code",
   "execution_count": 7,
   "metadata": {},
   "outputs": [
    {
     "name": "stdout",
     "output_type": "stream",
     "text": [
      "key: hii,  value: 1\n",
      "key: i,  value: 2\n",
      "key: am,  value: 3\n",
      "key: sourav,  value: 4\n"
     ]
    }
   ],
   "source": [
    "#**kwarg function which is used to pass keyworded, variable-length argument list\n",
    "\n",
    "def func2(**kwarg):\n",
    "    for key,value in kwarg.items():\n",
    "        print('key: %s,  value: %s'%(key,value))\n",
    "func2(hii=1,i=2,am=3,sourav=4)"
   ]
  },
  {
   "cell_type": "code",
   "execution_count": 5,
   "metadata": {},
   "outputs": [
    {
     "name": "stdout",
     "output_type": "stream",
     "text": [
      "inside parent\n",
      "inside child1\n",
      "inside child2\n"
     ]
    }
   ],
   "source": [
    "#defining function inside function\n",
    "def parent():\n",
    "    print('inside parent')\n",
    "    \n",
    "    def child1():\n",
    "        print('inside child1')\n",
    "    def child2():\n",
    "        print('inside child2')\n",
    "    \n",
    "    child1()\n",
    "    child2()\n",
    "    \n",
    "parent()\n",
    "        "
   ]
  },
  {
   "cell_type": "code",
   "execution_count": null,
   "metadata": {},
   "outputs": [],
   "source": []
  }
 ],
 "metadata": {
  "kernelspec": {
   "display_name": "Python 3",
   "language": "python",
   "name": "python3"
  },
  "language_info": {
   "codemirror_mode": {
    "name": "ipython",
    "version": 3
   },
   "file_extension": ".py",
   "mimetype": "text/x-python",
   "name": "python",
   "nbconvert_exporter": "python",
   "pygments_lexer": "ipython3",
   "version": "3.7.3"
  }
 },
 "nbformat": 4,
 "nbformat_minor": 2
}
