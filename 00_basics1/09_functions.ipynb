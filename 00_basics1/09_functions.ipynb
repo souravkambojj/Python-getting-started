{
  "nbformat": 4,
  "nbformat_minor": 0,
  "metadata": {
    "colab": {
      "provenance": [],
      "collapsed_sections": []
    },
    "kernelspec": {
      "name": "python3",
      "display_name": "Python 3"
    },
    "language_info": {
      "name": "python"
    }
  },
  "cells": [
    {
      "cell_type": "code",
      "execution_count": 1,
      "metadata": {
        "colab": {
          "base_uri": "https://localhost:8080/"
        },
        "id": "f3hgGNXv2Z7X",
        "outputId": "804c1a3c-3e7e-44dd-9e4b-d51dc77d1fa6"
      },
      "outputs": [
        {
          "output_type": "stream",
          "name": "stdout",
          "text": [
            "hii i m sourav\n"
          ]
        }
      ],
      "source": [
        "def func1(arg):\n",
        "    print('hii i m '+arg)\n",
        "func1('sourav')"
      ]
    },
    {
      "cell_type": "code",
      "source": [
        "def absl(x):\n",
        "    if(x>0):\n",
        "        return(x)\n",
        "    else:\n",
        "        return(-x)\n",
        "absl(-3)"
      ],
      "metadata": {
        "colab": {
          "base_uri": "https://localhost:8080/"
        },
        "id": "5-ZKbbfS2qRg",
        "outputId": "a878de96-f0ed-4d72-9335-45374d524c7d"
      },
      "execution_count": 2,
      "outputs": [
        {
          "output_type": "execute_result",
          "data": {
            "text/plain": [
              "3"
            ]
          },
          "metadata": {},
          "execution_count": 2
        }
      ]
    },
    {
      "cell_type": "code",
      "source": [
        "def check_prime(x):\n",
        "    \n",
        "    for j in range(2,x):\n",
        "        if(x%j==0):\n",
        "            print('number is not prime')\n",
        "            break\n",
        "    else:\n",
        "        print('number is prime')\n",
        "check_prime(9)"
      ],
      "metadata": {
        "colab": {
          "base_uri": "https://localhost:8080/"
        },
        "id": "0-PnZ8ns2sZs",
        "outputId": "8d022676-3106-44ef-8b39-b8d6610a6b6c"
      },
      "execution_count": 3,
      "outputs": [
        {
          "output_type": "stream",
          "name": "stdout",
          "text": [
            "number is not prime\n"
          ]
        }
      ]
    },
    {
      "cell_type": "code",
      "source": [
        "#default arguments\n",
        "#all the default arguments w=should be on right side\n",
        "\n",
        "def default(a,b=1,c=3):\n",
        "    print(a,b,c)\n",
        "default(2,2)"
      ],
      "metadata": {
        "colab": {
          "base_uri": "https://localhost:8080/"
        },
        "id": "n0_e45DI2ue_",
        "outputId": "d605f096-4c3a-4ae8-d07d-fcf5f232f62e"
      },
      "execution_count": 4,
      "outputs": [
        {
          "output_type": "stream",
          "name": "stdout",
          "text": [
            "2 2 3\n"
          ]
        }
      ]
    },
    {
      "cell_type": "markdown",
      "source": [
        "***arg** "
      ],
      "metadata": {
        "id": "mEu1A9e92zH4"
      }
    },
    {
      "cell_type": "code",
      "source": [
        "#*arg is a function which is used to pass a variable number of arguments to a function\n",
        "#it is used to pass non-keyworded, variable-length argument list\n",
        "def fun(*arg):\n",
        "    for x in arg:\n",
        "        print(x, end=' ')\n",
        "    print()\n",
        "    print(arg[3])\n",
        "fun('hii','i','m','sourav','kamboj')"
      ],
      "metadata": {
        "colab": {
          "base_uri": "https://localhost:8080/"
        },
        "id": "FfUCbJYy2wx0",
        "outputId": "0d7b78f4-7d42-4462-afe4-5c2688b9185a"
      },
      "execution_count": 6,
      "outputs": [
        {
          "output_type": "stream",
          "name": "stdout",
          "text": [
            "hii i m sourav kamboj \n",
            "sourav\n"
          ]
        }
      ]
    },
    {
      "cell_type": "markdown",
      "source": [
        "****kwarg** |"
      ],
      "metadata": {
        "id": "dRZgozVD3L6v"
      }
    },
    {
      "cell_type": "code",
      "source": [
        "#**kwarg function which is used to pass keyworded, variable-length argument list\n",
        "\n",
        "def func2(**kwarg):\n",
        "    for key,value in kwarg.items():\n",
        "        print('key: %s,  value: %s'%(key,value))\n",
        "func2(hii=1,i=2,am=3,sourav=4)"
      ],
      "metadata": {
        "colab": {
          "base_uri": "https://localhost:8080/"
        },
        "id": "KxLMUJiD3FzF",
        "outputId": "5713c870-02f6-43dc-8245-6738ccca8642"
      },
      "execution_count": 7,
      "outputs": [
        {
          "output_type": "stream",
          "name": "stdout",
          "text": [
            "key: hii,  value: 1\n",
            "key: i,  value: 2\n",
            "key: am,  value: 3\n",
            "key: sourav,  value: 4\n"
          ]
        }
      ]
    },
    {
      "cell_type": "code",
      "source": [
        "#defining function inside function\n",
        "def parent():\n",
        "    print('inside parent')\n",
        "    \n",
        "    def child1():\n",
        "        print('inside child1')\n",
        "    def child2():\n",
        "        print('inside child2')\n",
        "    \n",
        "    child1()\n",
        "    child2()\n",
        "    \n",
        "parent()"
      ],
      "metadata": {
        "colab": {
          "base_uri": "https://localhost:8080/"
        },
        "id": "IpzeYzCm3SIX",
        "outputId": "4f59f5e3-c451-4a81-af9b-c60dbb4b7e11"
      },
      "execution_count": 8,
      "outputs": [
        {
          "output_type": "stream",
          "name": "stdout",
          "text": [
            "inside parent\n",
            "inside child1\n",
            "inside child2\n"
          ]
        }
      ]
    },
    {
      "cell_type": "code",
      "source": [],
      "metadata": {
        "id": "67uoUkPc3WBI"
      },
      "execution_count": null,
      "outputs": []
    }
  ]
}