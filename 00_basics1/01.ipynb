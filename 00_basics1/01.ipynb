{
  "nbformat": 4,
  "nbformat_minor": 0,
  "metadata": {
    "colab": {
      "provenance": [],
      "collapsed_sections": []
    },
    "kernelspec": {
      "name": "python3",
      "display_name": "Python 3"
    },
    "language_info": {
      "name": "python"
    }
  },
  "cells": [
    {
      "cell_type": "code",
      "execution_count": 17,
      "metadata": {
        "colab": {
          "base_uri": "https://localhost:8080/"
        },
        "id": "rX9uEp1avuYO",
        "outputId": "666f56ad-9a1a-47d1-c31f-c98ca4cdcf36"
      },
      "outputs": [
        {
          "output_type": "stream",
          "name": "stdout",
          "text": [
            "4 6.7 8.8 2\n"
          ]
        }
      ],
      "source": [
        "#multiple variable assignment\n",
        "\n",
        "a,b,c,d=4,6.7,8.8,2\n",
        "print(a,b,c,d)"
      ]
    },
    {
      "cell_type": "code",
      "source": [
        "#swapping two variables without using third variable\n",
        "\n",
        "a = 3\n",
        "b = 9\n",
        "\n",
        "a = a+b\n",
        "b = a-b\n",
        "a = a-b\n",
        "print(a,b)"
      ],
      "metadata": {
        "colab": {
          "base_uri": "https://localhost:8080/"
        },
        "id": "vl4BC3chwGh8",
        "outputId": "4b6ec3d4-11c4-48c1-b1e0-79652b8c4637"
      },
      "execution_count": 18,
      "outputs": [
        {
          "output_type": "stream",
          "name": "stdout",
          "text": [
            "9 3\n"
          ]
        }
      ]
    },
    {
      "cell_type": "code",
      "source": [
        "a=43\n",
        "b='sourav'\n",
        "\n",
        "print(id(a)) #it gives physical address of variable\n",
        "print(type(b)) # it gives data type of variable"
      ],
      "metadata": {
        "colab": {
          "base_uri": "https://localhost:8080/"
        },
        "id": "m8vhz0DBv3jv",
        "outputId": "69e36447-5c85-45f8-d7dc-cd358c17f80b"
      },
      "execution_count": 19,
      "outputs": [
        {
          "output_type": "stream",
          "name": "stdout",
          "text": [
            "11123936\n",
            "<class 'str'>\n"
          ]
        }
      ]
    },
    {
      "cell_type": "code",
      "source": [
        "p=\"hii\"*3\n",
        "w=[2]*4\n",
        "y=[3,4]*2\n",
        "z=(2,7)*3\n",
        "\n",
        "print(p)\n",
        "print(w)\n",
        "print(y)\n",
        "print(z)"
      ],
      "metadata": {
        "colab": {
          "base_uri": "https://localhost:8080/"
        },
        "id": "pYRBsji_v-xX",
        "outputId": "77dfec50-a3e8-46be-e3ae-0a58c96ffaed"
      },
      "execution_count": 20,
      "outputs": [
        {
          "output_type": "stream",
          "name": "stdout",
          "text": [
            "hiihiihii\n",
            "[2, 2, 2, 2]\n",
            "[3, 4, 3, 4]\n",
            "(2, 7, 2, 7, 2, 7)\n"
          ]
        }
      ]
    },
    {
      "cell_type": "code",
      "source": [
        "print(['it is false',' it is true'][bool('abc')])"
      ],
      "metadata": {
        "colab": {
          "base_uri": "https://localhost:8080/"
        },
        "id": "I1VCTzxewFMj",
        "outputId": "b11ffd78-9eab-45cd-d2e9-a11e30d20352"
      },
      "execution_count": 21,
      "outputs": [
        {
          "output_type": "stream",
          "name": "stdout",
          "text": [
            " it is true\n"
          ]
        }
      ]
    },
    {
      "cell_type": "markdown",
      "source": [
        "# **input, split, map functions**"
      ],
      "metadata": {
        "id": "9XC2lcNMw3EV"
      }
    },
    {
      "cell_type": "code",
      "source": [
        "x=input('plz enter what ever u want')\n",
        "print(x)"
      ],
      "metadata": {
        "colab": {
          "base_uri": "https://localhost:8080/"
        },
        "id": "iiTu5viTwvaV",
        "outputId": "c677996f-889c-43b2-92d2-4e07cb44a44a"
      },
      "execution_count": 22,
      "outputs": [
        {
          "output_type": "stream",
          "name": "stdout",
          "text": [
            "plz enter what ever u want protein shake\n",
            " protein shake\n"
          ]
        }
      ]
    },
    {
      "cell_type": "code",
      "source": [
        "a = input()\n",
        "print(a,type(a))"
      ],
      "metadata": {
        "colab": {
          "base_uri": "https://localhost:8080/"
        },
        "id": "2FRtXhbOw-WF",
        "outputId": "da7125ff-fa16-47c6-c840-25d1d98b79cc"
      },
      "execution_count": 23,
      "outputs": [
        {
          "output_type": "stream",
          "name": "stdout",
          "text": [
            "3\n",
            "3 <class 'str'>\n"
          ]
        }
      ]
    },
    {
      "cell_type": "code",
      "source": [
        "#by default input function will give u a str\n",
        "#so if want any int value, we need to use int() explicitly\n",
        "\n",
        "a = int(input())\n",
        "b = float(input())\n",
        "print(a,b)"
      ],
      "metadata": {
        "colab": {
          "base_uri": "https://localhost:8080/"
        },
        "id": "kTIXbUObxMUu",
        "outputId": "bacd1ec7-1955-467a-e9a3-eb5a47db5519"
      },
      "execution_count": 24,
      "outputs": [
        {
          "output_type": "stream",
          "name": "stdout",
          "text": [
            "3 \n",
            "7\n",
            "3 7.0\n"
          ]
        }
      ]
    },
    {
      "cell_type": "code",
      "source": [
        "'hii i m sourav'.split()  #space as a delimiter"
      ],
      "metadata": {
        "colab": {
          "base_uri": "https://localhost:8080/"
        },
        "id": "Rr6V_WljyMFX",
        "outputId": "4977b13a-ee6c-4231-ad47-f00fe809d1c5"
      },
      "execution_count": 25,
      "outputs": [
        {
          "output_type": "execute_result",
          "data": {
            "text/plain": [
              "['hii', 'i', 'm', 'sourav']"
            ]
          },
          "metadata": {},
          "execution_count": 25
        }
      ]
    },
    {
      "cell_type": "code",
      "source": [
        "'hii/i/am/sourav/kamboj'.split('/') #'/'  as a delimiter"
      ],
      "metadata": {
        "colab": {
          "base_uri": "https://localhost:8080/"
        },
        "id": "yrNOwKBXyX-D",
        "outputId": "8ed843cf-0b2c-4e76-b8f1-cdf6b07357ed"
      },
      "execution_count": 26,
      "outputs": [
        {
          "output_type": "execute_result",
          "data": {
            "text/plain": [
              "['hii', 'i', 'am', 'sourav', 'kamboj']"
            ]
          },
          "metadata": {},
          "execution_count": 26
        }
      ]
    },
    {
      "cell_type": "code",
      "source": [
        "a,b=map(int,input().split())   # for integer values \n",
        "print(a,b)"
      ],
      "metadata": {
        "colab": {
          "base_uri": "https://localhost:8080/"
        },
        "id": "47O6OIkAybY4",
        "outputId": "68ad6fcc-2fe3-4e8a-ea10-87acf2077b02"
      },
      "execution_count": 27,
      "outputs": [
        {
          "output_type": "stream",
          "name": "stdout",
          "text": [
            "3 5\n",
            "3 5\n"
          ]
        }
      ]
    },
    {
      "cell_type": "code",
      "source": [
        "a,b=map(float,input().split())   # for float values \n",
        "print(a,b)"
      ],
      "metadata": {
        "colab": {
          "base_uri": "https://localhost:8080/"
        },
        "id": "aNs7W4umyeho",
        "outputId": "e94e4c4c-b8b5-43b5-a8eb-be0b34831033"
      },
      "execution_count": 28,
      "outputs": [
        {
          "output_type": "stream",
          "name": "stdout",
          "text": [
            "6 7.8\n",
            "6.0 7.8\n"
          ]
        }
      ]
    },
    {
      "cell_type": "code",
      "source": [
        "# create (n x m) matrix\n",
        "n,m=map(int,input().split())\n",
        "data=[list(map(int,input().split()))  for _ in range(n)]\n",
        "print(data)"
      ],
      "metadata": {
        "colab": {
          "base_uri": "https://localhost:8080/"
        },
        "id": "7q19AOLvyrUJ",
        "outputId": "cc5d228f-08a3-41ca-cb0f-ad753d148412"
      },
      "execution_count": 29,
      "outputs": [
        {
          "output_type": "stream",
          "name": "stdout",
          "text": [
            "2 4\n",
            "1 2 5 7\n",
            "4 8 6 9\n",
            "[[1, 2, 5, 7], [4, 8, 6, 9]]\n"
          ]
        }
      ]
    },
    {
      "cell_type": "code",
      "source": [
        "#calculate avg of 'n' elements in the list\n",
        "# n-elements should be entered by user\n",
        "def average(arr):\n",
        "    s=0\n",
        "    for x in arr:\n",
        "        s=s+x\n",
        "    return s/len(arr)\n",
        "\n",
        "if __name__=='__main__':\n",
        "    arr=list( map(int,input().split()) )\n",
        "    avg=average(arr)\n",
        "    print('average calculated: ',avg)"
      ],
      "metadata": {
        "colab": {
          "base_uri": "https://localhost:8080/"
        },
        "id": "BzjUb9_Fy2Db",
        "outputId": "78f88780-84d1-4b75-92fc-58b244c056fe"
      },
      "execution_count": 30,
      "outputs": [
        {
          "output_type": "stream",
          "name": "stdout",
          "text": [
            "4 2 6 7 4 9\n",
            "average calculated:  5.333333333333333\n"
          ]
        }
      ]
    },
    {
      "cell_type": "markdown",
      "source": [
        "# **Any() and All()**"
      ],
      "metadata": {
        "id": "UqjCePDhzRcO"
      }
    },
    {
      "cell_type": "code",
      "source": [
        "#Returns true if any of the items is True. \n",
        "#It returns False if empty or all are false. \n",
        "#Any can be thought of as a sequence of OR operations on the provided iterables.\n",
        "#It short circuit the execution i.e. stop the execution as soon as the result is known.\n",
        "print (any([False, False, False, False]))  \n",
        "print (any([False, True, False, False]))  \n",
        "print (any([True, False, False, False]))"
      ],
      "metadata": {
        "colab": {
          "base_uri": "https://localhost:8080/"
        },
        "id": "k-bdS4i6zMAm",
        "outputId": "014e2958-e6ad-4797-e81c-d17fe07d1424"
      },
      "execution_count": 31,
      "outputs": [
        {
          "output_type": "stream",
          "name": "stdout",
          "text": [
            "False\n",
            "True\n",
            "True\n"
          ]
        }
      ]
    },
    {
      "cell_type": "code",
      "source": [
        "#Returns true if all of the items are True (or if the iterable is empty).\n",
        "#All can be thought of as a sequence of AND operations on the provided iterables.\n",
        "#It also short circuit the execution i.e. stop the execution as soon as the result is known.\n",
        "\n",
        "print (all([True, True, True, True]))  \n",
        "print (all([False, True, True, False])) \n",
        "print (all([False, False, False]))"
      ],
      "metadata": {
        "colab": {
          "base_uri": "https://localhost:8080/"
        },
        "id": "ifFJFR6f0ZU3",
        "outputId": "45754005-b697-434b-8abd-bbb4eaa7fd24"
      },
      "execution_count": 32,
      "outputs": [
        {
          "output_type": "stream",
          "name": "stdout",
          "text": [
            "True\n",
            "False\n",
            "False\n"
          ]
        }
      ]
    },
    {
      "cell_type": "code",
      "source": [],
      "metadata": {
        "id": "bTbeMAbB0dj2"
      },
      "execution_count": null,
      "outputs": []
    }
  ]
}