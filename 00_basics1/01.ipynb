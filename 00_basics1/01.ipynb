{
 "cells": [
  {
   "cell_type": "code",
   "execution_count": 1,
   "metadata": {},
   "outputs": [
    {
     "name": "stdout",
     "output_type": "stream",
     "text": [
      "4 6.7 8.8 2\n"
     ]
    }
   ],
   "source": [
    "#multiple variable assignment\n",
    "\n",
    "a,b,c,d=4,6.7,8.8,2\n",
    "print(a,b,c,d)"
   ]
  },
  {
   "cell_type": "code",
   "execution_count": 2,
   "metadata": {},
   "outputs": [
    {
     "name": "stdout",
     "output_type": "stream",
     "text": [
      "140256880036192\n",
      "<class 'str'>\n"
     ]
    }
   ],
   "source": [
    "a=43\n",
    "b='sourav'\n",
    "\n",
    "print(id(a)) #it gives physical address of variable\n",
    "print(type(b)) # it gives data type of variable"
   ]
  },
  {
   "cell_type": "code",
   "execution_count": 3,
   "metadata": {
    "scrolled": true
   },
   "outputs": [
    {
     "name": "stdout",
     "output_type": "stream",
     "text": [
      "hiihiihii\n",
      "[2, 2, 2, 2]\n",
      "[3, 4, 3, 4]\n",
      "(2, 7, 2, 7, 2, 7)\n"
     ]
    }
   ],
   "source": [
    "p=\"hii\"*3\n",
    "w=[2]*4\n",
    "y=[3,4]*2\n",
    "z=(2,7)*3\n",
    "\n",
    "print(p)\n",
    "print(w)\n",
    "print(y)\n",
    "print(z)"
   ]
  },
  {
   "cell_type": "code",
   "execution_count": 4,
   "metadata": {},
   "outputs": [
    {
     "name": "stdout",
     "output_type": "stream",
     "text": [
      " it is true\n"
     ]
    }
   ],
   "source": [
    "print(['it is false',' it is true'][bool('abc')])\n"
   ]
  },
  {
   "cell_type": "markdown",
   "metadata": {},
   "source": [
    "# input, split, map functions"
   ]
  },
  {
   "cell_type": "code",
   "execution_count": 5,
   "metadata": {},
   "outputs": [
    {
     "name": "stdout",
     "output_type": "stream",
     "text": [
      "plz enter what ever u wantprotein shake\n",
      "protein shake\n"
     ]
    }
   ],
   "source": [
    "#input from user\n",
    "\n",
    "x=input('plz enter what ever u want')\n",
    "print(x)"
   ]
  },
  {
   "cell_type": "code",
   "execution_count": 6,
   "metadata": {},
   "outputs": [
    {
     "data": {
      "text/plain": [
       "['hii', 'i', 'm', 'sourav']"
      ]
     },
     "execution_count": 6,
     "metadata": {},
     "output_type": "execute_result"
    }
   ],
   "source": [
    "'hii i m sourav'.split()  #space as a delimiter"
   ]
  },
  {
   "cell_type": "code",
   "execution_count": 7,
   "metadata": {},
   "outputs": [
    {
     "data": {
      "text/plain": [
       "['hii', 'i', 'am', 'sourav', 'kamboj']"
      ]
     },
     "execution_count": 7,
     "metadata": {},
     "output_type": "execute_result"
    }
   ],
   "source": [
    "'hii/i/am/sourav/kamboj'.split('/') #'/'  as a delimiter"
   ]
  },
  {
   "cell_type": "code",
   "execution_count": 8,
   "metadata": {},
   "outputs": [
    {
     "name": "stdout",
     "output_type": "stream",
     "text": [
      "3 4\n",
      "3 4\n"
     ]
    }
   ],
   "source": [
    "a,b=map(int,input().split())\n",
    "print(a,b)"
   ]
  },
  {
   "cell_type": "code",
   "execution_count": 9,
   "metadata": {},
   "outputs": [
    {
     "name": "stdout",
     "output_type": "stream",
     "text": [
      "3 4\n",
      "1 2 3 4\n",
      "5 6 4 3\n",
      "7 5 3 1\n",
      "[[1, 2, 3, 4], [5, 6, 4, 3], [7, 5, 3, 1]]\n"
     ]
    }
   ],
   "source": [
    "# create (n x m) matrix\n",
    "n,m=map(int,input().split())\n",
    "data=[list(map(int,input().split()))  for _ in range(n)]\n",
    "print(data)"
   ]
  },
  {
   "cell_type": "code",
   "execution_count": 10,
   "metadata": {},
   "outputs": [
    {
     "name": "stdout",
     "output_type": "stream",
     "text": [
      "5 8 6 4 2\n",
      "average calculated:  5.0\n"
     ]
    }
   ],
   "source": [
    "#calculate avg of 'n' elements in the list\n",
    "# n-elements should be entered by user\n",
    "def average(arr):\n",
    "    s=0\n",
    "    for x in arr:\n",
    "        s=s+x\n",
    "    return s/len(arr)\n",
    "\n",
    "if __name__=='__main__':\n",
    "    arr=list( map(int,input().split()) )\n",
    "    avg=average(arr)\n",
    "    print('average calculated: ',avg)"
   ]
  },
  {
   "cell_type": "markdown",
   "metadata": {},
   "source": [
    "# Any() and All() "
   ]
  },
  {
   "cell_type": "code",
   "execution_count": 11,
   "metadata": {},
   "outputs": [
    {
     "name": "stdout",
     "output_type": "stream",
     "text": [
      "False\n",
      "True\n",
      "True\n"
     ]
    }
   ],
   "source": [
    "#Returns true if any of the items is True. \n",
    "#It returns False if empty or all are false. \n",
    "#Any can be thought of as a sequence of OR operations on the provided iterables.\n",
    "#It short circuit the execution i.e. stop the execution as soon as the result is known.\n",
    "print (any([False, False, False, False]))  \n",
    "print (any([False, True, False, False]))  \n",
    "print (any([True, False, False, False]))"
   ]
  },
  {
   "cell_type": "code",
   "execution_count": 12,
   "metadata": {},
   "outputs": [
    {
     "name": "stdout",
     "output_type": "stream",
     "text": [
      "True\n",
      "False\n",
      "False\n"
     ]
    }
   ],
   "source": [
    "#Returns true if all of the items are True (or if the iterable is empty).\n",
    "#All can be thought of as a sequence of AND operations on the provided iterables.\n",
    "#It also short circuit the execution i.e. stop the execution as soon as the result is known.\n",
    "\n",
    "print (all([True, True, True, True]))  \n",
    "print (all([False, True, True, False])) \n",
    "print (all([False, False, False]))"
   ]
  },
  {
   "cell_type": "code",
   "execution_count": null,
   "metadata": {},
   "outputs": [],
   "source": []
  }
 ],
 "metadata": {
  "kernelspec": {
   "display_name": "Python 3",
   "language": "python",
   "name": "python3"
  },
  "language_info": {
   "codemirror_mode": {
    "name": "ipython",
    "version": 3
   },
   "file_extension": ".py",
   "mimetype": "text/x-python",
   "name": "python",
   "nbconvert_exporter": "python",
   "pygments_lexer": "ipython3",
   "version": "3.7.3"
  }
 },
 "nbformat": 4,
 "nbformat_minor": 2
}
