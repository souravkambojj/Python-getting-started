{
 "cells": [
  {
   "cell_type": "code",
   "execution_count": 1,
   "metadata": {},
   "outputs": [],
   "source": [
    "#list is the most basic Data Str in python. which can store multiple data types(int,float,str, etc.) simultaneously.\n",
    "#it allows duplicate elements because in list each element have a particular index.\n",
    "#list is mutable data structure i.e items can be added to list post to list creation.\n"
   ]
  },
  {
   "cell_type": "markdown",
   "metadata": {},
   "source": [
    "# creation"
   ]
  },
  {
   "cell_type": "code",
   "execution_count": 2,
   "metadata": {},
   "outputs": [
    {
     "name": "stdout",
     "output_type": "stream",
     "text": [
      "0.3\n",
      "5\n"
     ]
    }
   ],
   "source": [
    "                                        #creating a list\n",
    "    \n",
    "x=['hii',1,0.3,'i']         #list with multiple data strs\n",
    "y=[1,2,2,2,2,3,4,4,4,5,5]   # list with duplicate items\n",
    "z=[[1,2,3,[4,5]],6,[7,8,9]]    #multi-dimensional list\n",
    "\n",
    "#accessing a particular element\n",
    "print(x[2])\n",
    "print(z[0][3][1])"
   ]
  },
  {
   "cell_type": "markdown",
   "metadata": {},
   "source": [
    "# insertion"
   ]
  },
  {
   "cell_type": "code",
   "execution_count": 5,
   "metadata": {},
   "outputs": [
    {
     "name": "stdout",
     "output_type": "stream",
     "text": [
      "['hii', 1, 0.3, 'i', 'am', 2]\n",
      "['hii', 1, 0.3, 'i', 'am', 2, ['sourav', 'kamboj']]\n"
     ]
    }
   ],
   "source": [
    "                                    #insertion at end\n",
    "#append()  \n",
    "#it takes one argument only\n",
    "list1=['hii',1,0.3,'i']\n",
    "list1.append('am')\n",
    "list1.append(2)\n",
    "print(list1)\n",
    "\n",
    "#appending a list to a list'\n",
    "list1.append(['sourav','kamboj'])\n",
    "print(list1)"
   ]
  },
  {
   "cell_type": "code",
   "execution_count": 6,
   "metadata": {},
   "outputs": [
    {
     "name": "stdout",
     "output_type": "stream",
     "text": [
      "['hey', 'sourav', 'what', 'is', 'this']\n"
     ]
    }
   ],
   "source": [
    "                                #insertion at end\n",
    "#since append takes only one arg at a time, so it insert a single arg at a time\n",
    "#what if we want to add multiple element at a single time\n",
    "list2=['hey','sourav']\n",
    "list3=['what','is','this']\n",
    "\n",
    "list2.extend(list3)\n",
    "print(list2)"
   ]
  },
  {
   "cell_type": "code",
   "execution_count": 7,
   "metadata": {},
   "outputs": [
    {
     "name": "stdout",
     "output_type": "stream",
     "text": [
      "[1, 2, 'hii', 35, 8, 2, 3]\n"
     ]
    }
   ],
   "source": [
    "                              #insertion at specific index\n",
    "#since append(),extend() takes a single arg only.so, its not possible to add an element at specific loc using these.\n",
    "#list.insert(index,value)\n",
    "\n",
    "listx=[1,2,35,8,2,3]\n",
    "listx.insert(2,'hii')\n",
    "print(listx)"
   ]
  },
  {
   "cell_type": "code",
   "execution_count": 8,
   "metadata": {},
   "outputs": [
    {
     "name": "stdout",
     "output_type": "stream",
     "text": [
      "[1, 9999, 'hii', 35, 8, 2, 3]\n"
     ]
    }
   ],
   "source": [
    "                           #replacing at specific index\n",
    "listx[1]=9999\n",
    "print(listx)"
   ]
  },
  {
   "cell_type": "markdown",
   "metadata": {},
   "source": [
    "# Deletion"
   ]
  },
  {
   "cell_type": "code",
   "execution_count": 15,
   "metadata": {},
   "outputs": [
    {
     "name": "stdout",
     "output_type": "stream",
     "text": [
      "[1, 2, 4, 5, 7, 7, 8, 9, 4, 6, 7, 8, 4]\n"
     ]
    }
   ],
   "source": [
    "listy=[1,2,4,5,7,7,8,9,4,6,7,8,92,4]\n",
    "\n",
    "#remove(item)\n",
    "#it removes a particular item from list\n",
    "listy.remove(92)\n",
    "print(listy)\n",
    "\n",
    "#if the item to be deleted have duplicate values in the list\n",
    "#then it will remove the very 1st element of that particular item\n",
    "#e.g. remove(7) is gonne remove the 7 at index=4 \n",
    "listy.remove(7)   "
   ]
  },
  {
   "cell_type": "code",
   "execution_count": 16,
   "metadata": {},
   "outputs": [
    {
     "name": "stdout",
     "output_type": "stream",
     "text": [
      "element popped out :  4\n",
      "pop1 [1, 2, 4, 5, 7, 7, 8, 9, 4, 6, 7, 8]\n",
      "pop2:  [1, 2, 4, 5, 7, 7, 8, 9, 4, 6, 7]\n",
      "removing item at index=3 : [1, 2, 4, 7, 7, 8, 9, 4, 6, 7]\n"
     ]
    }
   ],
   "source": [
    "#pop(index)\n",
    "#it uses index to delete the element\n",
    "#By default it removes the last element\n",
    "\n",
    "\n",
    "print('element popped out : ',listy.pop())\n",
    "print('pop1',listy)\n",
    "\n",
    "listy.pop()\n",
    "print('pop2: ',listy)\n",
    "\n",
    "listy.pop(3)\n",
    "print('removing item at index=3 :',listy)\n"
   ]
  },
  {
   "cell_type": "code",
   "execution_count": 25,
   "metadata": {},
   "outputs": [
    {
     "name": "stdout",
     "output_type": "stream",
     "text": [
      "[]\n"
     ]
    }
   ],
   "source": [
    "#clear()\n",
    "#it removes all the elements from the list\n",
    "listy.clear()\n",
    "print(listy)"
   ]
  },
  {
   "cell_type": "code",
   "execution_count": 37,
   "metadata": {},
   "outputs": [
    {
     "name": "stdout",
     "output_type": "stream",
     "text": [
      "[1, [2, 8], 3, 4, 5, 6, 7, 8, 9, 0]\n"
     ]
    },
    {
     "ename": "NameError",
     "evalue": "name 'listz' is not defined",
     "output_type": "error",
     "traceback": [
      "\u001b[0;31m---------------------------------------------------------------------------\u001b[0m",
      "\u001b[0;31mNameError\u001b[0m                                 Traceback (most recent call last)",
      "\u001b[0;32m<ipython-input-37-015e03fced3f>\u001b[0m in \u001b[0;36m<module>\u001b[0;34m\u001b[0m\n\u001b[1;32m      7\u001b[0m \u001b[0;34m\u001b[0m\u001b[0m\n\u001b[1;32m      8\u001b[0m \u001b[0;32mdel\u001b[0m \u001b[0mlistz\u001b[0m\u001b[0;34m\u001b[0m\u001b[0;34m\u001b[0m\u001b[0m\n\u001b[0;32m----> 9\u001b[0;31m \u001b[0mprint\u001b[0m\u001b[0;34m(\u001b[0m\u001b[0mlistz\u001b[0m\u001b[0;34m)\u001b[0m\u001b[0;34m\u001b[0m\u001b[0;34m\u001b[0m\u001b[0m\n\u001b[0m",
      "\u001b[0;31mNameError\u001b[0m: name 'listz' is not defined"
     ]
    }
   ],
   "source": [
    "#del list[index]    deletes single element\n",
    "#del list           deletes complete list\n",
    "\n",
    "\n",
    "\n",
    "                                          #del v/s pop\n",
    "#deleting an element of nested list is not possible with pop since it takes one arg at a time. hence we use del as below:\n",
    "listz=[1,[2,6,8],3,4,5,6,7,8,9,0]\n",
    "del listz[1][1]\n",
    "print(listz)\n",
    "\n",
    "\n",
    "                                             #del v/s clear\n",
    "\n",
    "#clear removes the elements only while keeping the data str --->>>> '[]'\n",
    "#del removes the data str also\n",
    "\n",
    "del listz\n",
    "print(listz)"
   ]
  },
  {
   "cell_type": "markdown",
   "metadata": {},
   "source": [
    "# slicing"
   ]
  },
  {
   "cell_type": "code",
   "execution_count": 27,
   "metadata": {},
   "outputs": [],
   "source": [
    "l1=['a','b','c','d','e','f','g','h','i','j','k','l','m']\n",
    "#    0   1   2   3   4   5   6   7   8   9  10  11  12\n",
    "#   -13 -12 -11 -10 -9  -8  -7  -6  -5  -4  -3  -2  -1"
   ]
  },
  {
   "cell_type": "code",
   "execution_count": 36,
   "metadata": {},
   "outputs": [
    {
     "name": "stdout",
     "output_type": "stream",
     "text": [
      "['a', 'b', 'c', 'd', 'e', 'f', 'g', 'h', 'i', 'j', 'k', 'l', 'm']\n",
      "['a', 'b', 'c', 'd', 'e', 'f']\n",
      "['c', 'd', 'e', 'f', 'g', 'h', 'i', 'j', 'k', 'l', 'm']\n",
      "['d', 'e', 'f', 'g', 'h']\n",
      "['b', 'd', 'f', 'h']\n",
      "['a', 'b', 'c', 'd', 'e', 'f', 'g']\n",
      "['m', 'l', 'k', 'j', 'i', 'h', 'g', 'f', 'e', 'd', 'c', 'b', 'a']\n"
     ]
    }
   ],
   "source": [
    "print(l1[:])     #entire list\n",
    "print(l1[:6])    #starting to till index 5\n",
    "print(l1[2:])    #index 2 to till end\n",
    "print(l1[3:8])   #index 3  to  index 8-1=7  i.e. 8-3=5 elements\n",
    "print(l1[1:9:2]) #skipping\n",
    "print(l1[:-6])   #strating from index 0 to index 6 from last   \n",
    "print(l1[::-1])  #reversing the string"
   ]
  },
  {
   "cell_type": "code",
   "execution_count": null,
   "metadata": {},
   "outputs": [],
   "source": []
  }
 ],
 "metadata": {
  "kernelspec": {
   "display_name": "Python 3",
   "language": "python",
   "name": "python3"
  },
  "language_info": {
   "codemirror_mode": {
    "name": "ipython",
    "version": 3
   },
   "file_extension": ".py",
   "mimetype": "text/x-python",
   "name": "python",
   "nbconvert_exporter": "python",
   "pygments_lexer": "ipython3",
   "version": "3.7.3"
  }
 },
 "nbformat": 4,
 "nbformat_minor": 2
}
