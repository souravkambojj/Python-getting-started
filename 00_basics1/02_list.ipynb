{
  "nbformat": 4,
  "nbformat_minor": 0,
  "metadata": {
    "colab": {
      "provenance": [],
      "collapsed_sections": []
    },
    "kernelspec": {
      "name": "python3",
      "display_name": "Python 3"
    },
    "language_info": {
      "name": "python"
    }
  },
  "cells": [
    {
      "cell_type": "code",
      "execution_count": 1,
      "metadata": {
        "id": "Fiq99uDk1NR2"
      },
      "outputs": [],
      "source": [
        "#list is the most basic Data Str in python. which can store multiple data types(int,float,str, etc.) simultaneously.\n",
        "#it allows duplicate elements because in list each element have a particular index.\n",
        "#list is mutable data structure i.e items can be added to list post to list creation."
      ]
    },
    {
      "cell_type": "markdown",
      "source": [
        "# **Creation**"
      ],
      "metadata": {
        "id": "qEghQdzC1Vha"
      }
    },
    {
      "cell_type": "code",
      "source": [
        "#creating a list\n",
        "    \n",
        "x=['hii',1,0.3,'i']         #list with multiple data strs\n",
        "y=[1,2,2,2,2,3,4,4,4,5,5]   # list with duplicate items\n",
        "z=[[1,2,3,[4,5]],6,[7,8,9]]    #multi-dimensional list\n",
        "\n",
        "#accessing a particular element\n",
        "print(x[2])\n",
        "print(z[0][3][1])"
      ],
      "metadata": {
        "colab": {
          "base_uri": "https://localhost:8080/"
        },
        "id": "DkWKSgBI1TPD",
        "outputId": "41aebc9a-e5a1-4302-9ad0-b13d19f45d7f"
      },
      "execution_count": 2,
      "outputs": [
        {
          "output_type": "stream",
          "name": "stdout",
          "text": [
            "0.3\n",
            "5\n"
          ]
        }
      ]
    },
    {
      "cell_type": "markdown",
      "source": [
        "# **insertion**"
      ],
      "metadata": {
        "id": "Bx-dQ1rv1c9J"
      }
    },
    {
      "cell_type": "code",
      "source": [
        "#insertion at end\n",
        "#append()  \n",
        "#it takes one argument only\n",
        "list1=['hii',1,0.3,'i']\n",
        "list1.append('am')\n",
        "list1.append(2)\n",
        "print(list1)\n",
        "\n",
        "#appending a list to a list'\n",
        "list1.append(['sourav','kamboj'])\n",
        "print(list1)"
      ],
      "metadata": {
        "colab": {
          "base_uri": "https://localhost:8080/"
        },
        "id": "yGlJ0NED1Z5i",
        "outputId": "3b413c38-8cdd-425a-9921-a8f3a2ed013c"
      },
      "execution_count": 3,
      "outputs": [
        {
          "output_type": "stream",
          "name": "stdout",
          "text": [
            "['hii', 1, 0.3, 'i', 'am', 2]\n",
            "['hii', 1, 0.3, 'i', 'am', 2, ['sourav', 'kamboj']]\n"
          ]
        }
      ]
    },
    {
      "cell_type": "code",
      "source": [
        "#insertion at end\n",
        "#since append takes only one arg at a time, so it insert a single arg at a time\n",
        "#what if we want to add multiple element at a single time\n",
        "list2=['hey','sourav']\n",
        "list3=['what','is','this']\n",
        "\n",
        "list2.extend(list3)\n",
        "print(list2)"
      ],
      "metadata": {
        "colab": {
          "base_uri": "https://localhost:8080/"
        },
        "id": "5p1D1RXz1h1v",
        "outputId": "4f7997da-5170-4ab1-d43c-72ab220e9574"
      },
      "execution_count": 4,
      "outputs": [
        {
          "output_type": "stream",
          "name": "stdout",
          "text": [
            "['hey', 'sourav', 'what', 'is', 'this']\n"
          ]
        }
      ]
    },
    {
      "cell_type": "code",
      "source": [
        "#insertion at specific index\n",
        "#since append(),extend() takes a single arg only.so, its not possible to add an element at specific loc using these.\n",
        "#list.insert(index,value)\n",
        "\n",
        "listx=[1,2,35,8,2,3]\n",
        "listx.insert(2,'hii')\n",
        "print(listx)"
      ],
      "metadata": {
        "colab": {
          "base_uri": "https://localhost:8080/"
        },
        "id": "XX8LDczG1kdf",
        "outputId": "8811bf7f-86d4-4e06-e46f-67ba2aacd7c3"
      },
      "execution_count": 5,
      "outputs": [
        {
          "output_type": "stream",
          "name": "stdout",
          "text": [
            "[1, 2, 'hii', 35, 8, 2, 3]\n"
          ]
        }
      ]
    },
    {
      "cell_type": "code",
      "source": [
        "#replacing at specific index\n",
        "listx[1]=9999\n",
        "print(listx)"
      ],
      "metadata": {
        "colab": {
          "base_uri": "https://localhost:8080/"
        },
        "id": "0KD2Nn061nZm",
        "outputId": "0a346e7c-9108-45cd-f622-05783e226c12"
      },
      "execution_count": 6,
      "outputs": [
        {
          "output_type": "stream",
          "name": "stdout",
          "text": [
            "[1, 9999, 'hii', 35, 8, 2, 3]\n"
          ]
        }
      ]
    },
    {
      "cell_type": "markdown",
      "source": [
        "# **Deletion**"
      ],
      "metadata": {
        "id": "KoL8J5sb1tJ0"
      }
    },
    {
      "cell_type": "code",
      "source": [
        "listy=[1,2,4,5,7,7,8,9,4,6,7,8,92,4]\n",
        "\n",
        "#remove(item)\n",
        "#it removes a particular item from list\n",
        "listy.remove(92)\n",
        "print('after removing 92',listy)\n",
        "\n",
        "#if the item to be deleted have duplicate values in the list\n",
        "#then it will remove the very 1st element of that particular item\n",
        "#e.g. remove(7) is gonne remove the 7 at index=4 \n",
        "listy.remove(7)   \n",
        "print('after removing 7',listy)"
      ],
      "metadata": {
        "colab": {
          "base_uri": "https://localhost:8080/"
        },
        "id": "bMYvHMH61qv9",
        "outputId": "f37f2e28-6c4f-4712-fc5b-f436f9762f09"
      },
      "execution_count": 7,
      "outputs": [
        {
          "output_type": "stream",
          "name": "stdout",
          "text": [
            "after removing 92 [1, 2, 4, 5, 7, 7, 8, 9, 4, 6, 7, 8, 4]\n",
            "after removing 7 [1, 2, 4, 5, 7, 8, 9, 4, 6, 7, 8, 4]\n"
          ]
        }
      ]
    },
    {
      "cell_type": "code",
      "source": [
        "#pop(index)\n",
        "#it uses index to delete the element\n",
        "#By default it removes the last element\n",
        "\n",
        "\n",
        "print('element popped out : ',listy.pop())\n",
        "print('pop1',listy)\n",
        "\n",
        "listy.pop()\n",
        "print('pop2: ',listy)\n",
        "\n",
        "listy.pop(3)\n",
        "print('removing item at index=3 :',listy)"
      ],
      "metadata": {
        "colab": {
          "base_uri": "https://localhost:8080/"
        },
        "id": "Zd8cY3nx1_SY",
        "outputId": "9ab86793-1040-4e48-97a2-58145ac1236a"
      },
      "execution_count": 8,
      "outputs": [
        {
          "output_type": "stream",
          "name": "stdout",
          "text": [
            "element popped out :  4\n",
            "pop1 [1, 2, 4, 5, 7, 8, 9, 4, 6, 7, 8]\n",
            "pop2:  [1, 2, 4, 5, 7, 8, 9, 4, 6, 7]\n",
            "removing item at index=3 : [1, 2, 4, 7, 8, 9, 4, 6, 7]\n"
          ]
        }
      ]
    },
    {
      "cell_type": "code",
      "source": [
        "#clear()\n",
        "#it removes all the elements from the list\n",
        "listy.clear()\n",
        "print(listy)"
      ],
      "metadata": {
        "colab": {
          "base_uri": "https://localhost:8080/"
        },
        "id": "Pnx4S7N_2C2O",
        "outputId": "fcc8da93-50cb-4ea2-f3f7-bf4da649f340"
      },
      "execution_count": 9,
      "outputs": [
        {
          "output_type": "stream",
          "name": "stdout",
          "text": [
            "[]\n"
          ]
        }
      ]
    },
    {
      "cell_type": "code",
      "source": [
        "#del list[index]    deletes single element\n",
        "#del list           deletes complete list\n",
        "\n",
        "\n",
        "\n",
        "                                          #del v/s pop\n",
        "#deleting an element of nested list is not possible with pop since it takes one arg at a time. hence we use del as below:\n",
        "listz=[1,[2,6,8],3,4,5,6,7,8,9,0]\n",
        "del listz[1][1]\n",
        "print(listz)\n",
        "\n",
        "\n",
        "                                             #del v/s clear\n",
        "\n",
        "#clear removes the elements only while keeping the data str --->>>> '[]'\n",
        "#del removes the data str also\n",
        "\n",
        "del listz\n",
        "print(listz)"
      ],
      "metadata": {
        "colab": {
          "base_uri": "https://localhost:8080/",
          "height": 217
        },
        "id": "EGtZCKU02GU0",
        "outputId": "4ec0236c-e13b-4086-b6a4-42f4dce27717"
      },
      "execution_count": 10,
      "outputs": [
        {
          "output_type": "stream",
          "name": "stdout",
          "text": [
            "[1, [2, 8], 3, 4, 5, 6, 7, 8, 9, 0]\n"
          ]
        },
        {
          "output_type": "error",
          "ename": "NameError",
          "evalue": "ignored",
          "traceback": [
            "\u001b[0;31m---------------------------------------------------------------------------\u001b[0m",
            "\u001b[0;31mNameError\u001b[0m                                 Traceback (most recent call last)",
            "\u001b[0;32m<ipython-input-10-187740c7f04e>\u001b[0m in \u001b[0;36m<module>\u001b[0;34m\u001b[0m\n\u001b[1;32m     17\u001b[0m \u001b[0;34m\u001b[0m\u001b[0m\n\u001b[1;32m     18\u001b[0m \u001b[0;32mdel\u001b[0m \u001b[0mlistz\u001b[0m\u001b[0;34m\u001b[0m\u001b[0;34m\u001b[0m\u001b[0m\n\u001b[0;32m---> 19\u001b[0;31m \u001b[0mprint\u001b[0m\u001b[0;34m(\u001b[0m\u001b[0mlistz\u001b[0m\u001b[0;34m)\u001b[0m\u001b[0;34m\u001b[0m\u001b[0;34m\u001b[0m\u001b[0m\n\u001b[0m",
            "\u001b[0;31mNameError\u001b[0m: name 'listz' is not defined"
          ]
        }
      ]
    },
    {
      "cell_type": "markdown",
      "source": [
        "# **Slicing**"
      ],
      "metadata": {
        "id": "iTWVeKBO2Ncl"
      }
    },
    {
      "cell_type": "code",
      "source": [
        "l1=['a','b','c','d','e','f','g','h','i','j','k','l','m']\n",
        "#    0   1   2   3   4   5   6   7   8   9  10  11  12\n",
        "#   -13 -12 -11 -10 -9  -8  -7  -6  -5  -4  -3  -2  -1"
      ],
      "metadata": {
        "id": "FNRtyJjM2J18"
      },
      "execution_count": 11,
      "outputs": []
    },
    {
      "cell_type": "code",
      "source": [
        "print(l1[:])     #entire list\n",
        "print(l1[:6])    #starting to till index 5\n",
        "print(l1[2:])    #index 2 to till end\n",
        "print(l1[3:8])   #index 3  to  index 8-1=7  i.e. 8-3=5 elements\n",
        "print(l1[1:9:2]) #skipping\n",
        "print(l1[:-6])   #strating from index 0 to index 6 from last   \n",
        "print(l1[::-1])  #reversing the string"
      ],
      "metadata": {
        "colab": {
          "base_uri": "https://localhost:8080/"
        },
        "id": "qZsHXsXN2QgV",
        "outputId": "c31fa56f-44b2-4ea3-ff3c-5cb978988366"
      },
      "execution_count": 12,
      "outputs": [
        {
          "output_type": "stream",
          "name": "stdout",
          "text": [
            "['a', 'b', 'c', 'd', 'e', 'f', 'g', 'h', 'i', 'j', 'k', 'l', 'm']\n",
            "['a', 'b', 'c', 'd', 'e', 'f']\n",
            "['c', 'd', 'e', 'f', 'g', 'h', 'i', 'j', 'k', 'l', 'm']\n",
            "['d', 'e', 'f', 'g', 'h']\n",
            "['b', 'd', 'f', 'h']\n",
            "['a', 'b', 'c', 'd', 'e', 'f', 'g']\n",
            "['m', 'l', 'k', 'j', 'i', 'h', 'g', 'f', 'e', 'd', 'c', 'b', 'a']\n"
          ]
        }
      ]
    },
    {
      "cell_type": "markdown",
      "source": [
        "# **list mtds**"
      ],
      "metadata": {
        "id": "hUGGe1V_2Ytf"
      }
    },
    {
      "cell_type": "code",
      "source": [
        "[1,2,3,'sourav'] + ['kamboj','a','b']   #concat"
      ],
      "metadata": {
        "colab": {
          "base_uri": "https://localhost:8080/"
        },
        "id": "SH3gryxs2TcG",
        "outputId": "4a2ef005-2861-476f-f804-902b30ea8732"
      },
      "execution_count": 13,
      "outputs": [
        {
          "output_type": "execute_result",
          "data": {
            "text/plain": [
              "[1, 2, 3, 'sourav', 'kamboj', 'a', 'b']"
            ]
          },
          "metadata": {},
          "execution_count": 13
        }
      ]
    },
    {
      "cell_type": "code",
      "source": [
        "[1,2,3,4]*3                   #multiply"
      ],
      "metadata": {
        "colab": {
          "base_uri": "https://localhost:8080/"
        },
        "id": "UPeoxUrh2exD",
        "outputId": "c06a5ec5-2ce3-4d52-d9a1-b5de36300996"
      },
      "execution_count": 14,
      "outputs": [
        {
          "output_type": "execute_result",
          "data": {
            "text/plain": [
              "[1, 2, 3, 4, 1, 2, 3, 4, 1, 2, 3, 4]"
            ]
          },
          "metadata": {},
          "execution_count": 14
        }
      ]
    },
    
    {
      "cell_type": "code",
      "source": [
        "a = [5,3,4,2,5,2,7,2,2]                      #sorting\n",
        "print(sorted(a))                             #ascending\n",
        "print(sorted(a,reverse=True))                #descending"
      ],
      "metadata": {
        "colab": {
          "base_uri": "https://localhost:8080/"
        },
        "id": "aPdxUrQC2jo2",
        "outputId": "ec7fa77e-7b32-493f-f854-012917d32db4"
      },
      "execution_count": 23,
      "outputs": [
        {
          "output_type": "stream",
          "name": "stdout",
          "text": [
            "[2, 2, 2, 2, 3, 4, 5, 5, 7]\n",
            "[7, 5, 5, 4, 3, 2, 2, 2, 2]\n"
          ]
        }
      ]
    },
    
    
    {
      "cell_type": "code",
      "source": [
        "b = [[5, 1], [2, 1], [1, 1], [8, 1], [10, 0], [5, 0]]                      #sorting 2d list\n",
        "print(sorted(b))                                                           #by default it will sort on the basis of 1st element in the list\n",
        "print(sorted(b,key=lambda x:x[1]))                                         #if we want to sort the list on the basis of 2nd element\n",
        "print(sorted(b,key=lambda x:x[1],reverse=True))"
      ],
      "metadata": {
        "colab": {
          "base_uri": "https://localhost:8080/"
        },
        "id": "aPdxUrQC2jo2",
        "outputId": "ec7fa77e-7b32-493f-f854-012917d32db4"
      },
      "execution_count": 23,
      "outputs": [
        {
          "output_type": "stream",
          "name": "stdout",
          "text": [
            "[[1, 1], [2, 1], [5, 0], [5, 1], [8, 1], [10, 0]]\n",
            "[[10, 0], [5, 0], [5, 1], [2, 1], [1, 1], [8, 1]]\n",
            "[[5, 1], [2, 1], [1, 1], [8, 1], [10, 0], [5, 0]]\n"
          ]
        }
      ]
    },
    
    {
      "cell_type": "code",
      "source": [
        "min(a)"
      ],
      "metadata": {
        "colab": {
          "base_uri": "https://localhost:8080/"
        },
        "id": "uMM5I6UX259g",
        "outputId": "250968c5-6f3d-41f2-ce00-4c07c4559eed"
      },
      "execution_count": 24,
      "outputs": [
        {
          "output_type": "execute_result",
          "data": {
            "text/plain": [
              "2"
            ]
          },
          "metadata": {},
          "execution_count": 24
        }
      ]
    },
    {
      "cell_type": "code",
      "source": [
        "max(a)"
      ],
      "metadata": {
        "colab": {
          "base_uri": "https://localhost:8080/"
        },
        "id": "Yt8VID6k3FiA",
        "outputId": "1b0e2695-0032-43af-d5d0-3a1a86b48734"
      },
      "execution_count": 25,
      "outputs": [
        {
          "output_type": "execute_result",
          "data": {
            "text/plain": [
              "7"
            ]
          },
          "metadata": {},
          "execution_count": 25
        }
      ]
    },
    {
      "cell_type": "code",
      "source": [
        "len(a)"
      ],
      "metadata": {
        "colab": {
          "base_uri": "https://localhost:8080/"
        },
        "id": "iTaTlcRo3GJY",
        "outputId": "be98d87a-94fb-4538-e53d-2fbb49d23a78"
      },
      "execution_count": 26,
      "outputs": [
        {
          "output_type": "execute_result",
          "data": {
            "text/plain": [
              "9"
            ]
          },
          "metadata": {},
          "execution_count": 26
        }
      ]
    },
    {
      "cell_type": "code",
      "source": [
        "a.count(2)"
      ],
      "metadata": {
        "colab": {
          "base_uri": "https://localhost:8080/"
        },
        "id": "H2BAnTUB3IdT",
        "outputId": "bd69e161-b63e-47c9-d950-d86f37e23aee"
      },
      "execution_count": 27,
      "outputs": [
        {
          "output_type": "execute_result",
          "data": {
            "text/plain": [
              "4"
            ]
          },
          "metadata": {},
          "execution_count": 27
        }
      ]
    },
    {
      "cell_type": "code",
      "source": [
        "print(a)\n",
        "print(a.index(2))\n",
        "print(a.index(4))"
      ],
      "metadata": {
        "colab": {
          "base_uri": "https://localhost:8080/"
        },
        "id": "AUZqNMi83LkF",
        "outputId": "9883288e-02a7-4337-af94-cbacdd9e693b"
      },
      "execution_count": 28,
      "outputs": [
        {
          "output_type": "stream",
          "name": "stdout",
          "text": [
            "[5, 3, 4, 2, 5, 2, 7, 2, 2]\n",
            "3\n",
            "2\n"
          ]
        }
      ]
    },
    {
      "cell_type": "code",
      "source": [],
      "metadata": {
        "id": "_wFp1NaW5XmK"
      },
      "execution_count": null,
      "outputs": []
    }
  ]
}
