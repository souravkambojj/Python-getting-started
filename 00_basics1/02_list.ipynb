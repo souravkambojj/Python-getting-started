{
  "nbformat": 4,
  "nbformat_minor": 0,
  "metadata": {
    "colab": {
      "provenance": [],
      "collapsed_sections": []
    },
    "kernelspec": {
      "name": "python3",
      "display_name": "Python 3"
    },
    "language_info": {
      "name": "python"
    }
  },
  "cells": [
    {
      "cell_type": "code",
      "execution_count": 1,
      "metadata": {
        "id": "7I0qaw9n0f9y"
      },
      "outputs": [],
      "source": [
        "#list is the most basic Data Str in python. which can store multiple data types(int,float,str, etc.) simultaneously.\n",
        "#it allows duplicate elements because in list each element have a particular index.\n",
        "#list is mutable data structure i.e items can be added to list post to list creation."
      ]
    },
    {
      "cell_type": "markdown",
      "source": [
        "# **creation**"
      ],
      "metadata": {
        "id": "Mik5Nctx0p5U"
      }
    },
    {
      "cell_type": "code",
      "source": [
        "                                        #creating a list\n",
        "    \n",
        "x=['hii',1,0.3,'i']         #list with multiple data strs\n",
        "y=[1,2,2,2,2,3,4,4,4,5,5]   # list with duplicate items\n",
        "z=[[1,2,3,[4,5]],6,[7,8,9]]    #multi-dimensional list\n",
        "\n",
        "#accessing a particular element\n",
        "print(x[2])\n",
        "print(z[0][3][1])"
      ],
      "metadata": {
        "colab": {
          "base_uri": "https://localhost:8080/"
        },
        "id": "3BEk_vlk0njv",
        "outputId": "689263e3-c705-48f6-f27b-9f6ad47de1ac"
      },
      "execution_count": 2,
      "outputs": [
        {
          "output_type": "stream",
          "name": "stdout",
          "text": [
            "0.3\n",
            "5\n"
          ]
        }
      ]
    },
    {
      "cell_type": "markdown",
      "source": [
        "# **insertion**"
      ],
      "metadata": {
        "id": "5J3vsold0xLP"
      }
    },
    {
      "cell_type": "code",
      "source": [
        "                                    #insertion at end\n",
        "#append()  \n",
        "#it takes one argument only\n",
        "list1=['hii',1,0.3,'i']\n",
        "list1.append('am')\n",
        "list1.append(2)\n",
        "print(list1)\n",
        "\n",
        "#appending a list to a list'\n",
        "list1.append(['sourav','kamboj'])\n",
        "print(list1)"
      ],
      "metadata": {
        "colab": {
          "base_uri": "https://localhost:8080/"
        },
        "id": "B_JCRAj20uno",
        "outputId": "9f372e03-5ddb-4609-83ae-63e784345bf8"
      },
      "execution_count": 3,
      "outputs": [
        {
          "output_type": "stream",
          "name": "stdout",
          "text": [
            "['hii', 1, 0.3, 'i', 'am', 2]\n",
            "['hii', 1, 0.3, 'i', 'am', 2, ['sourav', 'kamboj']]\n"
          ]
        }
      ]
    },
    {
      "cell_type": "code",
      "source": [
        "                                #insertion at end\n",
        "#since append takes only one arg at a time, so it insert a single arg at a time\n",
        "#what if we want to add multiple element at a single time\n",
        "list2=['hey','sourav']\n",
        "list3=['what','is','this']\n",
        "\n",
        "list2.extend(list3)\n",
        "print(list2)"
      ],
      "metadata": {
        "colab": {
          "base_uri": "https://localhost:8080/"
        },
        "id": "6b0Bs_ds02dV",
        "outputId": "1b968ae4-74bc-4ca4-c8ac-f3370f284121"
      },
      "execution_count": 4,
      "outputs": [
        {
          "output_type": "stream",
          "name": "stdout",
          "text": [
            "['hey', 'sourav', 'what', 'is', 'this']\n"
          ]
        }
      ]
    },
    {
      "cell_type": "code",
      "source": [
        "                              #insertion at specific index\n",
        "#since append(),extend() takes a single arg only.so, its not possible to add an element at specific loc using these.\n",
        "#list.insert(index,value)\n",
        "\n",
        "listx=[1,2,35,8,2,3]\n",
        "listx.insert(2,'hii')\n",
        "print(listx)"
      ],
      "metadata": {
        "colab": {
          "base_uri": "https://localhost:8080/"
        },
        "id": "oSmveCez04ql",
        "outputId": "4e96415e-798e-4a84-f179-7db8b059276b"
      },
      "execution_count": 5,
      "outputs": [
        {
          "output_type": "stream",
          "name": "stdout",
          "text": [
            "[1, 2, 'hii', 35, 8, 2, 3]\n"
          ]
        }
      ]
    },
    {
      "cell_type": "code",
      "source": [
        "                           #replacing at specific index\n",
        "listx[1]=9999\n",
        "print(listx)"
      ],
      "metadata": {
        "colab": {
          "base_uri": "https://localhost:8080/"
        },
        "id": "qceSQpY806xE",
        "outputId": "c5b12fd0-5e76-412f-ed17-76d919406608"
      },
      "execution_count": 6,
      "outputs": [
        {
          "output_type": "stream",
          "name": "stdout",
          "text": [
            "[1, 9999, 'hii', 35, 8, 2, 3]\n"
          ]
        }
      ]
    },
    {
      "cell_type": "markdown",
      "source": [
        "# **Deletion**"
      ],
      "metadata": {
        "id": "n4xQ5xl30-3S"
      }
    },
    {
      "cell_type": "code",
      "source": [
        "listy=[1,2,4,5,7,7,8,9,4,6,7,8,92,4]\n",
        "\n",
        "#remove(item)\n",
        "#it removes a particular item from list\n",
        "listy.remove(92)\n",
        "print('after removing 92',listy)\n",
        "\n",
        "#if the item to be deleted have duplicate values in the list\n",
        "#then it will remove the very 1st element of that particular item\n",
        "#e.g. remove(7) is gonne remove the 7 at index=4 \n",
        "listy.remove(7)   \n",
        "print('after removing 7',listy)"
      ],
      "metadata": {
        "colab": {
          "base_uri": "https://localhost:8080/"
        },
        "id": "vDh8Di-t0-KB",
        "outputId": "5be4e8d5-ce41-4932-f066-2f5f62e81e57"
      },
      "execution_count": 9,
      "outputs": [
        {
          "output_type": "stream",
          "name": "stdout",
          "text": [
            "after removing 92 [1, 2, 4, 5, 7, 7, 8, 9, 4, 6, 7, 8, 4]\n",
            "after removing 7 [1, 2, 4, 5, 7, 8, 9, 4, 6, 7, 8, 4]\n"
          ]
        }
      ]
    },
    {
      "cell_type": "code",
      "source": [
        "#pop(index)\n",
        "#it uses index to delete the element\n",
        "#By default it removes the last element\n",
        "\n",
        "\n",
        "print('element popped out : ',listy.pop())\n",
        "print('pop1',listy)\n",
        "\n",
        "listy.pop()\n",
        "print('pop2: ',listy)\n",
        "\n",
        "listy.pop(3)\n",
        "print('removing item at index=3 :',listy)"
      ],
      "metadata": {
        "colab": {
          "base_uri": "https://localhost:8080/"
        },
        "id": "ZFnfhIgT1IGT",
        "outputId": "2d252cbb-9223-4915-a87d-1f445234c7c1"
      },
      "execution_count": 10,
      "outputs": [
        {
          "output_type": "stream",
          "name": "stdout",
          "text": [
            "element popped out :  4\n",
            "pop1 [1, 2, 4, 5, 7, 8, 9, 4, 6, 7, 8]\n",
            "pop2:  [1, 2, 4, 5, 7, 8, 9, 4, 6, 7]\n",
            "removing item at index=3 : [1, 2, 4, 7, 8, 9, 4, 6, 7]\n"
          ]
        }
      ]
    },
    {
      "cell_type": "code",
      "source": [
        "#clear()\n",
        "#it removes all the elements from the list\n",
        "listy.clear()\n",
        "print(listy)"
      ],
      "metadata": {
        "colab": {
          "base_uri": "https://localhost:8080/"
        },
        "id": "ocrGfns816_Q",
        "outputId": "9a56cbf6-a5db-4864-9d34-fe30c59f2ca5"
      },
      "execution_count": 11,
      "outputs": [
        {
          "output_type": "stream",
          "name": "stdout",
          "text": [
            "[]\n"
          ]
        }
      ]
    },
    {
      "cell_type": "code",
      "source": [
        "#del list[index]    deletes single element\n",
        "#del list           deletes complete list\n",
        "\n",
        "\n",
        "\n",
        "                                          #del v/s pop\n",
        "#deleting an element of nested list is not possible with pop since it takes one arg at a time. hence we use del as below:\n",
        "listz=[1,[2,6,8],3,4,5,6,7,8,9,0]\n",
        "del listz[1][1]\n",
        "print(listz)\n",
        "\n",
        "\n",
        "                                             #del v/s clear\n",
        "\n",
        "#clear removes the elements only while keeping the data str --->>>> '[]'\n",
        "#del removes the data str also\n",
        "\n",
        "del listz\n",
        "print(listz)"
      ],
      "metadata": {
        "colab": {
          "base_uri": "https://localhost:8080/",
          "height": 217
        },
        "id": "HFkXgtPX1-Tf",
        "outputId": "c9b4c59c-a654-47ed-cba2-025dfce63ffb"
      },
      "execution_count": 12,
      "outputs": [
        {
          "output_type": "stream",
          "name": "stdout",
          "text": [
            "[1, [2, 8], 3, 4, 5, 6, 7, 8, 9, 0]\n"
          ]
        },
        {
          "output_type": "error",
          "ename": "NameError",
          "evalue": "ignored",
          "traceback": [
            "\u001b[0;31m---------------------------------------------------------------------------\u001b[0m",
            "\u001b[0;31mNameError\u001b[0m                                 Traceback (most recent call last)",
            "\u001b[0;32m<ipython-input-12-187740c7f04e>\u001b[0m in \u001b[0;36m<module>\u001b[0;34m\u001b[0m\n\u001b[1;32m     17\u001b[0m \u001b[0;34m\u001b[0m\u001b[0m\n\u001b[1;32m     18\u001b[0m \u001b[0;32mdel\u001b[0m \u001b[0mlistz\u001b[0m\u001b[0;34m\u001b[0m\u001b[0;34m\u001b[0m\u001b[0m\n\u001b[0;32m---> 19\u001b[0;31m \u001b[0mprint\u001b[0m\u001b[0;34m(\u001b[0m\u001b[0mlistz\u001b[0m\u001b[0;34m)\u001b[0m\u001b[0;34m\u001b[0m\u001b[0;34m\u001b[0m\u001b[0m\n\u001b[0m",
            "\u001b[0;31mNameError\u001b[0m: name 'listz' is not defined"
          ]
        }
      ]
    },
    {
      "cell_type": "markdown",
      "source": [
        "# **slicing**"
      ],
      "metadata": {
        "id": "00lrKXg32GTL"
      }
    },
    {
      "cell_type": "code",
      "source": [
        "l1=['a','b','c','d','e','f','g','h','i','j','k','l','m']\n",
        "#    0   1   2   3   4   5   6   7   8   9  10  11  12\n",
        "#   -13 -12 -11 -10 -9  -8  -7  -6  -5  -4  -3  -2  -1"
      ],
      "metadata": {
        "id": "IgqJG-t02B0v"
      },
      "execution_count": 13,
      "outputs": []
    },
    {
      "cell_type": "code",
      "source": [
        "print(l1[:])     #entire list\n",
        "print(l1[:6])    #starting to till index 5\n",
        "print(l1[2:])    #index 2 to till end\n",
        "print(l1[3:8])   #index 3  to  index 8-1=7  i.e. 8-3=5 elements\n",
        "print(l1[1:9:2]) #skipping\n",
        "print(l1[:-6])   #strating from index 0 to index 6 from last   \n",
        "print(l1[::-1])  #reversing the string"
      ],
      "metadata": {
        "colab": {
          "base_uri": "https://localhost:8080/"
        },
        "id": "NR6AtUpq2PAw",
        "outputId": "2bafbbdb-3fd3-4b14-ef5d-b03409c0a2aa"
      },
      "execution_count": 14,
      "outputs": [
        {
          "output_type": "stream",
          "name": "stdout",
          "text": [
            "['a', 'b', 'c', 'd', 'e', 'f', 'g', 'h', 'i', 'j', 'k', 'l', 'm']\n",
            "['a', 'b', 'c', 'd', 'e', 'f']\n",
            "['c', 'd', 'e', 'f', 'g', 'h', 'i', 'j', 'k', 'l', 'm']\n",
            "['d', 'e', 'f', 'g', 'h']\n",
            "['b', 'd', 'f', 'h']\n",
            "['a', 'b', 'c', 'd', 'e', 'f', 'g']\n",
            "['m', 'l', 'k', 'j', 'i', 'h', 'g', 'f', 'e', 'd', 'c', 'b', 'a']\n"
          ]
        }
      ]
    },
    {
      "cell_type": "markdown",
      "source": [
        "# **list mtds**"
      ],
      "metadata": {
        "id": "NPiTH4qk2vIc"
      }
    },
    {
      "cell_type": "code",
      "source": [
        "a = [5,3,4,2,5,2,7,2,2]\n",
        "sorted(a)"
      ],
      "metadata": {
        "colab": {
          "base_uri": "https://localhost:8080/"
        },
        "id": "X20iObvn2SQV",
        "outputId": "f43470eb-e390-44f6-d186-d9e0ee4aff1e"
      },
      "execution_count": 23,
      "outputs": [
        {
          "output_type": "execute_result",
          "data": {
            "text/plain": [
              "[2, 2, 2, 2, 3, 4, 5, 5, 7]"
            ]
          },
          "metadata": {},
          "execution_count": 23
        }
      ]
    },
    {
      "cell_type": "code",
      "source": [
        "min(a)"
      ],
      "metadata": {
        "colab": {
          "base_uri": "https://localhost:8080/"
        },
        "id": "1SuLa1HV3oqF",
        "outputId": "03ea9c9a-f0ee-41c8-df70-fd9d4f3da69e"
      },
      "execution_count": 24,
      "outputs": [
        {
          "output_type": "execute_result",
          "data": {
            "text/plain": [
              "2"
            ]
          },
          "metadata": {},
          "execution_count": 24
        }
      ]
    },
    {
      "cell_type": "code",
      "source": [
        "max(a)"
      ],
      "metadata": {
        "colab": {
          "base_uri": "https://localhost:8080/"
        },
        "id": "zDwYK3063qzX",
        "outputId": "f7a5f38a-9d48-4e0a-8463-f8b8143bba81"
      },
      "execution_count": 25,
      "outputs": [
        {
          "output_type": "execute_result",
          "data": {
            "text/plain": [
              "7"
            ]
          },
          "metadata": {},
          "execution_count": 25
        }
      ]
    },
    {
      "cell_type": "code",
      "source": [
        "len(a)"
      ],
      "metadata": {
        "colab": {
          "base_uri": "https://localhost:8080/"
        },
        "id": "_qZarWcc3tAL",
        "outputId": "1cc0e8ac-94e3-4f52-bf0d-bdec01394980"
      },
      "execution_count": 26,
      "outputs": [
        {
          "output_type": "execute_result",
          "data": {
            "text/plain": [
              "9"
            ]
          },
          "metadata": {},
          "execution_count": 26
        }
      ]
    },
    {
      "cell_type": "code",
      "source": [
        "a.count(2)"
      ],
      "metadata": {
        "colab": {
          "base_uri": "https://localhost:8080/"
        },
        "id": "n2NS2nv73xmS",
        "outputId": "e0a50e82-38f2-4683-875a-92ea30ca4ad7"
      },
      "execution_count": 27,
      "outputs": [
        {
          "output_type": "execute_result",
          "data": {
            "text/plain": [
              "4"
            ]
          },
          "metadata": {},
          "execution_count": 27
        }
      ]
    },
    {
      "cell_type": "code",
      "source": [
        "print(a)\n",
        "print(a.index(7))"
      ],
      "metadata": {
        "colab": {
          "base_uri": "https://localhost:8080/"
        },
        "id": "wonKG6oB31XS",
        "outputId": "fbb1fab9-9bda-47ec-b79e-5740164b2bb4"
      },
      "execution_count": 28,
      "outputs": [
        {
          "output_type": "stream",
          "name": "stdout",
          "text": [
            "[5, 3, 4, 2, 5, 2, 7, 2, 2]\n",
            "6\n"
          ]
        }
      ]
    },
    {
      "cell_type": "code",
      "source": [],
      "metadata": {
        "id": "uDztkmcE4H2c"
      },
      "execution_count": null,
      "outputs": []
    }
  ]
}