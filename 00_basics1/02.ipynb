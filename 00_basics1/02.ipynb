{
  "nbformat": 4,
  "nbformat_minor": 0,
  "metadata": {
    "colab": {
      "provenance": [],
      "collapsed_sections": []
    },
    "kernelspec": {
      "name": "python3",
      "display_name": "Python 3"
    },
    "language_info": {
      "name": "python"
    }
  },
  "cells": [
    {
      "cell_type": "markdown",
      "source": [
        "**Formatting string**"
      ],
      "metadata": {
        "id": "mRdzQFukeOH_"
      }
    },
    {
      "cell_type": "code",
      "execution_count": 8,
      "metadata": {
        "colab": {
          "base_uri": "https://localhost:8080/"
        },
        "id": "El5ordYId5KH",
        "outputId": "41a73f96-525e-480a-d57e-69e50b9a8d17"
      },
      "outputs": [
        {
          "output_type": "stream",
          "name": "stdout",
          "text": [
            "hii sourav here 14104033\n",
            "hii sourav here 14104033\n",
            "hii sourav here 14104033\n"
          ]
        }
      ],
      "source": [
        "print('hii {} here {}'.format('sourav',14104033))\n",
        "\n",
        "print('hii %s here %d'%('sourav',14104033))\n",
        "\n",
        "\n",
        "i,j = 'sourav',14104033\n",
        "print(f'hii {i} here {j}')"
      ]
    },
    {
      "cell_type": "code",
      "source": [
        "#for disabling the space\n",
        "print('i','j','k',sep='')"
      ],
      "metadata": {
        "colab": {
          "base_uri": "https://localhost:8080/"
        },
        "id": "DZJlIJaeepSt",
        "outputId": "ef10c0d8-3ce4-4b7a-e947-6965279cccd8"
      },
      "execution_count": 6,
      "outputs": [
        {
          "output_type": "stream",
          "name": "stdout",
          "text": [
            "ijk\n"
          ]
        }
      ]
    },
    {
      "cell_type": "code",
      "source": [
        "#formatting date\n",
        "print('27','01','1996',sep='-')"
      ],
      "metadata": {
        "colab": {
          "base_uri": "https://localhost:8080/"
        },
        "id": "09Esolj_e5Cx",
        "outputId": "410b4a64-c35e-4c53-c8c7-a00fa4e110fa"
      },
      "execution_count": 7,
      "outputs": [
        {
          "output_type": "stream",
          "name": "stdout",
          "text": [
            "27-01-1996\n"
          ]
        }
      ]
    },
    {
      "cell_type": "code",
      "source": [
        "#reversing the string\n",
        "str = 'abcde'\n",
        "list(str)"
      ],
      "metadata": {
        "colab": {
          "base_uri": "https://localhost:8080/"
        },
        "id": "fgXYIP_xe78J",
        "outputId": "a5fbc65b-5425-400c-8cea-8c96df28cc28"
      },
      "execution_count": 9,
      "outputs": [
        {
          "output_type": "execute_result",
          "data": {
            "text/plain": [
              "['a', 'b', 'c', 'd', 'e']"
            ]
          },
          "metadata": {},
          "execution_count": 9
        }
      ]
    },
    {
      "cell_type": "code",
      "source": [
        "list(str)[::-1]"
      ],
      "metadata": {
        "colab": {
          "base_uri": "https://localhost:8080/"
        },
        "id": "3HnIkxMmfa3E",
        "outputId": "999f7544-aded-4ea4-dfcf-c6450460a816"
      },
      "execution_count": 11,
      "outputs": [
        {
          "output_type": "execute_result",
          "data": {
            "text/plain": [
              "['e', 'd', 'c', 'b', 'a']"
            ]
          },
          "metadata": {},
          "execution_count": 11
        }
      ]
    },
    {
      "cell_type": "code",
      "source": [
        "''.join(list(str)[::-1])"
      ],
      "metadata": {
        "colab": {
          "base_uri": "https://localhost:8080/",
          "height": 36
        },
        "id": "YjGn7S91fgAO",
        "outputId": "15be1d58-0bb9-4f7e-f639-83b07b4da273"
      },
      "execution_count": 14,
      "outputs": [
        {
          "output_type": "execute_result",
          "data": {
            "text/plain": [
              "'edcba'"
            ],
            "application/vnd.google.colaboratory.intrinsic+json": {
              "type": "string"
            }
          },
          "metadata": {},
          "execution_count": 14
        }
      ]
    },
    {
      "cell_type": "code",
      "source": [],
      "metadata": {
        "id": "pZLdoqP-fppI"
      },
      "execution_count": null,
      "outputs": []
    }
  ]
}