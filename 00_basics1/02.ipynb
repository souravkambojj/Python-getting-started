{
  "nbformat": 4,
  "nbformat_minor": 0,
  "metadata": {
    "colab": {
      "name": "02.ipynb",
      "provenance": [],
      "collapsed_sections": []
    },
    "kernelspec": {
      "name": "python3",
      "display_name": "Python 3"
    }
  },
  "cells": [
    {
      "cell_type": "code",
      "metadata": {
        "colab": {
          "base_uri": "https://localhost:8080/"
        },
        "id": "XN5QSNZ39N-E",
        "outputId": "da31f77d-11b5-4d58-9099-e4d01063b03f"
      },
      "source": [
        "print('hii {} here {}'.format('sourav',14104033))"
      ],
      "execution_count": 1,
      "outputs": [
        {
          "output_type": "stream",
          "text": [
            "hii sourav here 14104033\n"
          ],
          "name": "stdout"
        }
      ]
    },
    {
      "cell_type": "code",
      "metadata": {
        "colab": {
          "base_uri": "https://localhost:8080/"
        },
        "id": "QdauSPtu9bmY",
        "outputId": "d484480b-7b9a-4891-e975-5b8f91d7d4ae"
      },
      "source": [
        "print('hii %s here %d'%('sourav',14104033))"
      ],
      "execution_count": 3,
      "outputs": [
        {
          "output_type": "stream",
          "text": [
            "hii sourav here 14104033\n"
          ],
          "name": "stdout"
        }
      ]
    },
    {
      "cell_type": "code",
      "metadata": {
        "colab": {
          "base_uri": "https://localhost:8080/"
        },
        "id": "GkqdO0f89hh1",
        "outputId": "c1b1a01a-100e-4991-dc29-52cd05c4b109"
      },
      "source": [
        "i = 'sourav'\r\n",
        "j = 14104033\r\n",
        "\r\n",
        "print(f'hii {i} here {j}')"
      ],
      "execution_count": 4,
      "outputs": [
        {
          "output_type": "stream",
          "text": [
            "hii sourav here 14104033\n"
          ],
          "name": "stdout"
        }
      ]
    },
    {
      "cell_type": "code",
      "metadata": {
        "colab": {
          "base_uri": "https://localhost:8080/"
        },
        "id": "8JXUvEwI9w2z",
        "outputId": "da1bdebe-471d-464b-aecd-646e80f72c6a"
      },
      "source": [
        "#for disabling the space\r\n",
        "print('i','j','k',sep='')"
      ],
      "execution_count": 6,
      "outputs": [
        {
          "output_type": "stream",
          "text": [
            "ijk\n"
          ],
          "name": "stdout"
        }
      ]
    },
    {
      "cell_type": "code",
      "metadata": {
        "colab": {
          "base_uri": "https://localhost:8080/"
        },
        "id": "QoIIHL0w-8E2",
        "outputId": "69438cee-6a92-4b39-d9f2-8238df1f7ed8"
      },
      "source": [
        "#formatting date\r\n",
        "print('27','01','1996',sep='-')"
      ],
      "execution_count": 7,
      "outputs": [
        {
          "output_type": "stream",
          "text": [
            "27-01-1996\n"
          ],
          "name": "stdout"
        }
      ]
    },
    {
      "cell_type": "code",
      "metadata": {
        "id": "IirAKMKP_I9_"
      },
      "source": [
        ""
      ],
      "execution_count": null,
      "outputs": []
    }
  ]
}