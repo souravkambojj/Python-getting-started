{
 "cells": [
  {
   "cell_type": "code",
   "execution_count": 2,
   "metadata": {},
   "outputs": [
    {
     "name": "stdout",
     "output_type": "stream",
     "text": [
      "3 2 1 "
     ]
    }
   ],
   "source": [
    "c=3\n",
    "while(c>0):\n",
    "    print(c,end=' ')\n",
    "    c-=1"
   ]
  },
  {
   "cell_type": "code",
   "execution_count": 3,
   "metadata": {},
   "outputs": [
    {
     "name": "stdout",
     "output_type": "stream",
     "text": [
      "152\n"
     ]
    }
   ],
   "source": [
    "l1=[2,2,34,5,6,77,8,9,9]\n",
    "s=0\n",
    "for i in l1:\n",
    "    s=s+i\n",
    "print(s)"
   ]
  },
  {
   "cell_type": "code",
   "execution_count": 8,
   "metadata": {},
   "outputs": [
    {
     "name": "stdout",
     "output_type": "stream",
     "text": [
      "0 1 2 3 4 5 6 7 8 9 \n",
      "3 4 5 6 7 8 9 10 11 12 13 14 15 16 17 \n",
      "3 5 7 9 11 13 15 17 "
     ]
    }
   ],
   "source": [
    "#range(start_value,end_value,step_size)\n",
    "#default  start_value=0\n",
    "#default  step_size=1\n",
    "\n",
    "for i in range(10):\n",
    "    print(i,end=' ')\n",
    "print()\n",
    "\n",
    "for i in range(3,18):\n",
    "    print(i,end=' ')\n",
    "print()  \n",
    "\n",
    "for i in range(3,18,2):\n",
    "    print(i,end=' ')"
   ]
  },
  {
   "cell_type": "code",
   "execution_count": 9,
   "metadata": {},
   "outputs": [
    {
     "name": "stdout",
     "output_type": "stream",
     "text": [
      "0 hii\n",
      "1 i\n",
      "2 m\n",
      "3 sourav\n",
      "4 kamboj\n"
     ]
    }
   ],
   "source": [
    "#iterating by index of sequences\n",
    "l2=['hii','i','m','sourav','kamboj']\n",
    "for i in  range(len(l2)):\n",
    "    print(i,l2[i])"
   ]
  },
  {
   "cell_type": "code",
   "execution_count": 12,
   "metadata": {},
   "outputs": [
    {
     "name": "stdout",
     "output_type": "stream",
     "text": [
      "0 1 2 \n",
      "1 2 3 \n",
      "2 3 4 \n",
      "3 4 5 \n",
      "4 5 6 \n"
     ]
    }
   ],
   "source": [
    "#nested for loops\n",
    "\n",
    "for i in range(5):\n",
    "    for j in range(3):\n",
    "        print(i+j,end=' ')\n",
    "    print()"
   ]
  },
  {
   "cell_type": "code",
   "execution_count": 13,
   "metadata": {},
   "outputs": [
    {
     "name": "stdout",
     "output_type": "stream",
     "text": [
      "hii i sourav kamboj "
     ]
    }
   ],
   "source": [
    "l2=['hii','i','m','sourav','kamboj']\n",
    "#continue\n",
    "for x in l2:\n",
    "    if x=='m':\n",
    "        continue\n",
    "    print(x,end=\" \")"
   ]
  },
  {
   "cell_type": "code",
   "execution_count": 15,
   "metadata": {},
   "outputs": [
    {
     "name": "stdout",
     "output_type": "stream",
     "text": [
      "hii i m "
     ]
    }
   ],
   "source": [
    "l2=['hii','i','m','sourav','kamboj']\n",
    "#break\n",
    "for x in l2:\n",
    "    if x=='sourav':\n",
    "        break\n",
    "    print(x,end=\" \")"
   ]
  },
  {
   "cell_type": "code",
   "execution_count": null,
   "metadata": {},
   "outputs": [],
   "source": []
  }
 ],
 "metadata": {
  "kernelspec": {
   "display_name": "Python 3",
   "language": "python",
   "name": "python3"
  },
  "language_info": {
   "codemirror_mode": {
    "name": "ipython",
    "version": 3
   },
   "file_extension": ".py",
   "mimetype": "text/x-python",
   "name": "python",
   "nbconvert_exporter": "python",
   "pygments_lexer": "ipython3",
   "version": "3.7.3"
  }
 },
 "nbformat": 4,
 "nbformat_minor": 2
}
