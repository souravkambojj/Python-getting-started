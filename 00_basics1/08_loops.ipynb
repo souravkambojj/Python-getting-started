{
  "nbformat": 4,
  "nbformat_minor": 0,
  "metadata": {
    "colab": {
      "provenance": [],
      "collapsed_sections": []
    },
    "kernelspec": {
      "name": "python3",
      "display_name": "Python 3"
    },
    "language_info": {
      "name": "python"
    }
  },
  "cells": [
    {
      "cell_type": "code",
      "execution_count": 1,
      "metadata": {
        "colab": {
          "base_uri": "https://localhost:8080/"
        },
        "id": "B6miR56rZMy7",
        "outputId": "b1adb8c2-1216-4e6c-da77-6336427bd9d0"
      },
      "outputs": [
        {
          "output_type": "stream",
          "name": "stdout",
          "text": [
            "3 2 1 "
          ]
        }
      ],
      "source": [
        "c=3\n",
        "while(c>0):\n",
        "    print(c,end=' ')\n",
        "    c-=1"
      ]
    },
    {
      "cell_type": "code",
      "source": [
        "#sum of the elements in a list\n",
        "l1=[2,2,34,5,6,77,8,9,9]\n",
        "s=0\n",
        "for i in l1:\n",
        "    s=s+i\n",
        "print(s)"
      ],
      "metadata": {
        "colab": {
          "base_uri": "https://localhost:8080/"
        },
        "id": "EohQWrSzZVJg",
        "outputId": "da518177-c08c-4bd7-f78c-03d9be00712f"
      },
      "execution_count": 2,
      "outputs": [
        {
          "output_type": "stream",
          "name": "stdout",
          "text": [
            "152\n"
          ]
        }
      ]
    },
    {
      "cell_type": "code",
      "source": [
        "#range(start_value,end_value,step_size)\n",
        "#default  start_value=0\n",
        "#default  step_size=1\n",
        "\n",
        "for i in range(10):\n",
        "    print(i,end=' ')\n",
        "print()\n",
        "\n",
        "for i in range(3,18):\n",
        "    print(i,end=' ')\n",
        "print()  \n",
        "\n",
        "for i in range(3,18,2):\n",
        "    print(i,end=' ')"
      ],
      "metadata": {
        "colab": {
          "base_uri": "https://localhost:8080/"
        },
        "id": "Bw31GO-YZY0u",
        "outputId": "5056b963-fb58-4d84-9aa0-7d29d7d1d83f"
      },
      "execution_count": 3,
      "outputs": [
        {
          "output_type": "stream",
          "name": "stdout",
          "text": [
            "0 1 2 3 4 5 6 7 8 9 \n",
            "3 4 5 6 7 8 9 10 11 12 13 14 15 16 17 \n",
            "3 5 7 9 11 13 15 17 "
          ]
        }
      ]
    },
    {
      "cell_type": "code",
      "source": [
        "#reversing the order\n",
        "for i in reversed(range(1,5)):\n",
        "  print(i,end = ' ')\n",
        "print()\n",
        "\n",
        "for i in range(4,0,-1):\n",
        "  print(i,end =' ')\n",
        "print()"
      ],
      "metadata": {
        "colab": {
          "base_uri": "https://localhost:8080/"
        },
        "id": "9jsIx6v6ZjVC",
        "outputId": "a0c26c62-be9d-4d13-dc7c-959fbe00b1e1"
      },
      "execution_count": 6,
      "outputs": [
        {
          "output_type": "stream",
          "name": "stdout",
          "text": [
            "4 3 2 1 \n",
            "4 3 2 1 \n"
          ]
        }
      ]
    },
    {
      "cell_type": "code",
      "source": [
        "l2=['hii','i','m','sourav','kamboj']"
      ],
      "metadata": {
        "id": "spEkXG5Aa28b"
      },
      "execution_count": 10,
      "outputs": []
    },
    {
      "cell_type": "code",
      "source": [
        "#iterating by index of sequences\n",
        "for i,x in  enumerate(l2):\n",
        "    print(i,x)"
      ],
      "metadata": {
        "colab": {
          "base_uri": "https://localhost:8080/"
        },
        "id": "T-am3IijZzr9",
        "outputId": "e2c4a664-40e2-44f9-855a-df97d425ac4c"
      },
      "execution_count": 11,
      "outputs": [
        {
          "output_type": "stream",
          "name": "stdout",
          "text": [
            "0 hii\n",
            "1 i\n",
            "2 m\n",
            "3 sourav\n",
            "4 kamboj\n"
          ]
        }
      ]
    },
    {
      "cell_type": "code",
      "source": [
        "#continue\n",
        "for x in l2:\n",
        "    if x=='m':\n",
        "        continue\n",
        "    print(x,end=\" \")"
      ],
      "metadata": {
        "colab": {
          "base_uri": "https://localhost:8080/"
        },
        "id": "fNJg134qanTn",
        "outputId": "d46aaf60-f2cf-485a-f7db-8ecc349746cc"
      },
      "execution_count": 12,
      "outputs": [
        {
          "output_type": "stream",
          "name": "stdout",
          "text": [
            "hii i sourav kamboj "
          ]
        }
      ]
    },
    {
      "cell_type": "code",
      "source": [
        "#break\n",
        "for x in l2:\n",
        "    if x=='sourav':\n",
        "        break\n",
        "    print(x,end=\" \")"
      ],
      "metadata": {
        "colab": {
          "base_uri": "https://localhost:8080/"
        },
        "id": "bCz0GkYBaqZ-",
        "outputId": "8a658938-9774-40bd-e566-f60b02e5e589"
      },
      "execution_count": 13,
      "outputs": [
        {
          "output_type": "stream",
          "name": "stdout",
          "text": [
            "hii i m "
          ]
        }
      ]
    },
    {
      "cell_type": "code",
      "source": [
        "#nested for loops\n",
        "\n",
        "for i in range(5):\n",
        "    for j in range(3):\n",
        "        print(i+j,end=' ')\n",
        "    print()"
      ],
      "metadata": {
        "colab": {
          "base_uri": "https://localhost:8080/"
        },
        "id": "_ymYWwrrajgn",
        "outputId": "0a316d6a-5bfe-4667-9d59-48c93da7f693"
      },
      "execution_count": 8,
      "outputs": [
        {
          "output_type": "stream",
          "name": "stdout",
          "text": [
            "0 1 2 \n",
            "1 2 3 \n",
            "2 3 4 \n",
            "3 4 5 \n",
            "4 5 6 \n"
          ]
        }
      ]
    }
  ]
}