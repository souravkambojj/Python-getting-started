{
  "nbformat": 4,
  "nbformat_minor": 0,
  "metadata": {
    "colab": {
      "name": "11_classes_nd_objects2.ipynb",
      "provenance": [],
      "collapsed_sections": []
    },
    "kernelspec": {
      "name": "python3",
      "display_name": "Python 3"
    },
    "language_info": {
      "name": "python"
    }
  },
  "cells": [
    {
      "cell_type": "markdown",
      "source": [
        "### **Class**"
      ],
      "metadata": {
        "id": "STUpXUvHOq9R"
      }
    },
    {
      "cell_type": "markdown",
      "source": [
        "# **Ex-1**"
      ],
      "metadata": {
        "id": "U1IGRnySO_H6"
      }
    },
    {
      "cell_type": "code",
      "source": [
        "class animal:\n",
        "  category = 'bird'\n",
        "\n",
        "  def __init__(self,n,a):\n",
        "    self.name = n\n",
        "    self.age = a\n",
        "  \n",
        "  def sing(self,song):\n",
        "    return '{} sings {}'.format(self.name,song)\n",
        "\n",
        "  def dance(self):\n",
        "    return '{} can dance'.format(self.name)"
      ],
      "metadata": {
        "id": "ieyjISlxNARk"
      },
      "execution_count": 1,
      "outputs": []
    },
    {
      "cell_type": "code",
      "source": [
        "obj1 = animal('blu',10)\n",
        "obj2 = animal('woo',8)"
      ],
      "metadata": {
        "id": "uh6_2wEzNvuh"
      },
      "execution_count": 2,
      "outputs": []
    },
    {
      "cell_type": "code",
      "source": [
        "#accessing methods\n",
        "print(obj1.sing('happy'))\n",
        "print(obj2.dance())"
      ],
      "metadata": {
        "colab": {
          "base_uri": "https://localhost:8080/"
        },
        "id": "kSdfTzsBNyYe",
        "outputId": "d50ebcb1-fdd4-4a27-b90a-3e0fe79c3ffb"
      },
      "execution_count": 3,
      "outputs": [
        {
          "output_type": "stream",
          "name": "stdout",
          "text": [
            "blu sings happy\n",
            "woo can dance\n"
          ]
        }
      ]
    },
    {
      "cell_type": "code",
      "source": [
        "#accessing instance attributes\n",
        "print('{} is {}yr old'.format(obj1.name,obj1.age))\n",
        "print('{} is {}yr old'.format(obj2.name,obj2.age))"
      ],
      "metadata": {
        "colab": {
          "base_uri": "https://localhost:8080/"
        },
        "id": "9p-jj8guN02P",
        "outputId": "b8d5ad04-5364-4daf-b6a0-ee9771787042"
      },
      "execution_count": 4,
      "outputs": [
        {
          "output_type": "stream",
          "name": "stdout",
          "text": [
            "blu is 10yr old\n",
            "woo is 8yr old\n"
          ]
        }
      ]
    },
    {
      "cell_type": "code",
      "source": [
        "#accessing class attributes\n",
        "print('{} is a {}'.format(obj1.name,obj1.__class__.category))\n",
        "print('{} is a {}'.format(obj2.name,obj2.__class__.category))"
      ],
      "metadata": {
        "colab": {
          "base_uri": "https://localhost:8080/"
        },
        "id": "u4PmE55mN3UO",
        "outputId": "ca62c016-6007-4f52-dce8-33f1a3801b73"
      },
      "execution_count": 5,
      "outputs": [
        {
          "output_type": "stream",
          "name": "stdout",
          "text": [
            "blu is a bird\n",
            "woo is a bird\n"
          ]
        }
      ]
    },
    {
      "cell_type": "markdown",
      "source": [
        "## **Ex-2**"
      ],
      "metadata": {
        "id": "G69lmxNrPMRX"
      }
    },
    {
      "cell_type": "code",
      "source": [
        "class MyClass:\n",
        "  def __init__(self,y):\n",
        "    self.y = y\n",
        "\n",
        "  def my_mtd(self,x):\n",
        "    return x +self.y\n",
        "  \n",
        "  def __call__(self,a):\n",
        "    return self.my_mtd(a)"
      ],
      "metadata": {
        "id": "nTBdImZtN5y-"
      },
      "execution_count": 6,
      "outputs": []
    },
    {
      "cell_type": "code",
      "source": [
        "obj3 = MyClass(7)"
      ],
      "metadata": {
        "id": "KNRVxywePYon"
      },
      "execution_count": 7,
      "outputs": []
    },
    {
      "cell_type": "code",
      "source": [
        "print(obj3(4))"
      ],
      "metadata": {
        "colab": {
          "base_uri": "https://localhost:8080/"
        },
        "id": "KhDtPZy7QBrZ",
        "outputId": "8974da4f-7c28-4148-9aa4-cd1817ff4ea5"
      },
      "execution_count": 8,
      "outputs": [
        {
          "output_type": "stream",
          "name": "stdout",
          "text": [
            "11\n"
          ]
        }
      ]
    },
    {
      "cell_type": "code",
      "source": [
        "obj3.my_mtd(5)"
      ],
      "metadata": {
        "colab": {
          "base_uri": "https://localhost:8080/"
        },
        "id": "BlR5MKwEQmwQ",
        "outputId": "323f9aa8-3762-4195-884f-e2c8c3ba8fc8"
      },
      "execution_count": 9,
      "outputs": [
        {
          "output_type": "execute_result",
          "data": {
            "text/plain": [
              "12"
            ]
          },
          "metadata": {},
          "execution_count": 9
        }
      ]
    },
    {
      "cell_type": "markdown",
      "source": [
        "### **Inheritance**"
      ],
      "metadata": {
        "id": "kQorN10yQTy1"
      }
    },
    {
      "cell_type": "markdown",
      "source": [
        "**Ex-1**"
      ],
      "metadata": {
        "id": "r0JA06MTQXf9"
      }
    },
    {
      "cell_type": "code",
      "source": [
        "class MyClass:\n",
        "  def __init__(self,y):\n",
        "    self.y = y\n",
        "\n",
        "  def my_mtd(self,x):\n",
        "    return x +self.y\n",
        "  \n",
        "  def __call__(self,a):\n",
        "    return self.my_mtd(a)"
      ],
      "metadata": {
        "id": "757XfEokQGPn"
      },
      "execution_count": 10,
      "outputs": []
    },
    {
      "cell_type": "code",
      "source": [
        "class SubClass(MyClass):\n",
        "\n",
        "  def my_mtd(self,x):                #this will override the my_mtd\n",
        "    return x + self.y**2             #since, there is no __init__ and __call__ functions in child class\n",
        "                                     #so they will be inherited as it is from the parent class\n",
        "                                     #this class contains 3 functions\n",
        "                                     # my_mtd of child class\n",
        "                                     # __init__ nd __call__ mts of parent class"
      ],
      "metadata": {
        "id": "T6ZlFHjoQ_UV"
      },
      "execution_count": 11,
      "outputs": []
    },
    {
      "cell_type": "code",
      "source": [
        "obj4 = SubClass(7)          #this will initialize the __init__ func in SubClass"
      ],
      "metadata": {
        "id": "y-rt9bZ5RftD"
      },
      "execution_count": 12,
      "outputs": []
    },
    {
      "cell_type": "code",
      "source": [
        "obj4(3)                     #this will call the __call__ func in SubClass"
      ],
      "metadata": {
        "colab": {
          "base_uri": "https://localhost:8080/"
        },
        "id": "0P1u90Y1SHLi",
        "outputId": "fe2dd8f2-600b-49ab-950d-4270416489af"
      },
      "execution_count": 13,
      "outputs": [
        {
          "output_type": "execute_result",
          "data": {
            "text/plain": [
              "52"
            ]
          },
          "metadata": {},
          "execution_count": 13
        }
      ]
    },
    {
      "cell_type": "markdown",
      "source": [
        "**Ex-2**"
      ],
      "metadata": {
        "id": "VqsfRlpGSln0"
      }
    },
    {
      "cell_type": "code",
      "source": [
        "class bird:\n",
        "\n",
        "  def __init__(self):\n",
        "    print('hii bird is ready')\n",
        "\n",
        "  def who_is_this(self):\n",
        "    print('hii i m a bird')\n",
        "\n",
        "  def swim(self):\n",
        "    print('bird can swim faster')\n",
        "\n",
        "\n",
        "class animal(bird):\n",
        "\n",
        "  def __init__(self,n1):\n",
        "    self.name1 = n1\n",
        "    print('hii animal is ready')\n",
        "\n",
        "  def who_is_this(self):\n",
        "    print('hii i m {}'.format(self.name1))\n",
        "\n",
        "  def run(self):\n",
        "    print('{} can run faster'.format(self.name1))\n",
        "\n",
        "\n",
        "    \n",
        "class animal_super(bird):\n",
        "\n",
        "  def __init__(self,n2):\n",
        "    super().__init__() #super function for calling the __init__ mtd of parent class\n",
        "    self.name2 = n2\n",
        "    print('hii super animal is ready')\n",
        "\n",
        "  def who_is_this(self):\n",
        "    print('hii i m {}'.format(self.name2))\n",
        "\n",
        "  def run(self):\n",
        "    print('{} can run faster'.format(self.name2))\n",
        "    "
      ],
      "metadata": {
        "id": "AVCp_TpVSXWx"
      },
      "execution_count": 14,
      "outputs": []
    },
    {
      "cell_type": "code",
      "source": [
        "obj1 = animal('penguin')"
      ],
      "metadata": {
        "colab": {
          "base_uri": "https://localhost:8080/"
        },
        "id": "1S4FgHR_SuOQ",
        "outputId": "14110ee4-e89d-4b88-a0c9-562e8f6aaa69"
      },
      "execution_count": 15,
      "outputs": [
        {
          "output_type": "stream",
          "name": "stdout",
          "text": [
            "hii animal is ready\n"
          ]
        }
      ]
    },
    {
      "cell_type": "code",
      "source": [
        "obj2 = animal_super('penguin')"
      ],
      "metadata": {
        "colab": {
          "base_uri": "https://localhost:8080/"
        },
        "id": "OKZHvehLSwfh",
        "outputId": "1e900f0d-3a9b-485e-fda5-e70d4a918ed4"
      },
      "execution_count": 16,
      "outputs": [
        {
          "output_type": "stream",
          "name": "stdout",
          "text": [
            "hii bird is ready\n",
            "hii super animal is ready\n"
          ]
        }
      ]
    },
    {
      "cell_type": "code",
      "source": [
        "obj2.who_is_this()"
      ],
      "metadata": {
        "colab": {
          "base_uri": "https://localhost:8080/"
        },
        "id": "BSXUjhWOSykg",
        "outputId": "f33897b1-9806-4fcd-d123-094a1ca1a363"
      },
      "execution_count": 17,
      "outputs": [
        {
          "output_type": "stream",
          "name": "stdout",
          "text": [
            "hii i m penguin\n"
          ]
        }
      ]
    },
    {
      "cell_type": "code",
      "source": [
        "obj2.swim()"
      ],
      "metadata": {
        "colab": {
          "base_uri": "https://localhost:8080/"
        },
        "id": "_TBDp-ufS0nx",
        "outputId": "511cc3de-07f3-4a2f-84bf-f09edb571add"
      },
      "execution_count": 18,
      "outputs": [
        {
          "output_type": "stream",
          "name": "stdout",
          "text": [
            "bird can swim faster\n"
          ]
        }
      ]
    },
    {
      "cell_type": "code",
      "source": [
        "obj2.run()"
      ],
      "metadata": {
        "colab": {
          "base_uri": "https://localhost:8080/"
        },
        "id": "cOwYlSDvS2fQ",
        "outputId": "90219236-4817-4277-bad0-b71c31de9a4d"
      },
      "execution_count": 19,
      "outputs": [
        {
          "output_type": "stream",
          "name": "stdout",
          "text": [
            "penguin can run faster\n"
          ]
        }
      ]
    },
    {
      "cell_type": "markdown",
      "source": [
        "**Ex-3 (default argument in parent class)**"
      ],
      "metadata": {
        "id": "FjPIGsT9S7qx"
      }
    },
    {
      "cell_type": "code",
      "source": [
        "class bird:\n",
        "\n",
        "  def __init__(self,n = 'falcon'):\n",
        "    self.name = n\n",
        "    print('hii {} is ready'.format(self.name))\n",
        "\n",
        "  def who_is_this(self):\n",
        "    print('hii i m a {}'.format(self.name))\n",
        "\n",
        "  def swim(self):\n",
        "    print('{} can swim faster'.format(self.name))\n",
        "\n",
        "\n",
        "class animal(bird):\n",
        "\n",
        "  def __init__(self,n1):\n",
        "    self.name1 = n1\n",
        "    print('hii animal is ready')\n",
        "\n",
        "  def who_is_this(self):\n",
        "    print('hii i m {}'.format(self.name1))\n",
        "\n",
        "  def run(self):\n",
        "    print('{} can run faster'.format(self.name1))\n",
        "\n",
        "\n",
        "    \n",
        "class animal_super(bird):\n",
        "\n",
        "  def __init__(self,n2):\n",
        "    super().__init__() #super function for calling the __init__ mtd of parent class\n",
        "    self.name2 = n2\n",
        "    print('hii super animal is ready')\n",
        "\n",
        "  def who_is_this(self):\n",
        "    print('hii i m {}'.format(self.name2))\n",
        "\n",
        "  def run(self):\n",
        "    print('{} can run faster'.format(self.name2))\n",
        "    "
      ],
      "metadata": {
        "id": "QqIdgJ3hS4PF"
      },
      "execution_count": 20,
      "outputs": []
    },
    {
      "cell_type": "code",
      "source": [
        "obj3 = animal('dog')     #this wouldn't call the __init__ mtd in parent class"
      ],
      "metadata": {
        "colab": {
          "base_uri": "https://localhost:8080/"
        },
        "id": "pRnmZSc9WS5b",
        "outputId": "0aed033a-08e4-48ff-f105-d68589792f5c"
      },
      "execution_count": 21,
      "outputs": [
        {
          "output_type": "stream",
          "name": "stdout",
          "text": [
            "hii animal is ready\n"
          ]
        }
      ]
    },
    {
      "cell_type": "code",
      "source": [
        "obj3.name               "
      ],
      "metadata": {
        "colab": {
          "base_uri": "https://localhost:8080/",
          "height": 165
        },
        "id": "zzU4qGsHWegc",
        "outputId": "11aa0fb0-664e-4bc5-f06b-0764d165771b"
      },
      "execution_count": 22,
      "outputs": [
        {
          "output_type": "error",
          "ename": "AttributeError",
          "evalue": "ignored",
          "traceback": [
            "\u001b[0;31m---------------------------------------------------------------------------\u001b[0m",
            "\u001b[0;31mAttributeError\u001b[0m                            Traceback (most recent call last)",
            "\u001b[0;32m<ipython-input-22-ac07033c19ec>\u001b[0m in \u001b[0;36m<module>\u001b[0;34m()\u001b[0m\n\u001b[0;32m----> 1\u001b[0;31m \u001b[0mobj3\u001b[0m\u001b[0;34m.\u001b[0m\u001b[0mname\u001b[0m\u001b[0;34m\u001b[0m\u001b[0;34m\u001b[0m\u001b[0m\n\u001b[0m",
            "\u001b[0;31mAttributeError\u001b[0m: 'animal' object has no attribute 'name'"
          ]
        }
      ]
    },
    {
      "cell_type": "code",
      "source": [
        "obj4 = animal_super('dog')"
      ],
      "metadata": {
        "colab": {
          "base_uri": "https://localhost:8080/"
        },
        "id": "WnvR-xTPTD9V",
        "outputId": "6f0af717-40ef-4eb6-918a-6cf44bfa50c7"
      },
      "execution_count": 23,
      "outputs": [
        {
          "output_type": "stream",
          "name": "stdout",
          "text": [
            "hii falcon is ready\n",
            "hii super animal is ready\n"
          ]
        }
      ]
    },
    {
      "cell_type": "code",
      "source": [
        "obj4.name"
      ],
      "metadata": {
        "colab": {
          "base_uri": "https://localhost:8080/",
          "height": 35
        },
        "id": "mO1PP-QFWnGW",
        "outputId": "59bf478c-27dd-49ed-ab75-8b633d16938e"
      },
      "execution_count": 24,
      "outputs": [
        {
          "output_type": "execute_result",
          "data": {
            "application/vnd.google.colaboratory.intrinsic+json": {
              "type": "string"
            },
            "text/plain": [
              "'falcon'"
            ]
          },
          "metadata": {},
          "execution_count": 24
        }
      ]
    },
{
      "cell_type": "code",
      "source": [
        "obj4.swim()"
      ],
      "metadata": {
        "colab": {
          "base_uri": "https://localhost:8080/"
        },
        "id": "YbLfEJVdTYRe",
        "outputId": "dd51fade-9698-4a39-fdee-5a13a21fcb9e"
      },
      "execution_count": 34,
      "outputs": [
        {
          "output_type": "stream",
          "name": "stdout",
          "text": [
            "falcon can swim faster\n"
          ]
        }
      ]
    },
    {
      "cell_type": "markdown",
      "source": [
        "**Ex-4 (Passing arg in parent class)**"
      ],
      "metadata": {
        "id": "C31e5FCQTHid"
      }
    },
    {
      "cell_type": "code",
      "source": [
        "class bird:\n",
        "\n",
        "  def __init__(self,n):\n",
        "    self.name = n\n",
        "    print('hii bird is ready')\n",
        "\n",
        "  def who_is_this(self):\n",
        "    print('hii i m a {}'.format(self.name))\n",
        "\n",
        "  def swim(self):\n",
        "    print('{} can swim faster'.format(self.name))\n",
        "\n",
        "\n",
        "class animal(bird):\n",
        "\n",
        "  def __init__(self,n1):\n",
        "    self.name1 = n1\n",
        "    print('hii animal is ready')\n",
        "\n",
        "  def who_is_this(self):\n",
        "    print('hii i m {}'.format(self.name1))\n",
        "\n",
        "  def run(self):\n",
        "    print('{} can run faster'.format(self.name1))\n",
        "\n",
        "\n",
        "    \n",
        "class animal_super(bird):\n",
        "\n",
        "  def __init__(self,n2,n):\n",
        "    super().__init__(n) #super function for calling the __init__ mtd of parent class\n",
        "    self.name2 = n2\n",
        "    print('hii super animal is ready')\n",
        "\n",
        "  def who_is_this(self):\n",
        "    print('hii i m {}'.format(self.name2))\n",
        "\n",
        "  def run(self):\n",
        "    print('{} can run faster'.format(self.name2))"
      ],
      "metadata": {
        "id": "y8SqZRvsTGW1"
      },
      "execution_count": 25,
      "outputs": []
    },
    {
      "cell_type": "code",
      "source": [
        "obj5 = animal('dog')"
      ],
      "metadata": {
        "colab": {
          "base_uri": "https://localhost:8080/"
        },
        "id": "fgKMX-j-TQHk",
        "outputId": "e74258fb-57eb-416c-9961-accde19bc7da"
      },
      "execution_count": 27,
      "outputs": [
        {
          "output_type": "stream",
          "name": "stdout",
          "text": [
            "hii animal is ready\n"
          ]
        }
      ]
    },
    {
      "cell_type": "code",
      "source": [
        "obj5.who_is_this()"
      ],
      "metadata": {
        "colab": {
          "base_uri": "https://localhost:8080/"
        },
        "id": "0F6msjhWTSFE",
        "outputId": "e54ffc51-cb72-4697-f983-826b4efce7b0"
      },
      "execution_count": 28,
      "outputs": [
        {
          "output_type": "stream",
          "name": "stdout",
          "text": [
            "hii i m dog\n"
          ]
        }
      ]
    },
    {
      "cell_type": "code",
      "source": [
        "obj5.name"
      ],
      "metadata": {
        "colab": {
          "base_uri": "https://localhost:8080/",
          "height": 165
        },
        "id": "w-oS9068YD5J",
        "outputId": "654abb22-9604-43b9-f41a-d3c9eab61027"
      },
      "execution_count": 29,
      "outputs": [
        {
          "output_type": "error",
          "ename": "AttributeError",
          "evalue": "ignored",
          "traceback": [
            "\u001b[0;31m---------------------------------------------------------------------------\u001b[0m",
            "\u001b[0;31mAttributeError\u001b[0m                            Traceback (most recent call last)",
            "\u001b[0;32m<ipython-input-29-848626d63dad>\u001b[0m in \u001b[0;36m<module>\u001b[0;34m()\u001b[0m\n\u001b[0;32m----> 1\u001b[0;31m \u001b[0mobj5\u001b[0m\u001b[0;34m.\u001b[0m\u001b[0mname\u001b[0m\u001b[0;34m\u001b[0m\u001b[0;34m\u001b[0m\u001b[0m\n\u001b[0m",
            "\u001b[0;31mAttributeError\u001b[0m: 'animal' object has no attribute 'name'"
          ]
        }
      ]
    },
    {
      "cell_type": "code",
      "source": [
        "obj5.swim()"
      ],
      "metadata": {
        "colab": {
          "base_uri": "https://localhost:8080/",
          "height": 287
        },
        "id": "hhjP_sy4YNWB",
        "outputId": "517ec76e-2599-47a0-a9f6-193957a0a335"
      },
      "execution_count": 30,
      "outputs": [
        {
          "output_type": "error",
          "ename": "AttributeError",
          "evalue": "ignored",
          "traceback": [
            "\u001b[0;31m---------------------------------------------------------------------------\u001b[0m",
            "\u001b[0;31mAttributeError\u001b[0m                            Traceback (most recent call last)",
            "\u001b[0;32m<ipython-input-30-0bee647b6559>\u001b[0m in \u001b[0;36m<module>\u001b[0;34m()\u001b[0m\n\u001b[0;32m----> 1\u001b[0;31m \u001b[0mobj5\u001b[0m\u001b[0;34m.\u001b[0m\u001b[0mswim\u001b[0m\u001b[0;34m(\u001b[0m\u001b[0;34m)\u001b[0m\u001b[0;34m\u001b[0m\u001b[0;34m\u001b[0m\u001b[0m\n\u001b[0m",
            "\u001b[0;32m<ipython-input-25-2af075f5ceb8>\u001b[0m in \u001b[0;36mswim\u001b[0;34m(self)\u001b[0m\n\u001b[1;32m      9\u001b[0m \u001b[0;34m\u001b[0m\u001b[0m\n\u001b[1;32m     10\u001b[0m   \u001b[0;32mdef\u001b[0m \u001b[0mswim\u001b[0m\u001b[0;34m(\u001b[0m\u001b[0mself\u001b[0m\u001b[0;34m)\u001b[0m\u001b[0;34m:\u001b[0m\u001b[0;34m\u001b[0m\u001b[0;34m\u001b[0m\u001b[0m\n\u001b[0;32m---> 11\u001b[0;31m     \u001b[0mprint\u001b[0m\u001b[0;34m(\u001b[0m\u001b[0;34m'{} can swim faster'\u001b[0m\u001b[0;34m.\u001b[0m\u001b[0mformat\u001b[0m\u001b[0;34m(\u001b[0m\u001b[0mself\u001b[0m\u001b[0;34m.\u001b[0m\u001b[0mname\u001b[0m\u001b[0;34m)\u001b[0m\u001b[0;34m)\u001b[0m\u001b[0;34m\u001b[0m\u001b[0;34m\u001b[0m\u001b[0m\n\u001b[0m\u001b[1;32m     12\u001b[0m \u001b[0;34m\u001b[0m\u001b[0m\n\u001b[1;32m     13\u001b[0m \u001b[0;34m\u001b[0m\u001b[0m\n",
            "\u001b[0;31mAttributeError\u001b[0m: 'animal' object has no attribute 'name'"
          ]
        }
      ]
    },
    {
      "cell_type": "code",
      "source": [
        "obj5.run()"
      ],
      "metadata": {
        "colab": {
          "base_uri": "https://localhost:8080/"
        },
        "id": "K4VEVi5tYQWs",
        "outputId": "2f524871-fc70-4bab-e373-be055cc28eca"
      },
      "execution_count": 31,
      "outputs": [
        {
          "output_type": "stream",
          "name": "stdout",
          "text": [
            "dog can run faster\n"
          ]
        }
      ]
    },
    {
      "cell_type": "code",
      "source": [
        "obj6 = animal_super('horse','pigeon')"
      ],
      "metadata": {
        "colab": {
          "base_uri": "https://localhost:8080/"
        },
        "id": "a90N415QTT-u",
        "outputId": "89ef3119-3eb5-4b72-84ac-8a9409a25444"
      },
      "execution_count": 32,
      "outputs": [
        {
          "output_type": "stream",
          "name": "stdout",
          "text": [
            "hii bird is ready\n",
            "hii super animal is ready\n"
          ]
        }
      ]
    },
    {
      "cell_type": "code",
      "source": [
        "obj6.who_is_this()"
      ],
      "metadata": {
        "colab": {
          "base_uri": "https://localhost:8080/"
        },
        "id": "T9Tn437rTWDd",
        "outputId": "d926b0d2-7982-4a91-bc31-d73973326ee9"
      },
      "execution_count": 33,
      "outputs": [
        {
          "output_type": "stream",
          "name": "stdout",
          "text": [
            "hii i m horse\n"
          ]
        }
      ]
    },
    {
      "cell_type": "code",
      "source": [
        "obj6.swim()"
      ],
      "metadata": {
        "colab": {
          "base_uri": "https://localhost:8080/"
        },
        "id": "YbLfEJVdTYRe",
        "outputId": "dd51fade-9698-4a39-fdee-5a13a21fcb9e"
      },
      "execution_count": 34,
      "outputs": [
        {
          "output_type": "stream",
          "name": "stdout",
          "text": [
            "pigeon can swim faster\n"
          ]
        }
      ]
    },
    {
      "cell_type": "code",
      "source": [
        "obj6.run()"
      ],
      "metadata": {
        "colab": {
          "base_uri": "https://localhost:8080/"
        },
        "id": "deczxeeOTajd",
        "outputId": "066669be-c339-48d3-a7ea-25d2177a9c9a"
      },
      "execution_count": 36,
      "outputs": [
        {
          "output_type": "stream",
          "name": "stdout",
          "text": [
            "horse can run faster\n"
          ]
        }
      ]
    },
    {
      "cell_type": "code",
      "source": [
        "print(obj6.name,  obj6.name2)"
      ],
      "metadata": {
        "colab": {
          "base_uri": "https://localhost:8080/"
        },
        "id": "uedM6PcITdMN",
        "outputId": "163c3412-661a-4a0d-ca31-307299ca25c4"
      },
      "execution_count": 37,
      "outputs": [
        {
          "output_type": "stream",
          "name": "stdout",
          "text": [
            "pigeon horse\n"
          ]
        }
      ]
    },
    {
      "cell_type": "code",
      "source": [
        ""
      ],
      "metadata": {
        "id": "QpoU4TK7TfHt"
      },
      "execution_count": null,
      "outputs": []
    }
  ]
}
