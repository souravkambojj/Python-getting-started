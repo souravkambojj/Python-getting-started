{
  "nbformat": 4,
  "nbformat_minor": 0,
  "metadata": {
    "colab": {
      "name": "11_classes_nd_objects.ipynb",
      "provenance": [],
      "collapsed_sections": []
    },
    "kernelspec": {
      "name": "python3",
      "display_name": "Python 3"
    }
  },
  "cells": [
    {
      "cell_type": "code",
      "metadata": {
        "id": "dN6eccIUabjl"
      },
      "source": [
        "class animal:\r\n",
        "  category = 'bird'\r\n",
        "\r\n",
        "  def __init__(self,n,a):\r\n",
        "    self.name = n\r\n",
        "    self.age = a\r\n",
        "  \r\n",
        "  def sing(self,song):\r\n",
        "    return '{} sings {}'.format(self.name,song)\r\n",
        "\r\n",
        "  def dance(self):\r\n",
        "    return '{} can dance'.format(self.name)"
      ],
      "execution_count": 1,
      "outputs": []
    },
    {
      "cell_type": "code",
      "metadata": {
        "id": "bO7--c7IdlEs"
      },
      "source": [
        "obj1 = animal('blu',10)\r\n",
        "obj2 = animal('woo',8)"
      ],
      "execution_count": 2,
      "outputs": []
    },
    {
      "cell_type": "code",
      "metadata": {
        "colab": {
          "base_uri": "https://localhost:8080/"
        },
        "id": "UA3JiOS7dtjl",
        "outputId": "3105ba8d-8b4d-4c03-b2d6-792a6a500d3d"
      },
      "source": [
        "#accessing methods\r\n",
        "print(obj1.sing('happy'))\r\n",
        "print(obj2.dance())"
      ],
      "execution_count": 3,
      "outputs": [
        {
          "output_type": "stream",
          "text": [
            "blu sings happy\n",
            "woo can dance\n"
          ],
          "name": "stdout"
        }
      ]
    },
    {
      "cell_type": "code",
      "metadata": {
        "colab": {
          "base_uri": "https://localhost:8080/"
        },
        "id": "SjM92avAeGMd",
        "outputId": "476157b0-ea91-4bc1-f7a5-2340c20d0577"
      },
      "source": [
        "#accessing instance attributes\r\n",
        "print('{} is {}yr old'.format(obj1.name,obj1.age))\r\n",
        "print('{} is {}yr old'.format(obj2.name,obj2.age))"
      ],
      "execution_count": 4,
      "outputs": [
        {
          "output_type": "stream",
          "text": [
            "blu is 10yr old\n",
            "woo is 8yr old\n"
          ],
          "name": "stdout"
        }
      ]
    },
    {
      "cell_type": "code",
      "metadata": {
        "colab": {
          "base_uri": "https://localhost:8080/"
        },
        "id": "DKi6uiHjedJw",
        "outputId": "ee16fb98-257d-457b-f6cb-be3145e556d9"
      },
      "source": [
        "#accessing class attributes\r\n",
        "print('{} is a {}'.format(obj1.name,obj1.__class__.category))\r\n",
        "print('{} is a {}'.format(obj2.name,obj2.__class__.category))"
      ],
      "execution_count": 8,
      "outputs": [
        {
          "output_type": "stream",
          "text": [
            "blu is a bird\n",
            "woo is a bird\n"
          ],
          "name": "stdout"
        }
      ]
    },
    {
      "cell_type": "markdown",
      "metadata": {
        "id": "qLBPHlwwfE_l"
      },
      "source": [
        "### **Inheritance**"
      ]
    },
    {
      "cell_type": "markdown",
      "metadata": {
        "id": "RSpBM2mkp3IO"
      },
      "source": [
        "## **Ex-1**"
      ]
    },
    {
      "cell_type": "code",
      "metadata": {
        "id": "Mfs1s-g-p8o-"
      },
      "source": [
        "class bird:\r\n",
        "\r\n",
        "  def __init__(self):\r\n",
        "    print('hii bird is ready')\r\n",
        "\r\n",
        "  def who_is_this(self):\r\n",
        "    print('hii i m a bird')\r\n",
        "\r\n",
        "  def swim(self):\r\n",
        "    print('bird can swim faster')\r\n",
        "\r\n",
        "\r\n",
        "class animal(bird):\r\n",
        "\r\n",
        "  def __init__(self,n1):\r\n",
        "    self.name1 = n1\r\n",
        "    print('hii animal is ready')\r\n",
        "\r\n",
        "  def who_is_this(self):\r\n",
        "    print('hii i m {}'.format(self.name1))\r\n",
        "\r\n",
        "  def run(self):\r\n",
        "    print('{} can run faster'.format(self.name1))\r\n",
        "\r\n",
        "\r\n",
        "    \r\n",
        "class animal_super(bird):\r\n",
        "\r\n",
        "  def __init__(self,n2):\r\n",
        "    super().__init__() #super function for calling the __init__ mtd of parent class\r\n",
        "    self.name2 = n2\r\n",
        "    print('hii super animal is ready')\r\n",
        "\r\n",
        "  def who_is_this(self):\r\n",
        "    print('hii i m {}'.format(self.name2))\r\n",
        "\r\n",
        "  def run(self):\r\n",
        "    print('{} can run faster'.format(self.name2))\r\n",
        "    \r\n"
      ],
      "execution_count": 20,
      "outputs": []
    },
    {
      "cell_type": "code",
      "metadata": {
        "colab": {
          "base_uri": "https://localhost:8080/"
        },
        "id": "VAetLHvRqJ_C",
        "outputId": "ddf46f1c-6f4b-4ce1-d976-24e2d9a98d5a"
      },
      "source": [
        "obj1 = animal('penguin')"
      ],
      "execution_count": 21,
      "outputs": [
        {
          "output_type": "stream",
          "text": [
            "hii animal is ready\n"
          ],
          "name": "stdout"
        }
      ]
    },
    {
      "cell_type": "code",
      "metadata": {
        "colab": {
          "base_uri": "https://localhost:8080/"
        },
        "id": "vXCcgwuXqKXp",
        "outputId": "274ed40e-1677-40a7-c2d2-50cd027f0b69"
      },
      "source": [
        "obj2 = animal_super('penguin')"
      ],
      "execution_count": 22,
      "outputs": [
        {
          "output_type": "stream",
          "text": [
            "hii bird is ready\n",
            "hii super animal is ready\n"
          ],
          "name": "stdout"
        }
      ]
    },
    {
      "cell_type": "code",
      "metadata": {
        "colab": {
          "base_uri": "https://localhost:8080/"
        },
        "id": "v28Av9DyqWqt",
        "outputId": "494400d0-391b-4853-e2b0-0e142a369c63"
      },
      "source": [
        "obj2.who_is_this()"
      ],
      "execution_count": 23,
      "outputs": [
        {
          "output_type": "stream",
          "text": [
            "hii i m penguin\n"
          ],
          "name": "stdout"
        }
      ]
    },
    {
      "cell_type": "code",
      "metadata": {
        "colab": {
          "base_uri": "https://localhost:8080/"
        },
        "id": "yfmNycEQqWuG",
        "outputId": "04b54a77-bb61-4f8c-b2ab-34eb5cb77e9e"
      },
      "source": [
        "obj2.swim()"
      ],
      "execution_count": 24,
      "outputs": [
        {
          "output_type": "stream",
          "text": [
            "bird can swim faster\n"
          ],
          "name": "stdout"
        }
      ]
    },
    {
      "cell_type": "code",
      "metadata": {
        "colab": {
          "base_uri": "https://localhost:8080/"
        },
        "id": "6z691KjHqcgN",
        "outputId": "da21e346-efee-4f5d-e7d2-9f1752fdef85"
      },
      "source": [
        "obj2.run()"
      ],
      "execution_count": 25,
      "outputs": [
        {
          "output_type": "stream",
          "text": [
            "penguin can run faster\n"
          ],
          "name": "stdout"
        }
      ]
    },
    {
      "cell_type": "markdown",
      "metadata": {
        "id": "aW1sr3UpocdX"
      },
      "source": [
        "## **Ex-2 (default argument in parent class)**"
      ]
    },
    {
      "cell_type": "code",
      "metadata": {
        "id": "MJ_reRVipW2T"
      },
      "source": [
        "class bird:\r\n",
        "\r\n",
        "  def __init__(self,n = 'falcon'):\r\n",
        "    self.name = n\r\n",
        "    print('hii {} is ready'.format(self.name))\r\n",
        "\r\n",
        "  def who_is_this(self):\r\n",
        "    print('hii i m a {}'.format(self.name))\r\n",
        "\r\n",
        "  def swim(self):\r\n",
        "    print('{} can swim faster'.format(self.name))\r\n",
        "\r\n",
        "\r\n",
        "class animal(bird):\r\n",
        "\r\n",
        "  def __init__(self,n1):\r\n",
        "    self.name1 = n1\r\n",
        "    print('hii animal is ready')\r\n",
        "\r\n",
        "  def who_is_this(self):\r\n",
        "    print('hii i m {}'.format(self.name1))\r\n",
        "\r\n",
        "  def run(self):\r\n",
        "    print('{} can run faster'.format(self.name1))\r\n",
        "\r\n",
        "\r\n",
        "    \r\n",
        "class animal_super(bird):\r\n",
        "\r\n",
        "  def __init__(self,n2):\r\n",
        "    super().__init__() #super function for calling the __init__ mtd of parent class\r\n",
        "    self.name2 = n2\r\n",
        "    print('hii super animal is ready')\r\n",
        "\r\n",
        "  def who_is_this(self):\r\n",
        "    print('hii i m {}'.format(self.name2))\r\n",
        "\r\n",
        "  def run(self):\r\n",
        "    print('{} can run faster'.format(self.name2))\r\n",
        "    \r\n"
      ],
      "execution_count": 18,
      "outputs": []
    },
    {
      "cell_type": "code",
      "metadata": {
        "colab": {
          "base_uri": "https://localhost:8080/"
        },
        "id": "lQHC5JivptTx",
        "outputId": "d5c4a6f5-84e3-41bc-a64c-385997cbe808"
      },
      "source": [
        "obj = animal_super('dog')"
      ],
      "execution_count": 19,
      "outputs": [
        {
          "output_type": "stream",
          "text": [
            "hii falcon is ready\n",
            "hii super animal is ready\n"
          ],
          "name": "stdout"
        }
      ]
    },
    {
      "cell_type": "markdown",
      "metadata": {
        "id": "YHgFTfi-fI64"
      },
      "source": [
        "## **Ex-3 (Passing arg in parent class)**"
      ]
    },
    {
      "cell_type": "code",
      "metadata": {
        "id": "fJn7tFwLegs1"
      },
      "source": [
        "class bird:\r\n",
        "\r\n",
        "  def __init__(self,n):\r\n",
        "    self.name = n\r\n",
        "    print('hii bird is ready')\r\n",
        "\r\n",
        "  def who_is_this(self):\r\n",
        "    print('hii i m a {}'.format(self.name))\r\n",
        "\r\n",
        "  def swim(self):\r\n",
        "    print('{} can swim faster'.format(self.name))\r\n",
        "\r\n",
        "\r\n",
        "class animal(bird):\r\n",
        "\r\n",
        "  def __init__(self,n1):\r\n",
        "    self.name1 = n1\r\n",
        "    print('hii animal is ready')\r\n",
        "\r\n",
        "  def who_is_this(self):\r\n",
        "    print('hii i m {}'.format(self.name1))\r\n",
        "\r\n",
        "  def run(self):\r\n",
        "    print('{} can run faster'.format(self.name1))\r\n",
        "\r\n",
        "\r\n",
        "    \r\n",
        "class animal_super(bird):\r\n",
        "\r\n",
        "  def __init__(self,n2,n):\r\n",
        "    super().__init__(n) #super function for calling the __init__ mtd of parent class\r\n",
        "    self.name2 = n2\r\n",
        "    print('hii super animal is ready')\r\n",
        "\r\n",
        "  def who_is_this(self):\r\n",
        "    print('hii i m {}'.format(self.name2))\r\n",
        "\r\n",
        "  def run(self):\r\n",
        "    print('{} can run faster'.format(self.name2))\r\n",
        "    \r\n"
      ],
      "execution_count": 10,
      "outputs": []
    },
    {
      "cell_type": "code",
      "metadata": {
        "colab": {
          "base_uri": "https://localhost:8080/"
        },
        "id": "56IzQnqomKV4",
        "outputId": "324b026a-e229-429c-e43d-076ee77590cf"
      },
      "source": [
        "obj1 = animal('dog')"
      ],
      "execution_count": 11,
      "outputs": [
        {
          "output_type": "stream",
          "text": [
            "hii animal is ready\n"
          ],
          "name": "stdout"
        }
      ]
    },
    {
      "cell_type": "code",
      "metadata": {
        "colab": {
          "base_uri": "https://localhost:8080/"
        },
        "id": "RqAmPnWcnRG5",
        "outputId": "24cd8a06-18e1-490f-e48d-a096cd34cc47"
      },
      "source": [
        "obj1.who_is_this()"
      ],
      "execution_count": 12,
      "outputs": [
        {
          "output_type": "stream",
          "text": [
            "hii i m dog\n"
          ],
          "name": "stdout"
        }
      ]
    },
    {
      "cell_type": "code",
      "metadata": {
        "colab": {
          "base_uri": "https://localhost:8080/"
        },
        "id": "k4AUyjpenfG2",
        "outputId": "beddfd7b-9d07-40e7-cd33-ab31ba72cb8a"
      },
      "source": [
        "obj2 = animal_super('horse','pigeon')"
      ],
      "execution_count": 13,
      "outputs": [
        {
          "output_type": "stream",
          "text": [
            "hii bird is ready\n",
            "hii super animal is ready\n"
          ],
          "name": "stdout"
        }
      ]
    },
    {
      "cell_type": "code",
      "metadata": {
        "colab": {
          "base_uri": "https://localhost:8080/"
        },
        "id": "of-IEchin735",
        "outputId": "bdd12262-1ef5-4716-fc60-5ca4a6501f93"
      },
      "source": [
        "obj2.who_is_this()"
      ],
      "execution_count": 14,
      "outputs": [
        {
          "output_type": "stream",
          "text": [
            "hii i m horse\n"
          ],
          "name": "stdout"
        }
      ]
    },
    {
      "cell_type": "code",
      "metadata": {
        "colab": {
          "base_uri": "https://localhost:8080/"
        },
        "id": "bBWsy6rdoIl_",
        "outputId": "45b7a738-49ef-4b78-9a65-ccda14f79e4d"
      },
      "source": [
        "obj2.swim()"
      ],
      "execution_count": 15,
      "outputs": [
        {
          "output_type": "stream",
          "text": [
            "pigeon can swim faster\n"
          ],
          "name": "stdout"
        }
      ]
    },
    {
      "cell_type": "code",
      "metadata": {
        "colab": {
          "base_uri": "https://localhost:8080/"
        },
        "id": "ry0d-DgtoLv-",
        "outputId": "585aa2c7-488b-4923-e878-01c6d86d38ac"
      },
      "source": [
        "obj2.run()"
      ],
      "execution_count": 16,
      "outputs": [
        {
          "output_type": "stream",
          "text": [
            "horse can run faster\n"
          ],
          "name": "stdout"
        }
      ]
    },
    {
      "cell_type": "code",
      "metadata": {
        "colab": {
          "base_uri": "https://localhost:8080/"
        },
        "id": "DrV95ZxGoOYr",
        "outputId": "ec95df83-457b-48d6-9c7d-2629be8685e1"
      },
      "source": [
        "print(obj2.name,  obj2.name2)"
      ],
      "execution_count": 17,
      "outputs": [
        {
          "output_type": "stream",
          "text": [
            "pigeon horse\n"
          ],
          "name": "stdout"
        }
      ]
    },
    {
      "cell_type": "code",
      "metadata": {
        "id": "71u9T4zkoY3v"
      },
      "source": [
        ""
      ],
      "execution_count": null,
      "outputs": []
    }
  ]
}