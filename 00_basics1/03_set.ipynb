{
 "cells": [
  {
   "cell_type": "markdown",
   "metadata": {},
   "source": [
    "# Tuple"
   ]
  },
  {
   "cell_type": "code",
   "execution_count": 1,
   "metadata": {},
   "outputs": [],
   "source": [
    "#it is much like list but the major difference is tuples are immutable"
   ]
  },
  {
   "cell_type": "markdown",
   "metadata": {},
   "source": [
    "# Sets"
   ]
  },
  {
   "cell_type": "code",
   "execution_count": 2,
   "metadata": {},
   "outputs": [],
   "source": [
    "#it is much like list but\n",
    "\n",
    "# set is an  unordered data str(i.e. there is no index attached to any element)\n",
    "# hence, it doesn't allow duplicate elements."
   ]
  },
  {
   "cell_type": "markdown",
   "metadata": {},
   "source": [
    "# frozen set"
   ]
  },
  {
   "cell_type": "code",
   "execution_count": 3,
   "metadata": {},
   "outputs": [],
   "source": [
    "#elements of set can be modified at any time but elements of frozen set can't be."
   ]
  },
  {
   "cell_type": "code",
   "execution_count": null,
   "metadata": {},
   "outputs": [],
   "source": [
    "              Data      indexing/duplicacy    mutability\n",
    "1.list         ✔               ✔                 ✔\n",
    "2.touple       ✔               ✔                 X\n",
    "3.set          ✔               X                 ✔\n"
   ]
  },
  {
   "cell_type": "markdown",
   "metadata": {},
   "source": [
    "# creation"
   ]
  },
  {
   "cell_type": "code",
   "execution_count": 21,
   "metadata": {},
   "outputs": [
    {
     "name": "stdout",
     "output_type": "stream",
     "text": [
      "{'e', 1, 2, 3, 'i'} <class 'set'>\n",
      "{'e', 's', 'o', 'g', 'k', 'f', 'r'}\n"
     ]
    }
   ],
   "source": [
    "s={1,2,'e','e','i',2,1,3}\n",
    "print(s,type(s))\n",
    "\n",
    "l1=['g','e','e','k','s','f','o','r','g','e','e','k','s']\n",
    "s1=set(l1)\n",
    "print(s1)"
   ]
  },
  {
   "cell_type": "markdown",
   "metadata": {},
   "source": [
    "# insertion"
   ]
  },
  {
   "cell_type": "code",
   "execution_count": 22,
   "metadata": {},
   "outputs": [
    {
     "name": "stdout",
     "output_type": "stream",
     "text": [
      "after adding 1st element:  {'e', 1, 2, 3, 'i', 9}\n",
      "after adding 1st element:  {'e', 1, 2, 3, 'i', 9}\n",
      "after adding 1st element:  {'e', 1, 2, 3, 'i', 5, 9}\n",
      "after adding 1st element:  {'e', 1, 2, 3, 'i', 5, 9, 'j'}\n"
     ]
    }
   ],
   "source": [
    "s.add(9)\n",
    "print('after adding 1st element: ',s)\n",
    "\n",
    "s.add('i')\n",
    "print('after adding 1st element: ',s)\n",
    "\n",
    "s.add(5)\n",
    "print('after adding 1st element: ',s)\n",
    "\n",
    "s.add('j')\n",
    "print('after adding 1st element: ',s)"
   ]
  },
  {
   "cell_type": "markdown",
   "metadata": {},
   "source": [
    "# deletion"
   ]
  },
  {
   "cell_type": "code",
   "execution_count": 24,
   "metadata": {},
   "outputs": [
    {
     "name": "stdout",
     "output_type": "stream",
     "text": [
      "after removing 'i' :  {'e', 1, 2, 3, 5, 9, 'j'}\n",
      "after default pop  {1, 2, 3, 5, 9, 'j'}\n",
      "after default pop  {2, 3, 5, 9, 'j'}\n",
      "set()\n"
     ]
    },
    {
     "ename": "NameError",
     "evalue": "name 's1' is not defined",
     "output_type": "error",
     "traceback": [
      "\u001b[0;31m---------------------------------------------------------------------------\u001b[0m",
      "\u001b[0;31mNameError\u001b[0m                                 Traceback (most recent call last)",
      "\u001b[0;32m<ipython-input-24-78c3db824d94>\u001b[0m in \u001b[0;36m<module>\u001b[0;34m\u001b[0m\n\u001b[1;32m     16\u001b[0m \u001b[0;34m\u001b[0m\u001b[0m\n\u001b[1;32m     17\u001b[0m \u001b[0;32mdel\u001b[0m \u001b[0ms1\u001b[0m\u001b[0;34m\u001b[0m\u001b[0;34m\u001b[0m\u001b[0m\n\u001b[0;32m---> 18\u001b[0;31m \u001b[0mprint\u001b[0m\u001b[0;34m(\u001b[0m\u001b[0ms1\u001b[0m\u001b[0;34m)\u001b[0m\u001b[0;34m\u001b[0m\u001b[0;34m\u001b[0m\u001b[0m\n\u001b[0m",
      "\u001b[0;31mNameError\u001b[0m: name 's1' is not defined"
     ]
    }
   ],
   "source": [
    "                                   #1 remove\n",
    "s.remove('i')\n",
    "print('''after removing 'i' : ''',s)\n",
    "\n",
    "                                   #2 pop\n",
    "s.pop()\n",
    "print('after default pop ',s)\n",
    "s.pop()\n",
    "print('after default pop ',s)\n",
    "\n",
    "#s.pop(3)  not possible because there is no index attached to any element in python set.\n",
    "\n",
    "                                   #3 clear\n",
    "s.clear()\n",
    "print(s)\n",
    "                                  #4 del\n",
    "del s1\n",
    "print(s1)"
   ]
  },
  {
   "cell_type": "markdown",
   "metadata": {},
   "source": [
    "# mtds"
   ]
  },
  {
   "cell_type": "code",
   "execution_count": 28,
   "metadata": {},
   "outputs": [
    {
     "name": "stdout",
     "output_type": "stream",
     "text": [
      "{3, 4, 5, 6}\n",
      "{1, 2, 3, 4, 5, 6, 7}\n",
      "{1, 2}\n",
      "True\n",
      "True\n"
     ]
    }
   ],
   "source": [
    "a={1,2,3,4,5,6}\n",
    "b={7,6,5,4,3}\n",
    "\n",
    "#intersection\n",
    "print(a.intersection(b))\n",
    "\n",
    "#uninon\n",
    "print(a.union(b))\n",
    "\n",
    "#difference\n",
    "print(a.difference(b))    #a - b\n",
    "\n",
    "\n",
    "c={1,2,3,4}\n",
    "d={3,2,1,4,7,5}\n",
    "\n",
    "print(c.issubset(d))\n",
    "print(d.issuperset(c))"
   ]
  },
  {
   "cell_type": "code",
   "execution_count": null,
   "metadata": {},
   "outputs": [],
   "source": []
  }
 ],
 "metadata": {
  "kernelspec": {
   "display_name": "Python 3",
   "language": "python",
   "name": "python3"
  },
  "language_info": {
   "codemirror_mode": {
    "name": "ipython",
    "version": 3
   },
   "file_extension": ".py",
   "mimetype": "text/x-python",
   "name": "python",
   "nbconvert_exporter": "python",
   "pygments_lexer": "ipython3",
   "version": "3.7.3"
  }
 },
 "nbformat": 4,
 "nbformat_minor": 2
}
