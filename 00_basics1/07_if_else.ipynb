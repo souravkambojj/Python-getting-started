{
 "cells": [
  {
   "cell_type": "code",
   "execution_count": 1,
   "metadata": {},
   "outputs": [
    {
     "name": "stdout",
     "output_type": "stream",
     "text": [
      "1st no: 2\n",
      "2nd no: 5\n",
      "3rd no: -01\n",
      "b is largest\n"
     ]
    }
   ],
   "source": [
    "#nested if-else\n",
    "a=input('1st no: ')\n",
    "b=input('2nd no: ')\n",
    "c=input('3rd no: ')\n",
    "\n",
    "if(a>b):\n",
    "    if(a>c):\n",
    "        print('a is largest')\n",
    "    else:\n",
    "        print('c is largest')\n",
    "else:\n",
    "    if(b>c):\n",
    "        print('b is largest')\n",
    "    else:\n",
    "        print('c is largest')"
   ]
  },
  {
   "cell_type": "code",
   "execution_count": 2,
   "metadata": {},
   "outputs": [
    {
     "name": "stdout",
     "output_type": "stream",
     "text": [
      "enter a value either  10 or 205\n",
      "entered value is neither 10 nor 20\n"
     ]
    }
   ],
   "source": [
    "i=input('enter a value either  10 or 20')\n",
    "\n",
    "if(i==10):\n",
    "    print('entered value is 10')\n",
    "elif(i==20):\n",
    "    print('entered value is 20')\n",
    "else:\n",
    "    print('entered value is neither 10 nor 20')"
   ]
  },
  {
   "cell_type": "code",
   "execution_count": null,
   "metadata": {},
   "outputs": [],
   "source": []
  }
 ],
 "metadata": {
  "kernelspec": {
   "display_name": "Python 3",
   "language": "python",
   "name": "python3"
  },
  "language_info": {
   "codemirror_mode": {
    "name": "ipython",
    "version": 3
   },
   "file_extension": ".py",
   "mimetype": "text/x-python",
   "name": "python",
   "nbconvert_exporter": "python",
   "pygments_lexer": "ipython3",
   "version": "3.7.3"
  }
 },
 "nbformat": 4,
 "nbformat_minor": 2
}
