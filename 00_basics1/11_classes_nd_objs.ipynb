{
 "cells": [
  {
   "cell_type": "code",
   "execution_count": 2,
   "metadata": {},
   "outputs": [
    {
     "name": "stdout",
     "output_type": "stream",
     "text": [
      "hii i m  sourav, who are you ?\n"
     ]
    }
   ],
   "source": [
    "print('hii i m  {}, who are {}'.format('sourav','you ?'))"
   ]
  },
  {
   "cell_type": "code",
   "execution_count": 3,
   "metadata": {},
   "outputs": [
    {
     "name": "stdout",
     "output_type": "stream",
     "text": [
      "hii i m sourav, who are you ?\n"
     ]
    }
   ],
   "source": [
    "print('hii i m %s, who are %s'%('sourav','you ?'))"
   ]
  },
  {
   "cell_type": "code",
   "execution_count": 13,
   "metadata": {},
   "outputs": [
    {
     "name": "stdout",
     "output_type": "stream",
     "text": [
      "woo sings happy\n",
      "blu is now dancing\n"
     ]
    }
   ],
   "source": [
    "class parrot:\n",
    "    species='bird'\n",
    "    \n",
    "    def __init__(self,n='xyz',a=0):\n",
    "        self.name=n\n",
    "        self.age=a\n",
    "        \n",
    "    def sing(self,song):\n",
    "        return (\"{} sings {}\".format(self.name,song))\n",
    "    def dance(self):\n",
    "        return \"{} is now dancing\".format(self.name)\n",
    "\n",
    "blu=parrot('blu',10)\n",
    "woo=parrot('woo',12)\n",
    "\n",
    "print(woo.sing('happy'))\n",
    "print(blu.dance())"
   ]
  },
  {
   "cell_type": "code",
   "execution_count": 14,
   "metadata": {},
   "outputs": [
    {
     "name": "stdout",
     "output_type": "stream",
     "text": [
      "bird\n",
      "bird\n"
     ]
    }
   ],
   "source": [
    "#accessing class attributes\n",
    "print(blu.__class__.species)\n",
    "print(woo.__class__.species)"
   ]
  },
  {
   "cell_type": "code",
   "execution_count": 15,
   "metadata": {},
   "outputs": [
    {
     "name": "stdout",
     "output_type": "stream",
     "text": [
      "blu 10\n",
      "woo 12\n"
     ]
    }
   ],
   "source": [
    "#accessing instance attributes\n",
    "print(blu.name,blu.age)\n",
    "print(woo.name,woo.age)"
   ]
  },
  {
   "cell_type": "code",
   "execution_count": null,
   "metadata": {},
   "outputs": [],
   "source": []
  }
 ],
 "metadata": {
  "kernelspec": {
   "display_name": "Python 3",
   "language": "python",
   "name": "python3"
  },
  "language_info": {
   "codemirror_mode": {
    "name": "ipython",
    "version": 3
   },
   "file_extension": ".py",
   "mimetype": "text/x-python",
   "name": "python",
   "nbconvert_exporter": "python",
   "pygments_lexer": "ipython3",
   "version": "3.7.3"
  }
 },
 "nbformat": 4,
 "nbformat_minor": 2
}
