{
  "nbformat": 4,
  "nbformat_minor": 0,
  "metadata": {
    "colab": {
      "provenance": [],
      "collapsed_sections": []
    },
    "kernelspec": {
      "name": "python3",
      "display_name": "Python 3"
    },
    "language_info": {
      "name": "python"
    }
  },
  "cells": [
    {
      "cell_type": "markdown",
      "source": [
        "# **Formatting string**"
      ],
      "metadata": {
        "id": "Mya6r8c_Qo8X"
      }
    },
    {
      "cell_type": "code",
      "execution_count": null,
      "metadata": {
        "colab": {
          "base_uri": "https://localhost:8080/"
        },
        "id": "xfFxhkxAQYBH",
        "outputId": "c3b39133-5257-4904-d4a9-016224f7d077"
      },
      "outputs": [
        {
          "output_type": "stream",
          "name": "stdout",
          "text": [
            "hii sourav here 14104033\n",
            "hii sourav here 14104033\n",
            "hii sourav here 14104033\n"
          ]
        }
      ],
      "source": [
        "i,j = 'sourav',14104033\n",
        "print('hii {} here {}'.format(i,j))\n",
        "\n",
        "print(f'hii {i} here {j}')\n",
        "\n",
        "print('hii %s here %d'%(i,j))"
      ]
    },
    {
      "cell_type": "code",
      "source": [
        "#for disabling the space\n",
        "print('i','j','k',sep='')"
      ],
      "metadata": {
        "colab": {
          "base_uri": "https://localhost:8080/"
        },
        "id": "wBFMiXBBQsDO",
        "outputId": "6c09297a-397c-4a8c-83b7-3e194faa0397"
      },
      "execution_count": null,
      "outputs": [
        {
          "output_type": "stream",
          "name": "stdout",
          "text": [
            "ijk\n"
          ]
        }
      ]
    },
    {
      "cell_type": "code",
      "source": [
        "#formatting date\n",
        "print('27','01','1996',sep='-')"
      ],
      "metadata": {
        "colab": {
          "base_uri": "https://localhost:8080/"
        },
        "id": "VZmnvcBsRHc4",
        "outputId": "840f5f33-5fea-491e-d6bd-b2c3bbfe02e6"
      },
      "execution_count": null,
      "outputs": [
        {
          "output_type": "stream",
          "name": "stdout",
          "text": [
            "27-01-1996\n"
          ]
        }
      ]
    },
    {
      "cell_type": "markdown",
      "source": [
        "\n",
        "# **reversing the string**"
      ],
      "metadata": {
        "id": "_2mSXy67RNK6"
      }
    },
    {
      "cell_type": "code",
      "source": [
        "#mtd-1\n",
        "'abcde'[::-1]"
      ],
      "metadata": {
        "colab": {
          "base_uri": "https://localhost:8080/",
          "height": 35
        },
        "id": "X0oW-59_RKKt",
        "outputId": "ff496b61-edd0-438c-bc24-681885b69072"
      },
      "execution_count": null,
      "outputs": [
        {
          "output_type": "execute_result",
          "data": {
            "text/plain": [
              "'edcba'"
            ],
            "application/vnd.google.colaboratory.intrinsic+json": {
              "type": "string"
            }
          },
          "metadata": {},
          "execution_count": 9
        }
      ]
    },
    {
      "cell_type": "code",
      "source": [
        "#mtd-2\n",
        "str = 'abcde'\n",
        "list(str)"
      ],
      "metadata": {
        "colab": {
          "base_uri": "https://localhost:8080/"
        },
        "id": "8b8zRNnKRdmG",
        "outputId": "2b580aef-cbf0-4b9b-eca6-4972acf32163"
      },
      "execution_count": null,
      "outputs": [
        {
          "output_type": "execute_result",
          "data": {
            "text/plain": [
              "['a', 'b', 'c', 'd', 'e']"
            ]
          },
          "metadata": {},
          "execution_count": 10
        }
      ]
    },
    {
      "cell_type": "code",
      "source": [
        "list(str)[::-1]"
      ],
      "metadata": {
        "colab": {
          "base_uri": "https://localhost:8080/"
        },
        "id": "TEeIEYKHSJWq",
        "outputId": "b63cc573-f34f-42ae-fa65-f98c14b3af30"
      },
      "execution_count": null,
      "outputs": [
        {
          "output_type": "execute_result",
          "data": {
            "text/plain": [
              "['e', 'd', 'c', 'b', 'a']"
            ]
          },
          "metadata": {},
          "execution_count": 8
        }
      ]
    },
    {
      "cell_type": "code",
      "source": [
        "''.join(list(str)[::-1])"
      ],
      "metadata": {
        "colab": {
          "base_uri": "https://localhost:8080/",
          "height": 35
        },
        "id": "8C2-A1JNSOSq",
        "outputId": "20658381-8282-4686-f3e6-f6a04c148135"
      },
      "execution_count": null,
      "outputs": [
        {
          "output_type": "execute_result",
          "data": {
            "text/plain": [
              "'edcba'"
            ],
            "application/vnd.google.colaboratory.intrinsic+json": {
              "type": "string"
            }
          },
          "metadata": {},
          "execution_count": 11
        }
      ]
    },
    {
      "cell_type": "markdown",
      "source": [
        "# **multiply str**"
      ],
      "metadata": {
        "id": "PaE1Jb8iScH6"
      }
    },
    {
      "cell_type": "code",
      "source": [
        "'abc'*4"
      ],
      "metadata": {
        "colab": {
          "base_uri": "https://localhost:8080/",
          "height": 35
        },
        "id": "wOCGBS3vSVLh",
        "outputId": "6f4942a5-a67c-4f13-85c3-55226a95d7c9"
      },
      "execution_count": null,
      "outputs": [
        {
          "output_type": "execute_result",
          "data": {
            "text/plain": [
              "'abcabcabcabc'"
            ],
            "application/vnd.google.colaboratory.intrinsic+json": {
              "type": "string"
            }
          },
          "metadata": {},
          "execution_count": 12
        }
      ]
    },
    {
      "cell_type": "markdown",
      "source": [
        "# **decimal to binary**"
      ],
      "metadata": {
        "id": "1wacCpF8SiNh"
      }
    },
    {
      "cell_type": "code",
      "source": [
        "bin(125), bin(125)[2:]"
      ],
      "metadata": {
        "colab": {
          "base_uri": "https://localhost:8080/"
        },
        "id": "63PpP6sdSgGh",
        "outputId": "90890380-eab2-4891-a17e-c1fffc2be579"
      },
      "execution_count": null,
      "outputs": [
        {
          "output_type": "execute_result",
          "data": {
            "text/plain": [
              "('0b1111101', '1111101')"
            ]
          },
          "metadata": {},
          "execution_count": 15
        },
        {
          "output_type": "execute_result",
          "data": {
            "text/plain": [
              "('0b1111101', '1111101')"
            ]
          },
          "metadata": {},
          "execution_count": 17
        }
      ]
    },
    {
      "cell_type": "markdown",
      "source": [
        "## **int to Char**"
      ],
      "metadata": {
        "id": "bU_FZGDUS_ip"
      }
    },
    {
      "cell_type": "code",
      "source": [
        "chr(65), chr(97)\n"
      ],
      "metadata": {
        "colab": {
          "base_uri": "https://localhost:8080/"
        },
        "id": "mYeQ9AOTS88y",
        "outputId": "0ed741ac-d072-4763-fdf4-a999654507eb"
      },
      "execution_count": null,
      "outputs": [
        {
          "output_type": "execute_result",
          "data": {
            "text/plain": [
              "('A', 'a')"
            ]
          },
          "metadata": {},
          "execution_count": 16
        },
        {
          "output_type": "execute_result",
          "data": {
            "text/plain": [
              "('A', 'a')"
            ]
          },
          "metadata": {},
          "execution_count": 18
        }
      ]
    },
    {
      "cell_type": "markdown",
      "source": [
        "# **string mtds**"
      ],
      "metadata": {
        "id": "iqz2kG_xTTo3"
      }
    },
    {
      "cell_type": "code",
      "source": [
        "'Hii i Am Sourav'.lower()"
      ],
      "metadata": {
        "colab": {
          "base_uri": "https://localhost:8080/",
          "height": 35
        },
        "id": "QnAy1msaTHL2",
        "outputId": "fcc618d3-2177-409a-dd0a-f3a445324696"
      },
      "execution_count": null,
      "outputs": [
        {
          "output_type": "execute_result",
          "data": {
            "text/plain": [
              "'hii i am sourav'"
            ],
            "application/vnd.google.colaboratory.intrinsic+json": {
              "type": "string"
            }
          },
          "metadata": {},
          "execution_count": 19
        }
      ]
    },
    {
      "cell_type": "code",
      "source": [
        "'Hii i Am Sourav'.upper()"
      ],
      "metadata": {
        "colab": {
          "base_uri": "https://localhost:8080/",
          "height": 35
        },
        "id": "Z186keoWTdpg",
        "outputId": "6abd7cbd-1603-4d3f-ba94-09f655b464e0"
      },
      "execution_count": null,
      "outputs": [
        {
          "output_type": "execute_result",
          "data": {
            "text/plain": [
              "'HII I AM SOURAV'"
            ],
            "application/vnd.google.colaboratory.intrinsic+json": {
              "type": "string"
            }
          },
          "metadata": {},
          "execution_count": 20
        }
      ]
    },
    {
      "cell_type": "code",
      "source": [
        "'hii i am sourav'.lower()"
      ],
      "metadata": {
        "colab": {
          "base_uri": "https://localhost:8080/",
          "height": 35
        },
        "id": "rr6uGa3iTiQX",
        "outputId": "1e4afdb0-f72b-45da-a8d9-0697fcd1b29a"
      },
      "execution_count": null,
      "outputs": [
        {
          "output_type": "execute_result",
          "data": {
            "text/plain": [
              "'hii i am sourav'"
            ],
            "application/vnd.google.colaboratory.intrinsic+json": {
              "type": "string"
            }
          },
          "metadata": {},
          "execution_count": 21
        }
      ]
    },
    {
      "cell_type": "code",
      "source": [
        "'Hii i Am Sourav'.index('i')"
      ],
      "metadata": {
        "colab": {
          "base_uri": "https://localhost:8080/"
        },
        "id": "E0gv9YzeTmpg",
        "outputId": "44bd54cd-74a5-4b4c-f142-8b608f7b1978"
      },
      "execution_count": null,
      "outputs": [
        {
          "output_type": "execute_result",
          "data": {
            "text/plain": [
              "1"
            ]
          },
          "metadata": {},
          "execution_count": 22
        }
      ]
    },
    {
      "cell_type": "code",
      "source": [
        "'Hii i Am Sourav'.count('i')"
      ],
      "metadata": {
        "colab": {
          "base_uri": "https://localhost:8080/"
        },
        "id": "-Arbd1KBT1dY",
        "outputId": "e9f83951-f5d0-4954-e3aa-4a7fb08580da"
      },
      "execution_count": null,
      "outputs": [
        {
          "output_type": "execute_result",
          "data": {
            "text/plain": [
              "3"
            ]
          },
          "metadata": {},
          "execution_count": 23
        }
      ]
    },
    {
      "cell_type": "code",
      "source": [
        "'Hii i Am Sourav'.endswith('av')"
      ],
      "metadata": {
        "colab": {
          "base_uri": "https://localhost:8080/"
        },
        "id": "bMYFPn9fT8VA",
        "outputId": "4abb68ef-5baa-47e7-8243-180efaa5e687"
      },
      "execution_count": null,
      "outputs": [
        {
          "output_type": "execute_result",
          "data": {
            "text/plain": [
              "True"
            ]
          },
          "metadata": {},
          "execution_count": 24
        }
      ]
    },
    {
      "cell_type": "code",
      "source": [
        "'Hii i Am Sourav'.startswith('hi'),'Hii i Am Sourav'.startswith('Hi')"
      ],
      "metadata": {
        "colab": {
          "base_uri": "https://localhost:8080/"
        },
        "id": "weDetBfbUILo",
        "outputId": "1c85542b-ed64-494f-d053-8ab0ebd9d0d1"
      },
      "execution_count": null,
      "outputs": [
        {
          "output_type": "execute_result",
          "data": {
            "text/plain": [
              "(False, True)"
            ]
          },
          "metadata": {},
          "execution_count": 28
        }
      ]
    },
    {
      "cell_type": "code",
      "source": [
        "'Hii i Am Sourav'.find('our') #returns lowest index of substring if it is found"
      ],
      "metadata": {
        "colab": {
          "base_uri": "https://localhost:8080/"
        },
        "id": "ex42VpjMUMsA",
        "outputId": "b4beeff0-8486-4932-897e-8893a3cfe5e2"
      },
      "execution_count": null,
      "outputs": [
        {
          "output_type": "execute_result",
          "data": {
            "text/plain": [
              "10"
            ]
          },
          "metadata": {},
          "execution_count": 30
        }
      ]
    },
    {
      "cell_type": "code",
      "source": [
        "#returns true if all characters in string are numeric\n",
        "'12345'.isnumeric(), '12abCD'.isnumeric(), 'Abcd'.isnumeric() "
      ],
      "metadata": {
        "colab": {
          "base_uri": "https://localhost:8080/"
        },
        "id": "LKhfg97mUk5p",
        "outputId": "e95ff2fe-e323-4a02-82fd-639a75966499"
      },
      "execution_count": null,
      "outputs": [
        {
          "output_type": "execute_result",
          "data": {
            "text/plain": [
              "(True, False, False)"
            ]
          },
          "metadata": {},
          "execution_count": 34
        }
      ]
    },
    {
      "cell_type": "code",
      "source": [
        "#returns true if all characters in string are alphabets\n",
        "'12345'.isalpha(), '12abCD'.isalpha(), 'Abcd'.isalpha() "
      ],
      "metadata": {
        "colab": {
          "base_uri": "https://localhost:8080/"
        },
        "id": "7DiwrqWoU6GZ",
        "outputId": "461f9321-d9ab-469d-ee25-a8adcd6763d8"
      },
      "execution_count": null,
      "outputs": [
        {
          "output_type": "execute_result",
          "data": {
            "text/plain": [
              "(False, False, True)"
            ]
          },
          "metadata": {},
          "execution_count": 35
        }
      ]
    },
    {
      "cell_type": "code",
      "source": [
        "#returns true if all characters in string are alphanumeric or not\n",
        "'12345'.isalnum(), '12abCD'.isalnum(), 'Abcd'.isalnum() "
      ],
      "metadata": {
        "colab": {
          "base_uri": "https://localhost:8080/"
        },
        "id": "PDizrrOQW1Nw",
        "outputId": "fa496013-9a40-40df-88e2-9fadd8c9ee11"
      },
      "execution_count": null,
      "outputs": [
        {
          "output_type": "execute_result",
          "data": {
            "text/plain": [
              "(True, True, True)"
            ]
          },
          "metadata": {},
          "execution_count": 38
        }
      ]
    },
    {
      "cell_type": "code",
      "source": [
        "#concat string\n",
        "\n",
        "'abcd' + 'EFG' + 'iJk'"
      ],
      "metadata": {
        "colab": {
          "base_uri": "https://localhost:8080/",
          "height": 35
        },
        "id": "7Vf8jr67XAvp",
        "outputId": "2fc3a464-6a32-4406-b0ce-319b45c44a1c"
      },
      "execution_count": null,
      "outputs": [
        {
          "output_type": "execute_result",
          "data": {
            "text/plain": [
              "'abcdEFGiJk'"
            ],
            "application/vnd.google.colaboratory.intrinsic+json": {
              "type": "string"
            }
          },
          "metadata": {},
          "execution_count": 39
        }
      ]
    },
    {
      "cell_type": "code",
      "source": [
        "''.join(['abcd' ,'EFG' ,'iJk'])"
      ],
      "metadata": {
        "colab": {
          "base_uri": "https://localhost:8080/",
          "height": 35
        },
        "id": "_43JAwZ0Xjyf",
        "outputId": "28e79687-2981-487b-95d1-9990993bcbe4"
      },
      "execution_count": null,
      "outputs": [
        {
          "output_type": "execute_result",
          "data": {
            "text/plain": [
              "'abcdEFGiJk'"
            ],
            "application/vnd.google.colaboratory.intrinsic+json": {
              "type": "string"
            }
          },
          "metadata": {},
          "execution_count": 40
        }
      ]
    },
    {
      "cell_type": "code",
      "source": [
        "#string.strip([chars])\n",
        "#if optional chars parameter i not given, all leading nd trailing whitespaces are removed from the string\n",
        "\n",
        "print('    sourav kamboj  '.strip())\n",
        "print('  sourav is geeks'.strip('geks'))\n",
        "print('sourav is geeks '.strip('vuosra'))\n",
        "print('sourav is geeks'.strip('vuosragke')) #it wouldn't work if whitespaces are there before sourav and after geeks\n",
        "print(' sourav is geeks '.strip('vuosragke'))"
      ],
      "metadata": {
        "colab": {
          "base_uri": "https://localhost:8080/"
        },
        "id": "rugkhrVFXsdZ",
        "outputId": "172c5ba2-ba4c-4580-9741-0b00be13daab"
      },
      "execution_count": null,
      "outputs": [
        {
          "output_type": "stream",
          "name": "stdout",
          "text": [
            "sourav kamboj\n",
            "  sourav is \n",
            " is geeks \n",
            " is \n",
            " sourav is geeks \n"
          ]
        }
      ]
    },
    {
      "cell_type": "code",
      "source": [
        "str_ = '12souravvv kamboj34'\n",
        "\n",
        "print(str_[:])    #entire list\n",
        "print(str_[:6])   #starting index 0 to  index 5\n",
        "print(str_[2:])   #index 2 to till end\n",
        "print(str_[3:8])  #index 3 to index 8-1 =7 i.e. 8-3=5 elements\n",
        "print(str_[1:9:2]) #skipping\n",
        "print(str_[-6:])   #starting from index 6 from last to till end\n",
        "print(str_[:-6])  #starting from index 0 to index 6 from last\n",
        "print(str_[::-1]) #reverse the string\n"
      ],
      "metadata": {
        "id": "ufXHn5c_bMiA"
      },
      "execution_count": 1,
      "outputs": []
    },
    {
      "cell_type": "code",
      "source": [],
      "metadata": {
        "id": "N15w_vbyfIAo"
      },
      "execution_count": null,
      "outputs": []
    }
  ]
}