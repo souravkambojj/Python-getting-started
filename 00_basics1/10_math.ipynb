{
  "nbformat": 4,
  "nbformat_minor": 0,
  "metadata": {
    "colab": {
      "provenance": [],
      "collapsed_sections": []
    },
    "kernelspec": {
      "name": "python3",
      "display_name": "Python 3"
    },
    "language_info": {
      "name": "python"
    }
  },
  "cells": [
    {
      "cell_type": "code",
      "execution_count": 1,
      "metadata": {
        "colab": {
          "base_uri": "https://localhost:8080/"
        },
        "id": "p3ltvztpdMp_",
        "outputId": "56853779-db26-49d8-85b5-405d6e7de5a6"
      },
      "outputs": [
        {
          "output_type": "stream",
          "name": "stdout",
          "text": [
            "(2+3j)\n",
            "real:  2.0\n",
            "imaginary:  3.0\n"
          ]
        }
      ],
      "source": [
        "import cmath\n",
        "\n",
        "a=2\n",
        "b=3\n",
        "\n",
        "z=complex(a,b)\n",
        "print(z)\n",
        "\n",
        "print('real: ',z.real)\n",
        "print('imaginary: ',z.imag)"
      ]
    },
    {
      "cell_type": "code",
      "source": [
        "from math import sqrt,pi,degrees,radians,sin,cos,tan\n",
        "print(sqrt(24))\n",
        "print(pi)\n",
        "\n",
        "#radians to degrees\n",
        "print(degrees(1))\n",
        "#degrees to radians\n",
        "print(radians(57))\n",
        "\n",
        "# sin 30 \n",
        "print(sin(radians(30))) #this degrees to  radian conversion is because sin fun accept input in terms of radians\n",
        "print(sin((30*pi)/180))"
      ],
      "metadata": {
        "colab": {
          "base_uri": "https://localhost:8080/"
        },
        "id": "xetPtEKulARB",
        "outputId": "18609ce6-c04f-4455-aecb-57fbe525668f"
      },
      "execution_count": 2,
      "outputs": [
        {
          "output_type": "stream",
          "name": "stdout",
          "text": [
            "4.898979485566356\n",
            "3.141592653589793\n",
            "57.29577951308232\n",
            "0.9948376736367679\n",
            "0.49999999999999994\n",
            "0.49999999999999994\n"
          ]
        }
      ]
    },
    {
      "cell_type": "code",
      "source": [
        "pi/6"
      ],
      "metadata": {
        "colab": {
          "base_uri": "https://localhost:8080/"
        },
        "id": "-wnCZtRdlDeO",
        "outputId": "7bd97997-b858-4422-8fb6-38eb1a93c2bd"
      },
      "execution_count": 3,
      "outputs": [
        {
          "output_type": "execute_result",
          "data": {
            "text/plain": [
              "0.5235987755982988"
            ]
          },
          "metadata": {},
          "execution_count": 3
        }
      ]
    },
    {
      "cell_type": "code",
      "source": [
        "from math import factorial,ceil,floor\n",
        "\n",
        "a=6.7\n",
        "print(ceil(a))\n",
        "print(floor(a))\n",
        "print(factorial(5))"
      ],
      "metadata": {
        "colab": {
          "base_uri": "https://localhost:8080/"
        },
        "id": "b2Kmq6z3lF-q",
        "outputId": "68d30c49-249d-4579-deb8-21e5c5dd6240"
      },
      "execution_count": 4,
      "outputs": [
        {
          "output_type": "stream",
          "name": "stdout",
          "text": [
            "7\n",
            "6\n",
            "120\n"
          ]
        }
      ]
    },
    {
      "cell_type": "code",
      "source": [
        "#5c3\n",
        "print(factorial(5)/(factorial(3)*factorial(2)))"
      ],
      "metadata": {
        "colab": {
          "base_uri": "https://localhost:8080/"
        },
        "id": "dFVDDkIBlLP1",
        "outputId": "79485a72-93cb-4468-e8c1-042dbff7fb1b"
      },
      "execution_count": 5,
      "outputs": [
        {
          "output_type": "stream",
          "name": "stdout",
          "text": [
            "10.0\n"
          ]
        }
      ]
    },
    {
      "cell_type": "code",
      "source": [
        "from math import gcd\n",
        "\n",
        "#gcd or hcf\n",
        "print('GCD: ',gcd(5,15))\n",
        "\n",
        "#(GCD(n,m)*LCM(n,m))=n*m\n",
        "print('LCM: ',(5*15)/gcd(5,15))"
      ],
      "metadata": {
        "colab": {
          "base_uri": "https://localhost:8080/"
        },
        "id": "2PgCBaeglaUd",
        "outputId": "54512201-d23c-49e4-eac8-083547cf195d"
      },
      "execution_count": 6,
      "outputs": [
        {
          "output_type": "stream",
          "name": "stdout",
          "text": [
            "GCD:  5\n",
            "LCM:  15.0\n"
          ]
        }
      ]
    },
    {
      "cell_type": "code",
      "source": [
        "from math import exp,log\n",
        "print(2**5)\n",
        "print(pow(2,5))\n",
        "\n",
        "print('e**5: ',exp(5))\n",
        "print('log(a,b)   log a with base b: ',log(10,2))"
      ],
      "metadata": {
        "colab": {
          "base_uri": "https://localhost:8080/"
        },
        "id": "H0Af_gyklhJf",
        "outputId": "e8120f84-ade6-4ca8-c4e3-727a1e62b5bb"
      },
      "execution_count": 7,
      "outputs": [
        {
          "output_type": "stream",
          "name": "stdout",
          "text": [
            "32\n",
            "32\n",
            "e**5:  148.4131591025766\n",
            "log(a,b)   log a with base b:  3.3219280948873626\n"
          ]
        }
      ]
    },
    {
      "cell_type": "code",
      "source": [],
      "metadata": {
        "id": "HasS32jMlj0h"
      },
      "execution_count": null,
      "outputs": []
    }
  ]
}