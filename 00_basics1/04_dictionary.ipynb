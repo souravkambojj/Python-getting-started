{
 "cells": [
  {
   "cell_type": "code",
   "execution_count": null,
   "metadata": {},
   "outputs": [],
   "source": [
    "#it always stores the data in (key:value) pair\n",
    "#keys of dict must be unique"
   ]
  },
  {
   "cell_type": "markdown",
   "metadata": {},
   "source": [
    "# creation"
   ]
  },
  {
   "cell_type": "code",
   "execution_count": 6,
   "metadata": {},
   "outputs": [
    {
     "name": "stdout",
     "output_type": "stream",
     "text": [
      "{'a': 1, 'b': 2, 'c': 3, 'd': 4}\n",
      "{'a': [1, 2, 3, 4], 'b': [4, 3, 5, 6], 'c': [0, 9, 5, 4], 'd': [2, 6, 4, 5]}\n",
      "{'india': {'pun': 28, 'har': 23, 'goa': 3}, 'eng': {'xyz': 45, 'pqr': 34, 'lmn': 34}, 'usa': {'ijk': [1, 2, 3], 'lmn': 34, 'pqr': 56}}\n"
     ]
    }
   ],
   "source": [
    "#key representing a single value only\n",
    "dict1={'a':1,'b':2,'c':3,'d':4}\n",
    "\n",
    "#key reprsenting an array of values\n",
    "dict2={'a':[1,2,3,4],'b':[4,3,5,6],'c':[0,9,5,4],'d':[2,6,4,5]}\n",
    "\n",
    "#nested dictionary\n",
    "dict3={'india':{'pun':28,'har':23,'goa':3}, 'eng':{'xyz':45,'pqr':34,'lmn':34},'usa':{'ijk':[1,2,3],'lmn':34,'pqr':56}}\n",
    "print(dict1)\n",
    "print(dict2)\n",
    "print(dict3)\n"
   ]
  },
  {
   "cell_type": "markdown",
   "metadata": {},
   "source": [
    "# insertion"
   ]
  },
  {
   "cell_type": "code",
   "execution_count": 7,
   "metadata": {},
   "outputs": [
    {
     "name": "stdout",
     "output_type": "stream",
     "text": [
      "{'a': 1, 'b': 2, 'c': 3, 'd': 4, 'f': 99}\n"
     ]
    }
   ],
   "source": [
    "dict1['f']=99\n",
    "print(dict1)"
   ]
  },
  {
   "cell_type": "markdown",
   "metadata": {},
   "source": [
    "# deletion"
   ]
  },
  {
   "cell_type": "code",
   "execution_count": 8,
   "metadata": {},
   "outputs": [
    {
     "name": "stdout",
     "output_type": "stream",
     "text": [
      "{'b': 2, 'c': 3, 'd': 4, 'f': 99}\n"
     ]
    }
   ],
   "source": [
    "#pop(key)\n",
    "dict1.pop('a')    \n",
    "print(dict1)"
   ]
  },
  {
   "cell_type": "code",
   "execution_count": 10,
   "metadata": {},
   "outputs": [
    {
     "name": "stdout",
     "output_type": "stream",
     "text": [
      "{'india': {'pun': 28, 'har': 23, 'goa': 3}, 'eng': {'xyz': 45, 'lmn': 34}, 'usa': {'ijk': [1, 2, 3], 'lmn': 34, 'pqr': 56}}\n"
     ]
    }
   ],
   "source": [
    "# del list[key]\n",
    "#deleting an element of nested dict is not possible with pop since it takes one arg at a time. hence we use del as below:\n",
    "del dict3['eng']['pqr']\n",
    "print(dict3)"
   ]
  },
  {
   "cell_type": "code",
   "execution_count": 11,
   "metadata": {},
   "outputs": [
    {
     "name": "stdout",
     "output_type": "stream",
     "text": [
      "{}\n"
     ]
    }
   ],
   "source": [
    "#clear()\n",
    "\n",
    "dict1.clear()\n",
    "print(dict1)"
   ]
  },
  {
   "cell_type": "markdown",
   "metadata": {},
   "source": [
    "# mtds:"
   ]
  },
  {
   "cell_type": "code",
   "execution_count": 12,
   "metadata": {},
   "outputs": [],
   "source": [
    "dictx={'india':{'pun':28,'har':23,'goa':3}, 'eng':{'xyz':45,'pqr':34,'lmn':34},'usa':{'ijk':[1,2,3],'lmn':34,'pqr':56}}"
   ]
  },
  {
   "cell_type": "code",
   "execution_count": 13,
   "metadata": {},
   "outputs": [
    {
     "name": "stdout",
     "output_type": "stream",
     "text": [
      "keys:  dict_keys(['india', 'eng', 'usa'])\n",
      "values dict_values([{'pun': 28, 'har': 23, 'goa': 3}, {'xyz': 45, 'pqr': 34, 'lmn': 34}, {'ijk': [1, 2, 3], 'lmn': 34, 'pqr': 56}])\n",
      "key:values dict_items([('india', {'pun': 28, 'har': 23, 'goa': 3}), ('eng', {'xyz': 45, 'pqr': 34, 'lmn': 34}), ('usa', {'ijk': [1, 2, 3], 'lmn': 34, 'pqr': 56})])\n"
     ]
    }
   ],
   "source": [
    "print('keys: ',dictx.keys())\n",
    "print('values',dictx.values())\n",
    "print('key:values',dictx.items())"
   ]
  },
  {
   "cell_type": "code",
   "execution_count": null,
   "metadata": {},
   "outputs": [],
   "source": []
  }
 ],
 "metadata": {
  "kernelspec": {
   "display_name": "Python 3",
   "language": "python",
   "name": "python3"
  },
  "language_info": {
   "codemirror_mode": {
    "name": "ipython",
    "version": 3
   },
   "file_extension": ".py",
   "mimetype": "text/x-python",
   "name": "python",
   "nbconvert_exporter": "python",
   "pygments_lexer": "ipython3",
   "version": "3.7.3"
  }
 },
 "nbformat": 4,
 "nbformat_minor": 2
}
