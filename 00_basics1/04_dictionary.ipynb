{
  "nbformat": 4,
  "nbformat_minor": 0,
  "metadata": {
    "colab": {
      "provenance": [],
      "collapsed_sections": []
    },
    "kernelspec": {
      "name": "python3",
      "display_name": "Python 3"
    },
    "language_info": {
      "name": "python"
    }
  },
  "cells": [
    {
      "cell_type": "code",
      "execution_count": 3,
      "metadata": {
        "id": "waKV61Vz6Uih"
      },
      "outputs": [],
      "source": [
        "#it always stores the data in (key:value) pair\n",
        "#keys of dict must be unique|"
      ]
    },
    {
      "cell_type": "markdown",
      "source": [
        "# **creation**"
      ],
      "metadata": {
        "id": "k7NWLTJ36doF"
      }
    },
    {
      "cell_type": "code",
      "source": [
        "#key representing a single value only\n",
        "dict1={'a':1,'b':2,'c':3,'d':4}\n",
        "\n",
        "#key reprsenting an array of values\n",
        "dict2={'a':[1,2,3,4],'b':[4,3,5,6],'c':[0,9,5,4],'d':[2,6,4,5]}\n",
        "\n",
        "#nested dictionary\n",
        "dict3={'india':{'pun':28,'har':23,'goa':3}, 'eng':{'xyz':45,'pqr':34,'lmn':34},'usa':{'ijk':[1,2,3],'lmn':34,'pqr':56}}\n",
        "print(dict1)\n",
        "print(dict2)\n",
        "print(dict3)\n"
      ],
      "metadata": {
        "colab": {
          "base_uri": "https://localhost:8080/"
        },
        "id": "zGq4B8Rj6bWk",
        "outputId": "d843ef30-be3e-4dcd-9be3-22b627c7a703"
      },
      "execution_count": 4,
      "outputs": [
        {
          "output_type": "stream",
          "name": "stdout",
          "text": [
            "{'a': 1, 'b': 2, 'c': 3, 'd': 4}\n",
            "{'a': [1, 2, 3, 4], 'b': [4, 3, 5, 6], 'c': [0, 9, 5, 4], 'd': [2, 6, 4, 5]}\n",
            "{'india': {'pun': 28, 'har': 23, 'goa': 3}, 'eng': {'xyz': 45, 'pqr': 34, 'lmn': 34}, 'usa': {'ijk': [1, 2, 3], 'lmn': 34, 'pqr': 56}}\n"
          ]
        }
      ]
    },
    {
      "cell_type": "markdown",
      "source": [
        "**accessing a particular element**"
      ],
      "metadata": {
        "id": "KJgilorO89WD"
      }
    },
    {
      "cell_type": "code",
      "source": [
        "dict1['a']"
      ],
      "metadata": {
        "colab": {
          "base_uri": "https://localhost:8080/"
        },
        "id": "UQx6e8vx9AVr",
        "outputId": "d16cf1a6-3584-42b1-91af-cd99601dafcb"
      },
      "execution_count": 5,
      "outputs": [
        {
          "output_type": "execute_result",
          "data": {
            "text/plain": [
              "1"
            ]
          },
          "metadata": {},
          "execution_count": 5
        }
      ]
    },
    {
      "cell_type": "code",
      "source": [
        "dict2.get('a','key not present')"
      ],
      "metadata": {
        "colab": {
          "base_uri": "https://localhost:8080/"
        },
        "id": "jogYxbZR9VST",
        "outputId": "00d9dd3b-18cc-4250-ea78-acbceb44fd07"
      },
      "execution_count": 6,
      "outputs": [
        {
          "output_type": "execute_result",
          "data": {
            "text/plain": [
              "[1, 2, 3, 4]"
            ]
          },
          "metadata": {},
          "execution_count": 6
        }
      ]
    },
    {
      "cell_type": "code",
      "source": [
        "dict2.get('e','key not present')"
      ],
      "metadata": {
        "colab": {
          "base_uri": "https://localhost:8080/",
          "height": 36
        },
        "id": "yv42_Zn69lNq",
        "outputId": "081a17c3-2fde-47e9-b095-e5a83cc10945"
      },
      "execution_count": 7,
      "outputs": [
        {
          "output_type": "execute_result",
          "data": {
            "text/plain": [
              "'key not present'"
            ],
            "application/vnd.google.colaboratory.intrinsic+json": {
              "type": "string"
            }
          },
          "metadata": {},
          "execution_count": 7
        }
      ]
    },
    {
      "cell_type": "markdown",
      "source": [
        "# **insertion**"
      ],
      "metadata": {
        "id": "Cx5sHhO36itU"
      }
    },
    {
      "cell_type": "code",
      "source": [
        "dict1['f']=99\n",
        "print(dict1)"
      ],
      "metadata": {
        "colab": {
          "base_uri": "https://localhost:8080/"
        },
        "id": "4Mc5qx726grG",
        "outputId": "e2a41ac1-be75-4454-bb78-bd242a385f6b"
      },
      "execution_count": 8,
      "outputs": [
        {
          "output_type": "stream",
          "name": "stdout",
          "text": [
            "{'a': 1, 'b': 2, 'c': 3, 'd': 4, 'f': 99}\n"
          ]
        }
      ]
    },
    {
      "cell_type": "markdown",
      "source": [
        "# **deletion**"
      ],
      "metadata": {
        "id": "-FPdcdKj6oBn"
      }
    },
    {
      "cell_type": "code",
      "source": [
        "#pop(key)\n",
        "dict1.pop('a')    \n",
        "print(dict1)"
      ],
      "metadata": {
        "colab": {
          "base_uri": "https://localhost:8080/"
        },
        "id": "hsLrTvcq6l1u",
        "outputId": "6f4b4d6f-b58c-4dcc-b63f-e013f2afb250"
      },
      "execution_count": 9,
      "outputs": [
        {
          "output_type": "stream",
          "name": "stdout",
          "text": [
            "{'b': 2, 'c': 3, 'd': 4, 'f': 99}\n"
          ]
        }
      ]
    },
    {
      "cell_type": "code",
      "source": [
        "# del list[key]\n",
        "#deleting an element of nested dict is not possible with pop since it takes one arg at a time. hence we use del as below:\n",
        "del dict3['eng']['pqr']\n",
        "print(dict3)"
      ],
      "metadata": {
        "colab": {
          "base_uri": "https://localhost:8080/"
        },
        "id": "OZL_7EYZ6rL-",
        "outputId": "750208b6-1683-43be-e513-3e29c32dd157"
      },
      "execution_count": 10,
      "outputs": [
        {
          "output_type": "stream",
          "name": "stdout",
          "text": [
            "{'india': {'pun': 28, 'har': 23, 'goa': 3}, 'eng': {'xyz': 45, 'lmn': 34}, 'usa': {'ijk': [1, 2, 3], 'lmn': 34, 'pqr': 56}}\n"
          ]
        }
      ]
    },
    {
      "cell_type": "code",
      "source": [
        "#clear()\n",
        "\n",
        "dict1.clear()\n",
        "print(dict1)"
      ],
      "metadata": {
        "colab": {
          "base_uri": "https://localhost:8080/"
        },
        "id": "CZIbRZvU6s5e",
        "outputId": "ea6ecd13-3c61-445b-d5ca-9d7e606ec440"
      },
      "execution_count": 11,
      "outputs": [
        {
          "output_type": "stream",
          "name": "stdout",
          "text": [
            "{}\n"
          ]
        }
      ]
    },
    {
      "cell_type": "markdown",
      "source": [
        "# **mtds:**"
      ],
      "metadata": {
        "id": "VO-MIj2E6xNl"
      }
    },
    
    
    {
      "cell_type": "markdown",
      "source": [
        "**keys(),values(),items()**"
      ],
      "metadata": {
        "id": "xuX4YZj_-HoP"
      }
    },
    {
      "cell_type": "code",
      "source": [
        "dictx={'india':{'pun':28,'har':23,'goa':3}, 'eng':{'xyz':45,'pqr':34,'lmn':34},'usa':{'ijk':[1,2,3],'lmn':34,'pqr':56}}"
      ],
      "metadata": {
        "id": "JfiQ8F5l6u-c"
      },
      "execution_count": 12,
      "outputs": []
    },
    {
      "cell_type": "code",
      "source": [
        "print('keys: ',dictx.keys())\n",
        "print('values',dictx.values())\n",
        "print('key:values',dictx.items())"
      ],
      "metadata": {
        "colab": {
          "base_uri": "https://localhost:8080/"
        },
        "id": "V5eRTo4k63s1",
        "outputId": "f399bac6-530d-4d5c-b25c-d20f1b7a98bd"
      },
      "execution_count": 13,
      "outputs": [
        {
          "output_type": "stream",
          "name": "stdout",
          "text": [
            "keys:  dict_keys(['india', 'eng', 'usa'])\n",
            "values dict_values([{'pun': 28, 'har': 23, 'goa': 3}, {'xyz': 45, 'pqr': 34, 'lmn': 34}, {'ijk': [1, 2, 3], 'lmn': 34, 'pqr': 56}])\n",
            "key:values dict_items([('india', {'pun': 28, 'har': 23, 'goa': 3}), ('eng', {'xyz': 45, 'pqr': 34, 'lmn': 34}), ('usa', {'ijk': [1, 2, 3], 'lmn': 34, 'pqr': 56})])\n"
          ]
        }
      ]
    },
    
    
    {
      "cell_type": "markdown",
      "source": [
        "**update**"
      ],
      "metadata": {
        "id": "xuX4YZj_-HoP"
      }
    },
    
    {
      "cell_type": "code",
      "source": [
        "dict1={'a':1,'b':2,'c':3,'d':4}\n",
        "dict2={'a':[1,2,3,4],'e':[4,3,5,6],'f':[0,9,5,4],'d':[2,6,4,5]}\n",
        "\n",
        "dict1.update(dict2)"
      ],
      "metadata": {
        "id": "Y5mDPsAU65kM"
      },
      "execution_count": 14,
      "outputs": []
    },
    
    {
      "cell_type": "code",
      "source": [
        "print(dict1)"
      ],
      "metadata": {
        "colab": {
          "base_uri": "https://localhost:8080/"
        },
        "id": "S4Uou4G39zeV",
        "outputId": "5d6983bb-3b95-4599-cf01-7fe1123edaa5"
      },
      "execution_count": 15,
      "outputs": [
        {
          "output_type": "stream",
          "name": "stdout",
          "text": [
            "{'a': [1, 2, 3, 4], 'b': 2, 'c': 3, 'd': [2, 6, 4, 5], 'e': [4, 3, 5, 6], 'f': [0, 9, 5, 4]}\n"
          ]
        }
      ]
    },
    
    
    {
      "cell_type": "markdown",
      "source": [
        "**sorting**"
      ],
      "metadata": {
        "id": "xuX4YZj_-HoP"
      }
    },
    
    {
      "cell_type": "code",
      "source": [
        "d = {5: 0, 2: 1, 1: 1, 8: 1, 10: 0}\n",
        "print(sorted(d.items(),key=lambda x:x[0]))                 #sorting dict on the basis of keys\n",
        "print(sorted(d.items(),key=lambda x:x[0]))                 #sorting dict on the basis of values\n",
        "print(sorted(d.items(),key=lambda x:x[1],reverse=True))    #in descending order"
      ],
      "metadata": {
        "colab": {
          "base_uri": "https://localhost:8080/"
        },
        "id": "S4Uou4G39zeV",
        "outputId": "5d6983bb-3b95-4599-cf01-7fe1123edaa5"
      },
      "execution_count": 15,
      "outputs": [
        {
          "output_type": "stream",
          "name": "stdout",
          "text": [
            "[(1, 1), (2, 1), (5, 0), (8, 1), (10, 0)]\n",
            "[(5, 0), (10, 0), (2, 1), (1, 1), (8, 1)]\n",
            "[(2, 1), (1, 1), (8, 1), (5, 0), (10, 0)]"
          ]
        }
      ]
    },
    
    {
      "cell_type": "markdown",
      "source": [
        "**examples**"
      ],
      "metadata": {
        "id": "xuX4YZj_-HoP"
      }
    },
    {
      "cell_type": "code",
      "source": [
        "#count freq of array elements\n",
        "arr = [10,20,20,10,10,20,5,20]\n",
        "freq_= {}\n",
        "for x in arr:\n",
        "  if freq_.get(x,0):\n",
        "    freq_[x]+=1\n",
        "  else:\n",
        "    freq_[x] = 1\n",
        "\n",
        "print(freq_)"
      ],
      "metadata": {
        "colab": {
          "base_uri": "https://localhost:8080/"
        },
        "id": "rhU-lUz1904Q",
        "outputId": "f57fbb3b-5647-42b6-e5aa-a3617022e6ad"
      },
      "execution_count": 16,
      "outputs": [
        {
          "output_type": "stream",
          "name": "stdout",
          "text": [
            "{10: 3, 20: 4, 5: 1}\n"
          ]
        }
      ]
    },
    {
      "cell_type": "code",
      "source": [
        "a = [7,1,3,4,1,7]\n",
        "dict_ = {}\n",
        "\n",
        "for i,x in enumerate(a):\n",
        "  if dict_.get(x,0):\n",
        "    dict_[x].append(i)\n",
        "  else:\n",
        "    dict_[x] = [i]\n",
        "dict_"
      ],
      "metadata": {
        "colab": {
          "base_uri": "https://localhost:8080/"
        },
        "id": "t3L_K8_1WtJe",
        "outputId": "8fd69284-ccde-47e2-9816-cff5920d0f98"
      },
      "execution_count": 19,
      "outputs": [
        {
          "output_type": "execute_result",
          "data": {
            "text/plain": [
              "{7: [0, 5], 1: [1, 4], 3: [2], 4: [3]}"
            ]
          },
          "metadata": {},
          "execution_count": 19
        }
      ]
    },
    {
      "cell_type": "code",
      "source": [
        "#sort dict by keys\n",
        "dict_ = {'a':99,'v':2,'f':12,'y':24,'p':18}\n",
        "\n",
        "res_ = {k:dict_[k]  for k in sorted(dict_.keys())} \n",
        "print(res_)"
      ],
      "metadata": {
        "colab": {
          "base_uri": "https://localhost:8080/"
        },
        "id": "3QEJixHr-sww",
        "outputId": "07fb3ba9-5126-4bb2-89d3-20ec1e7d1817"
      },
      "execution_count": 21,
      "outputs": [
        {
          "output_type": "stream",
          "name": "stdout",
          "text": [
            "{'a': 99, 'f': 12, 'p': 18, 'v': 2, 'y': 24}\n"
          ]
        }
      ]
    },
    {
      "cell_type": "code",
      "source": [],
      "metadata": {
        "id": "N0ShtR1bVHU-"
      },
      "execution_count": null,
      "outputs": []
    }
  ]
}
