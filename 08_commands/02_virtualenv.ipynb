{
  "nbformat": 4,
  "nbformat_minor": 0,
  "metadata": {
    "colab": {
      "provenance": [],
      "collapsed_sections": []
    },
    "kernelspec": {
      "name": "python3",
      "display_name": "Python 3"
    },
    "language_info": {
      "name": "python"
    }
  },
  "cells": [
    {
      "cell_type": "markdown",
      "source": [
        "https://tech.serhatteker.com/post/2018-12/virtualenv/"
      ],
      "metadata": {
        "id": "x7QN96FmazWV"
      }
    },
    {
      "cell_type": "code",
      "source": [
        "#sudo apt install pip          --------------Install pip3 if you don’t have already"
      ],
      "metadata": {
        "id": "oQH27zFBa0Oe"
      },
      "execution_count": 2,
      "outputs": []
    },
    {
      "cell_type": "code",
      "source": [
        "#sudo pip3 install virtualenv              --------------Install virtualenv package"
      ],
      "metadata": {
        "id": "ud2qr4jza5SV"
      },
      "execution_count": 3,
      "outputs": []
    },
    {
      "cell_type": "code",
      "source": [
        "# virtualenv  --version\n",
        "# which virtualenv"
      ],
      "metadata": {
        "id": "xgljV0poa8GB"
      },
      "execution_count": 4,
      "outputs": []
    },
    {
      "cell_type": "code",
      "source": [
        "#mkdir venvs                               ----------------make a new directory or open the existing directory \n",
        "#cd venvs                                  ----------------where u want to build a new environment"
      ],
      "metadata": {
        "id": "b_-Hung2a-O3"
      },
      "execution_count": 6,
      "outputs": []
    },
    {
      "cell_type": "code",
      "source": [
        "#Build a new virtualenv\n",
        "\n",
        "#virtualenv -p python3 env_name\n",
        "#sudo virtualenv -p python3 env_name\n",
        "#e.g. virtualenv -p python3 denv\n",
        "\n",
        "#            or\n",
        "\n",
        "#     virtualenv env_name --python=python3.6\n",
        "#e.g. virtualenv denv --python=python3.6\n",
        "\n",
        "\n",
        "#            or\n",
        "#python3 -m venv venv_name\n",
        "#e.g. python3 -m venv virenv"
      ],
      "metadata": {
        "id": "RXaAzEWrbA6X"
      },
      "execution_count": 8,
      "outputs": []
    },
    {
      "cell_type": "code",
      "source": [
        "#activating the new virtualenv\n",
        "\n",
        "#   .env_name/bin/activate\n",
        "\n",
        "#     or\n",
        "\n",
        "# source env_name/bin/activate"
      ],
      "metadata": {
        "id": "ywO69Oj4bFeI"
      },
      "execution_count": 9,
      "outputs": []
    },
    {
      "cell_type": "code",
      "source": [
        "#Add the virtualenv as a jupyter kernel\n",
        "\n",
        "# jupyter kernelspec list",
        "\n",
        "# jupyter kernelspec uninstall env_name",
        "\n",
        "#ipython kernel install --user --name=virenv"
      ],
      "metadata": {
        "id": "S5KhFQLrbM9T"
      },
      "execution_count": 10,
      "outputs": []
    },
    {
      "cell_type": "code",
      "source": [
        "#deactivating the virtualenv\n",
        "\n",
        "#deactivate"
      ],
      "metadata": {
        "id": "haM_5Mg2bPpd"
      },
      "execution_count": 11,
      "outputs": []
    },
    {
      "cell_type": "code",
      "source": [
        "#--------------------------------------------------------500: internal server error\n",
        "\n",
        "#pip install nbconvert==5.6.1\n",
        "#pip install Jinja2==3.0"
      ],
      "metadata": {
        "id": "usIg2ThJbR5Z"
      },
      "execution_count": 12,
      "outputs": []
    },
    {
      "cell_type": "code",
      "source": [],
      "metadata": {
        "id": "EpyPIHLpdbn1"
      },
      "execution_count": null,
      "outputs": []
    },
    {
      "cell_type": "code",
      "source": [],
      "metadata": {
        "id": "2tPCvvFcdb1-"
      },
      "execution_count": null,
      "outputs": []
    },
    {
      "cell_type": "code",
      "source": [
        "!which python"
      ],
      "metadata": {
        "colab": {
          "base_uri": "https://localhost:8080/"
        },
        "id": "8PzGHMWtdGBY",
        "outputId": "99fbc9b7-68a1-4ea9-b17a-9fddaae2b809"
      },
      "execution_count": 14,
      "outputs": [
        {
          "output_type": "stream",
          "name": "stdout",
          "text": [
            "/usr/local/bin/python\n"
          ]
        }
      ]
    },
    {
      "cell_type": "code",
      "source": [
        "!which python3"
      ],
      "metadata": {
        "colab": {
          "base_uri": "https://localhost:8080/"
        },
        "id": "i7MeDHyYdVlO",
        "outputId": "2c8fdd48-de49-4a6c-91c8-718efc936d28"
      },
      "execution_count": 15,
      "outputs": [
        {
          "output_type": "stream",
          "name": "stdout",
          "text": [
            "/usr/bin/python3\n"
          ]
        }
      ]
    },
    {
      "cell_type": "code",
      "source": [
        "import inspect\n",
        "import pandas as pd\n",
        "\n",
        "inspect.getmodule(pd)"
      ],
      "metadata": {
        "colab": {
          "base_uri": "https://localhost:8080/"
        },
        "id": "grZzq61ddgxS",
        "outputId": "e2469163-e5a4-45d3-e87f-52a76b6f1b5c"
      },
      "execution_count": 18,
      "outputs": [
        {
          "output_type": "execute_result",
          "data": {
            "text/plain": [
              "<module 'pandas' from '/usr/local/lib/python3.7/dist-packages/pandas/__init__.py'>"
            ]
          },
          "metadata": {},
          "execution_count": 18
        }
      ]
    },
    {
      "cell_type": "code",
      "source": [],
      "metadata": {
        "id": "puO-Vkv_ds3t"
      },
      "execution_count": null,
      "outputs": []
    },
    {
      "cell_type": "code",
      "source": [
        "#------------------------------------------------------------------------------------conda----------------------------------------------------------------------------------\n",
        "\n",
        "#conda create -n env_name\n",
        "#conda env list\n",
        "#conda activate env_name"
      ],
      "metadata": {
        "id": "3sGEJIODds82"
      },
      "execution_count": 20,
      "outputs": []
    },
    {
      "cell_type": "code",
      "source": [
        "#conda config --set ssl_verify                   ---------------------ssl error certificate_verify_failed"
      ],
      "metadata": {
        "id": "bvGSpQvBeM2G"
      },
      "execution_count": 21,
      "outputs": []
    },
    {
      "cell_type": "code",
      "source": [],
      "metadata": {
        "id": "9JQeDgsGe3p4"
      },
      "execution_count": null,
      "outputs": []
    }
  ]
}
