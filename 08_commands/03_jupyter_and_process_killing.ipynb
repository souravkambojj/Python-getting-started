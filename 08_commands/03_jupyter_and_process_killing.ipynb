{
  "nbformat": 4,
  "nbformat_minor": 0,
  "metadata": {
    "colab": {
      "provenance": [],
      "collapsed_sections": []
    },
    "kernelspec": {
      "name": "python3",
      "display_name": "Python 3"
    },
    "language_info": {
      "name": "python"
    }
  },
  "cells": [
    {
      "cell_type": "code",
      "execution_count": 1,
      "metadata": {
        "id": "Hjh5bdi-9soQ"
      },
      "outputs": [],
      "source": [
        "#pip install jupyter notebook\n",
        "             #or\n",
        "#/home/centos/miniconda/bin/pip install jupyter notebook"
      ]
    },
    {
      "cell_type": "code",
      "source": [
        "#jupyter notebook --NotebookApp.token='sk' --ip 10.26.33.139 --no-browser\n",
        "#jupyter notebook --NotebookApp.token='sk' --ip 10.26.33.139 --port=9988 --no-browser\n",
        "#jupyter notebook --NotebookApp.token='sk' --ip 10.26.33.139 --port=9988 --no-browser --allow-root"
      ],
      "metadata": {
        "id": "jdvSdJj0_mpc"
      },
      "execution_count": 3,
      "outputs": []
    },
    {
      "cell_type": "code",
      "source": [
        "#jupyter notebook list\n",
        "#jupyter kernelspec list"
      ],
      "metadata": {
        "id": "qqmWWlBUQTw2"
      },
      "execution_count": 4,
      "outputs": []
    },
    {
      "cell_type": "code",
      "source": [
        "#nohup\n",
        "\n",
        "#nohup <command> &\n",
        "#tail -f nohup.out"
      ],
      "metadata": {
        "id": "XXgR2zmKRXwH"
      },
      "execution_count": 7,
      "outputs": []
    },
    {
      "cell_type": "markdown",
      "source": [
        "# **file shifting on servers**"
      ],
      "metadata": {
        "id": "SWWpzMTaY2_h"
      }
    },
    {
      "cell_type": "code",
      "source": [
        "#sudo chmod 400 ~/hydrocarbon_devops_kp.pem            -----for resolving bad permission error\n",
        "\n",
        "#scp -i <location of pem file on target server>  -r centos@\n",
        "#<source ip>:<path to files on source server> <loc of directory on target server where we want to keep our data>\n",
        "\n",
        "#scp -i ~/hydrocarbon_devops_kp.pem -r centos@\n",
        "#10.26.60.48:/home/centos/JDCV/JDCV/abc.tsv.gz   ./"
      ],
      "metadata": {
        "id": "RqV4zE1NR6cK"
      },
      "execution_count": 9,
      "outputs": []
    },
    {
      "cell_type": "markdown",
      "source": [
        "# **tensor board**"
      ],
      "metadata": {
        "id": "eSsCsjV2ZdJw"
      }
    },
    {
      "cell_type": "code",
      "source": [
        "#tensorboard --logdir=\"/home/ubuntu/emotion_detection/logs/\" --host=10.26.34.172\n",
        "#pkill -f tensorboard"
      ],
      "metadata": {
        "id": "n0ypQFwLZhM0"
      },
      "execution_count": null,
      "outputs": []
    },
    {
      "cell_type": "markdown",
      "source": [
        "# **processes**"
      ],
      "metadata": {
        "id": "rFLnyIAQY8rt"
      }
    },
    {
      "cell_type": "code",
      "source": [
        "#netstat -nlpt|grep python       -------------for checking ip of processes\n",
        "#ps -eaf|grep python             -------------for checking process id\n",
        "#ps -eaf|grep soffice\n",
        "#history | grep jupyter          -------------searching history\n",
        "\n",
        "#kill -9   process_id          e.g.  kill -9 13432\n",
        "#pkill -f  process_name        e.g.  pkill -f cvparse"
      ],
      "metadata": {
        "id": "Ua7K1Jf9UvyY"
      },
      "execution_count": null,
      "outputs": []
    },
    {
      "cell_type": "markdown",
      "source": [
        "# **general commands**"
      ],
      "metadata": {
        "id": "IlDGXTFAZCiw"
      }
    },
    {
      "cell_type": "code",
      "source": [
        "#df -h   ----------memory distribution\n",
        "#htop    ---cpu\n",
        "#nvtop   ---gpu"
      ],
      "metadata": {
        "id": "iuHqAxZJZFP8"
      },
      "execution_count": 10,
      "outputs": []
    },
    {
      "cell_type": "code",
      "source": [],
      "metadata": {
        "id": "9NMEAe5lZVgE"
      },
      "execution_count": null,
      "outputs": []
    }
  ]
}